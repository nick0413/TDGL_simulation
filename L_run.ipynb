{
 "cells": [
  {
   "cell_type": "code",
   "execution_count": 1,
   "metadata": {},
   "outputs": [
    {
     "name": "stdout",
     "output_type": "stream",
     "text": [
      "GPU is available\n",
      "GPU:  b'NVIDIA GeForce RTX 4060 Laptop GPU'\n"
     ]
    },
    {
     "name": "stderr",
     "output_type": "stream",
     "text": [
      "c:\\Program Files\\Python310\\lib\\site-packages\\cupyx\\jit\\_interface.py:173: FutureWarning: cupyx.jit.rawkernel is experimental. The interface can change in the future.\n",
      "  cupy._util.experimental('cupyx.jit.rawkernel')\n"
     ]
    }
   ],
   "source": [
    "import run_simulation as rs\n",
    "import numpy as np\t\n",
    "import matplotlib.pyplot as plt\n",
    "import matplotlib.cm as cm\n",
    "import tdgl\n",
    "import os \n",
    "rs.check_system()"
   ]
  },
  {
   "cell_type": "code",
   "execution_count": 2,
   "metadata": {},
   "outputs": [],
   "source": [
    "folder_path = 'Ls_4'\n",
    "\n",
    "xi=1\n",
    "\n",
    "min_L=0.4\n",
    "max_L=20\n",
    "num_L=10\n",
    "\n",
    "min_c=0\n",
    "max_c=20\n",
    "num_c=100\n",
    "\n",
    "L_range=np.round(np.linspace(min_L,max_L,num_L),2)\n",
    "current_range=np.round(np.linspace(min_c,max_c,num_c), 3)\n"
   ]
  },
  {
   "cell_type": "code",
   "execution_count": 3,
   "metadata": {},
   "outputs": [],
   "source": [
    "\n",
    "\n",
    "files = rs.get_all_files(folder_path)\n",
    "\n",
    "data_list=[]\n",
    "\n",
    "for file in files:\n",
    "\tL, current = rs.extract_numbers(file)\n",
    "\tarray=np.load(file)\n",
    "\tdata=[L,current,array]\n",
    "\tdata_list.append(data)"
   ]
  },
  {
   "cell_type": "code",
   "execution_count": 4,
   "metadata": {},
   "outputs": [
    {
     "name": "stdout",
     "output_type": "stream",
     "text": [
      "found data for L= [0.4, 2.58, 4.76, 6.93, 9.11, 11.29]\n",
      "missing data for L= [13.47, 15.64, 17.82, 20.0]\n",
      "0.4: []\n",
      "2.58: []\n",
      "4.76: []\n",
      "6.93: []\n",
      "9.11: []\n",
      "11.29: []\n",
      "13.47: [ 0.     0.202  0.404  0.606  0.808  1.01   1.212  1.414  1.616  1.818\n",
      "  2.02   2.222  2.424  2.626  2.828  3.03   3.232  3.434  3.636  3.838\n",
      "  4.04   4.242  4.444  4.646  4.848  5.051  5.253  5.455  5.657  5.859\n",
      "  6.061  6.263  6.465  6.667  6.869  7.071  7.273  7.475  7.677  7.879\n",
      "  8.081  8.283  8.485  8.687  8.889  9.091  9.293  9.495  9.697  9.899\n",
      " 10.101 10.303 10.505 10.707 10.909 11.111 11.313 11.515 11.717 11.919\n",
      " 12.121 12.323 12.525 12.727 12.929 13.131 13.333 13.535 13.737 13.939\n",
      " 14.141 14.343 14.545 14.747 14.949 15.152 15.354 15.556 15.758 15.96\n",
      " 16.162 16.364 16.566 16.768 16.97  17.172 17.374 17.576 17.778 17.98\n",
      " 18.182 18.384 18.586 18.788 18.99  19.192 19.394 19.596 19.798 20.   ]\n",
      "15.64: [ 0.     0.202  0.404  0.606  0.808  1.01   1.212  1.414  1.616  1.818\n",
      "  2.02   2.222  2.424  2.626  2.828  3.03   3.232  3.434  3.636  3.838\n",
      "  4.04   4.242  4.444  4.646  4.848  5.051  5.253  5.455  5.657  5.859\n",
      "  6.061  6.263  6.465  6.667  6.869  7.071  7.273  7.475  7.677  7.879\n",
      "  8.081  8.283  8.485  8.687  8.889  9.091  9.293  9.495  9.697  9.899\n",
      " 10.101 10.303 10.505 10.707 10.909 11.111 11.313 11.515 11.717 11.919\n",
      " 12.121 12.323 12.525 12.727 12.929 13.131 13.333 13.535 13.737 13.939\n",
      " 14.141 14.343 14.545 14.747 14.949 15.152 15.354 15.556 15.758 15.96\n",
      " 16.162 16.364 16.566 16.768 16.97  17.172 17.374 17.576 17.778 17.98\n",
      " 18.182 18.384 18.586 18.788 18.99  19.192 19.394 19.596 19.798 20.   ]\n",
      "17.82: [ 0.     0.202  0.404  0.606  0.808  1.01   1.212  1.414  1.616  1.818\n",
      "  2.02   2.222  2.424  2.626  2.828  3.03   3.232  3.434  3.636  3.838\n",
      "  4.04   4.242  4.444  4.646  4.848  5.051  5.253  5.455  5.657  5.859\n",
      "  6.061  6.263  6.465  6.667  6.869  7.071  7.273  7.475  7.677  7.879\n",
      "  8.081  8.283  8.485  8.687  8.889  9.091  9.293  9.495  9.697  9.899\n",
      " 10.101 10.303 10.505 10.707 10.909 11.111 11.313 11.515 11.717 11.919\n",
      " 12.121 12.323 12.525 12.727 12.929 13.131 13.333 13.535 13.737 13.939\n",
      " 14.141 14.343 14.545 14.747 14.949 15.152 15.354 15.556 15.758 15.96\n",
      " 16.162 16.364 16.566 16.768 16.97  17.172 17.374 17.576 17.778 17.98\n",
      " 18.182 18.384 18.586 18.788 18.99  19.192 19.394 19.596 19.798 20.   ]\n",
      "20.0: [ 0.     0.202  0.404  0.606  0.808  1.01   1.212  1.414  1.616  1.818\n",
      "  2.02   2.222  2.424  2.626  2.828  3.03   3.232  3.434  3.636  3.838\n",
      "  4.04   4.242  4.444  4.646  4.848  5.051  5.253  5.455  5.657  5.859\n",
      "  6.061  6.263  6.465  6.667  6.869  7.071  7.273  7.475  7.677  7.879\n",
      "  8.081  8.283  8.485  8.687  8.889  9.091  9.293  9.495  9.697  9.899\n",
      " 10.101 10.303 10.505 10.707 10.909 11.111 11.313 11.515 11.717 11.919\n",
      " 12.121 12.323 12.525 12.727 12.929 13.131 13.333 13.535 13.737 13.939\n",
      " 14.141 14.343 14.545 14.747 14.949 15.152 15.354 15.556 15.758 15.96\n",
      " 16.162 16.364 16.566 16.768 16.97  17.172 17.374 17.576 17.778 17.98\n",
      " 18.182 18.384 18.586 18.788 18.99  19.192 19.394 19.596 19.798 20.   ]\n"
     ]
    }
   ],
   "source": [
    "Ls_list=[]\n",
    "currents_for_Ls=[]\n",
    "currents=[]\n",
    "\n",
    "for data in data_list:\n",
    "\tif data[0] not in Ls_list:\n",
    "\t\tLs_list.append(data[0])\n",
    "\t\tcurrents_for_Ls.append(currents)\n",
    "\t\tcurrents=[data[1]]\n",
    "\telse:\n",
    "\t\tcurrents.append(data[1])\n",
    "\n",
    "currents_for_Ls.append(currents)\n",
    "currents_for_Ls=currents_for_Ls[1:]\n",
    "\n",
    "found_Ls,missing_Ls=rs.check_elements_in_list(L_range,Ls_list)\n",
    "\n",
    "print(f\"found data for L= {found_Ls}\")\n",
    "print(f\"missing data for L= {missing_Ls}\")\n",
    "\n",
    "simulations_to_be_run={}\n",
    "\n",
    "for ii in range(len(found_Ls)):\n",
    "\tfound_c,missing_c=rs.check_elements_in_list(current_range,currents_for_Ls[ii])\n",
    "\n",
    "\tsimulations_to_be_run[found_Ls[ii]]=np.array(missing_c)\n",
    "\t\n",
    "for ii in range(len(missing_Ls)):\n",
    "\tsimulations_to_be_run[missing_Ls[ii]]=current_range\n",
    "\n",
    "\n",
    "for key, value in simulations_to_be_run.items():\n",
    "    print(f\"{key}: {value}\")\n",
    "\n"
   ]
  },
  {
   "cell_type": "code",
   "execution_count": null,
   "metadata": {},
   "outputs": [
    {
     "name": "stdout",
     "output_type": "stream",
     "text": [
      "Running simulations for L=13.47 with currents: [ 0.     0.202  0.404  0.606  0.808  1.01   1.212  1.414  1.616  1.818\n",
      "  2.02   2.222  2.424  2.626  2.828  3.03   3.232  3.434  3.636  3.838\n",
      "  4.04   4.242  4.444  4.646  4.848  5.051  5.253  5.455  5.657  5.859\n",
      "  6.061  6.263  6.465  6.667  6.869  7.071  7.273  7.475  7.677  7.879\n",
      "  8.081  8.283  8.485  8.687  8.889  9.091  9.293  9.495  9.697  9.899\n",
      " 10.101 10.303 10.505 10.707 10.909 11.111 11.313 11.515 11.717 11.919\n",
      " 12.121 12.323 12.525 12.727 12.929 13.131 13.333 13.535 13.737 13.939\n",
      " 14.141 14.343 14.545 14.747 14.949 15.152 15.354 15.556 15.758 15.96\n",
      " 16.162 16.364 16.566 16.768 16.97  17.172 17.374 17.576 17.778 17.98\n",
      " 18.182 18.384 18.586 18.788 18.99  19.192 19.394 19.596 19.798 20.   ]\n"
     ]
    },
    {
     "name": "stderr",
     "output_type": "stream",
     "text": [
      "Constructing Voronoi polygons: 100%|██████████| 9653/9653 [00:07<00:00, 1283.61it/s]\n"
     ]
    },
    {
     "name": "stdout",
     "output_type": "stream",
     "text": [
      "num_sites: 9653\n",
      "num_elements: 18904\n",
      "min_edge_length: 0.06735039753051353\n",
      "max_edge_length: 0.24599733801444051\n",
      "mean_edge_length: 0.149334221436184\n",
      "min_area: 0.0038967481224259515\n",
      "max_area: 0.03772287490284893\n",
      "mean_area: 0.018796322386822748\n",
      "coherence_length: 0.1\n",
      "length_units: um\n"
     ]
    },
    {
     "name": "stderr",
     "output_type": "stream",
     "text": [
      "Simulating: 100%|█████████▉| 300/300 [02:52<00:00,  1.74tau/s ]\n"
     ]
    },
    {
     "name": "stdout",
     "output_type": "stream",
     "text": [
      "1/100 done\n"
     ]
    },
    {
     "name": "stderr",
     "output_type": "stream",
     "text": [
      "Simulating: 100%|█████████▉| 300/300 [02:51<00:00,  1.75tau/s ]\n"
     ]
    },
    {
     "name": "stdout",
     "output_type": "stream",
     "text": [
      "2/100 done\n"
     ]
    },
    {
     "name": "stderr",
     "output_type": "stream",
     "text": [
      "Simulating: 100%|█████████▉| 300/300 [02:55<00:00,  1.71tau/s ]\n"
     ]
    },
    {
     "name": "stdout",
     "output_type": "stream",
     "text": [
      "3/100 done\n"
     ]
    },
    {
     "name": "stderr",
     "output_type": "stream",
     "text": [
      "Simulating: 100%|█████████▉| 300/300 [02:52<00:00,  1.74tau/s ]\n"
     ]
    },
    {
     "name": "stdout",
     "output_type": "stream",
     "text": [
      "4/100 done\n"
     ]
    },
    {
     "name": "stderr",
     "output_type": "stream",
     "text": [
      "Simulating: 100%|█████████▉| 300/300 [02:57<00:00,  1.69tau/s ]\n"
     ]
    },
    {
     "name": "stdout",
     "output_type": "stream",
     "text": [
      "5/100 done\n"
     ]
    },
    {
     "name": "stderr",
     "output_type": "stream",
     "text": [
      "Simulating: 100%|█████████▉| 300/300 [02:48<00:00,  1.78tau/s ]\n"
     ]
    },
    {
     "name": "stdout",
     "output_type": "stream",
     "text": [
      "6/100 done\n"
     ]
    },
    {
     "name": "stderr",
     "output_type": "stream",
     "text": [
      "Simulating: 100%|█████████▉| 300/300 [02:51<00:00,  1.75tau/s ]\n"
     ]
    },
    {
     "name": "stdout",
     "output_type": "stream",
     "text": [
      "7/100 done\n"
     ]
    },
    {
     "name": "stderr",
     "output_type": "stream",
     "text": [
      "Simulating: 100%|█████████▉| 300/300 [02:39<00:00,  1.88tau/s ]\n"
     ]
    },
    {
     "name": "stdout",
     "output_type": "stream",
     "text": [
      "8/100 done\n"
     ]
    },
    {
     "name": "stderr",
     "output_type": "stream",
     "text": [
      "Simulating: 100%|█████████▉| 300/300 [02:37<00:00,  1.91tau/s ]\n"
     ]
    },
    {
     "name": "stdout",
     "output_type": "stream",
     "text": [
      "9/100 done\n"
     ]
    },
    {
     "name": "stderr",
     "output_type": "stream",
     "text": [
      "Simulating: 100%|█████████▉| 300/300 [02:44<00:00,  1.82tau/s ]\n"
     ]
    },
    {
     "name": "stdout",
     "output_type": "stream",
     "text": [
      "10/100 done\n"
     ]
    },
    {
     "name": "stderr",
     "output_type": "stream",
     "text": [
      "Simulating: 100%|█████████▉| 300/300 [02:42<00:00,  1.85tau/s ]\n"
     ]
    },
    {
     "name": "stdout",
     "output_type": "stream",
     "text": [
      "11/100 done\n"
     ]
    },
    {
     "name": "stderr",
     "output_type": "stream",
     "text": [
      "Simulating: 100%|█████████▉| 300/300 [02:33<00:00,  1.95tau/s ]\n"
     ]
    },
    {
     "name": "stdout",
     "output_type": "stream",
     "text": [
      "12/100 done\n"
     ]
    },
    {
     "name": "stderr",
     "output_type": "stream",
     "text": [
      "Simulating: 100%|█████████▉| 300/300 [02:42<00:00,  1.85tau/s ]\n"
     ]
    },
    {
     "name": "stdout",
     "output_type": "stream",
     "text": [
      "13/100 done\n"
     ]
    },
    {
     "name": "stderr",
     "output_type": "stream",
     "text": [
      "Simulating: 100%|█████████▉| 300/300 [02:54<00:00,  1.72tau/s ]\n"
     ]
    },
    {
     "name": "stdout",
     "output_type": "stream",
     "text": [
      "14/100 done\n"
     ]
    },
    {
     "name": "stderr",
     "output_type": "stream",
     "text": [
      "Simulating: 100%|█████████▉| 300/300 [02:56<00:00,  1.70tau/s ]\n"
     ]
    },
    {
     "name": "stdout",
     "output_type": "stream",
     "text": [
      "15/100 done\n"
     ]
    },
    {
     "name": "stderr",
     "output_type": "stream",
     "text": [
      "Simulating: 100%|█████████▉| 300/300 [03:01<00:00,  1.65tau/s ]\n"
     ]
    },
    {
     "name": "stdout",
     "output_type": "stream",
     "text": [
      "16/100 done\n"
     ]
    },
    {
     "name": "stderr",
     "output_type": "stream",
     "text": [
      "Simulating: 100%|█████████▉| 300/300 [03:02<00:00,  1.64tau/s ]\n"
     ]
    },
    {
     "name": "stdout",
     "output_type": "stream",
     "text": [
      "17/100 done\n"
     ]
    },
    {
     "name": "stderr",
     "output_type": "stream",
     "text": [
      "Simulating: 100%|█████████▉| 300/300 [03:09<00:00,  1.58tau/s ]\n"
     ]
    },
    {
     "name": "stdout",
     "output_type": "stream",
     "text": [
      "18/100 done\n"
     ]
    },
    {
     "name": "stderr",
     "output_type": "stream",
     "text": [
      "Simulating: 100%|█████████▉| 300/300 [03:09<00:00,  1.58tau/s ]\n"
     ]
    },
    {
     "name": "stdout",
     "output_type": "stream",
     "text": [
      "19/100 done\n"
     ]
    },
    {
     "name": "stderr",
     "output_type": "stream",
     "text": [
      "Simulating: 100%|█████████▉| 300/300 [03:09<00:00,  1.58tau/s ]\n"
     ]
    },
    {
     "name": "stdout",
     "output_type": "stream",
     "text": [
      "20/100 done\n"
     ]
    },
    {
     "name": "stderr",
     "output_type": "stream",
     "text": [
      "Simulating: 100%|█████████▉| 300/300 [03:07<00:00,  1.60tau/s ]\n"
     ]
    },
    {
     "name": "stdout",
     "output_type": "stream",
     "text": [
      "21/100 done\n"
     ]
    },
    {
     "name": "stderr",
     "output_type": "stream",
     "text": [
      "Simulating: 100%|█████████▉| 300/300 [03:14<00:00,  1.54tau/s ]\n"
     ]
    },
    {
     "name": "stdout",
     "output_type": "stream",
     "text": [
      "22/100 done\n"
     ]
    },
    {
     "name": "stderr",
     "output_type": "stream",
     "text": [
      "Simulating: 100%|█████████▉| 300/300 [03:14<00:00,  1.55tau/s ]\n"
     ]
    },
    {
     "name": "stdout",
     "output_type": "stream",
     "text": [
      "23/100 done\n"
     ]
    },
    {
     "name": "stderr",
     "output_type": "stream",
     "text": [
      "Simulating: 100%|█████████▉| 300/300 [03:15<00:00,  1.54tau/s ]\n"
     ]
    },
    {
     "name": "stdout",
     "output_type": "stream",
     "text": [
      "24/100 done\n"
     ]
    },
    {
     "name": "stderr",
     "output_type": "stream",
     "text": [
      "Simulating: 100%|█████████▉| 300/300 [03:16<00:00,  1.53tau/s ]\n"
     ]
    },
    {
     "name": "stdout",
     "output_type": "stream",
     "text": [
      "25/100 done\n"
     ]
    },
    {
     "name": "stderr",
     "output_type": "stream",
     "text": [
      "Simulating: 100%|█████████▉| 300/300 [03:16<00:00,  1.52tau/s ]\n"
     ]
    },
    {
     "name": "stdout",
     "output_type": "stream",
     "text": [
      "26/100 done\n"
     ]
    },
    {
     "name": "stderr",
     "output_type": "stream",
     "text": [
      "Simulating: 100%|█████████▉| 300/300 [03:18<00:00,  1.51tau/s ]\n"
     ]
    },
    {
     "name": "stdout",
     "output_type": "stream",
     "text": [
      "27/100 done\n"
     ]
    },
    {
     "name": "stderr",
     "output_type": "stream",
     "text": [
      "Simulating: 100%|█████████▉| 300/300 [03:19<00:00,  1.51tau/s ]\n"
     ]
    },
    {
     "name": "stdout",
     "output_type": "stream",
     "text": [
      "28/100 done\n"
     ]
    },
    {
     "name": "stderr",
     "output_type": "stream",
     "text": [
      "Simulating: 100%|█████████▉| 300/300 [03:20<00:00,  1.50tau/s ]\n"
     ]
    },
    {
     "name": "stdout",
     "output_type": "stream",
     "text": [
      "29/100 done\n"
     ]
    },
    {
     "name": "stderr",
     "output_type": "stream",
     "text": [
      "Simulating: 100%|█████████▉| 300/300 [03:26<00:00,  1.45tau/s ]\n"
     ]
    },
    {
     "name": "stdout",
     "output_type": "stream",
     "text": [
      "30/100 done\n"
     ]
    },
    {
     "name": "stderr",
     "output_type": "stream",
     "text": [
      "Simulating: 100%|█████████▉| 300/300 [03:27<00:00,  1.44tau/s ]\n"
     ]
    },
    {
     "name": "stdout",
     "output_type": "stream",
     "text": [
      "31/100 done\n"
     ]
    },
    {
     "name": "stderr",
     "output_type": "stream",
     "text": [
      "Simulating: 100%|█████████▉| 300/300 [03:30<00:00,  1.43tau/s ]\n"
     ]
    },
    {
     "name": "stdout",
     "output_type": "stream",
     "text": [
      "32/100 done\n"
     ]
    },
    {
     "name": "stderr",
     "output_type": "stream",
     "text": [
      "Simulating: 100%|█████████▉| 300/300 [03:39<00:00,  1.37tau/s ]\n"
     ]
    },
    {
     "name": "stdout",
     "output_type": "stream",
     "text": [
      "33/100 done\n"
     ]
    },
    {
     "name": "stderr",
     "output_type": "stream",
     "text": [
      "Simulating: 100%|█████████▉| 300/300 [03:42<00:00,  1.35tau/s ]\n"
     ]
    },
    {
     "name": "stdout",
     "output_type": "stream",
     "text": [
      "34/100 done\n"
     ]
    },
    {
     "name": "stderr",
     "output_type": "stream",
     "text": [
      "Simulating: 100%|█████████▉| 300/300 [03:41<00:00,  1.36tau/s ]\n"
     ]
    },
    {
     "name": "stdout",
     "output_type": "stream",
     "text": [
      "35/100 done\n"
     ]
    },
    {
     "name": "stderr",
     "output_type": "stream",
     "text": [
      "Simulating: 100%|█████████▉| 300/300 [03:37<00:00,  1.38tau/s ]\n"
     ]
    },
    {
     "name": "stdout",
     "output_type": "stream",
     "text": [
      "36/100 done\n"
     ]
    },
    {
     "name": "stderr",
     "output_type": "stream",
     "text": [
      "Simulating: 100%|█████████▉| 300/300 [03:39<00:00,  1.37tau/s ]\n"
     ]
    },
    {
     "name": "stdout",
     "output_type": "stream",
     "text": [
      "37/100 done\n"
     ]
    },
    {
     "name": "stderr",
     "output_type": "stream",
     "text": [
      "Simulating: 100%|█████████▉| 300/300 [03:37<00:00,  1.38tau/s ]\n"
     ]
    },
    {
     "name": "stdout",
     "output_type": "stream",
     "text": [
      "38/100 done\n"
     ]
    },
    {
     "name": "stderr",
     "output_type": "stream",
     "text": [
      "Simulating: 100%|█████████▉| 300/300 [03:37<00:00,  1.38tau/s ]\n"
     ]
    },
    {
     "name": "stdout",
     "output_type": "stream",
     "text": [
      "39/100 done\n"
     ]
    },
    {
     "name": "stderr",
     "output_type": "stream",
     "text": [
      "Simulating: 100%|█████████▉| 300/300 [03:57<00:00,  1.26tau/s ]\n"
     ]
    },
    {
     "name": "stdout",
     "output_type": "stream",
     "text": [
      "40/100 done\n"
     ]
    },
    {
     "name": "stderr",
     "output_type": "stream",
     "text": [
      "Simulating: 100%|█████████▉| 300/300 [04:10<00:00,  1.20tau/s ]\n"
     ]
    },
    {
     "name": "stdout",
     "output_type": "stream",
     "text": [
      "41/100 done\n"
     ]
    },
    {
     "name": "stderr",
     "output_type": "stream",
     "text": [
      "Simulating: 100%|█████████▉| 300/300 [04:17<00:00,  1.17tau/s ]\n"
     ]
    },
    {
     "name": "stdout",
     "output_type": "stream",
     "text": [
      "42/100 done\n"
     ]
    },
    {
     "name": "stderr",
     "output_type": "stream",
     "text": [
      "Simulating: 100%|█████████▉| 300/300 [04:15<00:00,  1.18tau/s ]\n"
     ]
    },
    {
     "name": "stdout",
     "output_type": "stream",
     "text": [
      "43/100 done\n"
     ]
    },
    {
     "name": "stderr",
     "output_type": "stream",
     "text": [
      "Simulating: 100%|█████████▉| 300/300 [04:21<00:00,  1.15tau/s ]\n"
     ]
    },
    {
     "name": "stdout",
     "output_type": "stream",
     "text": [
      "44/100 done\n"
     ]
    },
    {
     "name": "stderr",
     "output_type": "stream",
     "text": [
      "Simulating: 100%|█████████▉| 300/300 [04:26<00:00,  1.13tau/s ]\n"
     ]
    },
    {
     "name": "stdout",
     "output_type": "stream",
     "text": [
      "45/100 done\n"
     ]
    },
    {
     "name": "stderr",
     "output_type": "stream",
     "text": [
      "Simulating: 100%|█████████▉| 300/300 [04:30<00:00,  1.11tau/s ]\n"
     ]
    },
    {
     "name": "stdout",
     "output_type": "stream",
     "text": [
      "46/100 done\n"
     ]
    },
    {
     "name": "stderr",
     "output_type": "stream",
     "text": [
      "Simulating: 100%|█████████▉| 300/300 [04:39<00:00,  1.07tau/s ]\n"
     ]
    },
    {
     "name": "stdout",
     "output_type": "stream",
     "text": [
      "47/100 done\n"
     ]
    },
    {
     "name": "stderr",
     "output_type": "stream",
     "text": [
      "Simulating: 100%|█████████▉| 300/300 [04:49<00:00,  1.04tau/s ]\n"
     ]
    },
    {
     "name": "stdout",
     "output_type": "stream",
     "text": [
      "48/100 done\n"
     ]
    },
    {
     "name": "stderr",
     "output_type": "stream",
     "text": [
      "Simulating: 100%|█████████▉| 300/300 [04:53<00:00,  1.02tau/s ]\n"
     ]
    },
    {
     "name": "stdout",
     "output_type": "stream",
     "text": [
      "49/100 done\n"
     ]
    },
    {
     "name": "stderr",
     "output_type": "stream",
     "text": [
      "Simulating: 100%|█████████▉| 300/300 [04:54<00:00,  1.02tau/s ]\n"
     ]
    },
    {
     "name": "stdout",
     "output_type": "stream",
     "text": [
      "50/100 done\n"
     ]
    },
    {
     "name": "stderr",
     "output_type": "stream",
     "text": [
      "Simulating: 100%|█████████▉| 300/300 [04:55<00:00,  1.02tau/s ]\n"
     ]
    },
    {
     "name": "stdout",
     "output_type": "stream",
     "text": [
      "51/100 done\n"
     ]
    },
    {
     "name": "stderr",
     "output_type": "stream",
     "text": [
      "Simulating: 100%|█████████▉| 300/300 [05:02<00:00,  1.01s/tau ]\n"
     ]
    },
    {
     "name": "stdout",
     "output_type": "stream",
     "text": [
      "52/100 done\n"
     ]
    },
    {
     "name": "stderr",
     "output_type": "stream",
     "text": [
      "Simulating: 100%|█████████▉| 300/300 [05:05<00:00,  1.02s/tau ]\n"
     ]
    },
    {
     "name": "stdout",
     "output_type": "stream",
     "text": [
      "53/100 done\n"
     ]
    },
    {
     "name": "stderr",
     "output_type": "stream",
     "text": [
      "Simulating: 100%|█████████▉| 300/300 [05:10<00:00,  1.04s/tau ]\n"
     ]
    },
    {
     "name": "stdout",
     "output_type": "stream",
     "text": [
      "54/100 done\n"
     ]
    },
    {
     "name": "stderr",
     "output_type": "stream",
     "text": [
      "Simulating: 100%|█████████▉| 300/300 [05:07<00:00,  1.03s/tau ]\n"
     ]
    },
    {
     "name": "stdout",
     "output_type": "stream",
     "text": [
      "55/100 done\n"
     ]
    },
    {
     "name": "stderr",
     "output_type": "stream",
     "text": [
      "Simulating: 100%|█████████▉| 300/300 [05:10<00:00,  1.03s/tau ]\n"
     ]
    },
    {
     "name": "stdout",
     "output_type": "stream",
     "text": [
      "56/100 done\n"
     ]
    },
    {
     "name": "stderr",
     "output_type": "stream",
     "text": [
      "Simulating: 100%|█████████▉| 300/300 [05:10<00:00,  1.03s/tau ]\n"
     ]
    },
    {
     "name": "stdout",
     "output_type": "stream",
     "text": [
      "57/100 done\n"
     ]
    },
    {
     "name": "stderr",
     "output_type": "stream",
     "text": [
      "Simulating: 100%|█████████▉| 300/300 [05:20<00:00,  1.07s/tau ]\n"
     ]
    },
    {
     "name": "stdout",
     "output_type": "stream",
     "text": [
      "58/100 done\n"
     ]
    },
    {
     "name": "stderr",
     "output_type": "stream",
     "text": [
      "Simulating: 100%|█████████▉| 300/300 [05:21<00:00,  1.07s/tau ]\n"
     ]
    },
    {
     "name": "stdout",
     "output_type": "stream",
     "text": [
      "59/100 done\n"
     ]
    },
    {
     "name": "stderr",
     "output_type": "stream",
     "text": [
      "Simulating: 100%|█████████▉| 300/300 [05:23<00:00,  1.08s/tau ]\n"
     ]
    },
    {
     "name": "stdout",
     "output_type": "stream",
     "text": [
      "60/100 done\n"
     ]
    },
    {
     "name": "stderr",
     "output_type": "stream",
     "text": [
      "Simulating: 100%|█████████▉| 300/300 [05:26<00:00,  1.09s/tau ]\n"
     ]
    },
    {
     "name": "stdout",
     "output_type": "stream",
     "text": [
      "61/100 done\n"
     ]
    },
    {
     "name": "stderr",
     "output_type": "stream",
     "text": [
      "Simulating: 100%|█████████▉| 300/300 [05:26<00:00,  1.09s/tau ]\n"
     ]
    },
    {
     "name": "stdout",
     "output_type": "stream",
     "text": [
      "62/100 done\n"
     ]
    },
    {
     "name": "stderr",
     "output_type": "stream",
     "text": [
      "Simulating: 100%|█████████▉| 300/300 [05:17<00:00,  1.06s/tau ]\n"
     ]
    },
    {
     "name": "stdout",
     "output_type": "stream",
     "text": [
      "63/100 done\n"
     ]
    },
    {
     "name": "stderr",
     "output_type": "stream",
     "text": [
      "Simulating: 100%|█████████▉| 300/300 [05:33<00:00,  1.11s/tau ]\n"
     ]
    },
    {
     "name": "stdout",
     "output_type": "stream",
     "text": [
      "64/100 done\n"
     ]
    },
    {
     "name": "stderr",
     "output_type": "stream",
     "text": [
      "Simulating: 100%|█████████▉| 300/300 [05:27<00:00,  1.09s/tau ]\n"
     ]
    },
    {
     "name": "stdout",
     "output_type": "stream",
     "text": [
      "65/100 done\n"
     ]
    },
    {
     "name": "stderr",
     "output_type": "stream",
     "text": [
      "Simulating: 100%|█████████▉| 300/300 [05:32<00:00,  1.11s/tau ]\n"
     ]
    },
    {
     "name": "stdout",
     "output_type": "stream",
     "text": [
      "66/100 done\n"
     ]
    },
    {
     "name": "stderr",
     "output_type": "stream",
     "text": [
      "Simulating: 100%|█████████▉| 300/300 [05:39<00:00,  1.13s/tau ]\n"
     ]
    },
    {
     "name": "stdout",
     "output_type": "stream",
     "text": [
      "67/100 done\n"
     ]
    },
    {
     "name": "stderr",
     "output_type": "stream",
     "text": [
      "Simulating: 100%|█████████▉| 300/300 [05:44<00:00,  1.15s/tau ]\n"
     ]
    },
    {
     "name": "stdout",
     "output_type": "stream",
     "text": [
      "68/100 done\n"
     ]
    },
    {
     "name": "stderr",
     "output_type": "stream",
     "text": [
      "Simulating: 100%|█████████▉| 300/300 [05:50<00:00,  1.17s/tau ]\n"
     ]
    },
    {
     "name": "stdout",
     "output_type": "stream",
     "text": [
      "69/100 done\n"
     ]
    },
    {
     "name": "stderr",
     "output_type": "stream",
     "text": [
      "Simulating: 100%|█████████▉| 300/300 [05:48<00:00,  1.16s/tau ]\n"
     ]
    },
    {
     "name": "stdout",
     "output_type": "stream",
     "text": [
      "70/100 done\n"
     ]
    },
    {
     "name": "stderr",
     "output_type": "stream",
     "text": [
      "Simulating: 100%|█████████▉| 300/300 [05:53<00:00,  1.18s/tau ]\n"
     ]
    },
    {
     "name": "stdout",
     "output_type": "stream",
     "text": [
      "71/100 done\n"
     ]
    },
    {
     "name": "stderr",
     "output_type": "stream",
     "text": [
      "Simulating: 100%|█████████▉| 300/300 [05:51<00:00,  1.17s/tau ]\n"
     ]
    },
    {
     "name": "stdout",
     "output_type": "stream",
     "text": [
      "72/100 done\n"
     ]
    },
    {
     "name": "stderr",
     "output_type": "stream",
     "text": [
      "Simulating: 100%|█████████▉| 300/300 [05:52<00:00,  1.17s/tau ]\n"
     ]
    },
    {
     "name": "stdout",
     "output_type": "stream",
     "text": [
      "73/100 done\n"
     ]
    },
    {
     "name": "stderr",
     "output_type": "stream",
     "text": [
      "Simulating: 100%|█████████▉| 300/300 [05:53<00:00,  1.18s/tau ]\n"
     ]
    },
    {
     "name": "stdout",
     "output_type": "stream",
     "text": [
      "74/100 done\n"
     ]
    },
    {
     "name": "stderr",
     "output_type": "stream",
     "text": [
      "Simulating: 100%|█████████▉| 300/300 [05:52<00:00,  1.17s/tau ]\n"
     ]
    },
    {
     "name": "stdout",
     "output_type": "stream",
     "text": [
      "75/100 done\n"
     ]
    },
    {
     "name": "stderr",
     "output_type": "stream",
     "text": [
      "Simulating: 100%|█████████▉| 300/300 [05:57<00:00,  1.19s/tau ]\n"
     ]
    },
    {
     "name": "stdout",
     "output_type": "stream",
     "text": [
      "76/100 done\n"
     ]
    },
    {
     "name": "stderr",
     "output_type": "stream",
     "text": [
      "Simulating: 100%|█████████▉| 300/300 [06:03<00:00,  1.21s/tau ]\n"
     ]
    },
    {
     "name": "stdout",
     "output_type": "stream",
     "text": [
      "77/100 done\n"
     ]
    },
    {
     "name": "stderr",
     "output_type": "stream",
     "text": [
      "Simulating: 100%|█████████▉| 300/300 [06:02<00:00,  1.21s/tau ]\n"
     ]
    },
    {
     "name": "stdout",
     "output_type": "stream",
     "text": [
      "78/100 done\n"
     ]
    },
    {
     "name": "stderr",
     "output_type": "stream",
     "text": [
      "Simulating: 100%|█████████▉| 300/300 [06:03<00:00,  1.21s/tau ]\n"
     ]
    },
    {
     "name": "stdout",
     "output_type": "stream",
     "text": [
      "79/100 done\n"
     ]
    },
    {
     "name": "stderr",
     "output_type": "stream",
     "text": [
      "Simulating: 100%|█████████▉| 300/300 [06:04<00:00,  1.22s/tau ]\n"
     ]
    },
    {
     "name": "stdout",
     "output_type": "stream",
     "text": [
      "80/100 done\n"
     ]
    },
    {
     "name": "stderr",
     "output_type": "stream",
     "text": [
      "Simulating: 100%|█████████▉| 300/300 [06:01<00:00,  1.20s/tau ]\n"
     ]
    },
    {
     "name": "stdout",
     "output_type": "stream",
     "text": [
      "81/100 done\n"
     ]
    },
    {
     "name": "stderr",
     "output_type": "stream",
     "text": [
      "Simulating: 100%|█████████▉| 300/300 [06:04<00:00,  1.21s/tau ]\n"
     ]
    },
    {
     "name": "stdout",
     "output_type": "stream",
     "text": [
      "82/100 done\n"
     ]
    },
    {
     "name": "stderr",
     "output_type": "stream",
     "text": [
      "Simulating: 100%|█████████▉| 300/300 [06:07<00:00,  1.22s/tau ]\n"
     ]
    },
    {
     "name": "stdout",
     "output_type": "stream",
     "text": [
      "83/100 done\n"
     ]
    },
    {
     "name": "stderr",
     "output_type": "stream",
     "text": [
      "Simulating: 100%|█████████▉| 300/300 [06:10<00:00,  1.23s/tau ]\n"
     ]
    },
    {
     "name": "stdout",
     "output_type": "stream",
     "text": [
      "84/100 done\n"
     ]
    },
    {
     "name": "stderr",
     "output_type": "stream",
     "text": [
      "Simulating: 100%|█████████▉| 300/300 [06:06<00:00,  1.22s/tau ]\n"
     ]
    },
    {
     "name": "stdout",
     "output_type": "stream",
     "text": [
      "85/100 done\n"
     ]
    },
    {
     "name": "stderr",
     "output_type": "stream",
     "text": [
      "Simulating: 100%|█████████▉| 300/300 [06:16<00:00,  1.25s/tau ]\n"
     ]
    },
    {
     "name": "stdout",
     "output_type": "stream",
     "text": [
      "86/100 done\n"
     ]
    },
    {
     "name": "stderr",
     "output_type": "stream",
     "text": [
      "Simulating: 100%|█████████▉| 300/300 [06:14<00:00,  1.25s/tau ]\n"
     ]
    },
    {
     "name": "stdout",
     "output_type": "stream",
     "text": [
      "87/100 done\n"
     ]
    },
    {
     "name": "stderr",
     "output_type": "stream",
     "text": [
      "Simulating: 100%|█████████▉| 300/300 [06:10<00:00,  1.23s/tau ]\n"
     ]
    },
    {
     "name": "stdout",
     "output_type": "stream",
     "text": [
      "88/100 done\n"
     ]
    },
    {
     "name": "stderr",
     "output_type": "stream",
     "text": [
      "Simulating: 100%|█████████▉| 300/300 [06:11<00:00,  1.24s/tau ]\n"
     ]
    },
    {
     "name": "stdout",
     "output_type": "stream",
     "text": [
      "89/100 done\n"
     ]
    },
    {
     "name": "stderr",
     "output_type": "stream",
     "text": [
      "Simulating: 100%|█████████▉| 300/300 [06:11<00:00,  1.24s/tau ]\n"
     ]
    },
    {
     "name": "stdout",
     "output_type": "stream",
     "text": [
      "90/100 done\n"
     ]
    },
    {
     "name": "stderr",
     "output_type": "stream",
     "text": [
      "Simulating: 100%|█████████▉| 300/300 [06:12<00:00,  1.24s/tau ]\n"
     ]
    },
    {
     "name": "stdout",
     "output_type": "stream",
     "text": [
      "91/100 done\n"
     ]
    },
    {
     "name": "stderr",
     "output_type": "stream",
     "text": [
      "Simulating: 100%|█████████▉| 300/300 [06:18<00:00,  1.26s/tau ]\n"
     ]
    },
    {
     "name": "stdout",
     "output_type": "stream",
     "text": [
      "92/100 done\n"
     ]
    },
    {
     "name": "stderr",
     "output_type": "stream",
     "text": [
      "Simulating: 100%|█████████▉| 300/300 [06:22<00:00,  1.28s/tau ]\n"
     ]
    },
    {
     "name": "stdout",
     "output_type": "stream",
     "text": [
      "93/100 done\n"
     ]
    },
    {
     "name": "stderr",
     "output_type": "stream",
     "text": [
      "Simulating: 100%|█████████▉| 300/300 [06:19<00:00,  1.26s/tau ]\n"
     ]
    },
    {
     "name": "stdout",
     "output_type": "stream",
     "text": [
      "94/100 done\n"
     ]
    },
    {
     "name": "stderr",
     "output_type": "stream",
     "text": [
      "Simulating: 100%|█████████▉| 300/300 [06:24<00:00,  1.28s/tau ]\n"
     ]
    },
    {
     "name": "stdout",
     "output_type": "stream",
     "text": [
      "95/100 done\n"
     ]
    },
    {
     "name": "stderr",
     "output_type": "stream",
     "text": [
      "Simulating: 100%|█████████▉| 300/300 [06:22<00:00,  1.28s/tau ]\n"
     ]
    },
    {
     "name": "stdout",
     "output_type": "stream",
     "text": [
      "96/100 done\n"
     ]
    },
    {
     "name": "stderr",
     "output_type": "stream",
     "text": [
      "Simulating: 100%|█████████▉| 300/300 [06:26<00:00,  1.29s/tau ]\n"
     ]
    },
    {
     "name": "stdout",
     "output_type": "stream",
     "text": [
      "97/100 done\n"
     ]
    },
    {
     "name": "stderr",
     "output_type": "stream",
     "text": [
      "Simulating: 100%|█████████▉| 300/300 [06:29<00:00,  1.30s/tau ]\n"
     ]
    },
    {
     "name": "stdout",
     "output_type": "stream",
     "text": [
      "98/100 done\n"
     ]
    },
    {
     "name": "stderr",
     "output_type": "stream",
     "text": [
      "Simulating: 100%|█████████▉| 300/300 [06:29<00:00,  1.30s/tau ]\n"
     ]
    },
    {
     "name": "stdout",
     "output_type": "stream",
     "text": [
      "99/100 done\n"
     ]
    },
    {
     "name": "stderr",
     "output_type": "stream",
     "text": [
      "Simulating: 100%|█████████▉| 300/300 [06:28<00:00,  1.30s/tau ]\n"
     ]
    },
    {
     "name": "stdout",
     "output_type": "stream",
     "text": [
      "100/100 done\n",
      "Running simulations for L=15.64 with currents: [ 0.     0.202  0.404  0.606  0.808  1.01   1.212  1.414  1.616  1.818\n",
      "  2.02   2.222  2.424  2.626  2.828  3.03   3.232  3.434  3.636  3.838\n",
      "  4.04   4.242  4.444  4.646  4.848  5.051  5.253  5.455  5.657  5.859\n",
      "  6.061  6.263  6.465  6.667  6.869  7.071  7.273  7.475  7.677  7.879\n",
      "  8.081  8.283  8.485  8.687  8.889  9.091  9.293  9.495  9.697  9.899\n",
      " 10.101 10.303 10.505 10.707 10.909 11.111 11.313 11.515 11.717 11.919\n",
      " 12.121 12.323 12.525 12.727 12.929 13.131 13.333 13.535 13.737 13.939\n",
      " 14.141 14.343 14.545 14.747 14.949 15.152 15.354 15.556 15.758 15.96\n",
      " 16.162 16.364 16.566 16.768 16.97  17.172 17.374 17.576 17.778 17.98\n",
      " 18.182 18.384 18.586 18.788 18.99  19.192 19.394 19.596 19.798 20.   ]\n"
     ]
    },
    {
     "name": "stderr",
     "output_type": "stream",
     "text": [
      "Constructing Voronoi polygons: 100%|██████████| 13203/13203 [00:12<00:00, 1053.25it/s]\n"
     ]
    },
    {
     "name": "stdout",
     "output_type": "stream",
     "text": [
      "num_sites: 13203\n",
      "num_elements: 26004\n",
      "min_edge_length: 0.07321285562081878\n",
      "max_edge_length: 0.24998473122599574\n",
      "mean_edge_length: 0.14792888850292357\n",
      "min_area: 0.004747691431140828\n",
      "max_area: 0.03439081811248117\n",
      "mean_area: 0.018527052466522823\n",
      "coherence_length: 0.1\n",
      "length_units: um\n"
     ]
    },
    {
     "name": "stderr",
     "output_type": "stream",
     "text": [
      "Simulating: 100%|█████████▉| 300/300 [05:22<00:00,  1.08s/tau ]\n"
     ]
    },
    {
     "name": "stdout",
     "output_type": "stream",
     "text": [
      "1/100 done\n"
     ]
    },
    {
     "name": "stderr",
     "output_type": "stream",
     "text": [
      "Simulating: 100%|█████████▉| 300/300 [05:22<00:00,  1.08s/tau ]\n"
     ]
    },
    {
     "name": "stdout",
     "output_type": "stream",
     "text": [
      "2/100 done\n"
     ]
    },
    {
     "name": "stderr",
     "output_type": "stream",
     "text": [
      "Simulating: 100%|█████████▉| 300/300 [05:22<00:00,  1.07s/tau ]\n"
     ]
    },
    {
     "name": "stdout",
     "output_type": "stream",
     "text": [
      "3/100 done\n"
     ]
    },
    {
     "name": "stderr",
     "output_type": "stream",
     "text": [
      "Simulating: 100%|█████████▉| 300/300 [05:18<00:00,  1.06s/tau ]\n"
     ]
    },
    {
     "name": "stdout",
     "output_type": "stream",
     "text": [
      "4/100 done\n"
     ]
    },
    {
     "name": "stderr",
     "output_type": "stream",
     "text": [
      "Simulating: 100%|█████████▉| 300/300 [05:18<00:00,  1.06s/tau ]\n"
     ]
    },
    {
     "name": "stdout",
     "output_type": "stream",
     "text": [
      "5/100 done\n"
     ]
    },
    {
     "name": "stderr",
     "output_type": "stream",
     "text": [
      "Simulating: 100%|█████████▉| 300/300 [05:26<00:00,  1.09s/tau ]    \n"
     ]
    },
    {
     "name": "stdout",
     "output_type": "stream",
     "text": [
      "6/100 done\n"
     ]
    },
    {
     "name": "stderr",
     "output_type": "stream",
     "text": [
      "Simulating: 100%|█████████▉| 300/300 [05:24<00:00,  1.08s/tau ]\n"
     ]
    },
    {
     "name": "stdout",
     "output_type": "stream",
     "text": [
      "7/100 done\n"
     ]
    },
    {
     "name": "stderr",
     "output_type": "stream",
     "text": [
      "Simulating: 100%|█████████▉| 300/300 [05:27<00:00,  1.09s/tau ]\n"
     ]
    },
    {
     "name": "stdout",
     "output_type": "stream",
     "text": [
      "8/100 done\n"
     ]
    },
    {
     "name": "stderr",
     "output_type": "stream",
     "text": [
      "Simulating: 100%|█████████▉| 300/300 [05:26<00:00,  1.09s/tau ]\n"
     ]
    },
    {
     "name": "stdout",
     "output_type": "stream",
     "text": [
      "9/100 done\n"
     ]
    },
    {
     "name": "stderr",
     "output_type": "stream",
     "text": [
      "Simulating: 100%|█████████▉| 300/300 [05:25<00:00,  1.09s/tau ]\n"
     ]
    },
    {
     "name": "stdout",
     "output_type": "stream",
     "text": [
      "10/100 done\n"
     ]
    },
    {
     "name": "stderr",
     "output_type": "stream",
     "text": [
      "Simulating: 100%|█████████▉| 300/300 [05:23<00:00,  1.08s/tau ]\n"
     ]
    },
    {
     "name": "stdout",
     "output_type": "stream",
     "text": [
      "11/100 done\n"
     ]
    },
    {
     "name": "stderr",
     "output_type": "stream",
     "text": [
      "Simulating: 100%|█████████▉| 300/300 [05:25<00:00,  1.08s/tau ]\n"
     ]
    },
    {
     "name": "stdout",
     "output_type": "stream",
     "text": [
      "12/100 done\n"
     ]
    },
    {
     "name": "stderr",
     "output_type": "stream",
     "text": [
      "Simulating: 100%|█████████▉| 300/300 [05:23<00:00,  1.08s/tau ]\n"
     ]
    },
    {
     "name": "stdout",
     "output_type": "stream",
     "text": [
      "13/100 done\n"
     ]
    },
    {
     "name": "stderr",
     "output_type": "stream",
     "text": [
      "Simulating: 100%|█████████▉| 300/300 [05:24<00:00,  1.08s/tau ]\n"
     ]
    },
    {
     "name": "stdout",
     "output_type": "stream",
     "text": [
      "14/100 done\n"
     ]
    },
    {
     "name": "stderr",
     "output_type": "stream",
     "text": [
      "Simulating: 100%|█████████▉| 300/300 [05:28<00:00,  1.09s/tau ]\n"
     ]
    },
    {
     "name": "stdout",
     "output_type": "stream",
     "text": [
      "15/100 done\n"
     ]
    },
    {
     "name": "stderr",
     "output_type": "stream",
     "text": [
      "Simulating: 100%|█████████▉| 300/300 [05:35<00:00,  1.12s/tau ]\n"
     ]
    },
    {
     "name": "stdout",
     "output_type": "stream",
     "text": [
      "16/100 done\n"
     ]
    },
    {
     "name": "stderr",
     "output_type": "stream",
     "text": [
      "Simulating: 100%|█████████▉| 300/300 [05:44<00:00,  1.15s/tau ]\n"
     ]
    },
    {
     "name": "stdout",
     "output_type": "stream",
     "text": [
      "17/100 done\n"
     ]
    },
    {
     "name": "stderr",
     "output_type": "stream",
     "text": [
      "Simulating: 100%|█████████▉| 300/300 [05:55<00:00,  1.18s/tau ]\n"
     ]
    },
    {
     "name": "stdout",
     "output_type": "stream",
     "text": [
      "18/100 done\n"
     ]
    },
    {
     "name": "stderr",
     "output_type": "stream",
     "text": [
      "Simulating: 100%|█████████▉| 300/300 [05:47<00:00,  1.16s/tau ]\n"
     ]
    },
    {
     "name": "stdout",
     "output_type": "stream",
     "text": [
      "19/100 done\n"
     ]
    },
    {
     "name": "stderr",
     "output_type": "stream",
     "text": [
      "Simulating: 100%|█████████▉| 300/300 [05:54<00:00,  1.18s/tau ]    \n"
     ]
    },
    {
     "name": "stdout",
     "output_type": "stream",
     "text": [
      "20/100 done\n"
     ]
    },
    {
     "name": "stderr",
     "output_type": "stream",
     "text": [
      "Simulating: 100%|█████████▉| 300/300 [05:53<00:00,  1.18s/tau ]\n"
     ]
    },
    {
     "name": "stdout",
     "output_type": "stream",
     "text": [
      "21/100 done\n"
     ]
    },
    {
     "name": "stderr",
     "output_type": "stream",
     "text": [
      "Simulating: 100%|█████████▉| 300/300 [05:56<00:00,  1.19s/tau ]\n"
     ]
    },
    {
     "name": "stdout",
     "output_type": "stream",
     "text": [
      "22/100 done\n"
     ]
    },
    {
     "name": "stderr",
     "output_type": "stream",
     "text": [
      "Simulating: 100%|█████████▉| 300/300 [05:56<00:00,  1.19s/tau ]    \n"
     ]
    },
    {
     "name": "stdout",
     "output_type": "stream",
     "text": [
      "23/100 done\n"
     ]
    },
    {
     "name": "stderr",
     "output_type": "stream",
     "text": [
      "Simulating: 100%|█████████▉| 300/300 [05:46<00:00,  1.16s/tau ]\n"
     ]
    },
    {
     "name": "stdout",
     "output_type": "stream",
     "text": [
      "24/100 done\n"
     ]
    },
    {
     "name": "stderr",
     "output_type": "stream",
     "text": [
      "Simulating: 100%|█████████▉| 300/300 [05:57<00:00,  1.19s/tau ]\n"
     ]
    },
    {
     "name": "stdout",
     "output_type": "stream",
     "text": [
      "25/100 done\n"
     ]
    },
    {
     "name": "stderr",
     "output_type": "stream",
     "text": [
      "Simulating: 100%|█████████▉| 300/300 [05:56<00:00,  1.19s/tau ]    \n"
     ]
    },
    {
     "name": "stdout",
     "output_type": "stream",
     "text": [
      "26/100 done\n"
     ]
    },
    {
     "name": "stderr",
     "output_type": "stream",
     "text": [
      "Simulating: 100%|█████████▉| 300/300 [06:01<00:00,  1.20s/tau ]\n"
     ]
    },
    {
     "name": "stdout",
     "output_type": "stream",
     "text": [
      "27/100 done\n"
     ]
    },
    {
     "name": "stderr",
     "output_type": "stream",
     "text": [
      "Simulating: 100%|█████████▉| 300/300 [06:13<00:00,  1.24s/tau ]\n"
     ]
    },
    {
     "name": "stdout",
     "output_type": "stream",
     "text": [
      "28/100 done\n"
     ]
    },
    {
     "name": "stderr",
     "output_type": "stream",
     "text": [
      "Simulating: 100%|█████████▉| 300/300 [06:12<00:00,  1.24s/tau ]\n"
     ]
    },
    {
     "name": "stdout",
     "output_type": "stream",
     "text": [
      "29/100 done\n"
     ]
    },
    {
     "name": "stderr",
     "output_type": "stream",
     "text": [
      "Simulating: 100%|█████████▉| 300/300 [06:18<00:00,  1.26s/tau ]\n"
     ]
    },
    {
     "name": "stdout",
     "output_type": "stream",
     "text": [
      "30/100 done\n"
     ]
    },
    {
     "name": "stderr",
     "output_type": "stream",
     "text": [
      "Simulating: 100%|█████████▉| 300/300 [06:27<00:00,  1.29s/tau ]\n"
     ]
    },
    {
     "name": "stdout",
     "output_type": "stream",
     "text": [
      "31/100 done\n"
     ]
    },
    {
     "name": "stderr",
     "output_type": "stream",
     "text": [
      "Simulating: 100%|█████████▉| 300/300 [06:26<00:00,  1.29s/tau ]\n"
     ]
    },
    {
     "name": "stdout",
     "output_type": "stream",
     "text": [
      "32/100 done\n"
     ]
    },
    {
     "name": "stderr",
     "output_type": "stream",
     "text": [
      "Simulating: 100%|█████████▉| 300/300 [06:10<00:00,  1.24s/tau ]    \n"
     ]
    },
    {
     "name": "stdout",
     "output_type": "stream",
     "text": [
      "33/100 done\n"
     ]
    },
    {
     "name": "stderr",
     "output_type": "stream",
     "text": [
      "Simulating: 100%|█████████▉| 300/300 [06:11<00:00,  1.24s/tau ]\n"
     ]
    },
    {
     "name": "stdout",
     "output_type": "stream",
     "text": [
      "34/100 done\n"
     ]
    },
    {
     "name": "stderr",
     "output_type": "stream",
     "text": [
      "Simulating: 100%|█████████▉| 300/300 [06:04<00:00,  1.22s/tau ]\n"
     ]
    },
    {
     "name": "stdout",
     "output_type": "stream",
     "text": [
      "35/100 done\n"
     ]
    },
    {
     "name": "stderr",
     "output_type": "stream",
     "text": [
      "Simulating: 100%|█████████▉| 300/300 [06:30<00:00,  1.30s/tau ]\n"
     ]
    },
    {
     "name": "stdout",
     "output_type": "stream",
     "text": [
      "36/100 done\n"
     ]
    },
    {
     "name": "stderr",
     "output_type": "stream",
     "text": [
      "Simulating: 100%|█████████▉| 300/300 [06:49<00:00,  1.37s/tau ]    \n"
     ]
    },
    {
     "name": "stdout",
     "output_type": "stream",
     "text": [
      "37/100 done\n"
     ]
    },
    {
     "name": "stderr",
     "output_type": "stream",
     "text": [
      "Simulating: 100%|█████████▉| 300/300 [06:48<00:00,  1.36s/tau ]\n"
     ]
    },
    {
     "name": "stdout",
     "output_type": "stream",
     "text": [
      "38/100 done\n"
     ]
    },
    {
     "name": "stderr",
     "output_type": "stream",
     "text": [
      "Simulating: 100%|█████████▉| 300/300 [06:53<00:00,  1.38s/tau ]\n"
     ]
    },
    {
     "name": "stdout",
     "output_type": "stream",
     "text": [
      "39/100 done\n"
     ]
    },
    {
     "name": "stderr",
     "output_type": "stream",
     "text": [
      "Simulating: 100%|█████████▉| 300/300 [06:54<00:00,  1.38s/tau ]\n"
     ]
    },
    {
     "name": "stdout",
     "output_type": "stream",
     "text": [
      "40/100 done\n"
     ]
    },
    {
     "name": "stderr",
     "output_type": "stream",
     "text": [
      "Simulating: 100%|█████████▉| 300/300 [07:01<00:00,  1.40s/tau ]    \n"
     ]
    },
    {
     "name": "stdout",
     "output_type": "stream",
     "text": [
      "41/100 done\n"
     ]
    },
    {
     "name": "stderr",
     "output_type": "stream",
     "text": [
      "Simulating: 100%|█████████▉| 300/300 [07:05<00:00,  1.42s/tau ]    \n"
     ]
    },
    {
     "name": "stdout",
     "output_type": "stream",
     "text": [
      "42/100 done\n"
     ]
    },
    {
     "name": "stderr",
     "output_type": "stream",
     "text": [
      "Simulating:  69%|██████▊   | 206/300 [05:19<01:28,  1.06tau/s ]    "
     ]
    }
   ],
   "source": [
    "\n",
    "for L in simulations_to_be_run:\n",
    "\n",
    "\tcurrents=simulations_to_be_run[L]\n",
    "\t# print(currents.shape, currents.size == 0)\n",
    "\tif currents.size == 0:\n",
    "\t\tcontinue\n",
    "\tprint(f\"Running simulations for L={L} with currents: {currents}\")\n",
    "\tdevice=rs.define_4_terminal_mesh(L,L,xi=xi,\n",
    "\t\t\t\t\t\t\t\t  probes=[((-L*(0.4),0),\n",
    "\t\t\t\t\t   \t\t\t\t(L*(0.4),0),)],\n",
    "\t\t\t\t\t\t\t\t\tterminal_width=L/30,\n",
    "\t\t\t\t\t\t\t\t\tterminal_height=L/30,\n",
    "\n",
    "\t\t\t\t\t\t\t\t  )\n",
    "\trs.build_mesh(device,max_edge_L=xi/4,plot=False)\n",
    "\n",
    "\tsolutions,currents_out=rs.current_series(device,\n",
    "\t\t\t\t\t\t\t\t\t  current_range=currents,\n",
    "\t\t\t\t\t\t\t\t\t  H_field=10,\n",
    "\t\t\t\t\t\t\t\t\t  solve_time=300\n",
    "\t\t\t\t\t\t\t\t\t  )\n",
    "\t\n",
    "\tjj=0\n",
    "\tfor solution in solutions:\n",
    "\t\tvoltage=solution.dynamics.voltage()\n",
    "\t\ttime=solution.dynamics.time\n",
    "\t\tsolution.to_hdf5(f'{folder_path}_solutions/solution_{L}_{currents_out[jj]}_.hdf5')\n",
    "\n",
    "\t\tnp.save(f'{folder_path}/voltage_{L}_{currents_out[jj]}_.npy',np.array([time,voltage]))\n",
    "\n",
    "\t\tjj+=1"
   ]
  }
 ],
 "metadata": {
  "kernelspec": {
   "display_name": "Python 3",
   "language": "python",
   "name": "python3"
  },
  "language_info": {
   "codemirror_mode": {
    "name": "ipython",
    "version": 3
   },
   "file_extension": ".py",
   "mimetype": "text/x-python",
   "name": "python",
   "nbconvert_exporter": "python",
   "pygments_lexer": "ipython3",
   "version": "3.10.0"
  }
 },
 "nbformat": 4,
 "nbformat_minor": 2
}
