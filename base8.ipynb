{
 "cells": [
  {
   "cell_type": "code",
   "execution_count": 1,
   "metadata": {},
   "outputs": [
    {
     "name": "stderr",
     "output_type": "stream",
     "text": [
      "c:\\Program Files\\Python310\\lib\\site-packages\\cupyx\\jit\\_interface.py:173: FutureWarning: cupyx.jit.rawkernel is experimental. The interface can change in the future.\n",
      "  cupy._util.experimental('cupyx.jit.rawkernel')\n"
     ]
    }
   ],
   "source": [
    "import run_simulation as rs\n",
    "import numpy as np\t\n",
    "import matplotlib.pyplot as plt\n",
    "import tdgl"
   ]
  },
  {
   "cell_type": "code",
   "execution_count": 2,
   "metadata": {},
   "outputs": [
    {
     "name": "stdout",
     "output_type": "stream",
     "text": [
      "GPU is available\n",
      "GPU:  b'NVIDIA GeForce RTX 4060 Laptop GPU'\n"
     ]
    }
   ],
   "source": [
    "rs.check_system()"
   ]
  },
  {
   "cell_type": "code",
   "execution_count": 3,
   "metadata": {},
   "outputs": [
    {
     "name": "stdout",
     "output_type": "stream",
     "text": [
      "[ 0.4         2.57777778  4.75555556  6.93333333  9.11111111 11.28888889\n",
      " 13.46666667 15.64444444 17.82222222 20.        ]\n"
     ]
    },
    {
     "data": {
      "image/png": "[encoded data removed]",
      "text/plain": [
       "<Figure size 640x480 with 1 Axes>"
      ]
     },
     "metadata": {},
     "output_type": "display_data"
    }
   ],
   "source": [
    "xi=0.1\n",
    "sizes=np.linspace(0.4,20,10)\n",
    "print(sizes)\n",
    "\n",
    "devices_list=[]\n",
    "for size in sizes:\n",
    "\tdevices_list.append(rs.define_4_terminal_mesh(size,size,xi=xi, probes=[((-size*(0.4),0),\n",
    "\t\t\t\t\t   \t\t\t\t(size*(0.4),0),)],\n",
    "\t\t\t\t\t\t\t\t\tterminal_width=size/30,\n",
    "\t\t\t\t\t\t\t\t\tterminal_height=size/10\n",
    "\t\t\t\t\t\t\t\t\t))\n",
    "\n",
    "fig,ax=devices_list[-1].draw()\n"
   ]
  },
  {
   "cell_type": "code",
   "execution_count": 4,
   "metadata": {},
   "outputs": [
    {
     "name": "stderr",
     "output_type": "stream",
     "text": [
      "Constructing Voronoi polygons: 100%|██████████| 1684/1684 [00:01<00:00, 1625.79it/s]\n"
     ]
    },
    {
     "name": "stdout",
     "output_type": "stream",
     "text": [
      "num_sites: 1684\n",
      "num_elements: 2966\n",
      "min_edge_length: 0.002453200610712999\n",
      "max_edge_length: 0.05406766981963362\n",
      "mean_edge_length: 0.00852188973326904\n",
      "min_area: 3.4437979910190074e-06\n",
      "max_area: 0.0018245760261402706\n",
      "mean_area: 9.501187648456059e-05\n",
      "coherence_length: 0.1\n",
      "length_units: um\n"
     ]
    },
    {
     "name": "stderr",
     "output_type": "stream",
     "text": [
      "Constructing Voronoi polygons: 100%|██████████| 8848/8848 [00:04<00:00, 1997.01it/s]\n"
     ]
    },
    {
     "name": "stdout",
     "output_type": "stream",
     "text": [
      "num_sites: 8848\n",
      "num_elements: 17294\n",
      "min_edge_length: 0.014091518856490518\n",
      "max_edge_length: 0.04847192928600561\n",
      "mean_edge_length: 0.02986588783164048\n",
      "min_area: 0.00014192468902088975\n",
      "max_area: 0.0014557328773589248\n",
      "mean_area: 0.000751012646682683\n",
      "coherence_length: 0.1\n",
      "length_units: um\n"
     ]
    },
    {
     "name": "stderr",
     "output_type": "stream",
     "text": [
      "Constructing Voronoi polygons:   0%|          | 0/32308 [00:00<?, ?it/s]Malformed Voronoi cell surrounding boundary site 12. Try changing the number of boundary mesh sites using Polygon.resample() or Polygon.buffer(eps) where eps is 0 or a small positive float.\n",
      "Malformed Voronoi cell surrounding boundary site 13. Try changing the number of boundary mesh sites using Polygon.resample() or Polygon.buffer(eps) where eps is 0 or a small positive float.\n",
      "Malformed Voronoi cell surrounding boundary site 27. Try changing the number of boundary mesh sites using Polygon.resample() or Polygon.buffer(eps) where eps is 0 or a small positive float.\n",
      "Malformed Voronoi cell surrounding boundary site 90. Try changing the number of boundary mesh sites using Polygon.resample() or Polygon.buffer(eps) where eps is 0 or a small positive float.\n",
      "Constructing Voronoi polygons:   0%|          | 94/32308 [00:00<00:35, 913.89it/s]Malformed Voronoi cell surrounding boundary site 126. Try changing the number of boundary mesh sites using Polygon.resample() or Polygon.buffer(eps) where eps is 0 or a small positive float.\n",
      "Malformed Voronoi cell surrounding boundary site 127. Try changing the number of boundary mesh sites using Polygon.resample() or Polygon.buffer(eps) where eps is 0 or a small positive float.\n",
      "Malformed Voronoi cell surrounding boundary site 128. Try changing the number of boundary mesh sites using Polygon.resample() or Polygon.buffer(eps) where eps is 0 or a small positive float.\n",
      "Malformed Voronoi cell surrounding boundary site 129. Try changing the number of boundary mesh sites using Polygon.resample() or Polygon.buffer(eps) where eps is 0 or a small positive float.\n",
      "Malformed Voronoi cell surrounding boundary site 134. Try changing the number of boundary mesh sites using Polygon.resample() or Polygon.buffer(eps) where eps is 0 or a small positive float.\n",
      "Malformed Voronoi cell surrounding boundary site 135. Try changing the number of boundary mesh sites using Polygon.resample() or Polygon.buffer(eps) where eps is 0 or a small positive float.\n",
      "Malformed Voronoi cell surrounding boundary site 143. Try changing the number of boundary mesh sites using Polygon.resample() or Polygon.buffer(eps) where eps is 0 or a small positive float.\n",
      "Malformed Voronoi cell surrounding boundary site 144. Try changing the number of boundary mesh sites using Polygon.resample() or Polygon.buffer(eps) where eps is 0 or a small positive float.\n",
      "Malformed Voronoi cell surrounding boundary site 177. Try changing the number of boundary mesh sites using Polygon.resample() or Polygon.buffer(eps) where eps is 0 or a small positive float.\n",
      "Malformed Voronoi cell surrounding boundary site 178. Try changing the number of boundary mesh sites using Polygon.resample() or Polygon.buffer(eps) where eps is 0 or a small positive float.\n",
      "Malformed Voronoi cell surrounding boundary site 179. Try changing the number of boundary mesh sites using Polygon.resample() or Polygon.buffer(eps) where eps is 0 or a small positive float.\n",
      "Malformed Voronoi cell surrounding boundary site 180. Try changing the number of boundary mesh sites using Polygon.resample() or Polygon.buffer(eps) where eps is 0 or a small positive float.\n",
      "Constructing Voronoi polygons:   1%|          | 186/32308 [00:00<00:36, 881.05it/s]Malformed Voronoi cell surrounding boundary site 195. Try changing the number of boundary mesh sites using Polygon.resample() or Polygon.buffer(eps) where eps is 0 or a small positive float.\n",
      "Malformed Voronoi cell surrounding boundary site 196. Try changing the number of boundary mesh sites using Polygon.resample() or Polygon.buffer(eps) where eps is 0 or a small positive float.\n",
      "Malformed Voronoi cell surrounding boundary site 205. Try changing the number of boundary mesh sites using Polygon.resample() or Polygon.buffer(eps) where eps is 0 or a small positive float.\n",
      "Malformed Voronoi cell surrounding boundary site 219. Try changing the number of boundary mesh sites using Polygon.resample() or Polygon.buffer(eps) where eps is 0 or a small positive float.\n",
      "Malformed Voronoi cell surrounding boundary site 235. Try changing the number of boundary mesh sites using Polygon.resample() or Polygon.buffer(eps) where eps is 0 or a small positive float.\n",
      "Malformed Voronoi cell surrounding boundary site 243. Try changing the number of boundary mesh sites using Polygon.resample() or Polygon.buffer(eps) where eps is 0 or a small positive float.\n",
      "Malformed Voronoi cell surrounding boundary site 249. Try changing the number of boundary mesh sites using Polygon.resample() or Polygon.buffer(eps) where eps is 0 or a small positive float.\n",
      "Malformed Voronoi cell surrounding boundary site 256. Try changing the number of boundary mesh sites using Polygon.resample() or Polygon.buffer(eps) where eps is 0 or a small positive float.\n",
      "Constructing Voronoi polygons:   1%|          | 275/32308 [00:00<00:39, 806.23it/s]Malformed Voronoi cell surrounding boundary site 279. Try changing the number of boundary mesh sites using Polygon.resample() or Polygon.buffer(eps) where eps is 0 or a small positive float.\n",
      "Malformed Voronoi cell surrounding boundary site 281. Try changing the number of boundary mesh sites using Polygon.resample() or Polygon.buffer(eps) where eps is 0 or a small positive float.\n",
      "Malformed Voronoi cell surrounding boundary site 282. Try changing the number of boundary mesh sites using Polygon.resample() or Polygon.buffer(eps) where eps is 0 or a small positive float.\n",
      "Malformed Voronoi cell surrounding boundary site 294. Try changing the number of boundary mesh sites using Polygon.resample() or Polygon.buffer(eps) where eps is 0 or a small positive float.\n",
      "Constructing Voronoi polygons: 100%|██████████| 32308/32308 [00:15<00:00, 2021.02it/s]\n"
     ]
    },
    {
     "name": "stdout",
     "output_type": "stream",
     "text": [
      "num_sites: 32308\n",
      "num_elements: 63875\n",
      "min_edge_length: 0.012533527810252824\n",
      "max_edge_length: 0.048685996714536744\n",
      "mean_edge_length: 0.028681380996189536\n",
      "min_area: 0.00014134567901234342\n",
      "max_area: 0.0014233124118623033\n",
      "mean_area: 0.0007000833151200054\n",
      "coherence_length: 0.1\n",
      "length_units: um\n"
     ]
    },
    {
     "name": "stderr",
     "output_type": "stream",
     "text": [
      "Constructing Voronoi polygons:   0%|          | 0/67166 [00:00<?, ?it/s]Malformed Voronoi cell surrounding boundary site 19. Try changing the number of boundary mesh sites using Polygon.resample() or Polygon.buffer(eps) where eps is 0 or a small positive float.\n",
      "Malformed Voronoi cell surrounding boundary site 47. Try changing the number of boundary mesh sites using Polygon.resample() or Polygon.buffer(eps) where eps is 0 or a small positive float.\n",
      "Constructing Voronoi polygons:   0%|          | 77/67166 [00:00<01:27, 764.79it/s]Malformed Voronoi cell surrounding boundary site 79. Try changing the number of boundary mesh sites using Polygon.resample() or Polygon.buffer(eps) where eps is 0 or a small positive float.\n",
      "Malformed Voronoi cell surrounding boundary site 109. Try changing the number of boundary mesh sites using Polygon.resample() or Polygon.buffer(eps) where eps is 0 or a small positive float.\n",
      "Malformed Voronoi cell surrounding boundary site 136. Try changing the number of boundary mesh sites using Polygon.resample() or Polygon.buffer(eps) where eps is 0 or a small positive float.\n",
      "Constructing Voronoi polygons:   0%|          | 159/67166 [00:00<01:24, 792.24it/s]Malformed Voronoi cell surrounding boundary site 184. Try changing the number of boundary mesh sites using Polygon.resample() or Polygon.buffer(eps) where eps is 0 or a small positive float.\n",
      "Malformed Voronoi cell surrounding boundary site 186. Try changing the number of boundary mesh sites using Polygon.resample() or Polygon.buffer(eps) where eps is 0 or a small positive float.\n",
      "Constructing Voronoi polygons:   0%|          | 242/67166 [00:00<01:23, 805.72it/s]Malformed Voronoi cell surrounding boundary site 252. Try changing the number of boundary mesh sites using Polygon.resample() or Polygon.buffer(eps) where eps is 0 or a small positive float.\n",
      "Constructing Voronoi polygons:  81%|████████▏ | 54591/67166 [00:26<00:05, 2129.08it/s]Malformed Voronoi cell surrounding boundary site 54769. Try changing the number of boundary mesh sites using Polygon.resample() or Polygon.buffer(eps) where eps is 0 or a small positive float.\n",
      "Constructing Voronoi polygons:  85%|████████▌ | 57263/67166 [00:27<00:04, 2171.64it/s]Malformed Voronoi cell surrounding boundary site 57441. Try changing the number of boundary mesh sites using Polygon.resample() or Polygon.buffer(eps) where eps is 0 or a small positive float.\n",
      "Constructing Voronoi polygons:  86%|████████▌ | 57704/67166 [00:27<00:04, 2184.57it/s]Malformed Voronoi cell surrounding boundary site 57881. Try changing the number of boundary mesh sites using Polygon.resample() or Polygon.buffer(eps) where eps is 0 or a small positive float.\n",
      "Malformed Voronoi cell surrounding boundary site 57885. Try changing the number of boundary mesh sites using Polygon.resample() or Polygon.buffer(eps) where eps is 0 or a small positive float.\n",
      "Constructing Voronoi polygons:  87%|████████▋ | 58137/67166 [00:27<00:04, 2110.51it/s]Malformed Voronoi cell surrounding boundary site 58230. Try changing the number of boundary mesh sites using Polygon.resample() or Polygon.buffer(eps) where eps is 0 or a small positive float.\n",
      "Constructing Voronoi polygons:  93%|█████████▎| 62764/67166 [00:29<00:02, 2186.39it/s]Malformed Voronoi cell surrounding boundary site 62847. Try changing the number of boundary mesh sites using Polygon.resample() or Polygon.buffer(eps) where eps is 0 or a small positive float.\n",
      "Constructing Voronoi polygons:  94%|█████████▍| 63202/67166 [00:30<00:01, 2176.45it/s]Malformed Voronoi cell surrounding boundary site 63242. Try changing the number of boundary mesh sites using Polygon.resample() or Polygon.buffer(eps) where eps is 0 or a small positive float.\n",
      "Constructing Voronoi polygons:  98%|█████████▊| 65889/67166 [00:31<00:00, 2054.78it/s]Malformed Voronoi cell surrounding boundary site 65926. Try changing the number of boundary mesh sites using Polygon.resample() or Polygon.buffer(eps) where eps is 0 or a small positive float.\n",
      "Constructing Voronoi polygons:  99%|█████████▉| 66339/67166 [00:31<00:00, 2132.64it/s]Malformed Voronoi cell surrounding boundary site 66482. Try changing the number of boundary mesh sites using Polygon.resample() or Polygon.buffer(eps) where eps is 0 or a small positive float.\n",
      "Constructing Voronoi polygons: 100%|█████████▉| 66963/67166 [00:31<00:00, 1926.13it/s]Malformed Voronoi cell surrounding boundary site 67062. Try changing the number of boundary mesh sites using Polygon.resample() or Polygon.buffer(eps) where eps is 0 or a small positive float.\n",
      "Constructing Voronoi polygons: 100%|██████████| 67166/67166 [00:32<00:00, 2097.12it/s]\n"
     ]
    },
    {
     "name": "stdout",
     "output_type": "stream",
     "text": [
      "num_sites: 67166\n",
      "num_elements: 133525\n",
      "min_edge_length: 0.012256164519200446\n",
      "max_edge_length: 0.050518466776575746\n",
      "mean_edge_length: 0.028946043651747258\n",
      "min_area: 0.00013393853640452074\n",
      "max_area: 0.0014569110076300298\n",
      "mean_area: 0.0007157308851791894\n",
      "coherence_length: 0.1\n",
      "length_units: um\n"
     ]
    },
    {
     "name": "stderr",
     "output_type": "stream",
     "text": [
      "Constructing Voronoi polygons:   0%|          | 0/119118 [00:00<?, ?it/s]Malformed Voronoi cell surrounding boundary site 5. Try changing the number of boundary mesh sites using Polygon.resample() or Polygon.buffer(eps) where eps is 0 or a small positive float.\n",
      "Malformed Voronoi cell surrounding boundary site 7. Try changing the number of boundary mesh sites using Polygon.resample() or Polygon.buffer(eps) where eps is 0 or a small positive float.\n",
      "Malformed Voronoi cell surrounding boundary site 14. Try changing the number of boundary mesh sites using Polygon.resample() or Polygon.buffer(eps) where eps is 0 or a small positive float.\n",
      "Malformed Voronoi cell surrounding boundary site 27. Try changing the number of boundary mesh sites using Polygon.resample() or Polygon.buffer(eps) where eps is 0 or a small positive float.\n",
      "Malformed Voronoi cell surrounding boundary site 33. Try changing the number of boundary mesh sites using Polygon.resample() or Polygon.buffer(eps) where eps is 0 or a small positive float.\n",
      "Malformed Voronoi cell surrounding boundary site 43. Try changing the number of boundary mesh sites using Polygon.resample() or Polygon.buffer(eps) where eps is 0 or a small positive float.\n",
      "Malformed Voronoi cell surrounding boundary site 48. Try changing the number of boundary mesh sites using Polygon.resample() or Polygon.buffer(eps) where eps is 0 or a small positive float.\n",
      "Malformed Voronoi cell surrounding boundary site 53. Try changing the number of boundary mesh sites using Polygon.resample() or Polygon.buffer(eps) where eps is 0 or a small positive float.\n",
      "Malformed Voronoi cell surrounding boundary site 61. Try changing the number of boundary mesh sites using Polygon.resample() or Polygon.buffer(eps) where eps is 0 or a small positive float.\n",
      "Malformed Voronoi cell surrounding boundary site 62. Try changing the number of boundary mesh sites using Polygon.resample() or Polygon.buffer(eps) where eps is 0 or a small positive float.\n",
      "Constructing Voronoi polygons:   0%|          | 66/119118 [00:00<03:04, 644.82it/s]Malformed Voronoi cell surrounding boundary site 70. Try changing the number of boundary mesh sites using Polygon.resample() or Polygon.buffer(eps) where eps is 0 or a small positive float.\n",
      "Malformed Voronoi cell surrounding boundary site 76. Try changing the number of boundary mesh sites using Polygon.resample() or Polygon.buffer(eps) where eps is 0 or a small positive float.\n",
      "Malformed Voronoi cell surrounding boundary site 78. Try changing the number of boundary mesh sites using Polygon.resample() or Polygon.buffer(eps) where eps is 0 or a small positive float.\n",
      "Malformed Voronoi cell surrounding boundary site 86. Try changing the number of boundary mesh sites using Polygon.resample() or Polygon.buffer(eps) where eps is 0 or a small positive float.\n",
      "Malformed Voronoi cell surrounding boundary site 96. Try changing the number of boundary mesh sites using Polygon.resample() or Polygon.buffer(eps) where eps is 0 or a small positive float.\n",
      "Malformed Voronoi cell surrounding boundary site 111. Try changing the number of boundary mesh sites using Polygon.resample() or Polygon.buffer(eps) where eps is 0 or a small positive float.\n",
      "Malformed Voronoi cell surrounding boundary site 114. Try changing the number of boundary mesh sites using Polygon.resample() or Polygon.buffer(eps) where eps is 0 or a small positive float.\n",
      "Malformed Voronoi cell surrounding boundary site 128. Try changing the number of boundary mesh sites using Polygon.resample() or Polygon.buffer(eps) where eps is 0 or a small positive float.\n",
      "Constructing Voronoi polygons:   0%|          | 131/119118 [00:00<03:06, 636.49it/s]Malformed Voronoi cell surrounding boundary site 133. Try changing the number of boundary mesh sites using Polygon.resample() or Polygon.buffer(eps) where eps is 0 or a small positive float.\n",
      "Malformed Voronoi cell surrounding boundary site 136. Try changing the number of boundary mesh sites using Polygon.resample() or Polygon.buffer(eps) where eps is 0 or a small positive float.\n",
      "Malformed Voronoi cell surrounding boundary site 137. Try changing the number of boundary mesh sites using Polygon.resample() or Polygon.buffer(eps) where eps is 0 or a small positive float.\n",
      "Malformed Voronoi cell surrounding boundary site 140. Try changing the number of boundary mesh sites using Polygon.resample() or Polygon.buffer(eps) where eps is 0 or a small positive float.\n",
      "Malformed Voronoi cell surrounding boundary site 145. Try changing the number of boundary mesh sites using Polygon.resample() or Polygon.buffer(eps) where eps is 0 or a small positive float.\n",
      "Malformed Voronoi cell surrounding boundary site 146. Try changing the number of boundary mesh sites using Polygon.resample() or Polygon.buffer(eps) where eps is 0 or a small positive float.\n",
      "Malformed Voronoi cell surrounding boundary site 148. Try changing the number of boundary mesh sites using Polygon.resample() or Polygon.buffer(eps) where eps is 0 or a small positive float.\n",
      "Malformed Voronoi cell surrounding boundary site 168. Try changing the number of boundary mesh sites using Polygon.resample() or Polygon.buffer(eps) where eps is 0 or a small positive float.\n",
      "Malformed Voronoi cell surrounding boundary site 172. Try changing the number of boundary mesh sites using Polygon.resample() or Polygon.buffer(eps) where eps is 0 or a small positive float.\n",
      "Malformed Voronoi cell surrounding boundary site 175. Try changing the number of boundary mesh sites using Polygon.resample() or Polygon.buffer(eps) where eps is 0 or a small positive float.\n",
      "Malformed Voronoi cell surrounding boundary site 178. Try changing the number of boundary mesh sites using Polygon.resample() or Polygon.buffer(eps) where eps is 0 or a small positive float.\n",
      "Malformed Voronoi cell surrounding boundary site 181. Try changing the number of boundary mesh sites using Polygon.resample() or Polygon.buffer(eps) where eps is 0 or a small positive float.\n",
      "Constructing Voronoi polygons:   0%|          | 195/119118 [00:00<03:18, 600.09it/s]Malformed Voronoi cell surrounding boundary site 199. Try changing the number of boundary mesh sites using Polygon.resample() or Polygon.buffer(eps) where eps is 0 or a small positive float.\n",
      "Malformed Voronoi cell surrounding boundary site 207. Try changing the number of boundary mesh sites using Polygon.resample() or Polygon.buffer(eps) where eps is 0 or a small positive float.\n",
      "Malformed Voronoi cell surrounding boundary site 226. Try changing the number of boundary mesh sites using Polygon.resample() or Polygon.buffer(eps) where eps is 0 or a small positive float.\n",
      "Malformed Voronoi cell surrounding boundary site 235. Try changing the number of boundary mesh sites using Polygon.resample() or Polygon.buffer(eps) where eps is 0 or a small positive float.\n",
      "Malformed Voronoi cell surrounding boundary site 248. Try changing the number of boundary mesh sites using Polygon.resample() or Polygon.buffer(eps) where eps is 0 or a small positive float.\n",
      "Constructing Voronoi polygons:   0%|          | 256/119118 [00:00<03:35, 550.75it/s]Malformed Voronoi cell surrounding boundary site 261. Try changing the number of boundary mesh sites using Polygon.resample() or Polygon.buffer(eps) where eps is 0 or a small positive float.\n",
      "Malformed Voronoi cell surrounding boundary site 266. Try changing the number of boundary mesh sites using Polygon.resample() or Polygon.buffer(eps) where eps is 0 or a small positive float.\n",
      "Malformed Voronoi cell surrounding boundary site 279. Try changing the number of boundary mesh sites using Polygon.resample() or Polygon.buffer(eps) where eps is 0 or a small positive float.\n",
      "Malformed Voronoi cell surrounding boundary site 287. Try changing the number of boundary mesh sites using Polygon.resample() or Polygon.buffer(eps) where eps is 0 or a small positive float.\n",
      "Constructing Voronoi polygons:   0%|          | 327/119118 [00:00<03:20, 591.84it/s]Malformed Voronoi cell surrounding boundary site 353. Try changing the number of boundary mesh sites using Polygon.resample() or Polygon.buffer(eps) where eps is 0 or a small positive float.\n",
      "Malformed Voronoi cell surrounding boundary site 358. Try changing the number of boundary mesh sites using Polygon.resample() or Polygon.buffer(eps) where eps is 0 or a small positive float.\n",
      "Malformed Voronoi cell surrounding boundary site 381. Try changing the number of boundary mesh sites using Polygon.resample() or Polygon.buffer(eps) where eps is 0 or a small positive float.\n",
      "Constructing Voronoi polygons:   0%|          | 394/119118 [00:00<03:14, 610.96it/s]Malformed Voronoi cell surrounding boundary site 395. Try changing the number of boundary mesh sites using Polygon.resample() or Polygon.buffer(eps) where eps is 0 or a small positive float.\n",
      "Constructing Voronoi polygons:   0%|          | 543/119118 [00:00<02:15, 873.25it/s]Malformed Voronoi cell surrounding boundary site 580. Try changing the number of boundary mesh sites using Polygon.resample() or Polygon.buffer(eps) where eps is 0 or a small positive float.\n",
      "Constructing Voronoi polygons:   3%|▎         | 3963/119118 [00:02<01:10, 1641.31it/s]Malformed Voronoi cell surrounding boundary site 4087. Try changing the number of boundary mesh sites using Polygon.resample() or Polygon.buffer(eps) where eps is 0 or a small positive float.\n",
      "Constructing Voronoi polygons:   5%|▍         | 5497/119118 [00:03<00:59, 1914.16it/s]Malformed Voronoi cell surrounding boundary site 5618. Try changing the number of boundary mesh sites using Polygon.resample() or Polygon.buffer(eps) where eps is 0 or a small positive float.\n",
      "Constructing Voronoi polygons:   9%|▉         | 10512/119118 [00:06<01:00, 1804.49it/s]Malformed Voronoi cell surrounding boundary site 10687. Try changing the number of boundary mesh sites using Polygon.resample() or Polygon.buffer(eps) where eps is 0 or a small positive float.\n",
      "Constructing Voronoi polygons:  15%|█▌        | 18011/119118 [00:10<01:07, 1495.74it/s]Malformed Voronoi cell surrounding boundary site 18040. Try changing the number of boundary mesh sites using Polygon.resample() or Polygon.buffer(eps) where eps is 0 or a small positive float.\n",
      "Constructing Voronoi polygons:  19%|█▊        | 22102/119118 [00:12<00:54, 1778.87it/s]Malformed Voronoi cell surrounding boundary site 22225. Try changing the number of boundary mesh sites using Polygon.resample() or Polygon.buffer(eps) where eps is 0 or a small positive float.\n",
      "Constructing Voronoi polygons:  55%|█████▌    | 66038/119118 [00:34<00:26, 2016.08it/s]Malformed Voronoi cell surrounding boundary site 66101. Try changing the number of boundary mesh sites using Polygon.resample() or Polygon.buffer(eps) where eps is 0 or a small positive float.\n",
      "Constructing Voronoi polygons:  56%|█████▌    | 66907/119118 [00:34<00:24, 2131.15it/s]Malformed Voronoi cell surrounding boundary site 67075. Try changing the number of boundary mesh sites using Polygon.resample() or Polygon.buffer(eps) where eps is 0 or a small positive float.\n",
      "Constructing Voronoi polygons:  76%|███████▌  | 90800/119118 [00:48<00:17, 1610.41it/s]Malformed Voronoi cell surrounding boundary site 90801. Try changing the number of boundary mesh sites using Polygon.resample() or Polygon.buffer(eps) where eps is 0 or a small positive float.\n",
      "Constructing Voronoi polygons:  77%|███████▋  | 91455/119118 [00:48<00:18, 1472.20it/s]Malformed Voronoi cell surrounding boundary site 91607. Try changing the number of boundary mesh sites using Polygon.resample() or Polygon.buffer(eps) where eps is 0 or a small positive float.\n",
      "Constructing Voronoi polygons:  80%|████████  | 95526/119118 [00:51<00:12, 1835.71it/s]Malformed Voronoi cell surrounding boundary site 95575. Try changing the number of boundary mesh sites using Polygon.resample() or Polygon.buffer(eps) where eps is 0 or a small positive float.\n",
      "Constructing Voronoi polygons:  81%|████████  | 96596/119118 [00:52<00:13, 1624.89it/s]Malformed Voronoi cell surrounding boundary site 96615. Try changing the number of boundary mesh sites using Polygon.resample() or Polygon.buffer(eps) where eps is 0 or a small positive float.\n",
      "Constructing Voronoi polygons:  82%|████████▏ | 97106/119118 [00:52<00:13, 1658.74it/s]Malformed Voronoi cell surrounding boundary site 97196. Try changing the number of boundary mesh sites using Polygon.resample() or Polygon.buffer(eps) where eps is 0 or a small positive float.\n",
      "Constructing Voronoi polygons:  82%|████████▏ | 97820/119118 [00:52<00:12, 1664.39it/s]Malformed Voronoi cell surrounding boundary site 97899. Try changing the number of boundary mesh sites using Polygon.resample() or Polygon.buffer(eps) where eps is 0 or a small positive float.\n",
      "Constructing Voronoi polygons:  83%|████████▎ | 98729/119118 [00:53<00:11, 1783.13it/s]Malformed Voronoi cell surrounding boundary site 98740. Try changing the number of boundary mesh sites using Polygon.resample() or Polygon.buffer(eps) where eps is 0 or a small positive float.\n",
      "Constructing Voronoi polygons:  84%|████████▎ | 99486/119118 [00:53<00:10, 1834.74it/s]Malformed Voronoi cell surrounding boundary site 99528. Try changing the number of boundary mesh sites using Polygon.resample() or Polygon.buffer(eps) where eps is 0 or a small positive float.\n",
      "Malformed Voronoi cell surrounding boundary site 99587. Try changing the number of boundary mesh sites using Polygon.resample() or Polygon.buffer(eps) where eps is 0 or a small positive float.\n",
      "Constructing Voronoi polygons:  84%|████████▎ | 99670/119118 [00:53<00:10, 1800.81it/s]Malformed Voronoi cell surrounding boundary site 99842. Try changing the number of boundary mesh sites using Polygon.resample() or Polygon.buffer(eps) where eps is 0 or a small positive float.\n",
      "Constructing Voronoi polygons:  85%|████████▌ | 101575/119118 [00:55<00:09, 1843.68it/s]Malformed Voronoi cell surrounding boundary site 101594. Try changing the number of boundary mesh sites using Polygon.resample() or Polygon.buffer(eps) where eps is 0 or a small positive float.\n",
      "Constructing Voronoi polygons:  85%|████████▌ | 101761/119118 [00:55<00:09, 1779.20it/s]Malformed Voronoi cell surrounding boundary site 101902. Try changing the number of boundary mesh sites using Polygon.resample() or Polygon.buffer(eps) where eps is 0 or a small positive float.\n",
      "Malformed Voronoi cell surrounding boundary site 101908. Try changing the number of boundary mesh sites using Polygon.resample() or Polygon.buffer(eps) where eps is 0 or a small positive float.\n",
      "Constructing Voronoi polygons:  86%|████████▌ | 102691/119118 [00:55<00:09, 1813.06it/s]Malformed Voronoi cell surrounding boundary site 102834. Try changing the number of boundary mesh sites using Polygon.resample() or Polygon.buffer(eps) where eps is 0 or a small positive float.\n",
      "Constructing Voronoi polygons:  87%|████████▋ | 103051/119118 [00:55<00:09, 1723.30it/s]Malformed Voronoi cell surrounding boundary site 103165. Try changing the number of boundary mesh sites using Polygon.resample() or Polygon.buffer(eps) where eps is 0 or a small positive float.\n",
      "Constructing Voronoi polygons:  87%|████████▋ | 103409/119118 [00:56<00:09, 1714.33it/s]Malformed Voronoi cell surrounding boundary site 103576. Try changing the number of boundary mesh sites using Polygon.resample() or Polygon.buffer(eps) where eps is 0 or a small positive float.\n",
      "Malformed Voronoi cell surrounding boundary site 103584. Try changing the number of boundary mesh sites using Polygon.resample() or Polygon.buffer(eps) where eps is 0 or a small positive float.\n",
      "Constructing Voronoi polygons:  87%|████████▋ | 103793/119118 [00:56<00:08, 1753.09it/s]Malformed Voronoi cell surrounding boundary site 103907. Try changing the number of boundary mesh sites using Polygon.resample() or Polygon.buffer(eps) where eps is 0 or a small positive float.\n",
      "Constructing Voronoi polygons:  88%|████████▊ | 105139/119118 [00:57<00:07, 1843.53it/s]Malformed Voronoi cell surrounding boundary site 105186. Try changing the number of boundary mesh sites using Polygon.resample() or Polygon.buffer(eps) where eps is 0 or a small positive float.\n",
      "Constructing Voronoi polygons:  88%|████████▊ | 105324/119118 [00:57<00:11, 1154.38it/s]Malformed Voronoi cell surrounding boundary site 105369. Try changing the number of boundary mesh sites using Polygon.resample() or Polygon.buffer(eps) where eps is 0 or a small positive float.\n",
      "Constructing Voronoi polygons:  91%|█████████ | 107821/119118 [00:58<00:06, 1749.21it/s]Malformed Voronoi cell surrounding boundary site 107907. Try changing the number of boundary mesh sites using Polygon.resample() or Polygon.buffer(eps) where eps is 0 or a small positive float.\n",
      "Malformed Voronoi cell surrounding boundary site 107925. Try changing the number of boundary mesh sites using Polygon.resample() or Polygon.buffer(eps) where eps is 0 or a small positive float.\n",
      "Constructing Voronoi polygons:  91%|█████████ | 108353/119118 [00:59<00:06, 1689.44it/s]Malformed Voronoi cell surrounding boundary site 108360. Try changing the number of boundary mesh sites using Polygon.resample() or Polygon.buffer(eps) where eps is 0 or a small positive float.\n",
      "Constructing Voronoi polygons:  94%|█████████▎| 111520/119118 [01:01<00:04, 1543.41it/s]Malformed Voronoi cell surrounding boundary site 111668. Try changing the number of boundary mesh sites using Polygon.resample() or Polygon.buffer(eps) where eps is 0 or a small positive float.\n",
      "Malformed Voronoi cell surrounding boundary site 111679. Try changing the number of boundary mesh sites using Polygon.resample() or Polygon.buffer(eps) where eps is 0 or a small positive float.\n",
      "Constructing Voronoi polygons:  94%|█████████▍| 111680/119118 [01:01<00:04, 1558.44it/s]Malformed Voronoi cell surrounding boundary site 111791. Try changing the number of boundary mesh sites using Polygon.resample() or Polygon.buffer(eps) where eps is 0 or a small positive float.\n",
      "Constructing Voronoi polygons:  94%|█████████▍| 112307/119118 [01:01<00:04, 1513.28it/s]Malformed Voronoi cell surrounding boundary site 112447. Try changing the number of boundary mesh sites using Polygon.resample() or Polygon.buffer(eps) where eps is 0 or a small positive float.\n",
      "Constructing Voronoi polygons:  95%|█████████▍| 112811/119118 [01:02<00:03, 1620.49it/s]Malformed Voronoi cell surrounding boundary site 112928. Try changing the number of boundary mesh sites using Polygon.resample() or Polygon.buffer(eps) where eps is 0 or a small positive float.\n",
      "Constructing Voronoi polygons: 100%|██████████| 119118/119118 [01:06<00:00, 1798.85it/s]\n"
     ]
    },
    {
     "name": "stdout",
     "output_type": "stream",
     "text": [
      "num_sites: 119118\n",
      "num_elements: 236974\n",
      "min_edge_length: 0.011936702207268038\n",
      "max_edge_length: 0.052253867842040225\n",
      "mean_edge_length: 0.028538278545318606\n",
      "min_area: 0.00014006702713500248\n",
      "max_area: 0.0015944497606878497\n",
      "mean_area: 0.0006969573219185996\n",
      "coherence_length: 0.1\n",
      "length_units: um\n"
     ]
    },
    {
     "name": "stderr",
     "output_type": "stream",
     "text": [
      "Constructing Voronoi polygons:   0%|          | 74/214644 [00:00<04:51, 737.26it/s]Malformed Voronoi cell surrounding boundary site 112. Try changing the number of boundary mesh sites using Polygon.resample() or Polygon.buffer(eps) where eps is 0 or a small positive float.\n",
      "Malformed Voronoi cell surrounding boundary site 125. Try changing the number of boundary mesh sites using Polygon.resample() or Polygon.buffer(eps) where eps is 0 or a small positive float.\n",
      "Constructing Voronoi polygons:   0%|          | 148/214644 [00:00<04:57, 720.08it/s]Malformed Voronoi cell surrounding boundary site 149. Try changing the number of boundary mesh sites using Polygon.resample() or Polygon.buffer(eps) where eps is 0 or a small positive float.\n",
      "Malformed Voronoi cell surrounding boundary site 155. Try changing the number of boundary mesh sites using Polygon.resample() or Polygon.buffer(eps) where eps is 0 or a small positive float.\n",
      "Malformed Voronoi cell surrounding boundary site 160. Try changing the number of boundary mesh sites using Polygon.resample() or Polygon.buffer(eps) where eps is 0 or a small positive float.\n",
      "Constructing Voronoi polygons:  60%|█████▉    | 128269/214644 [01:33<00:46, 1874.25it/s]Malformed Voronoi cell surrounding boundary site 128367. Try changing the number of boundary mesh sites using Polygon.resample() or Polygon.buffer(eps) where eps is 0 or a small positive float.\n",
      "Malformed Voronoi cell surrounding boundary site 128391. Try changing the number of boundary mesh sites using Polygon.resample() or Polygon.buffer(eps) where eps is 0 or a small positive float.\n",
      "Constructing Voronoi polygons:  82%|████████▏ | 175007/214644 [01:59<00:24, 1638.01it/s]Malformed Voronoi cell surrounding boundary site 175130. Try changing the number of boundary mesh sites using Polygon.resample() or Polygon.buffer(eps) where eps is 0 or a small positive float.\n",
      "Constructing Voronoi polygons:  84%|████████▍ | 180602/214644 [02:03<00:20, 1658.88it/s]Malformed Voronoi cell surrounding boundary site 180619. Try changing the number of boundary mesh sites using Polygon.resample() or Polygon.buffer(eps) where eps is 0 or a small positive float.\n",
      "Constructing Voronoi polygons:  86%|████████▌ | 184130/214644 [02:05<00:19, 1532.78it/s]Malformed Voronoi cell surrounding boundary site 184136. Try changing the number of boundary mesh sites using Polygon.resample() or Polygon.buffer(eps) where eps is 0 or a small positive float.\n",
      "Constructing Voronoi polygons:  88%|████████▊ | 188717/214644 [02:08<00:16, 1603.77it/s]Malformed Voronoi cell surrounding boundary site 188847. Try changing the number of boundary mesh sites using Polygon.resample() or Polygon.buffer(eps) where eps is 0 or a small positive float.\n",
      "Constructing Voronoi polygons:  88%|████████▊ | 189536/214644 [02:08<00:15, 1587.19it/s]Malformed Voronoi cell surrounding boundary site 189685. Try changing the number of boundary mesh sites using Polygon.resample() or Polygon.buffer(eps) where eps is 0 or a small positive float.\n",
      "Constructing Voronoi polygons:  89%|████████▊ | 190212/214644 [02:09<00:15, 1554.89it/s]Malformed Voronoi cell surrounding boundary site 190238. Try changing the number of boundary mesh sites using Polygon.resample() or Polygon.buffer(eps) where eps is 0 or a small positive float.\n",
      "Constructing Voronoi polygons:  92%|█████████▏| 196607/214644 [02:13<00:10, 1659.91it/s]Malformed Voronoi cell surrounding boundary site 196670. Try changing the number of boundary mesh sites using Polygon.resample() or Polygon.buffer(eps) where eps is 0 or a small positive float.\n",
      "Constructing Voronoi polygons:  93%|█████████▎| 198792/214644 [02:14<00:09, 1633.85it/s]Malformed Voronoi cell surrounding boundary site 198799. Try changing the number of boundary mesh sites using Polygon.resample() or Polygon.buffer(eps) where eps is 0 or a small positive float.\n",
      "Malformed Voronoi cell surrounding boundary site 198824. Try changing the number of boundary mesh sites using Polygon.resample() or Polygon.buffer(eps) where eps is 0 or a small positive float.\n",
      "Constructing Voronoi polygons:  94%|█████████▍| 202101/214644 [02:16<00:08, 1520.85it/s]Malformed Voronoi cell surrounding boundary site 202225. Try changing the number of boundary mesh sites using Polygon.resample() or Polygon.buffer(eps) where eps is 0 or a small positive float.\n",
      "Constructing Voronoi polygons:  97%|█████████▋| 209246/214644 [02:20<00:03, 1666.28it/s]Malformed Voronoi cell surrounding boundary site 209321. Try changing the number of boundary mesh sites using Polygon.resample() or Polygon.buffer(eps) where eps is 0 or a small positive float.\n",
      "Constructing Voronoi polygons: 100%|██████████| 214644/214644 [02:24<00:00, 1486.87it/s]\n"
     ]
    },
    {
     "name": "stdout",
     "output_type": "stream",
     "text": [
      "num_sites: 214644\n",
      "num_elements: 427686\n",
      "min_edge_length: 0.010530232728999174\n",
      "max_edge_length: 0.04669563497810395\n",
      "mean_edge_length: 0.026322773611336506\n",
      "min_area: 0.0001501426696088008\n",
      "max_area: 0.0013784515249139057\n",
      "mean_area: 0.0005937334961513387\n",
      "coherence_length: 0.1\n",
      "length_units: um\n"
     ]
    },
    {
     "name": "stderr",
     "output_type": "stream",
     "text": [
      "Constructing Voronoi polygons:   0%|          | 0/254273 [00:00<?, ?it/s]Malformed Voronoi cell surrounding boundary site 55. Try changing the number of boundary mesh sites using Polygon.resample() or Polygon.buffer(eps) where eps is 0 or a small positive float.\n",
      "Constructing Voronoi polygons:   0%|          | 60/254273 [00:00<07:13, 586.10it/s]Malformed Voronoi cell surrounding boundary site 77. Try changing the number of boundary mesh sites using Polygon.resample() or Polygon.buffer(eps) where eps is 0 or a small positive float.\n",
      "Constructing Voronoi polygons:   0%|          | 179/254273 [00:00<07:09, 591.94it/s]Malformed Voronoi cell surrounding boundary site 238. Try changing the number of boundary mesh sites using Polygon.resample() or Polygon.buffer(eps) where eps is 0 or a small positive float.\n",
      "Constructing Voronoi polygons:  17%|█▋        | 42337/254273 [00:25<01:52, 1881.36it/s]Malformed Voronoi cell surrounding boundary site 42400. Try changing the number of boundary mesh sites using Polygon.resample() or Polygon.buffer(eps) where eps is 0 or a small positive float.\n",
      "Constructing Voronoi polygons:  35%|███▍      | 88063/254273 [00:49<01:28, 1881.05it/s]Malformed Voronoi cell surrounding boundary site 88264. Try changing the number of boundary mesh sites using Polygon.resample() or Polygon.buffer(eps) where eps is 0 or a small positive float.\n",
      "Constructing Voronoi polygons:  73%|███████▎  | 186110/254273 [01:43<00:39, 1714.62it/s]Malformed Voronoi cell surrounding boundary site 186206. Try changing the number of boundary mesh sites using Polygon.resample() or Polygon.buffer(eps) where eps is 0 or a small positive float.\n",
      "Constructing Voronoi polygons:  74%|███████▍  | 188474/254273 [01:45<00:35, 1837.78it/s]Malformed Voronoi cell surrounding boundary site 188545. Try changing the number of boundary mesh sites using Polygon.resample() or Polygon.buffer(eps) where eps is 0 or a small positive float.\n",
      "Constructing Voronoi polygons:  74%|███████▍  | 188846/254273 [01:45<00:36, 1811.22it/s]Malformed Voronoi cell surrounding boundary site 188985. Try changing the number of boundary mesh sites using Polygon.resample() or Polygon.buffer(eps) where eps is 0 or a small positive float.\n",
      "Constructing Voronoi polygons:  81%|████████  | 204940/254273 [01:54<00:26, 1870.49it/s]Malformed Voronoi cell surrounding boundary site 205050. Try changing the number of boundary mesh sites using Polygon.resample() or Polygon.buffer(eps) where eps is 0 or a small positive float.\n",
      "Constructing Voronoi polygons:  86%|████████▌ | 218683/254273 [02:01<00:19, 1818.43it/s]Malformed Voronoi cell surrounding boundary site 218754. Try changing the number of boundary mesh sites using Polygon.resample() or Polygon.buffer(eps) where eps is 0 or a small positive float.\n",
      "Constructing Voronoi polygons:  87%|████████▋ | 220785/254273 [02:02<00:18, 1778.84it/s]Malformed Voronoi cell surrounding boundary site 220785. Try changing the number of boundary mesh sites using Polygon.resample() or Polygon.buffer(eps) where eps is 0 or a small positive float.\n",
      "Constructing Voronoi polygons:  89%|████████▉ | 225790/254273 [02:05<00:15, 1839.93it/s]Malformed Voronoi cell surrounding boundary site 225888. Try changing the number of boundary mesh sites using Polygon.resample() or Polygon.buffer(eps) where eps is 0 or a small positive float.\n",
      "Constructing Voronoi polygons:  91%|█████████ | 231360/254273 [02:08<00:12, 1874.85it/s]Malformed Voronoi cell surrounding boundary site 231440. Try changing the number of boundary mesh sites using Polygon.resample() or Polygon.buffer(eps) where eps is 0 or a small positive float.\n",
      "Constructing Voronoi polygons:  92%|█████████▏| 234021/254273 [02:10<00:11, 1833.19it/s]Malformed Voronoi cell surrounding boundary site 234187. Try changing the number of boundary mesh sites using Polygon.resample() or Polygon.buffer(eps) where eps is 0 or a small positive float.\n",
      "Constructing Voronoi polygons:  92%|█████████▏| 234380/254273 [02:10<00:11, 1714.88it/s]Malformed Voronoi cell surrounding boundary site 234429. Try changing the number of boundary mesh sites using Polygon.resample() or Polygon.buffer(eps) where eps is 0 or a small positive float.\n",
      "Constructing Voronoi polygons:  98%|█████████▊| 249656/254273 [02:18<00:02, 1873.96it/s]Malformed Voronoi cell surrounding boundary site 249723. Try changing the number of boundary mesh sites using Polygon.resample() or Polygon.buffer(eps) where eps is 0 or a small positive float.\n",
      "Constructing Voronoi polygons:  99%|█████████▉| 251280/254273 [02:19<00:01, 1708.19it/s]Malformed Voronoi cell surrounding boundary site 251343. Try changing the number of boundary mesh sites using Polygon.resample() or Polygon.buffer(eps) where eps is 0 or a small positive float.\n",
      "Constructing Voronoi polygons:  99%|█████████▉| 252650/254273 [02:20<00:00, 1926.43it/s]Malformed Voronoi cell surrounding boundary site 252764. Try changing the number of boundary mesh sites using Polygon.resample() or Polygon.buffer(eps) where eps is 0 or a small positive float.\n",
      "Constructing Voronoi polygons: 100%|█████████▉| 254042/254273 [02:21<00:00, 1935.20it/s]Malformed Voronoi cell surrounding boundary site 254061. Try changing the number of boundary mesh sites using Polygon.resample() or Polygon.buffer(eps) where eps is 0 or a small positive float.\n",
      "Constructing Voronoi polygons: 100%|██████████| 254273/254273 [02:21<00:00, 1799.73it/s]\n"
     ]
    },
    {
     "name": "stdout",
     "output_type": "stream",
     "text": [
      "num_sites: 254273\n",
      "num_elements: 506942\n",
      "min_edge_length: 0.011715237094759362\n",
      "max_edge_length: 0.05252565889196586\n",
      "mean_edge_length: 0.02884400185136501\n",
      "min_area: 0.00014714421066152635\n",
      "max_area: 0.0015777787699438775\n",
      "mean_area: 0.0007132273560086943\n",
      "coherence_length: 0.1\n",
      "length_units: um\n"
     ]
    },
    {
     "name": "stderr",
     "output_type": "stream",
     "text": [
      "Constructing Voronoi polygons:   0%|          | 0/355842 [00:00<?, ?it/s]Malformed Voronoi cell surrounding boundary site 7. Try changing the number of boundary mesh sites using Polygon.resample() or Polygon.buffer(eps) where eps is 0 or a small positive float.\n",
      "Malformed Voronoi cell surrounding boundary site 14. Try changing the number of boundary mesh sites using Polygon.resample() or Polygon.buffer(eps) where eps is 0 or a small positive float.\n",
      "Malformed Voronoi cell surrounding boundary site 21. Try changing the number of boundary mesh sites using Polygon.resample() or Polygon.buffer(eps) where eps is 0 or a small positive float.\n",
      "Malformed Voronoi cell surrounding boundary site 42. Try changing the number of boundary mesh sites using Polygon.resample() or Polygon.buffer(eps) where eps is 0 or a small positive float.\n",
      "Malformed Voronoi cell surrounding boundary site 47. Try changing the number of boundary mesh sites using Polygon.resample() or Polygon.buffer(eps) where eps is 0 or a small positive float.\n",
      "Malformed Voronoi cell surrounding boundary site 53. Try changing the number of boundary mesh sites using Polygon.resample() or Polygon.buffer(eps) where eps is 0 or a small positive float.\n",
      "Malformed Voronoi cell surrounding boundary site 56. Try changing the number of boundary mesh sites using Polygon.resample() or Polygon.buffer(eps) where eps is 0 or a small positive float.\n",
      "Malformed Voronoi cell surrounding boundary site 60. Try changing the number of boundary mesh sites using Polygon.resample() or Polygon.buffer(eps) where eps is 0 or a small positive float.\n",
      "Constructing Voronoi polygons:   0%|          | 70/355842 [00:00<08:32, 694.84it/s]Malformed Voronoi cell surrounding boundary site 70. Try changing the number of boundary mesh sites using Polygon.resample() or Polygon.buffer(eps) where eps is 0 or a small positive float.\n",
      "Malformed Voronoi cell surrounding boundary site 81. Try changing the number of boundary mesh sites using Polygon.resample() or Polygon.buffer(eps) where eps is 0 or a small positive float.\n",
      "Malformed Voronoi cell surrounding boundary site 83. Try changing the number of boundary mesh sites using Polygon.resample() or Polygon.buffer(eps) where eps is 0 or a small positive float.\n",
      "Malformed Voronoi cell surrounding boundary site 90. Try changing the number of boundary mesh sites using Polygon.resample() or Polygon.buffer(eps) where eps is 0 or a small positive float.\n",
      "Malformed Voronoi cell surrounding boundary site 96. Try changing the number of boundary mesh sites using Polygon.resample() or Polygon.buffer(eps) where eps is 0 or a small positive float.\n",
      "Malformed Voronoi cell surrounding boundary site 98. Try changing the number of boundary mesh sites using Polygon.resample() or Polygon.buffer(eps) where eps is 0 or a small positive float.\n",
      "Malformed Voronoi cell surrounding boundary site 109. Try changing the number of boundary mesh sites using Polygon.resample() or Polygon.buffer(eps) where eps is 0 or a small positive float.\n",
      "Malformed Voronoi cell surrounding boundary site 130. Try changing the number of boundary mesh sites using Polygon.resample() or Polygon.buffer(eps) where eps is 0 or a small positive float.\n",
      "Malformed Voronoi cell surrounding boundary site 135. Try changing the number of boundary mesh sites using Polygon.resample() or Polygon.buffer(eps) where eps is 0 or a small positive float.\n",
      "Malformed Voronoi cell surrounding boundary site 139. Try changing the number of boundary mesh sites using Polygon.resample() or Polygon.buffer(eps) where eps is 0 or a small positive float.\n",
      "Constructing Voronoi polygons:   0%|          | 142/355842 [00:00<08:28, 699.94it/s]Malformed Voronoi cell surrounding boundary site 173. Try changing the number of boundary mesh sites using Polygon.resample() or Polygon.buffer(eps) where eps is 0 or a small positive float.\n",
      "Malformed Voronoi cell surrounding boundary site 176. Try changing the number of boundary mesh sites using Polygon.resample() or Polygon.buffer(eps) where eps is 0 or a small positive float.\n",
      "Malformed Voronoi cell surrounding boundary site 180. Try changing the number of boundary mesh sites using Polygon.resample() or Polygon.buffer(eps) where eps is 0 or a small positive float.\n",
      "Malformed Voronoi cell surrounding boundary site 187. Try changing the number of boundary mesh sites using Polygon.resample() or Polygon.buffer(eps) where eps is 0 or a small positive float.\n",
      "Malformed Voronoi cell surrounding boundary site 197. Try changing the number of boundary mesh sites using Polygon.resample() or Polygon.buffer(eps) where eps is 0 or a small positive float.\n",
      "Malformed Voronoi cell surrounding boundary site 198. Try changing the number of boundary mesh sites using Polygon.resample() or Polygon.buffer(eps) where eps is 0 or a small positive float.\n",
      "Constructing Voronoi polygons:   0%|          | 212/355842 [00:00<08:42, 679.99it/s]Malformed Voronoi cell surrounding boundary site 242. Try changing the number of boundary mesh sites using Polygon.resample() or Polygon.buffer(eps) where eps is 0 or a small positive float.\n",
      "Malformed Voronoi cell surrounding boundary site 255. Try changing the number of boundary mesh sites using Polygon.resample() or Polygon.buffer(eps) where eps is 0 or a small positive float.\n",
      "Malformed Voronoi cell surrounding boundary site 265. Try changing the number of boundary mesh sites using Polygon.resample() or Polygon.buffer(eps) where eps is 0 or a small positive float.\n",
      "Constructing Voronoi polygons:   0%|          | 283/355842 [00:00<08:36, 688.68it/s]Malformed Voronoi cell surrounding boundary site 296. Try changing the number of boundary mesh sites using Polygon.resample() or Polygon.buffer(eps) where eps is 0 or a small positive float.\n",
      "Constructing Voronoi polygons:   0%|          | 361/355842 [00:00<08:25, 703.17it/s]Malformed Voronoi cell surrounding boundary site 367. Try changing the number of boundary mesh sites using Polygon.resample() or Polygon.buffer(eps) where eps is 0 or a small positive float.\n",
      "Malformed Voronoi cell surrounding boundary site 369. Try changing the number of boundary mesh sites using Polygon.resample() or Polygon.buffer(eps) where eps is 0 or a small positive float.\n",
      "Malformed Voronoi cell surrounding boundary site 445. Try changing the number of boundary mesh sites using Polygon.resample() or Polygon.buffer(eps) where eps is 0 or a small positive float.\n",
      "Malformed Voronoi cell surrounding boundary site 466. Try changing the number of boundary mesh sites using Polygon.resample() or Polygon.buffer(eps) where eps is 0 or a small positive float.\n",
      "Constructing Voronoi polygons:   0%|          | 1161/355842 [00:01<03:58, 1489.27it/s]Malformed Voronoi cell surrounding boundary site 1325. Try changing the number of boundary mesh sites using Polygon.resample() or Polygon.buffer(eps) where eps is 0 or a small positive float.\n",
      "Constructing Voronoi polygons:   0%|          | 1538/355842 [00:01<03:28, 1700.84it/s]Malformed Voronoi cell surrounding boundary site 1553. Try changing the number of boundary mesh sites using Polygon.resample() or Polygon.buffer(eps) where eps is 0 or a small positive float.\n",
      "Constructing Voronoi polygons:   1%|          | 4403/355842 [00:02<03:15, 1802.06it/s]Malformed Voronoi cell surrounding boundary site 4544. Try changing the number of boundary mesh sites using Polygon.resample() or Polygon.buffer(eps) where eps is 0 or a small positive float.\n",
      "Constructing Voronoi polygons:   2%|▏         | 6271/355842 [00:03<03:08, 1853.89it/s]Malformed Voronoi cell surrounding boundary site 6344. Try changing the number of boundary mesh sites using Polygon.resample() or Polygon.buffer(eps) where eps is 0 or a small positive float.\n",
      "Constructing Voronoi polygons:   3%|▎         | 11468/355842 [00:06<03:02, 1886.67it/s]Malformed Voronoi cell surrounding boundary site 11567. Try changing the number of boundary mesh sites using Polygon.resample() or Polygon.buffer(eps) where eps is 0 or a small positive float.\n",
      "Constructing Voronoi polygons:  10%|▉         | 34667/355842 [00:19<02:49, 1893.96it/s]Malformed Voronoi cell surrounding boundary site 34811. Try changing the number of boundary mesh sites using Polygon.resample() or Polygon.buffer(eps) where eps is 0 or a small positive float.\n",
      "Constructing Voronoi polygons:  13%|█▎        | 46311/355842 [00:26<02:52, 1795.35it/s]Malformed Voronoi cell surrounding boundary site 46330. Try changing the number of boundary mesh sites using Polygon.resample() or Polygon.buffer(eps) where eps is 0 or a small positive float.\n",
      "Constructing Voronoi polygons:  14%|█▍        | 50491/355842 [00:28<02:53, 1763.57it/s]Malformed Voronoi cell surrounding boundary site 50591. Try changing the number of boundary mesh sites using Polygon.resample() or Polygon.buffer(eps) where eps is 0 or a small positive float.\n",
      "Constructing Voronoi polygons:  21%|██        | 75504/355842 [00:42<02:47, 1677.22it/s]Malformed Voronoi cell surrounding boundary site 75509. Try changing the number of boundary mesh sites using Polygon.resample() or Polygon.buffer(eps) where eps is 0 or a small positive float.\n",
      "Constructing Voronoi polygons:  21%|██▏       | 75673/355842 [00:42<02:51, 1638.18it/s]Malformed Voronoi cell surrounding boundary site 75710. Try changing the number of boundary mesh sites using Polygon.resample() or Polygon.buffer(eps) where eps is 0 or a small positive float.\n",
      "Constructing Voronoi polygons:  24%|██▍       | 86034/355842 [00:48<02:34, 1751.34it/s]Malformed Voronoi cell surrounding boundary site 86126. Try changing the number of boundary mesh sites using Polygon.resample() or Polygon.buffer(eps) where eps is 0 or a small positive float.\n",
      "Constructing Voronoi polygons:  26%|██▌       | 91458/355842 [00:51<02:50, 1550.63it/s]Malformed Voronoi cell surrounding boundary site 91534. Try changing the number of boundary mesh sites using Polygon.resample() or Polygon.buffer(eps) where eps is 0 or a small positive float.\n",
      "Constructing Voronoi polygons:  31%|███       | 108630/355842 [01:01<02:17, 1792.29it/s]Malformed Voronoi cell surrounding boundary site 108772. Try changing the number of boundary mesh sites using Polygon.resample() or Polygon.buffer(eps) where eps is 0 or a small positive float.\n",
      "Constructing Voronoi polygons:  32%|███▏      | 113657/355842 [01:04<02:08, 1877.46it/s]Malformed Voronoi cell surrounding boundary site 113780. Try changing the number of boundary mesh sites using Polygon.resample() or Polygon.buffer(eps) where eps is 0 or a small positive float.\n",
      "Constructing Voronoi polygons:  36%|███▌      | 128630/355842 [01:12<02:05, 1815.56it/s]Malformed Voronoi cell surrounding boundary site 128794. Try changing the number of boundary mesh sites using Polygon.resample() or Polygon.buffer(eps) where eps is 0 or a small positive float.\n",
      "Constructing Voronoi polygons:  37%|███▋      | 133256/355842 [01:15<02:02, 1822.48it/s]Malformed Voronoi cell surrounding boundary site 133362. Try changing the number of boundary mesh sites using Polygon.resample() or Polygon.buffer(eps) where eps is 0 or a small positive float.\n",
      "Constructing Voronoi polygons:  38%|███▊      | 134921/355842 [01:16<02:06, 1747.77it/s]Malformed Voronoi cell surrounding boundary site 134981. Try changing the number of boundary mesh sites using Polygon.resample() or Polygon.buffer(eps) where eps is 0 or a small positive float.\n",
      "Constructing Voronoi polygons:  62%|██████▏   | 219966/355842 [02:04<01:14, 1818.10it/s]Malformed Voronoi cell surrounding boundary site 220001. Try changing the number of boundary mesh sites using Polygon.resample() or Polygon.buffer(eps) where eps is 0 or a small positive float.\n",
      "Constructing Voronoi polygons:  65%|██████▌   | 232290/355842 [02:10<01:10, 1747.28it/s]Malformed Voronoi cell surrounding boundary site 232396. Try changing the number of boundary mesh sites using Polygon.resample() or Polygon.buffer(eps) where eps is 0 or a small positive float.\n",
      "Constructing Voronoi polygons:  68%|██████▊   | 241983/355842 [02:16<01:00, 1890.64it/s]Malformed Voronoi cell surrounding boundary site 242026. Try changing the number of boundary mesh sites using Polygon.resample() or Polygon.buffer(eps) where eps is 0 or a small positive float.\n",
      "Constructing Voronoi polygons:  73%|███████▎  | 259066/355842 [02:25<00:55, 1757.80it/s]Malformed Voronoi cell surrounding boundary site 259159. Try changing the number of boundary mesh sites using Polygon.resample() or Polygon.buffer(eps) where eps is 0 or a small positive float.\n",
      "Constructing Voronoi polygons:  73%|███████▎  | 260565/355842 [02:26<00:51, 1850.44it/s]Malformed Voronoi cell surrounding boundary site 260572. Try changing the number of boundary mesh sites using Polygon.resample() or Polygon.buffer(eps) where eps is 0 or a small positive float.\n",
      "Malformed Voronoi cell surrounding boundary site 260627. Try changing the number of boundary mesh sites using Polygon.resample() or Polygon.buffer(eps) where eps is 0 or a small positive float.\n",
      "Malformed Voronoi cell surrounding boundary site 260644. Try changing the number of boundary mesh sites using Polygon.resample() or Polygon.buffer(eps) where eps is 0 or a small positive float.\n",
      "Constructing Voronoi polygons:  74%|███████▎  | 262433/355842 [02:27<00:53, 1757.01it/s]Malformed Voronoi cell surrounding boundary site 262458. Try changing the number of boundary mesh sites using Polygon.resample() or Polygon.buffer(eps) where eps is 0 or a small positive float.\n",
      "Malformed Voronoi cell surrounding boundary site 262461. Try changing the number of boundary mesh sites using Polygon.resample() or Polygon.buffer(eps) where eps is 0 or a small positive float.\n",
      "Malformed Voronoi cell surrounding boundary site 262466. Try changing the number of boundary mesh sites using Polygon.resample() or Polygon.buffer(eps) where eps is 0 or a small positive float.\n",
      "Malformed Voronoi cell surrounding boundary site 262493. Try changing the number of boundary mesh sites using Polygon.resample() or Polygon.buffer(eps) where eps is 0 or a small positive float.\n",
      "Malformed Voronoi cell surrounding boundary site 262557. Try changing the number of boundary mesh sites using Polygon.resample() or Polygon.buffer(eps) where eps is 0 or a small positive float.\n",
      "Constructing Voronoi polygons:  74%|███████▍  | 264182/355842 [02:28<00:52, 1740.21it/s]Malformed Voronoi cell surrounding boundary site 264303. Try changing the number of boundary mesh sites using Polygon.resample() or Polygon.buffer(eps) where eps is 0 or a small positive float.\n",
      "Constructing Voronoi polygons:  74%|███████▍  | 264698/355842 [02:29<00:56, 1622.93it/s]Malformed Voronoi cell surrounding boundary site 264710. Try changing the number of boundary mesh sites using Polygon.resample() or Polygon.buffer(eps) where eps is 0 or a small positive float.\n",
      "Constructing Voronoi polygons:  75%|███████▍  | 265599/355842 [02:29<00:51, 1751.60it/s]Malformed Voronoi cell surrounding boundary site 265692. Try changing the number of boundary mesh sites using Polygon.resample() or Polygon.buffer(eps) where eps is 0 or a small positive float.\n",
      "Constructing Voronoi polygons:  75%|███████▍  | 266142/355842 [02:29<00:50, 1780.56it/s]Malformed Voronoi cell surrounding boundary site 266286. Try changing the number of boundary mesh sites using Polygon.resample() or Polygon.buffer(eps) where eps is 0 or a small positive float.\n",
      "Malformed Voronoi cell surrounding boundary site 266298. Try changing the number of boundary mesh sites using Polygon.resample() or Polygon.buffer(eps) where eps is 0 or a small positive float.\n",
      "Malformed Voronoi cell surrounding boundary site 266318. Try changing the number of boundary mesh sites using Polygon.resample() or Polygon.buffer(eps) where eps is 0 or a small positive float.\n",
      "Constructing Voronoi polygons:  75%|███████▌  | 267450/355842 [02:30<00:48, 1821.60it/s]Malformed Voronoi cell surrounding boundary site 267524. Try changing the number of boundary mesh sites using Polygon.resample() or Polygon.buffer(eps) where eps is 0 or a small positive float.\n",
      "Constructing Voronoi polygons:  75%|███████▌  | 267821/355842 [02:30<00:51, 1708.48it/s]Malformed Voronoi cell surrounding boundary site 267846. Try changing the number of boundary mesh sites using Polygon.resample() or Polygon.buffer(eps) where eps is 0 or a small positive float.\n",
      "Constructing Voronoi polygons:  76%|███████▌  | 269719/355842 [02:31<00:45, 1896.46it/s]Malformed Voronoi cell surrounding boundary site 269768. Try changing the number of boundary mesh sites using Polygon.resample() or Polygon.buffer(eps) where eps is 0 or a small positive float.\n",
      "Malformed Voronoi cell surrounding boundary site 269777. Try changing the number of boundary mesh sites using Polygon.resample() or Polygon.buffer(eps) where eps is 0 or a small positive float.\n",
      "Constructing Voronoi polygons:  76%|███████▌  | 270098/355842 [02:32<00:45, 1877.21it/s]Malformed Voronoi cell surrounding boundary site 270196. Try changing the number of boundary mesh sites using Polygon.resample() or Polygon.buffer(eps) where eps is 0 or a small positive float.\n",
      "Constructing Voronoi polygons:  76%|███████▌  | 271242/355842 [02:32<00:49, 1699.60it/s]Malformed Voronoi cell surrounding boundary site 271418. Try changing the number of boundary mesh sites using Polygon.resample() or Polygon.buffer(eps) where eps is 0 or a small positive float.\n",
      "Constructing Voronoi polygons:  76%|███████▋  | 271968/355842 [02:33<00:47, 1751.24it/s]Malformed Voronoi cell surrounding boundary site 271982. Try changing the number of boundary mesh sites using Polygon.resample() or Polygon.buffer(eps) where eps is 0 or a small positive float.\n",
      "Constructing Voronoi polygons:  78%|███████▊  | 277400/355842 [02:36<00:43, 1802.64it/s]Malformed Voronoi cell surrounding boundary site 277587. Try changing the number of boundary mesh sites using Polygon.resample() or Polygon.buffer(eps) where eps is 0 or a small positive float.\n",
      "Constructing Voronoi polygons:  78%|███████▊  | 277588/355842 [02:36<00:43, 1804.42it/s]Malformed Voronoi cell surrounding boundary site 277626. Try changing the number of boundary mesh sites using Polygon.resample() or Polygon.buffer(eps) where eps is 0 or a small positive float.\n",
      "Malformed Voronoi cell surrounding boundary site 277714. Try changing the number of boundary mesh sites using Polygon.resample() or Polygon.buffer(eps) where eps is 0 or a small positive float.\n",
      "Constructing Voronoi polygons:  78%|███████▊  | 278860/355842 [02:36<00:43, 1757.93it/s]Malformed Voronoi cell surrounding boundary site 278903. Try changing the number of boundary mesh sites using Polygon.resample() or Polygon.buffer(eps) where eps is 0 or a small positive float.\n",
      "Constructing Voronoi polygons:  78%|███████▊  | 279215/355842 [02:37<00:46, 1647.37it/s]Malformed Voronoi cell surrounding boundary site 279243. Try changing the number of boundary mesh sites using Polygon.resample() or Polygon.buffer(eps) where eps is 0 or a small positive float.\n",
      "Malformed Voronoi cell surrounding boundary site 279253. Try changing the number of boundary mesh sites using Polygon.resample() or Polygon.buffer(eps) where eps is 0 or a small positive float.\n",
      "Constructing Voronoi polygons:  79%|███████▉  | 280418/355842 [02:37<00:43, 1716.82it/s]Malformed Voronoi cell surrounding boundary site 280539. Try changing the number of boundary mesh sites using Polygon.resample() or Polygon.buffer(eps) where eps is 0 or a small positive float.\n",
      "Constructing Voronoi polygons:  79%|███████▉  | 281658/355842 [02:38<00:43, 1686.13it/s]Malformed Voronoi cell surrounding boundary site 281698. Try changing the number of boundary mesh sites using Polygon.resample() or Polygon.buffer(eps) where eps is 0 or a small positive float.\n",
      "Constructing Voronoi polygons:  80%|████████  | 285828/355842 [02:40<00:37, 1843.52it/s]Malformed Voronoi cell surrounding boundary site 285966. Try changing the number of boundary mesh sites using Polygon.resample() or Polygon.buffer(eps) where eps is 0 or a small positive float.\n",
      "Constructing Voronoi polygons:  82%|████████▏ | 292088/355842 [02:44<00:37, 1717.60it/s]Malformed Voronoi cell surrounding boundary site 292190. Try changing the number of boundary mesh sites using Polygon.resample() or Polygon.buffer(eps) where eps is 0 or a small positive float.\n",
      "Constructing Voronoi polygons:  82%|████████▏ | 293188/355842 [02:44<00:34, 1831.99it/s]Malformed Voronoi cell surrounding boundary site 293345. Try changing the number of boundary mesh sites using Polygon.resample() or Polygon.buffer(eps) where eps is 0 or a small positive float.\n",
      "Constructing Voronoi polygons:  83%|████████▎ | 296145/355842 [02:46<00:35, 1683.10it/s]Malformed Voronoi cell surrounding boundary site 296175. Try changing the number of boundary mesh sites using Polygon.resample() or Polygon.buffer(eps) where eps is 0 or a small positive float.\n",
      "Constructing Voronoi polygons:  84%|████████▍ | 300423/355842 [02:49<00:30, 1827.18it/s]Malformed Voronoi cell surrounding boundary site 300455. Try changing the number of boundary mesh sites using Polygon.resample() or Polygon.buffer(eps) where eps is 0 or a small positive float.\n",
      "Constructing Voronoi polygons:  87%|████████▋ | 309832/355842 [02:54<00:25, 1813.95it/s]Malformed Voronoi cell surrounding boundary site 309960. Try changing the number of boundary mesh sites using Polygon.resample() or Polygon.buffer(eps) where eps is 0 or a small positive float.\n",
      "Constructing Voronoi polygons:  88%|████████▊ | 311420/355842 [02:55<00:25, 1715.85it/s]Malformed Voronoi cell surrounding boundary site 311455. Try changing the number of boundary mesh sites using Polygon.resample() or Polygon.buffer(eps) where eps is 0 or a small positive float.\n",
      "Malformed Voronoi cell surrounding boundary site 311549. Try changing the number of boundary mesh sites using Polygon.resample() or Polygon.buffer(eps) where eps is 0 or a small positive float.\n",
      "Constructing Voronoi polygons:  88%|████████▊ | 311593/355842 [02:55<00:28, 1536.61it/s]Malformed Voronoi cell surrounding boundary site 311593. Try changing the number of boundary mesh sites using Polygon.resample() or Polygon.buffer(eps) where eps is 0 or a small positive float.\n",
      "Constructing Voronoi polygons:  88%|████████▊ | 312101/355842 [02:55<00:26, 1622.48it/s]Malformed Voronoi cell surrounding boundary site 312174. Try changing the number of boundary mesh sites using Polygon.resample() or Polygon.buffer(eps) where eps is 0 or a small positive float.\n",
      "Malformed Voronoi cell surrounding boundary site 312231. Try changing the number of boundary mesh sites using Polygon.resample() or Polygon.buffer(eps) where eps is 0 or a small positive float.\n",
      "Constructing Voronoi polygons:  88%|████████▊ | 312966/355842 [02:56<00:24, 1717.74it/s]Malformed Voronoi cell surrounding boundary site 313078. Try changing the number of boundary mesh sites using Polygon.resample() or Polygon.buffer(eps) where eps is 0 or a small positive float.\n",
      "Malformed Voronoi cell surrounding boundary site 313080. Try changing the number of boundary mesh sites using Polygon.resample() or Polygon.buffer(eps) where eps is 0 or a small positive float.\n",
      "Constructing Voronoi polygons:  88%|████████▊ | 313139/355842 [02:56<00:25, 1695.81it/s]Malformed Voronoi cell surrounding boundary site 313183. Try changing the number of boundary mesh sites using Polygon.resample() or Polygon.buffer(eps) where eps is 0 or a small positive float.\n",
      "Constructing Voronoi polygons:  88%|████████▊ | 313979/355842 [02:56<00:25, 1661.81it/s]Malformed Voronoi cell surrounding boundary site 313981. Try changing the number of boundary mesh sites using Polygon.resample() or Polygon.buffer(eps) where eps is 0 or a small positive float.\n",
      "Malformed Voronoi cell surrounding boundary site 314015. Try changing the number of boundary mesh sites using Polygon.resample() or Polygon.buffer(eps) where eps is 0 or a small positive float.\n",
      "Constructing Voronoi polygons:  89%|████████▊ | 315154/355842 [02:57<00:24, 1650.09it/s]Malformed Voronoi cell surrounding boundary site 315228. Try changing the number of boundary mesh sites using Polygon.resample() or Polygon.buffer(eps) where eps is 0 or a small positive float.\n",
      "Constructing Voronoi polygons:  89%|████████▊ | 315712/355842 [02:57<00:22, 1768.84it/s]Malformed Voronoi cell surrounding boundary site 315862. Try changing the number of boundary mesh sites using Polygon.resample() or Polygon.buffer(eps) where eps is 0 or a small positive float.\n",
      "Constructing Voronoi polygons:  89%|████████▉ | 316640/355842 [02:58<00:21, 1826.89it/s]Malformed Voronoi cell surrounding boundary site 316774. Try changing the number of boundary mesh sites using Polygon.resample() or Polygon.buffer(eps) where eps is 0 or a small positive float.\n",
      "Constructing Voronoi polygons:  91%|█████████ | 323682/355842 [03:02<00:19, 1679.98it/s]Malformed Voronoi cell surrounding boundary site 323691. Try changing the number of boundary mesh sites using Polygon.resample() or Polygon.buffer(eps) where eps is 0 or a small positive float.\n",
      "Constructing Voronoi polygons:  91%|█████████ | 324408/355842 [03:02<00:17, 1783.98it/s]Malformed Voronoi cell surrounding boundary site 324494. Try changing the number of boundary mesh sites using Polygon.resample() or Polygon.buffer(eps) where eps is 0 or a small positive float.\n",
      "Constructing Voronoi polygons:  92%|█████████▏| 326446/355842 [03:03<00:16, 1749.45it/s]Malformed Voronoi cell surrounding boundary site 326467. Try changing the number of boundary mesh sites using Polygon.resample() or Polygon.buffer(eps) where eps is 0 or a small positive float.\n",
      "Malformed Voronoi cell surrounding boundary site 326473. Try changing the number of boundary mesh sites using Polygon.resample() or Polygon.buffer(eps) where eps is 0 or a small positive float.\n",
      "Malformed Voronoi cell surrounding boundary site 326550. Try changing the number of boundary mesh sites using Polygon.resample() or Polygon.buffer(eps) where eps is 0 or a small positive float.\n",
      "Constructing Voronoi polygons:  92%|█████████▏| 326954/355842 [03:04<00:18, 1551.94it/s]Malformed Voronoi cell surrounding boundary site 326990. Try changing the number of boundary mesh sites using Polygon.resample() or Polygon.buffer(eps) where eps is 0 or a small positive float.\n",
      "Constructing Voronoi polygons:  92%|█████████▏| 327999/355842 [03:04<00:16, 1655.92it/s]Malformed Voronoi cell surrounding boundary site 328132. Try changing the number of boundary mesh sites using Polygon.resample() or Polygon.buffer(eps) where eps is 0 or a small positive float.\n",
      "Malformed Voronoi cell surrounding boundary site 328143. Try changing the number of boundary mesh sites using Polygon.resample() or Polygon.buffer(eps) where eps is 0 or a small positive float.\n",
      "Malformed Voronoi cell surrounding boundary site 328146. Try changing the number of boundary mesh sites using Polygon.resample() or Polygon.buffer(eps) where eps is 0 or a small positive float.\n",
      "Constructing Voronoi polygons:  92%|█████████▏| 328167/355842 [03:05<00:17, 1610.52it/s]Malformed Voronoi cell surrounding boundary site 328291. Try changing the number of boundary mesh sites using Polygon.resample() or Polygon.buffer(eps) where eps is 0 or a small positive float.\n",
      "Constructing Voronoi polygons:  92%|█████████▏| 328530/355842 [03:05<00:15, 1717.04it/s]Malformed Voronoi cell surrounding boundary site 328627. Try changing the number of boundary mesh sites using Polygon.resample() or Polygon.buffer(eps) where eps is 0 or a small positive float.\n",
      "Constructing Voronoi polygons:  93%|█████████▎| 330759/355842 [03:06<00:13, 1865.56it/s]Malformed Voronoi cell surrounding boundary site 330819. Try changing the number of boundary mesh sites using Polygon.resample() or Polygon.buffer(eps) where eps is 0 or a small positive float.\n",
      "Constructing Voronoi polygons:  94%|█████████▍| 334673/355842 [03:08<00:12, 1758.22it/s]Malformed Voronoi cell surrounding boundary site 334760. Try changing the number of boundary mesh sites using Polygon.resample() or Polygon.buffer(eps) where eps is 0 or a small positive float.\n",
      "Constructing Voronoi polygons:  94%|█████████▍| 335048/355842 [03:08<00:11, 1780.57it/s]Malformed Voronoi cell surrounding boundary site 335099. Try changing the number of boundary mesh sites using Polygon.resample() or Polygon.buffer(eps) where eps is 0 or a small positive float.\n",
      "Constructing Voronoi polygons:  94%|█████████▍| 335978/355842 [03:09<00:11, 1748.95it/s]Malformed Voronoi cell surrounding boundary site 336045. Try changing the number of boundary mesh sites using Polygon.resample() or Polygon.buffer(eps) where eps is 0 or a small positive float.\n",
      "Constructing Voronoi polygons:  95%|█████████▍| 336327/355842 [03:09<00:11, 1690.47it/s]Malformed Voronoi cell surrounding boundary site 336386. Try changing the number of boundary mesh sites using Polygon.resample() or Polygon.buffer(eps) where eps is 0 or a small positive float.\n",
      "Constructing Voronoi polygons:  95%|█████████▍| 336878/355842 [03:09<00:10, 1792.24it/s]Malformed Voronoi cell surrounding boundary site 336965. Try changing the number of boundary mesh sites using Polygon.resample() or Polygon.buffer(eps) where eps is 0 or a small positive float.\n",
      "Constructing Voronoi polygons:  95%|█████████▍| 337450/355842 [03:10<00:09, 1859.83it/s]Malformed Voronoi cell surrounding boundary site 337508. Try changing the number of boundary mesh sites using Polygon.resample() or Polygon.buffer(eps) where eps is 0 or a small positive float.\n",
      "Malformed Voronoi cell surrounding boundary site 337513. Try changing the number of boundary mesh sites using Polygon.resample() or Polygon.buffer(eps) where eps is 0 or a small positive float.\n",
      "Constructing Voronoi polygons:  95%|█████████▌| 339328/355842 [03:11<00:09, 1792.40it/s]Malformed Voronoi cell surrounding boundary site 339394. Try changing the number of boundary mesh sites using Polygon.resample() or Polygon.buffer(eps) where eps is 0 or a small positive float.\n",
      "Constructing Voronoi polygons:  96%|█████████▌| 340053/355842 [03:11<00:08, 1760.07it/s]Malformed Voronoi cell surrounding boundary site 340204. Try changing the number of boundary mesh sites using Polygon.resample() or Polygon.buffer(eps) where eps is 0 or a small positive float.\n",
      "Constructing Voronoi polygons:  96%|█████████▌| 340974/355842 [03:12<00:09, 1624.58it/s]Malformed Voronoi cell surrounding boundary site 341063. Try changing the number of boundary mesh sites using Polygon.resample() or Polygon.buffer(eps) where eps is 0 or a small positive float.\n",
      "Constructing Voronoi polygons:  96%|█████████▌| 341144/355842 [03:12<00:08, 1641.08it/s]Malformed Voronoi cell surrounding boundary site 341183. Try changing the number of boundary mesh sites using Polygon.resample() or Polygon.buffer(eps) where eps is 0 or a small positive float.\n",
      "Malformed Voronoi cell surrounding boundary site 341276. Try changing the number of boundary mesh sites using Polygon.resample() or Polygon.buffer(eps) where eps is 0 or a small positive float.\n",
      "Constructing Voronoi polygons:  96%|█████████▌| 341823/355842 [03:12<00:08, 1610.43it/s]Malformed Voronoi cell surrounding boundary site 341980. Try changing the number of boundary mesh sites using Polygon.resample() or Polygon.buffer(eps) where eps is 0 or a small positive float.\n",
      "Malformed Voronoi cell surrounding boundary site 341983. Try changing the number of boundary mesh sites using Polygon.resample() or Polygon.buffer(eps) where eps is 0 or a small positive float.\n",
      "Constructing Voronoi polygons:  96%|█████████▋| 343099/355842 [03:13<00:07, 1722.41it/s]Malformed Voronoi cell surrounding boundary site 343127. Try changing the number of boundary mesh sites using Polygon.resample() or Polygon.buffer(eps) where eps is 0 or a small positive float.\n",
      "Malformed Voronoi cell surrounding boundary site 343168. Try changing the number of boundary mesh sites using Polygon.resample() or Polygon.buffer(eps) where eps is 0 or a small positive float.\n",
      "Malformed Voronoi cell surrounding boundary site 343199. Try changing the number of boundary mesh sites using Polygon.resample() or Polygon.buffer(eps) where eps is 0 or a small positive float.\n",
      "Malformed Voronoi cell surrounding boundary site 343204. Try changing the number of boundary mesh sites using Polygon.resample() or Polygon.buffer(eps) where eps is 0 or a small positive float.\n",
      "Malformed Voronoi cell surrounding boundary site 343221. Try changing the number of boundary mesh sites using Polygon.resample() or Polygon.buffer(eps) where eps is 0 or a small positive float.\n",
      "Malformed Voronoi cell surrounding boundary site 343248. Try changing the number of boundary mesh sites using Polygon.resample() or Polygon.buffer(eps) where eps is 0 or a small positive float.\n",
      "Constructing Voronoi polygons:  97%|█████████▋| 343444/355842 [03:13<00:07, 1608.28it/s]Malformed Voronoi cell surrounding boundary site 343478. Try changing the number of boundary mesh sites using Polygon.resample() or Polygon.buffer(eps) where eps is 0 or a small positive float.\n",
      "Constructing Voronoi polygons:  99%|█████████▉| 352645/355842 [03:18<00:01, 1835.93it/s]Malformed Voronoi cell surrounding boundary site 352736. Try changing the number of boundary mesh sites using Polygon.resample() or Polygon.buffer(eps) where eps is 0 or a small positive float.\n",
      "Constructing Voronoi polygons: 100%|█████████▉| 355274/355842 [03:20<00:00, 1818.72it/s]Malformed Voronoi cell surrounding boundary site 355367. Try changing the number of boundary mesh sites using Polygon.resample() or Polygon.buffer(eps) where eps is 0 or a small positive float.\n",
      "Malformed Voronoi cell surrounding boundary site 355409. Try changing the number of boundary mesh sites using Polygon.resample() or Polygon.buffer(eps) where eps is 0 or a small positive float.\n",
      "Malformed Voronoi cell surrounding boundary site 355410. Try changing the number of boundary mesh sites using Polygon.resample() or Polygon.buffer(eps) where eps is 0 or a small positive float.\n",
      "Constructing Voronoi polygons: 100%|██████████| 355842/355842 [03:20<00:00, 1772.30it/s]\n"
     ]
    },
    {
     "name": "stdout",
     "output_type": "stream",
     "text": [
      "num_sites: 355842\n",
      "num_elements: 709800\n",
      "min_edge_length: 0.008744434675988804\n",
      "max_edge_length: 0.04997912331193619\n",
      "mean_edge_length: 0.028314510449152074\n",
      "min_area: 0.00010523920749460677\n",
      "max_area: 0.0015260443542802296\n",
      "mean_area: 0.0006878411707000381\n",
      "coherence_length: 0.1\n",
      "length_units: um\n"
     ]
    },
    {
     "name": "stderr",
     "output_type": "stream",
     "text": [
      "Constructing Voronoi polygons:   0%|          | 0/447803 [00:00<?, ?it/s]Malformed Voronoi cell surrounding boundary site 6. Try changing the number of boundary mesh sites using Polygon.resample() or Polygon.buffer(eps) where eps is 0 or a small positive float.\n",
      "Malformed Voronoi cell surrounding boundary site 11. Try changing the number of boundary mesh sites using Polygon.resample() or Polygon.buffer(eps) where eps is 0 or a small positive float.\n",
      "Malformed Voronoi cell surrounding boundary site 15. Try changing the number of boundary mesh sites using Polygon.resample() or Polygon.buffer(eps) where eps is 0 or a small positive float.\n",
      "Malformed Voronoi cell surrounding boundary site 19. Try changing the number of boundary mesh sites using Polygon.resample() or Polygon.buffer(eps) where eps is 0 or a small positive float.\n",
      "Malformed Voronoi cell surrounding boundary site 20. Try changing the number of boundary mesh sites using Polygon.resample() or Polygon.buffer(eps) where eps is 0 or a small positive float.\n",
      "Malformed Voronoi cell surrounding boundary site 21. Try changing the number of boundary mesh sites using Polygon.resample() or Polygon.buffer(eps) where eps is 0 or a small positive float.\n",
      "Malformed Voronoi cell surrounding boundary site 25. Try changing the number of boundary mesh sites using Polygon.resample() or Polygon.buffer(eps) where eps is 0 or a small positive float.\n",
      "Malformed Voronoi cell surrounding boundary site 31. Try changing the number of boundary mesh sites using Polygon.resample() or Polygon.buffer(eps) where eps is 0 or a small positive float.\n",
      "Malformed Voronoi cell surrounding boundary site 44. Try changing the number of boundary mesh sites using Polygon.resample() or Polygon.buffer(eps) where eps is 0 or a small positive float.\n",
      "Malformed Voronoi cell surrounding boundary site 54. Try changing the number of boundary mesh sites using Polygon.resample() or Polygon.buffer(eps) where eps is 0 or a small positive float.\n",
      "Malformed Voronoi cell surrounding boundary site 55. Try changing the number of boundary mesh sites using Polygon.resample() or Polygon.buffer(eps) where eps is 0 or a small positive float.\n",
      "Constructing Voronoi polygons:   0%|          | 58/447803 [00:00<12:57, 575.81it/s]Malformed Voronoi cell surrounding boundary site 61. Try changing the number of boundary mesh sites using Polygon.resample() or Polygon.buffer(eps) where eps is 0 or a small positive float.\n",
      "Malformed Voronoi cell surrounding boundary site 64. Try changing the number of boundary mesh sites using Polygon.resample() or Polygon.buffer(eps) where eps is 0 or a small positive float.\n",
      "Malformed Voronoi cell surrounding boundary site 73. Try changing the number of boundary mesh sites using Polygon.resample() or Polygon.buffer(eps) where eps is 0 or a small positive float.\n",
      "Malformed Voronoi cell surrounding boundary site 77. Try changing the number of boundary mesh sites using Polygon.resample() or Polygon.buffer(eps) where eps is 0 or a small positive float.\n",
      "Malformed Voronoi cell surrounding boundary site 79. Try changing the number of boundary mesh sites using Polygon.resample() or Polygon.buffer(eps) where eps is 0 or a small positive float.\n",
      "Malformed Voronoi cell surrounding boundary site 88. Try changing the number of boundary mesh sites using Polygon.resample() or Polygon.buffer(eps) where eps is 0 or a small positive float.\n",
      "Malformed Voronoi cell surrounding boundary site 92. Try changing the number of boundary mesh sites using Polygon.resample() or Polygon.buffer(eps) where eps is 0 or a small positive float.\n",
      "Malformed Voronoi cell surrounding boundary site 93. Try changing the number of boundary mesh sites using Polygon.resample() or Polygon.buffer(eps) where eps is 0 or a small positive float.\n",
      "Malformed Voronoi cell surrounding boundary site 96. Try changing the number of boundary mesh sites using Polygon.resample() or Polygon.buffer(eps) where eps is 0 or a small positive float.\n",
      "Malformed Voronoi cell surrounding boundary site 97. Try changing the number of boundary mesh sites using Polygon.resample() or Polygon.buffer(eps) where eps is 0 or a small positive float.\n",
      "Malformed Voronoi cell surrounding boundary site 105. Try changing the number of boundary mesh sites using Polygon.resample() or Polygon.buffer(eps) where eps is 0 or a small positive float.\n",
      "Malformed Voronoi cell surrounding boundary site 108. Try changing the number of boundary mesh sites using Polygon.resample() or Polygon.buffer(eps) where eps is 0 or a small positive float.\n",
      "Malformed Voronoi cell surrounding boundary site 114. Try changing the number of boundary mesh sites using Polygon.resample() or Polygon.buffer(eps) where eps is 0 or a small positive float.\n",
      "Constructing Voronoi polygons:   0%|          | 116/447803 [00:00<13:13, 564.09it/s]Malformed Voronoi cell surrounding boundary site 117. Try changing the number of boundary mesh sites using Polygon.resample() or Polygon.buffer(eps) where eps is 0 or a small positive float.\n",
      "Malformed Voronoi cell surrounding boundary site 118. Try changing the number of boundary mesh sites using Polygon.resample() or Polygon.buffer(eps) where eps is 0 or a small positive float.\n",
      "Malformed Voronoi cell surrounding boundary site 123. Try changing the number of boundary mesh sites using Polygon.resample() or Polygon.buffer(eps) where eps is 0 or a small positive float.\n",
      "Malformed Voronoi cell surrounding boundary site 128. Try changing the number of boundary mesh sites using Polygon.resample() or Polygon.buffer(eps) where eps is 0 or a small positive float.\n",
      "Malformed Voronoi cell surrounding boundary site 131. Try changing the number of boundary mesh sites using Polygon.resample() or Polygon.buffer(eps) where eps is 0 or a small positive float.\n",
      "Malformed Voronoi cell surrounding boundary site 136. Try changing the number of boundary mesh sites using Polygon.resample() or Polygon.buffer(eps) where eps is 0 or a small positive float.\n",
      "Malformed Voronoi cell surrounding boundary site 139. Try changing the number of boundary mesh sites using Polygon.resample() or Polygon.buffer(eps) where eps is 0 or a small positive float.\n",
      "Malformed Voronoi cell surrounding boundary site 142. Try changing the number of boundary mesh sites using Polygon.resample() or Polygon.buffer(eps) where eps is 0 or a small positive float.\n",
      "Malformed Voronoi cell surrounding boundary site 156. Try changing the number of boundary mesh sites using Polygon.resample() or Polygon.buffer(eps) where eps is 0 or a small positive float.\n",
      "Malformed Voronoi cell surrounding boundary site 164. Try changing the number of boundary mesh sites using Polygon.resample() or Polygon.buffer(eps) where eps is 0 or a small positive float.\n",
      "Malformed Voronoi cell surrounding boundary site 168. Try changing the number of boundary mesh sites using Polygon.resample() or Polygon.buffer(eps) where eps is 0 or a small positive float.\n",
      "Malformed Voronoi cell surrounding boundary site 171. Try changing the number of boundary mesh sites using Polygon.resample() or Polygon.buffer(eps) where eps is 0 or a small positive float.\n",
      "Malformed Voronoi cell surrounding boundary site 172. Try changing the number of boundary mesh sites using Polygon.resample() or Polygon.buffer(eps) where eps is 0 or a small positive float.\n",
      "Constructing Voronoi polygons:   0%|          | 173/447803 [00:00<14:06, 528.65it/s]Malformed Voronoi cell surrounding boundary site 174. Try changing the number of boundary mesh sites using Polygon.resample() or Polygon.buffer(eps) where eps is 0 or a small positive float.\n",
      "Malformed Voronoi cell surrounding boundary site 176. Try changing the number of boundary mesh sites using Polygon.resample() or Polygon.buffer(eps) where eps is 0 or a small positive float.\n",
      "Malformed Voronoi cell surrounding boundary site 179. Try changing the number of boundary mesh sites using Polygon.resample() or Polygon.buffer(eps) where eps is 0 or a small positive float.\n",
      "Malformed Voronoi cell surrounding boundary site 180. Try changing the number of boundary mesh sites using Polygon.resample() or Polygon.buffer(eps) where eps is 0 or a small positive float.\n",
      "Malformed Voronoi cell surrounding boundary site 182. Try changing the number of boundary mesh sites using Polygon.resample() or Polygon.buffer(eps) where eps is 0 or a small positive float.\n",
      "Malformed Voronoi cell surrounding boundary site 184. Try changing the number of boundary mesh sites using Polygon.resample() or Polygon.buffer(eps) where eps is 0 or a small positive float.\n",
      "Malformed Voronoi cell surrounding boundary site 189. Try changing the number of boundary mesh sites using Polygon.resample() or Polygon.buffer(eps) where eps is 0 or a small positive float.\n",
      "Malformed Voronoi cell surrounding boundary site 197. Try changing the number of boundary mesh sites using Polygon.resample() or Polygon.buffer(eps) where eps is 0 or a small positive float.\n",
      "Malformed Voronoi cell surrounding boundary site 207. Try changing the number of boundary mesh sites using Polygon.resample() or Polygon.buffer(eps) where eps is 0 or a small positive float.\n",
      "Malformed Voronoi cell surrounding boundary site 211. Try changing the number of boundary mesh sites using Polygon.resample() or Polygon.buffer(eps) where eps is 0 or a small positive float.\n",
      "Constructing Voronoi polygons:   0%|          | 227/447803 [00:00<15:18, 487.46it/s]Malformed Voronoi cell surrounding boundary site 229. Try changing the number of boundary mesh sites using Polygon.resample() or Polygon.buffer(eps) where eps is 0 or a small positive float.\n",
      "Malformed Voronoi cell surrounding boundary site 237. Try changing the number of boundary mesh sites using Polygon.resample() or Polygon.buffer(eps) where eps is 0 or a small positive float.\n",
      "Malformed Voronoi cell surrounding boundary site 242. Try changing the number of boundary mesh sites using Polygon.resample() or Polygon.buffer(eps) where eps is 0 or a small positive float.\n",
      "Malformed Voronoi cell surrounding boundary site 247. Try changing the number of boundary mesh sites using Polygon.resample() or Polygon.buffer(eps) where eps is 0 or a small positive float.\n",
      "Malformed Voronoi cell surrounding boundary site 250. Try changing the number of boundary mesh sites using Polygon.resample() or Polygon.buffer(eps) where eps is 0 or a small positive float.\n",
      "Malformed Voronoi cell surrounding boundary site 261. Try changing the number of boundary mesh sites using Polygon.resample() or Polygon.buffer(eps) where eps is 0 or a small positive float.\n",
      "Malformed Voronoi cell surrounding boundary site 269. Try changing the number of boundary mesh sites using Polygon.resample() or Polygon.buffer(eps) where eps is 0 or a small positive float.\n",
      "Malformed Voronoi cell surrounding boundary site 274. Try changing the number of boundary mesh sites using Polygon.resample() or Polygon.buffer(eps) where eps is 0 or a small positive float.\n",
      "Malformed Voronoi cell surrounding boundary site 275. Try changing the number of boundary mesh sites using Polygon.resample() or Polygon.buffer(eps) where eps is 0 or a small positive float.\n",
      "Malformed Voronoi cell surrounding boundary site 289. Try changing the number of boundary mesh sites using Polygon.resample() or Polygon.buffer(eps) where eps is 0 or a small positive float.\n",
      "Constructing Voronoi polygons:   0%|          | 299/447803 [00:00<13:26, 554.65it/s]Malformed Voronoi cell surrounding boundary site 337. Try changing the number of boundary mesh sites using Polygon.resample() or Polygon.buffer(eps) where eps is 0 or a small positive float.\n",
      "Malformed Voronoi cell surrounding boundary site 348. Try changing the number of boundary mesh sites using Polygon.resample() or Polygon.buffer(eps) where eps is 0 or a small positive float.\n",
      "Constructing Voronoi polygons:   0%|          | 363/447803 [00:00<12:53, 578.75it/s]Malformed Voronoi cell surrounding boundary site 368. Try changing the number of boundary mesh sites using Polygon.resample() or Polygon.buffer(eps) where eps is 0 or a small positive float.\n",
      "Constructing Voronoi polygons:   0%|          | 1015/447803 [00:01<05:16, 1411.53it/s]Malformed Voronoi cell surrounding boundary site 1172. Try changing the number of boundary mesh sites using Polygon.resample() or Polygon.buffer(eps) where eps is 0 or a small positive float.\n",
      "Constructing Voronoi polygons:   1%|          | 2274/447803 [00:01<04:16, 1733.79it/s]Malformed Voronoi cell surrounding boundary site 2420. Try changing the number of boundary mesh sites using Polygon.resample() or Polygon.buffer(eps) where eps is 0 or a small positive float.\n",
      "Constructing Voronoi polygons:   1%|          | 3133/447803 [00:02<04:42, 1576.01it/s]Malformed Voronoi cell surrounding boundary site 3155. Try changing the number of boundary mesh sites using Polygon.resample() or Polygon.buffer(eps) where eps is 0 or a small positive float.\n",
      "Constructing Voronoi polygons:   2%|▏         | 9637/447803 [00:06<04:37, 1581.17it/s]Malformed Voronoi cell surrounding boundary site 9797. Try changing the number of boundary mesh sites using Polygon.resample() or Polygon.buffer(eps) where eps is 0 or a small positive float.\n",
      "Constructing Voronoi polygons:   3%|▎         | 12605/447803 [00:07<04:03, 1785.40it/s]Malformed Voronoi cell surrounding boundary site 12738. Try changing the number of boundary mesh sites using Polygon.resample() or Polygon.buffer(eps) where eps is 0 or a small positive float.\n",
      "Constructing Voronoi polygons:   4%|▍         | 17827/447803 [00:11<04:02, 1776.61it/s]Malformed Voronoi cell surrounding boundary site 17898. Try changing the number of boundary mesh sites using Polygon.resample() or Polygon.buffer(eps) where eps is 0 or a small positive float.\n",
      "Constructing Voronoi polygons:   4%|▍         | 18556/447803 [00:11<03:57, 1807.00it/s]Malformed Voronoi cell surrounding boundary site 18652. Try changing the number of boundary mesh sites using Polygon.resample() or Polygon.buffer(eps) where eps is 0 or a small positive float.\n",
      "Constructing Voronoi polygons:   5%|▍         | 20757/447803 [00:12<04:02, 1760.51it/s]Malformed Voronoi cell surrounding boundary site 20885. Try changing the number of boundary mesh sites using Polygon.resample() or Polygon.buffer(eps) where eps is 0 or a small positive float.\n",
      "Constructing Voronoi polygons:   8%|▊         | 37435/447803 [00:21<03:56, 1737.28it/s]Malformed Voronoi cell surrounding boundary site 37539. Try changing the number of boundary mesh sites using Polygon.resample() or Polygon.buffer(eps) where eps is 0 or a small positive float.\n",
      "Constructing Voronoi polygons:  10%|█         | 45142/447803 [00:26<03:44, 1795.18it/s]Malformed Voronoi cell surrounding boundary site 45166. Try changing the number of boundary mesh sites using Polygon.resample() or Polygon.buffer(eps) where eps is 0 or a small positive float.\n",
      "Constructing Voronoi polygons:  10%|█         | 46259/447803 [00:26<03:39, 1831.31it/s]Malformed Voronoi cell surrounding boundary site 46437. Try changing the number of boundary mesh sites using Polygon.resample() or Polygon.buffer(eps) where eps is 0 or a small positive float.\n",
      "Constructing Voronoi polygons:  14%|█▍        | 61968/447803 [00:35<03:38, 1768.40it/s]Malformed Voronoi cell surrounding boundary site 62049. Try changing the number of boundary mesh sites using Polygon.resample() or Polygon.buffer(eps) where eps is 0 or a small positive float.\n",
      "Constructing Voronoi polygons:  14%|█▍        | 64267/447803 [00:36<03:18, 1930.43it/s]Malformed Voronoi cell surrounding boundary site 64344. Try changing the number of boundary mesh sites using Polygon.resample() or Polygon.buffer(eps) where eps is 0 or a small positive float.\n",
      "Constructing Voronoi polygons:  16%|█▌        | 69762/447803 [00:39<03:26, 1830.08it/s]Malformed Voronoi cell surrounding boundary site 69841. Try changing the number of boundary mesh sites using Polygon.resample() or Polygon.buffer(eps) where eps is 0 or a small positive float.\n",
      "Constructing Voronoi polygons:  19%|█▉        | 87004/447803 [00:49<03:16, 1833.86it/s]Malformed Voronoi cell surrounding boundary site 87099. Try changing the number of boundary mesh sites using Polygon.resample() or Polygon.buffer(eps) where eps is 0 or a small positive float.\n",
      "Constructing Voronoi polygons:  27%|██▋       | 122438/447803 [01:09<03:03, 1776.83it/s]Malformed Voronoi cell surrounding boundary site 122474. Try changing the number of boundary mesh sites using Polygon.resample() or Polygon.buffer(eps) where eps is 0 or a small positive float.\n",
      "Constructing Voronoi polygons:  28%|██▊       | 123873/447803 [01:10<03:09, 1713.23it/s]Malformed Voronoi cell surrounding boundary site 124010. Try changing the number of boundary mesh sites using Polygon.resample() or Polygon.buffer(eps) where eps is 0 or a small positive float.\n",
      "Constructing Voronoi polygons:  28%|██▊       | 126828/447803 [01:11<02:54, 1839.23it/s]Malformed Voronoi cell surrounding boundary site 126863. Try changing the number of boundary mesh sites using Polygon.resample() or Polygon.buffer(eps) where eps is 0 or a small positive float.\n",
      "Malformed Voronoi cell surrounding boundary site 126868. Try changing the number of boundary mesh sites using Polygon.resample() or Polygon.buffer(eps) where eps is 0 or a small positive float.\n",
      "Constructing Voronoi polygons:  33%|███▎      | 145890/447803 [01:22<02:44, 1833.18it/s]Malformed Voronoi cell surrounding boundary site 145973. Try changing the number of boundary mesh sites using Polygon.resample() or Polygon.buffer(eps) where eps is 0 or a small positive float.\n",
      "Constructing Voronoi polygons:  40%|████      | 179640/447803 [01:41<02:31, 1764.39it/s]Malformed Voronoi cell surrounding boundary site 179718. Try changing the number of boundary mesh sites using Polygon.resample() or Polygon.buffer(eps) where eps is 0 or a small positive float.\n",
      "Malformed Voronoi cell surrounding boundary site 179777. Try changing the number of boundary mesh sites using Polygon.resample() or Polygon.buffer(eps) where eps is 0 or a small positive float.\n",
      "Malformed Voronoi cell surrounding boundary site 179780. Try changing the number of boundary mesh sites using Polygon.resample() or Polygon.buffer(eps) where eps is 0 or a small positive float.\n",
      "Constructing Voronoi polygons:  49%|████▊     | 217844/447803 [02:02<02:07, 1805.51it/s]Malformed Voronoi cell surrounding boundary site 217929. Try changing the number of boundary mesh sites using Polygon.resample() or Polygon.buffer(eps) where eps is 0 or a small positive float.\n",
      "Constructing Voronoi polygons:  67%|██████▋   | 298114/447803 [02:47<01:22, 1819.38it/s]Malformed Voronoi cell surrounding boundary site 298233. Try changing the number of boundary mesh sites using Polygon.resample() or Polygon.buffer(eps) where eps is 0 or a small positive float.\n",
      "Constructing Voronoi polygons:  68%|██████▊   | 303981/447803 [02:50<01:23, 1715.19it/s]Malformed Voronoi cell surrounding boundary site 303988. Try changing the number of boundary mesh sites using Polygon.resample() or Polygon.buffer(eps) where eps is 0 or a small positive float.\n",
      "Constructing Voronoi polygons:  69%|██████▉   | 307931/447803 [02:52<01:14, 1875.05it/s]Malformed Voronoi cell surrounding boundary site 308058. Try changing the number of boundary mesh sites using Polygon.resample() or Polygon.buffer(eps) where eps is 0 or a small positive float.\n",
      "Constructing Voronoi polygons:  69%|██████▉   | 308120/447803 [02:52<01:14, 1864.78it/s]Malformed Voronoi cell surrounding boundary site 308171. Try changing the number of boundary mesh sites using Polygon.resample() or Polygon.buffer(eps) where eps is 0 or a small positive float.\n",
      "Malformed Voronoi cell surrounding boundary site 308211. Try changing the number of boundary mesh sites using Polygon.resample() or Polygon.buffer(eps) where eps is 0 or a small positive float.\n",
      "Constructing Voronoi polygons:  69%|██████▉   | 309795/447803 [02:53<01:14, 1863.54it/s]Malformed Voronoi cell surrounding boundary site 309813. Try changing the number of boundary mesh sites using Polygon.resample() or Polygon.buffer(eps) where eps is 0 or a small positive float.\n",
      "Constructing Voronoi polygons:  69%|██████▉   | 311101/447803 [02:54<01:17, 1766.05it/s]Malformed Voronoi cell surrounding boundary site 311158. Try changing the number of boundary mesh sites using Polygon.resample() or Polygon.buffer(eps) where eps is 0 or a small positive float.\n",
      "Constructing Voronoi polygons:  70%|██████▉   | 312421/447803 [02:55<01:15, 1795.90it/s]Malformed Voronoi cell surrounding boundary site 312527. Try changing the number of boundary mesh sites using Polygon.resample() or Polygon.buffer(eps) where eps is 0 or a small positive float.\n",
      "Constructing Voronoi polygons:  70%|██████▉   | 313121/447803 [02:55<01:19, 1701.51it/s]Malformed Voronoi cell surrounding boundary site 313198. Try changing the number of boundary mesh sites using Polygon.resample() or Polygon.buffer(eps) where eps is 0 or a small positive float.\n",
      "Constructing Voronoi polygons:  70%|███████   | 313669/447803 [02:56<01:15, 1784.25it/s]Malformed Voronoi cell surrounding boundary site 313844. Try changing the number of boundary mesh sites using Polygon.resample() or Polygon.buffer(eps) where eps is 0 or a small positive float.\n",
      "Constructing Voronoi polygons:  71%|███████   | 318408/447803 [02:58<01:11, 1798.79it/s]Malformed Voronoi cell surrounding boundary site 318440. Try changing the number of boundary mesh sites using Polygon.resample() or Polygon.buffer(eps) where eps is 0 or a small positive float.\n",
      "Malformed Voronoi cell surrounding boundary site 318441. Try changing the number of boundary mesh sites using Polygon.resample() or Polygon.buffer(eps) where eps is 0 or a small positive float.\n",
      "Constructing Voronoi polygons:  73%|███████▎  | 324823/447803 [03:02<01:18, 1573.06it/s]Malformed Voronoi cell surrounding boundary site 324859. Try changing the number of boundary mesh sites using Polygon.resample() or Polygon.buffer(eps) where eps is 0 or a small positive float.\n",
      "Constructing Voronoi polygons:  73%|███████▎  | 325482/447803 [03:02<01:16, 1592.16it/s]Malformed Voronoi cell surrounding boundary site 325656. Try changing the number of boundary mesh sites using Polygon.resample() or Polygon.buffer(eps) where eps is 0 or a small positive float.\n",
      "Constructing Voronoi polygons:  73%|███████▎  | 326211/447803 [03:03<01:13, 1651.95it/s]Malformed Voronoi cell surrounding boundary site 326250. Try changing the number of boundary mesh sites using Polygon.resample() or Polygon.buffer(eps) where eps is 0 or a small positive float.\n",
      "Constructing Voronoi polygons:  73%|███████▎  | 327437/447803 [03:04<01:09, 1738.12it/s]Malformed Voronoi cell surrounding boundary site 327567. Try changing the number of boundary mesh sites using Polygon.resample() or Polygon.buffer(eps) where eps is 0 or a small positive float.\n",
      "Constructing Voronoi polygons:  73%|███████▎  | 328936/447803 [03:04<01:04, 1838.19it/s]Malformed Voronoi cell surrounding boundary site 329010. Try changing the number of boundary mesh sites using Polygon.resample() or Polygon.buffer(eps) where eps is 0 or a small positive float.\n",
      "Constructing Voronoi polygons:  74%|███████▎  | 329697/447803 [03:05<01:04, 1837.06it/s]Malformed Voronoi cell surrounding boundary site 329722. Try changing the number of boundary mesh sites using Polygon.resample() or Polygon.buffer(eps) where eps is 0 or a small positive float.\n",
      "Malformed Voronoi cell surrounding boundary site 329744. Try changing the number of boundary mesh sites using Polygon.resample() or Polygon.buffer(eps) where eps is 0 or a small positive float.\n",
      "Constructing Voronoi polygons:  74%|███████▍  | 330421/447803 [03:05<01:12, 1628.38it/s]Malformed Voronoi cell surrounding boundary site 330552. Try changing the number of boundary mesh sites using Polygon.resample() or Polygon.buffer(eps) where eps is 0 or a small positive float.\n",
      "Constructing Voronoi polygons:  74%|███████▍  | 330974/447803 [03:06<01:06, 1764.80it/s]Malformed Voronoi cell surrounding boundary site 330997. Try changing the number of boundary mesh sites using Polygon.resample() or Polygon.buffer(eps) where eps is 0 or a small positive float.\n",
      "Constructing Voronoi polygons:  74%|███████▍  | 331153/447803 [03:06<01:06, 1753.88it/s]Malformed Voronoi cell surrounding boundary site 331271. Try changing the number of boundary mesh sites using Polygon.resample() or Polygon.buffer(eps) where eps is 0 or a small positive float.\n",
      "Constructing Voronoi polygons:  74%|███████▍  | 332061/447803 [03:06<01:04, 1798.20it/s]Malformed Voronoi cell surrounding boundary site 332161. Try changing the number of boundary mesh sites using Polygon.resample() or Polygon.buffer(eps) where eps is 0 or a small positive float.\n",
      "Malformed Voronoi cell surrounding boundary site 332210. Try changing the number of boundary mesh sites using Polygon.resample() or Polygon.buffer(eps) where eps is 0 or a small positive float.\n",
      "Constructing Voronoi polygons:  75%|███████▍  | 335304/447803 [03:08<01:04, 1755.87it/s]Malformed Voronoi cell surrounding boundary site 335405. Try changing the number of boundary mesh sites using Polygon.resample() or Polygon.buffer(eps) where eps is 0 or a small positive float.\n",
      "Constructing Voronoi polygons:  75%|███████▍  | 335658/447803 [03:08<01:05, 1719.65it/s]Malformed Voronoi cell surrounding boundary site 335690. Try changing the number of boundary mesh sites using Polygon.resample() or Polygon.buffer(eps) where eps is 0 or a small positive float.\n",
      "Malformed Voronoi cell surrounding boundary site 335692. Try changing the number of boundary mesh sites using Polygon.resample() or Polygon.buffer(eps) where eps is 0 or a small positive float.\n",
      "Constructing Voronoi polygons:  75%|███████▌  | 336182/447803 [03:09<01:05, 1709.73it/s]Malformed Voronoi cell surrounding boundary site 336197. Try changing the number of boundary mesh sites using Polygon.resample() or Polygon.buffer(eps) where eps is 0 or a small positive float.\n",
      "Malformed Voronoi cell surrounding boundary site 336201. Try changing the number of boundary mesh sites using Polygon.resample() or Polygon.buffer(eps) where eps is 0 or a small positive float.\n",
      "Constructing Voronoi polygons:  75%|███████▌  | 336885/447803 [03:09<01:06, 1671.59it/s]Malformed Voronoi cell surrounding boundary site 336968. Try changing the number of boundary mesh sites using Polygon.resample() or Polygon.buffer(eps) where eps is 0 or a small positive float.\n",
      "Malformed Voronoi cell surrounding boundary site 336972. Try changing the number of boundary mesh sites using Polygon.resample() or Polygon.buffer(eps) where eps is 0 or a small positive float.\n",
      "Malformed Voronoi cell surrounding boundary site 336992. Try changing the number of boundary mesh sites using Polygon.resample() or Polygon.buffer(eps) where eps is 0 or a small positive float.\n",
      "Constructing Voronoi polygons:  75%|███████▌  | 337781/447803 [03:10<01:03, 1745.98it/s]Malformed Voronoi cell surrounding boundary site 337840. Try changing the number of boundary mesh sites using Polygon.resample() or Polygon.buffer(eps) where eps is 0 or a small positive float.\n",
      "Constructing Voronoi polygons:  76%|███████▌  | 339070/447803 [03:10<01:00, 1806.01it/s]Malformed Voronoi cell surrounding boundary site 339104. Try changing the number of boundary mesh sites using Polygon.resample() or Polygon.buffer(eps) where eps is 0 or a small positive float.\n",
      "Malformed Voronoi cell surrounding boundary site 339107. Try changing the number of boundary mesh sites using Polygon.resample() or Polygon.buffer(eps) where eps is 0 or a small positive float.\n",
      "Malformed Voronoi cell surrounding boundary site 339110. Try changing the number of boundary mesh sites using Polygon.resample() or Polygon.buffer(eps) where eps is 0 or a small positive float.\n",
      "Malformed Voronoi cell surrounding boundary site 339205. Try changing the number of boundary mesh sites using Polygon.resample() or Polygon.buffer(eps) where eps is 0 or a small positive float.\n",
      "Malformed Voronoi cell surrounding boundary site 339216. Try changing the number of boundary mesh sites using Polygon.resample() or Polygon.buffer(eps) where eps is 0 or a small positive float.\n",
      "Constructing Voronoi polygons:  76%|███████▌  | 339985/447803 [03:11<01:01, 1742.78it/s]Malformed Voronoi cell surrounding boundary site 340065. Try changing the number of boundary mesh sites using Polygon.resample() or Polygon.buffer(eps) where eps is 0 or a small positive float.\n",
      "Constructing Voronoi polygons:  76%|███████▌  | 340162/447803 [03:11<01:04, 1671.29it/s]Malformed Voronoi cell surrounding boundary site 340267. Try changing the number of boundary mesh sites using Polygon.resample() or Polygon.buffer(eps) where eps is 0 or a small positive float.\n",
      "Constructing Voronoi polygons:  76%|███████▌  | 340657/447803 [03:11<01:08, 1562.64it/s]Malformed Voronoi cell surrounding boundary site 340806. Try changing the number of boundary mesh sites using Polygon.resample() or Polygon.buffer(eps) where eps is 0 or a small positive float.\n",
      "Constructing Voronoi polygons:  76%|███████▋  | 342375/447803 [03:12<01:04, 1641.09it/s]Malformed Voronoi cell surrounding boundary site 342502. Try changing the number of boundary mesh sites using Polygon.resample() or Polygon.buffer(eps) where eps is 0 or a small positive float.\n",
      "Constructing Voronoi polygons:  77%|███████▋  | 343657/447803 [03:13<01:01, 1706.54it/s]Malformed Voronoi cell surrounding boundary site 343781. Try changing the number of boundary mesh sites using Polygon.resample() or Polygon.buffer(eps) where eps is 0 or a small positive float.\n",
      "Constructing Voronoi polygons:  77%|███████▋  | 343840/447803 [03:13<00:59, 1738.63it/s]Malformed Voronoi cell surrounding boundary site 343906. Try changing the number of boundary mesh sites using Polygon.resample() or Polygon.buffer(eps) where eps is 0 or a small positive float.\n",
      "Malformed Voronoi cell surrounding boundary site 343930. Try changing the number of boundary mesh sites using Polygon.resample() or Polygon.buffer(eps) where eps is 0 or a small positive float.\n",
      "Constructing Voronoi polygons:  77%|███████▋  | 344952/447803 [03:14<00:56, 1833.70it/s]Malformed Voronoi cell surrounding boundary site 345001. Try changing the number of boundary mesh sites using Polygon.resample() or Polygon.buffer(eps) where eps is 0 or a small positive float.\n",
      "Constructing Voronoi polygons:  77%|███████▋  | 346802/447803 [03:15<00:56, 1796.42it/s]Malformed Voronoi cell surrounding boundary site 346916. Try changing the number of boundary mesh sites using Polygon.resample() or Polygon.buffer(eps) where eps is 0 or a small positive float.\n",
      "Malformed Voronoi cell surrounding boundary site 346928. Try changing the number of boundary mesh sites using Polygon.resample() or Polygon.buffer(eps) where eps is 0 or a small positive float.\n",
      "Constructing Voronoi polygons:  78%|███████▊  | 347733/447803 [03:15<00:55, 1793.65it/s]Malformed Voronoi cell surrounding boundary site 347841. Try changing the number of boundary mesh sites using Polygon.resample() or Polygon.buffer(eps) where eps is 0 or a small positive float.\n",
      "Constructing Voronoi polygons:  78%|███████▊  | 349197/447803 [03:16<00:56, 1755.89it/s]Malformed Voronoi cell surrounding boundary site 349276. Try changing the number of boundary mesh sites using Polygon.resample() or Polygon.buffer(eps) where eps is 0 or a small positive float.\n",
      "Constructing Voronoi polygons:  78%|███████▊  | 350306/447803 [03:17<00:53, 1818.13it/s]Malformed Voronoi cell surrounding boundary site 350316. Try changing the number of boundary mesh sites using Polygon.resample() or Polygon.buffer(eps) where eps is 0 or a small positive float.\n",
      "Constructing Voronoi polygons:  78%|███████▊  | 350488/447803 [03:17<00:55, 1754.99it/s]Malformed Voronoi cell surrounding boundary site 350544. Try changing the number of boundary mesh sites using Polygon.resample() or Polygon.buffer(eps) where eps is 0 or a small positive float.\n",
      "Constructing Voronoi polygons:  79%|███████▊  | 352507/447803 [03:18<00:53, 1788.26it/s]Malformed Voronoi cell surrounding boundary site 352668. Try changing the number of boundary mesh sites using Polygon.resample() or Polygon.buffer(eps) where eps is 0 or a small positive float.\n",
      "Constructing Voronoi polygons:  79%|███████▉  | 353607/447803 [03:19<00:52, 1804.86it/s]Malformed Voronoi cell surrounding boundary site 353681. Try changing the number of boundary mesh sites using Polygon.resample() or Polygon.buffer(eps) where eps is 0 or a small positive float.\n",
      "Malformed Voronoi cell surrounding boundary site 353751. Try changing the number of boundary mesh sites using Polygon.resample() or Polygon.buffer(eps) where eps is 0 or a small positive float.\n",
      "Constructing Voronoi polygons:  79%|███████▉  | 353788/447803 [03:19<00:56, 1656.03it/s]Malformed Voronoi cell surrounding boundary site 353789. Try changing the number of boundary mesh sites using Polygon.resample() or Polygon.buffer(eps) where eps is 0 or a small positive float.\n",
      "Malformed Voronoi cell surrounding boundary site 353791. Try changing the number of boundary mesh sites using Polygon.resample() or Polygon.buffer(eps) where eps is 0 or a small positive float.\n",
      "Constructing Voronoi polygons:  79%|███████▉  | 354486/447803 [03:19<00:54, 1725.75it/s]Malformed Voronoi cell surrounding boundary site 354515. Try changing the number of boundary mesh sites using Polygon.resample() or Polygon.buffer(eps) where eps is 0 or a small positive float.\n",
      "Malformed Voronoi cell surrounding boundary site 354520. Try changing the number of boundary mesh sites using Polygon.resample() or Polygon.buffer(eps) where eps is 0 or a small positive float.\n",
      "Constructing Voronoi polygons:  80%|███████▉  | 356148/447803 [03:20<00:51, 1793.37it/s]Malformed Voronoi cell surrounding boundary site 356264. Try changing the number of boundary mesh sites using Polygon.resample() or Polygon.buffer(eps) where eps is 0 or a small positive float.\n",
      "Malformed Voronoi cell surrounding boundary site 356296. Try changing the number of boundary mesh sites using Polygon.resample() or Polygon.buffer(eps) where eps is 0 or a small positive float.\n",
      "Constructing Voronoi polygons:  80%|████████  | 358823/447803 [03:22<00:49, 1783.57it/s]Malformed Voronoi cell surrounding boundary site 358995. Try changing the number of boundary mesh sites using Polygon.resample() or Polygon.buffer(eps) where eps is 0 or a small positive float.\n",
      "Constructing Voronoi polygons:  81%|████████  | 360809/447803 [03:23<00:52, 1670.95it/s]Malformed Voronoi cell surrounding boundary site 360870. Try changing the number of boundary mesh sites using Polygon.resample() or Polygon.buffer(eps) where eps is 0 or a small positive float.\n",
      "Constructing Voronoi polygons:  81%|████████  | 361884/447803 [03:24<00:49, 1718.40it/s]Malformed Voronoi cell surrounding boundary site 361956. Try changing the number of boundary mesh sites using Polygon.resample() or Polygon.buffer(eps) where eps is 0 or a small positive float.\n",
      "Constructing Voronoi polygons:  81%|████████  | 363127/447803 [03:24<00:49, 1727.97it/s]Malformed Voronoi cell surrounding boundary site 363196. Try changing the number of boundary mesh sites using Polygon.resample() or Polygon.buffer(eps) where eps is 0 or a small positive float.\n",
      "Constructing Voronoi polygons:  81%|████████  | 363480/447803 [03:24<00:48, 1744.79it/s]Malformed Voronoi cell surrounding boundary site 363525. Try changing the number of boundary mesh sites using Polygon.resample() or Polygon.buffer(eps) where eps is 0 or a small positive float.\n",
      "Constructing Voronoi polygons:  81%|████████▏ | 364044/447803 [03:25<00:46, 1808.58it/s]Malformed Voronoi cell surrounding boundary site 364170. Try changing the number of boundary mesh sites using Polygon.resample() or Polygon.buffer(eps) where eps is 0 or a small positive float.\n",
      "Constructing Voronoi polygons:  82%|████████▏ | 365138/447803 [03:25<00:46, 1778.57it/s]Malformed Voronoi cell surrounding boundary site 365295. Try changing the number of boundary mesh sites using Polygon.resample() or Polygon.buffer(eps) where eps is 0 or a small positive float.\n",
      "Constructing Voronoi polygons:  82%|████████▏ | 367514/447803 [03:27<00:44, 1807.95it/s]Malformed Voronoi cell surrounding boundary site 367557. Try changing the number of boundary mesh sites using Polygon.resample() or Polygon.buffer(eps) where eps is 0 or a small positive float.\n",
      "Constructing Voronoi polygons:  82%|████████▏ | 368231/447803 [03:27<00:45, 1758.54it/s]Malformed Voronoi cell surrounding boundary site 368343. Try changing the number of boundary mesh sites using Polygon.resample() or Polygon.buffer(eps) where eps is 0 or a small positive float.\n",
      "Constructing Voronoi polygons:  82%|████████▏ | 368977/447803 [03:28<00:44, 1766.20it/s]Malformed Voronoi cell surrounding boundary site 369149. Try changing the number of boundary mesh sites using Polygon.resample() or Polygon.buffer(eps) where eps is 0 or a small positive float.\n",
      "Constructing Voronoi polygons:  82%|████████▏ | 369336/447803 [03:28<00:44, 1772.32it/s]Malformed Voronoi cell surrounding boundary site 369496. Try changing the number of boundary mesh sites using Polygon.resample() or Polygon.buffer(eps) where eps is 0 or a small positive float.\n",
      "Constructing Voronoi polygons:  83%|████████▎ | 369688/447803 [03:28<00:45, 1709.27it/s]Malformed Voronoi cell surrounding boundary site 369760. Try changing the number of boundary mesh sites using Polygon.resample() or Polygon.buffer(eps) where eps is 0 or a small positive float.\n",
      "Constructing Voronoi polygons:  83%|████████▎ | 370791/447803 [03:29<00:44, 1743.16it/s]Malformed Voronoi cell surrounding boundary site 370874. Try changing the number of boundary mesh sites using Polygon.resample() or Polygon.buffer(eps) where eps is 0 or a small positive float.\n",
      "Constructing Voronoi polygons:  83%|████████▎ | 372220/447803 [03:30<00:44, 1703.89it/s]Malformed Voronoi cell surrounding boundary site 372320. Try changing the number of boundary mesh sites using Polygon.resample() or Polygon.buffer(eps) where eps is 0 or a small positive float.\n",
      "Constructing Voronoi polygons:  83%|████████▎ | 373519/447803 [03:30<00:40, 1818.88it/s]Malformed Voronoi cell surrounding boundary site 373672. Try changing the number of boundary mesh sites using Polygon.resample() or Polygon.buffer(eps) where eps is 0 or a small positive float.\n",
      "Constructing Voronoi polygons:  84%|████████▎ | 374439/447803 [03:31<00:42, 1728.66it/s]Malformed Voronoi cell surrounding boundary site 374544. Try changing the number of boundary mesh sites using Polygon.resample() or Polygon.buffer(eps) where eps is 0 or a small positive float.\n",
      "Constructing Voronoi polygons:  85%|████████▌ | 381994/447803 [03:35<00:36, 1824.07it/s]Malformed Voronoi cell surrounding boundary site 382125. Try changing the number of boundary mesh sites using Polygon.resample() or Polygon.buffer(eps) where eps is 0 or a small positive float.\n",
      "Constructing Voronoi polygons:  86%|████████▌ | 383989/447803 [03:36<00:35, 1774.64it/s]Malformed Voronoi cell surrounding boundary site 384007. Try changing the number of boundary mesh sites using Polygon.resample() or Polygon.buffer(eps) where eps is 0 or a small positive float.\n",
      "Constructing Voronoi polygons:  87%|████████▋ | 390579/447803 [03:40<00:32, 1738.56it/s]Malformed Voronoi cell surrounding boundary site 390607. Try changing the number of boundary mesh sites using Polygon.resample() or Polygon.buffer(eps) where eps is 0 or a small positive float.\n",
      "Constructing Voronoi polygons:  88%|████████▊ | 392547/447803 [03:41<00:30, 1808.86it/s]Malformed Voronoi cell surrounding boundary site 392672. Try changing the number of boundary mesh sites using Polygon.resample() or Polygon.buffer(eps) where eps is 0 or a small positive float.\n",
      "Malformed Voronoi cell surrounding boundary site 392675. Try changing the number of boundary mesh sites using Polygon.resample() or Polygon.buffer(eps) where eps is 0 or a small positive float.\n",
      "Constructing Voronoi polygons:  89%|████████▉ | 397750/447803 [03:44<00:27, 1797.23it/s]Malformed Voronoi cell surrounding boundary site 397778. Try changing the number of boundary mesh sites using Polygon.resample() or Polygon.buffer(eps) where eps is 0 or a small positive float.\n",
      "Constructing Voronoi polygons:  89%|████████▉ | 398115/447803 [03:44<00:27, 1777.08it/s]Malformed Voronoi cell surrounding boundary site 398287. Try changing the number of boundary mesh sites using Polygon.resample() or Polygon.buffer(eps) where eps is 0 or a small positive float.\n",
      "Constructing Voronoi polygons:  89%|████████▉ | 398865/447803 [03:45<00:26, 1846.16it/s]Malformed Voronoi cell surrounding boundary site 398943. Try changing the number of boundary mesh sites using Polygon.resample() or Polygon.buffer(eps) where eps is 0 or a small positive float.\n",
      "Malformed Voronoi cell surrounding boundary site 398963. Try changing the number of boundary mesh sites using Polygon.resample() or Polygon.buffer(eps) where eps is 0 or a small positive float.\n",
      "Constructing Voronoi polygons:  89%|████████▉ | 399231/447803 [03:45<00:27, 1773.69it/s]Malformed Voronoi cell surrounding boundary site 399391. Try changing the number of boundary mesh sites using Polygon.resample() or Polygon.buffer(eps) where eps is 0 or a small positive float.\n",
      "Constructing Voronoi polygons:  90%|████████▉ | 401244/447803 [03:46<00:26, 1759.27it/s]Malformed Voronoi cell surrounding boundary site 401374. Try changing the number of boundary mesh sites using Polygon.resample() or Polygon.buffer(eps) where eps is 0 or a small positive float.\n",
      "Constructing Voronoi polygons:  90%|████████▉ | 401998/447803 [03:47<00:25, 1804.94it/s]Malformed Voronoi cell surrounding boundary site 402076. Try changing the number of boundary mesh sites using Polygon.resample() or Polygon.buffer(eps) where eps is 0 or a small positive float.\n",
      "Malformed Voronoi cell surrounding boundary site 402102. Try changing the number of boundary mesh sites using Polygon.resample() or Polygon.buffer(eps) where eps is 0 or a small positive float.\n",
      "Constructing Voronoi polygons:  90%|████████▉ | 402548/447803 [03:47<00:25, 1776.39it/s]Malformed Voronoi cell surrounding boundary site 402687. Try changing the number of boundary mesh sites using Polygon.resample() or Polygon.buffer(eps) where eps is 0 or a small positive float.\n",
      "Constructing Voronoi polygons:  90%|█████████ | 404222/447803 [03:48<00:24, 1778.70it/s]Malformed Voronoi cell surrounding boundary site 404279. Try changing the number of boundary mesh sites using Polygon.resample() or Polygon.buffer(eps) where eps is 0 or a small positive float.\n",
      "Constructing Voronoi polygons:  91%|█████████ | 406384/447803 [03:49<00:25, 1642.04it/s]Malformed Voronoi cell surrounding boundary site 406506. Try changing the number of boundary mesh sites using Polygon.resample() or Polygon.buffer(eps) where eps is 0 or a small positive float.\n",
      "Constructing Voronoi polygons:  91%|█████████ | 406920/447803 [03:49<00:23, 1725.20it/s]Malformed Voronoi cell surrounding boundary site 406938. Try changing the number of boundary mesh sites using Polygon.resample() or Polygon.buffer(eps) where eps is 0 or a small positive float.\n",
      "Constructing Voronoi polygons:  91%|█████████ | 408559/447803 [03:50<00:23, 1663.99it/s]Malformed Voronoi cell surrounding boundary site 408577. Try changing the number of boundary mesh sites using Polygon.resample() or Polygon.buffer(eps) where eps is 0 or a small positive float.\n",
      "Malformed Voronoi cell surrounding boundary site 408578. Try changing the number of boundary mesh sites using Polygon.resample() or Polygon.buffer(eps) where eps is 0 or a small positive float.\n",
      "Malformed Voronoi cell surrounding boundary site 408582. Try changing the number of boundary mesh sites using Polygon.resample() or Polygon.buffer(eps) where eps is 0 or a small positive float.\n",
      "Constructing Voronoi polygons:  91%|█████████▏| 409436/447803 [03:51<00:22, 1679.36it/s]Malformed Voronoi cell surrounding boundary site 409525. Try changing the number of boundary mesh sites using Polygon.resample() or Polygon.buffer(eps) where eps is 0 or a small positive float.\n",
      "Constructing Voronoi polygons:  92%|█████████▏| 409782/447803 [03:51<00:22, 1679.33it/s]Malformed Voronoi cell surrounding boundary site 409796. Try changing the number of boundary mesh sites using Polygon.resample() or Polygon.buffer(eps) where eps is 0 or a small positive float.\n",
      "Constructing Voronoi polygons:  92%|█████████▏| 410119/447803 [03:51<00:23, 1624.09it/s]Malformed Voronoi cell surrounding boundary site 410181. Try changing the number of boundary mesh sites using Polygon.resample() or Polygon.buffer(eps) where eps is 0 or a small positive float.\n",
      "Malformed Voronoi cell surrounding boundary site 410193. Try changing the number of boundary mesh sites using Polygon.resample() or Polygon.buffer(eps) where eps is 0 or a small positive float.\n",
      "Constructing Voronoi polygons:  92%|█████████▏| 410666/447803 [03:52<00:21, 1762.38it/s]Malformed Voronoi cell surrounding boundary site 410669. Try changing the number of boundary mesh sites using Polygon.resample() or Polygon.buffer(eps) where eps is 0 or a small positive float.\n",
      "Malformed Voronoi cell surrounding boundary site 410683. Try changing the number of boundary mesh sites using Polygon.resample() or Polygon.buffer(eps) where eps is 0 or a small positive float.\n",
      "Constructing Voronoi polygons:  92%|█████████▏| 411727/447803 [03:52<00:20, 1757.39it/s]Malformed Voronoi cell surrounding boundary site 411854. Try changing the number of boundary mesh sites using Polygon.resample() or Polygon.buffer(eps) where eps is 0 or a small positive float.\n",
      "Constructing Voronoi polygons:  92%|█████████▏| 413173/447803 [03:53<00:19, 1776.80it/s]Malformed Voronoi cell surrounding boundary site 413329. Try changing the number of boundary mesh sites using Polygon.resample() or Polygon.buffer(eps) where eps is 0 or a small positive float.\n",
      "Constructing Voronoi polygons:  93%|█████████▎| 415727/447803 [03:55<00:17, 1847.61it/s]Malformed Voronoi cell surrounding boundary site 415891. Try changing the number of boundary mesh sites using Polygon.resample() or Polygon.buffer(eps) where eps is 0 or a small positive float.\n",
      "Constructing Voronoi polygons:  93%|█████████▎| 416093/447803 [03:55<00:19, 1660.17it/s]Malformed Voronoi cell surrounding boundary site 416190. Try changing the number of boundary mesh sites using Polygon.resample() or Polygon.buffer(eps) where eps is 0 or a small positive float.\n",
      "Malformed Voronoi cell surrounding boundary site 416239. Try changing the number of boundary mesh sites using Polygon.resample() or Polygon.buffer(eps) where eps is 0 or a small positive float.\n",
      "Malformed Voronoi cell surrounding boundary site 416245. Try changing the number of boundary mesh sites using Polygon.resample() or Polygon.buffer(eps) where eps is 0 or a small positive float.\n",
      "Constructing Voronoi polygons:  93%|█████████▎| 416428/447803 [03:55<00:19, 1609.90it/s]Malformed Voronoi cell surrounding boundary site 416533. Try changing the number of boundary mesh sites using Polygon.resample() or Polygon.buffer(eps) where eps is 0 or a small positive float.\n",
      "Constructing Voronoi polygons:  93%|█████████▎| 416751/447803 [03:55<00:19, 1584.78it/s]Malformed Voronoi cell surrounding boundary site 416808. Try changing the number of boundary mesh sites using Polygon.resample() or Polygon.buffer(eps) where eps is 0 or a small positive float.\n",
      "Constructing Voronoi polygons:  93%|█████████▎| 416911/447803 [03:55<00:19, 1571.76it/s]Malformed Voronoi cell surrounding boundary site 416949. Try changing the number of boundary mesh sites using Polygon.resample() or Polygon.buffer(eps) where eps is 0 or a small positive float.\n",
      "Constructing Voronoi polygons:  93%|█████████▎| 417227/447803 [03:56<00:20, 1521.80it/s]Malformed Voronoi cell surrounding boundary site 417279. Try changing the number of boundary mesh sites using Polygon.resample() or Polygon.buffer(eps) where eps is 0 or a small positive float.\n",
      "Constructing Voronoi polygons:  94%|█████████▎| 418843/447803 [03:56<00:16, 1762.60it/s]Malformed Voronoi cell surrounding boundary site 418942. Try changing the number of boundary mesh sites using Polygon.resample() or Polygon.buffer(eps) where eps is 0 or a small positive float.\n",
      "Malformed Voronoi cell surrounding boundary site 419001. Try changing the number of boundary mesh sites using Polygon.resample() or Polygon.buffer(eps) where eps is 0 or a small positive float.\n",
      "Constructing Voronoi polygons:  94%|█████████▎| 419209/447803 [03:57<00:16, 1776.64it/s]Malformed Voronoi cell surrounding boundary site 419328. Try changing the number of boundary mesh sites using Polygon.resample() or Polygon.buffer(eps) where eps is 0 or a small positive float.\n",
      "Malformed Voronoi cell surrounding boundary site 419329. Try changing the number of boundary mesh sites using Polygon.resample() or Polygon.buffer(eps) where eps is 0 or a small positive float.\n",
      "Constructing Voronoi polygons:  94%|█████████▍| 422356/447803 [03:58<00:13, 1836.67it/s]Malformed Voronoi cell surrounding boundary site 422518. Try changing the number of boundary mesh sites using Polygon.resample() or Polygon.buffer(eps) where eps is 0 or a small positive float.\n",
      "Constructing Voronoi polygons:  94%|█████████▍| 423094/447803 [03:59<00:14, 1752.41it/s]Malformed Voronoi cell surrounding boundary site 423207. Try changing the number of boundary mesh sites using Polygon.resample() or Polygon.buffer(eps) where eps is 0 or a small positive float.\n",
      "Constructing Voronoi polygons:  95%|█████████▍| 423436/447803 [03:59<00:15, 1573.48it/s]Malformed Voronoi cell surrounding boundary site 423593. Try changing the number of boundary mesh sites using Polygon.resample() or Polygon.buffer(eps) where eps is 0 or a small positive float.\n",
      "Malformed Voronoi cell surrounding boundary site 423598. Try changing the number of boundary mesh sites using Polygon.resample() or Polygon.buffer(eps) where eps is 0 or a small positive float.\n",
      "Malformed Voronoi cell surrounding boundary site 423601. Try changing the number of boundary mesh sites using Polygon.resample() or Polygon.buffer(eps) where eps is 0 or a small positive float.\n",
      "Constructing Voronoi polygons:  95%|█████████▍| 423602/447803 [03:59<00:15, 1594.25it/s]Malformed Voronoi cell surrounding boundary site 423681. Try changing the number of boundary mesh sites using Polygon.resample() or Polygon.buffer(eps) where eps is 0 or a small positive float.\n",
      "Constructing Voronoi polygons:  95%|█████████▍| 423764/447803 [03:59<00:15, 1576.69it/s]Malformed Voronoi cell surrounding boundary site 423776. Try changing the number of boundary mesh sites using Polygon.resample() or Polygon.buffer(eps) where eps is 0 or a small positive float.\n",
      "Malformed Voronoi cell surrounding boundary site 423822. Try changing the number of boundary mesh sites using Polygon.resample() or Polygon.buffer(eps) where eps is 0 or a small positive float.\n",
      "Malformed Voronoi cell surrounding boundary site 423827. Try changing the number of boundary mesh sites using Polygon.resample() or Polygon.buffer(eps) where eps is 0 or a small positive float.\n",
      "Malformed Voronoi cell surrounding boundary site 423891. Try changing the number of boundary mesh sites using Polygon.resample() or Polygon.buffer(eps) where eps is 0 or a small positive float.\n",
      "Constructing Voronoi polygons:  95%|█████████▍| 423923/447803 [03:59<00:15, 1573.61it/s]Malformed Voronoi cell surrounding boundary site 424014. Try changing the number of boundary mesh sites using Polygon.resample() or Polygon.buffer(eps) where eps is 0 or a small positive float.\n",
      "Malformed Voronoi cell surrounding boundary site 424023. Try changing the number of boundary mesh sites using Polygon.resample() or Polygon.buffer(eps) where eps is 0 or a small positive float.\n",
      "Constructing Voronoi polygons:  95%|█████████▌| 427203/447803 [04:01<00:11, 1771.23it/s]Malformed Voronoi cell surrounding boundary site 427270. Try changing the number of boundary mesh sites using Polygon.resample() or Polygon.buffer(eps) where eps is 0 or a small positive float.\n",
      "Constructing Voronoi polygons:  96%|█████████▌| 430112/447803 [04:03<00:09, 1794.89it/s]Malformed Voronoi cell surrounding boundary site 430186. Try changing the number of boundary mesh sites using Polygon.resample() or Polygon.buffer(eps) where eps is 0 or a small positive float.\n",
      "Constructing Voronoi polygons:  96%|█████████▋| 431202/447803 [04:04<00:09, 1713.86it/s]Malformed Voronoi cell surrounding boundary site 431284. Try changing the number of boundary mesh sites using Polygon.resample() or Polygon.buffer(eps) where eps is 0 or a small positive float.\n",
      "Constructing Voronoi polygons:  98%|█████████▊| 439977/447803 [04:09<00:04, 1766.11it/s]Malformed Voronoi cell surrounding boundary site 440090. Try changing the number of boundary mesh sites using Polygon.resample() or Polygon.buffer(eps) where eps is 0 or a small positive float.\n",
      "Constructing Voronoi polygons:  99%|█████████▊| 441965/447803 [04:10<00:03, 1722.18it/s]Malformed Voronoi cell surrounding boundary site 442023. Try changing the number of boundary mesh sites using Polygon.resample() or Polygon.buffer(eps) where eps is 0 or a small positive float.\n",
      "Constructing Voronoi polygons:  99%|█████████▉| 444888/447803 [04:12<00:01, 1720.53it/s]Malformed Voronoi cell surrounding boundary site 445044. Try changing the number of boundary mesh sites using Polygon.resample() or Polygon.buffer(eps) where eps is 0 or a small positive float.\n",
      "Malformed Voronoi cell surrounding boundary site 445048. Try changing the number of boundary mesh sites using Polygon.resample() or Polygon.buffer(eps) where eps is 0 or a small positive float.\n",
      "Constructing Voronoi polygons:  99%|█████████▉| 445076/447803 [04:12<00:01, 1746.48it/s]Malformed Voronoi cell surrounding boundary site 445080. Try changing the number of boundary mesh sites using Polygon.resample() or Polygon.buffer(eps) where eps is 0 or a small positive float.\n",
      "Constructing Voronoi polygons: 100%|█████████▉| 446691/447803 [04:13<00:00, 1775.62it/s]Malformed Voronoi cell surrounding boundary site 446786. Try changing the number of boundary mesh sites using Polygon.resample() or Polygon.buffer(eps) where eps is 0 or a small positive float.\n",
      "Constructing Voronoi polygons: 100%|██████████| 447803/447803 [04:13<00:00, 1763.66it/s]\n"
     ]
    },
    {
     "name": "stdout",
     "output_type": "stream",
     "text": [
      "num_sites: 447803\n",
      "num_elements: 893242\n",
      "min_edge_length: 0.012182320756353462\n",
      "max_edge_length: 0.05131381184995252\n",
      "mean_edge_length: 0.028753632013964317\n",
      "min_area: 0.00012407484567903467\n",
      "max_area: 0.0015607170373898127\n",
      "mean_area: 0.0007093658525267855\n",
      "coherence_length: 0.1\n",
      "length_units: um\n"
     ]
    },
    {
     "name": "stderr",
     "output_type": "stream",
     "text": [
      "Constructing Voronoi polygons:   0%|          | 0/840981 [00:00<?, ?it/s]Malformed Voronoi cell surrounding boundary site 19. Try changing the number of boundary mesh sites using Polygon.resample() or Polygon.buffer(eps) where eps is 0 or a small positive float.\n",
      "Constructing Voronoi polygons:   0%|          | 133/840981 [00:00<25:30, 549.29it/s]Malformed Voronoi cell surrounding boundary site 135. Try changing the number of boundary mesh sites using Polygon.resample() or Polygon.buffer(eps) where eps is 0 or a small positive float.\n",
      "Constructing Voronoi polygons:   0%|          | 967/840981 [00:00<09:56, 1408.72it/s]Malformed Voronoi cell surrounding boundary site 1099. Try changing the number of boundary mesh sites using Polygon.resample() or Polygon.buffer(eps) where eps is 0 or a small positive float.\n",
      "Constructing Voronoi polygons:  78%|███████▊  | 657664/840981 [07:09<02:53, 1057.40it/s]Malformed Voronoi cell surrounding boundary site 657762. Try changing the number of boundary mesh sites using Polygon.resample() or Polygon.buffer(eps) where eps is 0 or a small positive float.\n",
      "Constructing Voronoi polygons:  83%|████████▎ | 698338/840981 [07:48<02:13, 1072.10it/s]Malformed Voronoi cell surrounding boundary site 698445. Try changing the number of boundary mesh sites using Polygon.resample() or Polygon.buffer(eps) where eps is 0 or a small positive float.\n",
      "Constructing Voronoi polygons: 100%|█████████▉| 839346/840981 [10:08<00:01, 851.70it/s] Malformed Voronoi cell surrounding boundary site 839389. Try changing the number of boundary mesh sites using Polygon.resample() or Polygon.buffer(eps) where eps is 0 or a small positive float.\n",
      "Constructing Voronoi polygons: 100%|██████████| 840981/840981 [10:09<00:00, 1379.23it/s]\n"
     ]
    },
    {
     "name": "stdout",
     "output_type": "stream",
     "text": [
      "num_sites: 840981\n",
      "num_elements: 1678759\n",
      "min_edge_length: 0.009295528187511821\n",
      "max_edge_length: 0.042349684164220185\n",
      "mean_edge_length: 0.023534003299881645\n",
      "min_area: 8.809648730679103e-05\n",
      "max_area: 0.0010403761846545518\n",
      "mean_area: 0.00047564019167348464\n",
      "coherence_length: 0.1\n",
      "length_units: um\n"
     ]
    }
   ],
   "source": [
    "for device in devices_list:\n",
    "\trs.build_mesh(device,max_edge_L=xi/2,plot=False)"
   ]
  },
  {
   "cell_type": "code",
   "execution_count": null,
   "metadata": {},
   "outputs": [
    {
     "name": "stdout",
     "output_type": "stream",
     "text": [
      "--------------------------------------------------------------------------------\n"
     ]
    },
    {
     "name": "stderr",
     "output_type": "stream",
     "text": [
      "Simulating: 100%|█████████▉| 200/200 [01:28<00:00,  2.25tau/s ]\n"
     ]
    },
    {
     "name": "stdout",
     "output_type": "stream",
     "text": [
      "1/50 done\n"
     ]
    },
    {
     "name": "stderr",
     "output_type": "stream",
     "text": [
      "Simulating: 100%|█████████▉| 200/200 [01:33<00:00,  2.14tau/s ]\n"
     ]
    },
    {
     "name": "stdout",
     "output_type": "stream",
     "text": [
      "2/50 done\n"
     ]
    },
    {
     "name": "stderr",
     "output_type": "stream",
     "text": [
      "Simulating: 100%|█████████▉| 200/200 [01:35<00:00,  2.10tau/s ]\n"
     ]
    },
    {
     "name": "stdout",
     "output_type": "stream",
     "text": [
      "3/50 done\n"
     ]
    },
    {
     "name": "stderr",
     "output_type": "stream",
     "text": [
      "Simulating: 100%|█████████▉| 200/200 [01:38<00:00,  2.02tau/s ]\n"
     ]
    },
    {
     "name": "stdout",
     "output_type": "stream",
     "text": [
      "4/50 done\n"
     ]
    },
    {
     "name": "stderr",
     "output_type": "stream",
     "text": [
      "Simulating: 100%|█████████▉| 200/200 [01:40<00:00,  1.99tau/s ]\n"
     ]
    },
    {
     "name": "stdout",
     "output_type": "stream",
     "text": [
      "5/50 done\n"
     ]
    },
    {
     "name": "stderr",
     "output_type": "stream",
     "text": [
      "Simulating: 100%|█████████▉| 200/200 [01:42<00:00,  1.94tau/s ]\n"
     ]
    },
    {
     "name": "stdout",
     "output_type": "stream",
     "text": [
      "6/50 done\n"
     ]
    },
    {
     "name": "stderr",
     "output_type": "stream",
     "text": [
      "Simulating: 100%|█████████▉| 200/200 [01:42<00:00,  1.96tau/s ]\n"
     ]
    },
    {
     "name": "stdout",
     "output_type": "stream",
     "text": [
      "7/50 done\n"
     ]
    },
    {
     "name": "stderr",
     "output_type": "stream",
     "text": [
      "Simulating: 100%|█████████▉| 200/200 [01:39<00:00,  2.02tau/s ]\n"
     ]
    },
    {
     "name": "stdout",
     "output_type": "stream",
     "text": [
      "8/50 done\n"
     ]
    },
    {
     "name": "stderr",
     "output_type": "stream",
     "text": [
      "Simulating: 100%|█████████▉| 200/200 [01:38<00:00,  2.03tau/s ]\n"
     ]
    },
    {
     "name": "stdout",
     "output_type": "stream",
     "text": [
      "9/50 done\n"
     ]
    },
    {
     "name": "stderr",
     "output_type": "stream",
     "text": [
      "Simulating: 100%|█████████▉| 200/200 [01:36<00:00,  2.06tau/s ]\n"
     ]
    },
    {
     "name": "stdout",
     "output_type": "stream",
     "text": [
      "10/50 done\n"
     ]
    },
    {
     "name": "stderr",
     "output_type": "stream",
     "text": [
      "Simulating: 100%|█████████▉| 200/200 [01:37<00:00,  2.04tau/s ]\n"
     ]
    },
    {
     "name": "stdout",
     "output_type": "stream",
     "text": [
      "11/50 done\n"
     ]
    },
    {
     "name": "stderr",
     "output_type": "stream",
     "text": [
      "Simulating: 100%|█████████▉| 200/200 [01:29<00:00,  2.24tau/s ]\n"
     ]
    },
    {
     "name": "stdout",
     "output_type": "stream",
     "text": [
      "12/50 done\n"
     ]
    },
    {
     "name": "stderr",
     "output_type": "stream",
     "text": [
      "Simulating: 100%|█████████▉| 200/200 [01:26<00:00,  2.32tau/s ]\n"
     ]
    },
    {
     "name": "stdout",
     "output_type": "stream",
     "text": [
      "13/50 done\n"
     ]
    },
    {
     "name": "stderr",
     "output_type": "stream",
     "text": [
      "Simulating: 100%|█████████▉| 200/200 [01:26<00:00,  2.32tau/s ]\n"
     ]
    },
    {
     "name": "stdout",
     "output_type": "stream",
     "text": [
      "14/50 done\n"
     ]
    },
    {
     "name": "stderr",
     "output_type": "stream",
     "text": [
      "Simulating: 100%|█████████▉| 200/200 [01:26<00:00,  2.32tau/s ]\n"
     ]
    },
    {
     "name": "stdout",
     "output_type": "stream",
     "text": [
      "15/50 done\n"
     ]
    },
    {
     "name": "stderr",
     "output_type": "stream",
     "text": [
      "Simulating: 100%|█████████▉| 200/200 [01:18<00:00,  2.56tau/s ]\n"
     ]
    },
    {
     "name": "stdout",
     "output_type": "stream",
     "text": [
      "16/50 done\n"
     ]
    },
    {
     "name": "stderr",
     "output_type": "stream",
     "text": [
      "Simulating: 100%|█████████▉| 200/200 [01:26<00:00,  2.32tau/s ]\n"
     ]
    },
    {
     "name": "stdout",
     "output_type": "stream",
     "text": [
      "17/50 done\n"
     ]
    },
    {
     "name": "stderr",
     "output_type": "stream",
     "text": [
      "Simulating: 100%|█████████▉| 200/200 [01:25<00:00,  2.32tau/s ]\n"
     ]
    },
    {
     "name": "stdout",
     "output_type": "stream",
     "text": [
      "18/50 done\n"
     ]
    },
    {
     "name": "stderr",
     "output_type": "stream",
     "text": [
      "Simulating: 100%|█████████▉| 200/200 [01:24<00:00,  2.35tau/s ]\n"
     ]
    },
    {
     "name": "stdout",
     "output_type": "stream",
     "text": [
      "19/50 done\n"
     ]
    },
    {
     "name": "stderr",
     "output_type": "stream",
     "text": [
      "Simulating: 100%|█████████▉| 200/200 [01:23<00:00,  2.39tau/s ]\n"
     ]
    },
    {
     "name": "stdout",
     "output_type": "stream",
     "text": [
      "20/50 done\n"
     ]
    },
    {
     "name": "stderr",
     "output_type": "stream",
     "text": [
      "Simulating: 100%|█████████▉| 200/200 [01:21<00:00,  2.45tau/s ]\n"
     ]
    },
    {
     "name": "stdout",
     "output_type": "stream",
     "text": [
      "21/50 done\n"
     ]
    },
    {
     "name": "stderr",
     "output_type": "stream",
     "text": [
      "Simulating: 100%|█████████▉| 200/200 [01:20<00:00,  2.48tau/s ]\n"
     ]
    },
    {
     "name": "stdout",
     "output_type": "stream",
     "text": [
      "22/50 done\n"
     ]
    },
    {
     "name": "stderr",
     "output_type": "stream",
     "text": [
      "Simulating: 100%|█████████▉| 200/200 [01:13<00:00,  2.73tau/s ]\n"
     ]
    },
    {
     "name": "stdout",
     "output_type": "stream",
     "text": [
      "23/50 done\n"
     ]
    },
    {
     "name": "stderr",
     "output_type": "stream",
     "text": [
      "Simulating: 100%|█████████▉| 200/200 [01:16<00:00,  2.61tau/s ]\n"
     ]
    },
    {
     "name": "stdout",
     "output_type": "stream",
     "text": [
      "24/50 done\n"
     ]
    },
    {
     "name": "stderr",
     "output_type": "stream",
     "text": [
      "Simulating: 100%|█████████▉| 200/200 [01:12<00:00,  2.74tau/s ]\n"
     ]
    },
    {
     "name": "stdout",
     "output_type": "stream",
     "text": [
      "25/50 done\n"
     ]
    },
    {
     "name": "stderr",
     "output_type": "stream",
     "text": [
      "Simulating: 100%|█████████▉| 200/200 [01:19<00:00,  2.53tau/s ]\n"
     ]
    },
    {
     "name": "stdout",
     "output_type": "stream",
     "text": [
      "26/50 done\n"
     ]
    },
    {
     "name": "stderr",
     "output_type": "stream",
     "text": [
      "Simulating: 100%|█████████▉| 200/200 [01:16<00:00,  2.61tau/s ]\n"
     ]
    },
    {
     "name": "stdout",
     "output_type": "stream",
     "text": [
      "27/50 done\n"
     ]
    },
    {
     "name": "stderr",
     "output_type": "stream",
     "text": [
      "Simulating: 100%|█████████▉| 200/200 [01:18<00:00,  2.54tau/s ]\n"
     ]
    },
    {
     "name": "stdout",
     "output_type": "stream",
     "text": [
      "28/50 done\n"
     ]
    },
    {
     "name": "stderr",
     "output_type": "stream",
     "text": [
      "Simulating: 100%|█████████▉| 200/200 [01:01<00:00,  3.27tau/s ]\n"
     ]
    },
    {
     "name": "stdout",
     "output_type": "stream",
     "text": [
      "29/50 done\n"
     ]
    },
    {
     "name": "stderr",
     "output_type": "stream",
     "text": [
      "Simulating: 100%|█████████▉| 200/200 [00:52<00:00,  3.83tau/s ]\n"
     ]
    },
    {
     "name": "stdout",
     "output_type": "stream",
     "text": [
      "30/50 done\n"
     ]
    },
    {
     "name": "stderr",
     "output_type": "stream",
     "text": [
      "Simulating: 100%|█████████▉| 200/200 [00:54<00:00,  3.67tau/s ]\n"
     ]
    },
    {
     "name": "stdout",
     "output_type": "stream",
     "text": [
      "31/50 done\n"
     ]
    },
    {
     "name": "stderr",
     "output_type": "stream",
     "text": [
      "Simulating: 100%|█████████▉| 200/200 [00:51<00:00,  3.86tau/s ]\n"
     ]
    },
    {
     "name": "stdout",
     "output_type": "stream",
     "text": [
      "32/50 done\n"
     ]
    },
    {
     "name": "stderr",
     "output_type": "stream",
     "text": [
      "Simulating: 100%|█████████▉| 200/200 [00:53<00:00,  3.73tau/s ]\n"
     ]
    },
    {
     "name": "stdout",
     "output_type": "stream",
     "text": [
      "33/50 done\n"
     ]
    },
    {
     "name": "stderr",
     "output_type": "stream",
     "text": [
      "Simulating: 100%|█████████▉| 200/200 [00:54<00:00,  3.65tau/s ]\n"
     ]
    },
    {
     "name": "stdout",
     "output_type": "stream",
     "text": [
      "34/50 done\n"
     ]
    },
    {
     "name": "stderr",
     "output_type": "stream",
     "text": [
      "Simulating: 100%|█████████▉| 200/200 [00:53<00:00,  3.74tau/s ]\n"
     ]
    },
    {
     "name": "stdout",
     "output_type": "stream",
     "text": [
      "35/50 done\n"
     ]
    },
    {
     "name": "stderr",
     "output_type": "stream",
     "text": [
      "Simulating: 100%|█████████▉| 200/200 [00:53<00:00,  3.71tau/s ]\n"
     ]
    },
    {
     "name": "stdout",
     "output_type": "stream",
     "text": [
      "36/50 done\n"
     ]
    },
    {
     "name": "stderr",
     "output_type": "stream",
     "text": [
      "Simulating: 100%|█████████▉| 200/200 [00:54<00:00,  3.68tau/s ]\n"
     ]
    },
    {
     "name": "stdout",
     "output_type": "stream",
     "text": [
      "37/50 done\n"
     ]
    },
    {
     "name": "stderr",
     "output_type": "stream",
     "text": [
      "Simulating: 100%|█████████▉| 200/200 [00:55<00:00,  3.61tau/s ]\n"
     ]
    },
    {
     "name": "stdout",
     "output_type": "stream",
     "text": [
      "38/50 done\n"
     ]
    },
    {
     "name": "stderr",
     "output_type": "stream",
     "text": [
      "Simulating: 100%|█████████▉| 200/200 [00:54<00:00,  3.66tau/s ]\n"
     ]
    },
    {
     "name": "stdout",
     "output_type": "stream",
     "text": [
      "39/50 done\n"
     ]
    },
    {
     "name": "stderr",
     "output_type": "stream",
     "text": [
      "Simulating: 100%|█████████▉| 200/200 [00:55<00:00,  3.61tau/s ]\n"
     ]
    },
    {
     "name": "stdout",
     "output_type": "stream",
     "text": [
      "40/50 done\n"
     ]
    },
    {
     "name": "stderr",
     "output_type": "stream",
     "text": [
      "Simulating: 100%|█████████▉| 200/200 [00:57<00:00,  3.50tau/s ]\n"
     ]
    },
    {
     "name": "stdout",
     "output_type": "stream",
     "text": [
      "41/50 done\n"
     ]
    },
    {
     "name": "stderr",
     "output_type": "stream",
     "text": [
      "Simulating: 100%|█████████▉| 200/200 [00:55<00:00,  3.60tau/s ]\n"
     ]
    },
    {
     "name": "stdout",
     "output_type": "stream",
     "text": [
      "42/50 done\n"
     ]
    },
    {
     "name": "stderr",
     "output_type": "stream",
     "text": [
      "Simulating: 100%|█████████▉| 200/200 [00:53<00:00,  3.71tau/s ]\n"
     ]
    },
    {
     "name": "stdout",
     "output_type": "stream",
     "text": [
      "43/50 done\n"
     ]
    },
    {
     "name": "stderr",
     "output_type": "stream",
     "text": [
      "Simulating: 100%|█████████▉| 200/200 [00:54<00:00,  3.68tau/s ]\n"
     ]
    },
    {
     "name": "stdout",
     "output_type": "stream",
     "text": [
      "44/50 done\n"
     ]
    },
    {
     "name": "stderr",
     "output_type": "stream",
     "text": [
      "Simulating: 100%|█████████▉| 200/200 [00:55<00:00,  3.58tau/s ]\n"
     ]
    },
    {
     "name": "stdout",
     "output_type": "stream",
     "text": [
      "45/50 done\n"
     ]
    },
    {
     "name": "stderr",
     "output_type": "stream",
     "text": [
      "Simulating: 100%|█████████▉| 200/200 [00:57<00:00,  3.49tau/s ]\n"
     ]
    },
    {
     "name": "stdout",
     "output_type": "stream",
     "text": [
      "46/50 done\n"
     ]
    },
    {
     "name": "stderr",
     "output_type": "stream",
     "text": [
      "Simulating: 100%|█████████▉| 200/200 [00:58<00:00,  3.40tau/s ]\n"
     ]
    },
    {
     "name": "stdout",
     "output_type": "stream",
     "text": [
      "47/50 done\n"
     ]
    },
    {
     "name": "stderr",
     "output_type": "stream",
     "text": [
      "Simulating: 100%|█████████▉| 200/200 [00:56<00:00,  3.57tau/s ]\n"
     ]
    },
    {
     "name": "stdout",
     "output_type": "stream",
     "text": [
      "48/50 done\n"
     ]
    },
    {
     "name": "stderr",
     "output_type": "stream",
     "text": [
      "Simulating: 100%|█████████▉| 200/200 [00:58<00:00,  3.43tau/s ]\n"
     ]
    },
    {
     "name": "stdout",
     "output_type": "stream",
     "text": [
      "49/50 done\n"
     ]
    },
    {
     "name": "stderr",
     "output_type": "stream",
     "text": [
      "Simulating: 100%|█████████▉| 200/200 [00:54<00:00,  3.65tau/s ]\n"
     ]
    },
    {
     "name": "stdout",
     "output_type": "stream",
     "text": [
      "50/50 done\n",
      "--------------------------------------------------------------------------------\n"
     ]
    },
    {
     "name": "stderr",
     "output_type": "stream",
     "text": [
      "Simulating: 100%|█████████▉| 200/200 [01:41<00:00,  1.97tau/s ]\n"
     ]
    },
    {
     "name": "stdout",
     "output_type": "stream",
     "text": [
      "1/50 done\n"
     ]
    },
    {
     "name": "stderr",
     "output_type": "stream",
     "text": [
      "Simulating: 100%|█████████▉| 200/200 [01:40<00:00,  1.99tau/s ]\n"
     ]
    },
    {
     "name": "stdout",
     "output_type": "stream",
     "text": [
      "2/50 done\n"
     ]
    },
    {
     "name": "stderr",
     "output_type": "stream",
     "text": [
      "Simulating: 100%|█████████▉| 200/200 [01:39<00:00,  2.00tau/s ]\n"
     ]
    },
    {
     "name": "stdout",
     "output_type": "stream",
     "text": [
      "3/50 done\n"
     ]
    },
    {
     "name": "stderr",
     "output_type": "stream",
     "text": [
      "Simulating: 100%|█████████▉| 200/200 [01:40<00:00,  1.99tau/s ]\n"
     ]
    },
    {
     "name": "stdout",
     "output_type": "stream",
     "text": [
      "4/50 done\n"
     ]
    },
    {
     "name": "stderr",
     "output_type": "stream",
     "text": [
      "Simulating: 100%|█████████▉| 200/200 [01:55<00:00,  1.73tau/s ]\n"
     ]
    },
    {
     "name": "stdout",
     "output_type": "stream",
     "text": [
      "5/50 done\n"
     ]
    },
    {
     "name": "stderr",
     "output_type": "stream",
     "text": [
      "Simulating: 100%|█████████▉| 200/200 [01:48<00:00,  1.84tau/s ]\n"
     ]
    },
    {
     "name": "stdout",
     "output_type": "stream",
     "text": [
      "6/50 done\n"
     ]
    },
    {
     "name": "stderr",
     "output_type": "stream",
     "text": [
      "Simulating: 100%|█████████▉| 200/200 [01:56<00:00,  1.72tau/s ]\n"
     ]
    },
    {
     "name": "stdout",
     "output_type": "stream",
     "text": [
      "7/50 done\n"
     ]
    },
    {
     "name": "stderr",
     "output_type": "stream",
     "text": [
      "Simulating: 100%|█████████▉| 200/200 [02:14<00:00,  1.49tau/s ]\n"
     ]
    },
    {
     "name": "stdout",
     "output_type": "stream",
     "text": [
      "8/50 done\n"
     ]
    },
    {
     "name": "stderr",
     "output_type": "stream",
     "text": [
      "Simulating: 100%|█████████▉| 200/200 [02:19<00:00,  1.44tau/s ]\n"
     ]
    },
    {
     "name": "stdout",
     "output_type": "stream",
     "text": [
      "9/50 done\n"
     ]
    },
    {
     "name": "stderr",
     "output_type": "stream",
     "text": [
      "Simulating: 100%|█████████▉| 200/200 [02:08<00:00,  1.56tau/s ]\n"
     ]
    },
    {
     "name": "stdout",
     "output_type": "stream",
     "text": [
      "10/50 done\n"
     ]
    },
    {
     "name": "stderr",
     "output_type": "stream",
     "text": [
      "Simulating: 100%|█████████▉| 200/200 [02:23<00:00,  1.39tau/s ]\n"
     ]
    },
    {
     "name": "stdout",
     "output_type": "stream",
     "text": [
      "11/50 done\n"
     ]
    },
    {
     "name": "stderr",
     "output_type": "stream",
     "text": [
      "Simulating: 100%|█████████▉| 200/200 [02:21<00:00,  1.42tau/s ]\n"
     ]
    },
    {
     "name": "stdout",
     "output_type": "stream",
     "text": [
      "12/50 done\n"
     ]
    },
    {
     "name": "stderr",
     "output_type": "stream",
     "text": [
      "Simulating: 100%|█████████▉| 200/200 [02:25<00:00,  1.37tau/s ]\n"
     ]
    },
    {
     "name": "stdout",
     "output_type": "stream",
     "text": [
      "13/50 done\n"
     ]
    },
    {
     "name": "stderr",
     "output_type": "stream",
     "text": [
      "Simulating: 100%|█████████▉| 200/200 [02:38<00:00,  1.26tau/s ]\n"
     ]
    },
    {
     "name": "stdout",
     "output_type": "stream",
     "text": [
      "14/50 done\n"
     ]
    },
    {
     "name": "stderr",
     "output_type": "stream",
     "text": [
      "Simulating: 100%|█████████▉| 200/200 [02:34<00:00,  1.29tau/s ]\n"
     ]
    },
    {
     "name": "stdout",
     "output_type": "stream",
     "text": [
      "15/50 done\n"
     ]
    },
    {
     "name": "stderr",
     "output_type": "stream",
     "text": [
      "Simulating: 100%|█████████▉| 200/200 [02:41<00:00,  1.24tau/s ]\n"
     ]
    },
    {
     "name": "stdout",
     "output_type": "stream",
     "text": [
      "16/50 done\n"
     ]
    },
    {
     "name": "stderr",
     "output_type": "stream",
     "text": [
      "Simulating: 100%|█████████▉| 200/200 [02:53<00:00,  1.15tau/s ]\n"
     ]
    },
    {
     "name": "stdout",
     "output_type": "stream",
     "text": [
      "17/50 done\n"
     ]
    },
    {
     "name": "stderr",
     "output_type": "stream",
     "text": [
      "Simulating: 100%|█████████▉| 200/200 [03:00<00:00,  1.11tau/s ]\n"
     ]
    },
    {
     "name": "stdout",
     "output_type": "stream",
     "text": [
      "18/50 done\n"
     ]
    },
    {
     "name": "stderr",
     "output_type": "stream",
     "text": [
      "Simulating: 100%|█████████▉| 200/200 [03:07<00:00,  1.07tau/s ]\n"
     ]
    },
    {
     "name": "stdout",
     "output_type": "stream",
     "text": [
      "19/50 done\n"
     ]
    },
    {
     "name": "stderr",
     "output_type": "stream",
     "text": [
      "Simulating: 100%|█████████▉| 200/200 [03:00<00:00,  1.11tau/s ]\n"
     ]
    },
    {
     "name": "stdout",
     "output_type": "stream",
     "text": [
      "20/50 done\n"
     ]
    },
    {
     "name": "stderr",
     "output_type": "stream",
     "text": [
      "Simulating: 100%|█████████▉| 200/200 [02:52<00:00,  1.16tau/s ]\n"
     ]
    },
    {
     "name": "stdout",
     "output_type": "stream",
     "text": [
      "21/50 done\n"
     ]
    },
    {
     "name": "stderr",
     "output_type": "stream",
     "text": [
      "Simulating: 100%|█████████▉| 200/200 [02:59<00:00,  1.11tau/s ]\n"
     ]
    },
    {
     "name": "stdout",
     "output_type": "stream",
     "text": [
      "22/50 done\n"
     ]
    },
    {
     "name": "stderr",
     "output_type": "stream",
     "text": [
      "Simulating: 100%|█████████▉| 200/200 [03:07<00:00,  1.07tau/s ]\n"
     ]
    },
    {
     "name": "stdout",
     "output_type": "stream",
     "text": [
      "23/50 done\n"
     ]
    },
    {
     "name": "stderr",
     "output_type": "stream",
     "text": [
      "Simulating: 100%|█████████▉| 200/200 [03:09<00:00,  1.06tau/s ]\n"
     ]
    },
    {
     "name": "stdout",
     "output_type": "stream",
     "text": [
      "24/50 done\n"
     ]
    },
    {
     "name": "stderr",
     "output_type": "stream",
     "text": [
      "Simulating: 100%|█████████▉| 200/200 [03:16<00:00,  1.02tau/s ]\n"
     ]
    },
    {
     "name": "stdout",
     "output_type": "stream",
     "text": [
      "25/50 done\n"
     ]
    },
    {
     "name": "stderr",
     "output_type": "stream",
     "text": [
      "Simulating: 100%|█████████▉| 200/200 [03:25<00:00,  1.03s/tau ]\n"
     ]
    },
    {
     "name": "stdout",
     "output_type": "stream",
     "text": [
      "26/50 done\n"
     ]
    },
    {
     "name": "stderr",
     "output_type": "stream",
     "text": [
      "Simulating: 100%|█████████▉| 200/200 [03:27<00:00,  1.04s/tau ]\n"
     ]
    },
    {
     "name": "stdout",
     "output_type": "stream",
     "text": [
      "27/50 done\n"
     ]
    },
    {
     "name": "stderr",
     "output_type": "stream",
     "text": [
      "Simulating: 100%|█████████▉| 200/200 [03:33<00:00,  1.07s/tau ]\n"
     ]
    },
    {
     "name": "stdout",
     "output_type": "stream",
     "text": [
      "28/50 done\n"
     ]
    },
    {
     "name": "stderr",
     "output_type": "stream",
     "text": [
      "Simulating: 100%|█████████▉| 200/200 [03:10<00:00,  1.05tau/s ]\n"
     ]
    },
    {
     "name": "stdout",
     "output_type": "stream",
     "text": [
      "29/50 done\n"
     ]
    },
    {
     "name": "stderr",
     "output_type": "stream",
     "text": [
      "Simulating: 100%|█████████▉| 200/200 [02:47<00:00,  1.19tau/s ]\n"
     ]
    },
    {
     "name": "stdout",
     "output_type": "stream",
     "text": [
      "30/50 done\n"
     ]
    },
    {
     "name": "stderr",
     "output_type": "stream",
     "text": [
      "Simulating: 100%|█████████▉| 200/200 [02:52<00:00,  1.16tau/s ]\n"
     ]
    },
    {
     "name": "stdout",
     "output_type": "stream",
     "text": [
      "31/50 done\n"
     ]
    },
    {
     "name": "stderr",
     "output_type": "stream",
     "text": [
      "Simulating: 100%|█████████▉| 200/200 [02:53<00:00,  1.15tau/s ]\n"
     ]
    },
    {
     "name": "stdout",
     "output_type": "stream",
     "text": [
      "32/50 done\n"
     ]
    },
    {
     "name": "stderr",
     "output_type": "stream",
     "text": [
      "Simulating: 100%|█████████▉| 200/200 [02:52<00:00,  1.16tau/s ]\n"
     ]
    },
    {
     "name": "stdout",
     "output_type": "stream",
     "text": [
      "33/50 done\n"
     ]
    },
    {
     "name": "stderr",
     "output_type": "stream",
     "text": [
      "Simulating: 100%|█████████▉| 200/200 [02:53<00:00,  1.15tau/s ]\n"
     ]
    },
    {
     "name": "stdout",
     "output_type": "stream",
     "text": [
      "34/50 done\n"
     ]
    },
    {
     "name": "stderr",
     "output_type": "stream",
     "text": [
      "Simulating: 100%|█████████▉| 200/200 [02:46<00:00,  1.20tau/s ]\n"
     ]
    },
    {
     "name": "stdout",
     "output_type": "stream",
     "text": [
      "35/50 done\n"
     ]
    },
    {
     "name": "stderr",
     "output_type": "stream",
     "text": [
      "Simulating: 100%|█████████▉| 200/200 [02:43<00:00,  1.22tau/s ]\n"
     ]
    },
    {
     "name": "stdout",
     "output_type": "stream",
     "text": [
      "36/50 done\n"
     ]
    },
    {
     "name": "stderr",
     "output_type": "stream",
     "text": [
      "Simulating: 100%|█████████▉| 200/200 [02:26<00:00,  1.36tau/s ]\n"
     ]
    },
    {
     "name": "stdout",
     "output_type": "stream",
     "text": [
      "37/50 done\n"
     ]
    },
    {
     "name": "stderr",
     "output_type": "stream",
     "text": [
      "Simulating: 100%|█████████▉| 200/200 [02:14<00:00,  1.48tau/s ]\n"
     ]
    },
    {
     "name": "stdout",
     "output_type": "stream",
     "text": [
      "38/50 done\n"
     ]
    },
    {
     "name": "stderr",
     "output_type": "stream",
     "text": [
      "Simulating: 100%|█████████▉| 200/200 [02:17<00:00,  1.45tau/s ]\n"
     ]
    },
    {
     "name": "stdout",
     "output_type": "stream",
     "text": [
      "39/50 done\n"
     ]
    },
    {
     "name": "stderr",
     "output_type": "stream",
     "text": [
      "Simulating: 100%|█████████▉| 200/200 [02:32<00:00,  1.31tau/s ]\n"
     ]
    },
    {
     "name": "stdout",
     "output_type": "stream",
     "text": [
      "40/50 done\n"
     ]
    },
    {
     "name": "stderr",
     "output_type": "stream",
     "text": [
      "Simulating: 100%|█████████▉| 200/200 [03:04<00:00,  1.09tau/s ]\n"
     ]
    },
    {
     "name": "stdout",
     "output_type": "stream",
     "text": [
      "41/50 done\n"
     ]
    },
    {
     "name": "stderr",
     "output_type": "stream",
     "text": [
      "Simulating: 100%|█████████▉| 200/200 [03:29<00:00,  1.05s/tau ]\n"
     ]
    },
    {
     "name": "stdout",
     "output_type": "stream",
     "text": [
      "42/50 done\n"
     ]
    },
    {
     "name": "stderr",
     "output_type": "stream",
     "text": [
      "Simulating: 100%|█████████▉| 200/200 [03:10<00:00,  1.05tau/s ]\n"
     ]
    },
    {
     "name": "stdout",
     "output_type": "stream",
     "text": [
      "43/50 done\n"
     ]
    },
    {
     "name": "stderr",
     "output_type": "stream",
     "text": [
      "Simulating: 100%|█████████▉| 200/200 [03:11<00:00,  1.05tau/s ]\n"
     ]
    },
    {
     "name": "stdout",
     "output_type": "stream",
     "text": [
      "44/50 done\n"
     ]
    },
    {
     "name": "stderr",
     "output_type": "stream",
     "text": [
      "Simulating: 100%|█████████▉| 200/200 [03:07<00:00,  1.06tau/s ]\n"
     ]
    },
    {
     "name": "stdout",
     "output_type": "stream",
     "text": [
      "45/50 done\n"
     ]
    },
    {
     "name": "stderr",
     "output_type": "stream",
     "text": [
      "Simulating: 100%|█████████▉| 200/200 [03:07<00:00,  1.07tau/s ]\n"
     ]
    },
    {
     "name": "stdout",
     "output_type": "stream",
     "text": [
      "46/50 done\n"
     ]
    },
    {
     "name": "stderr",
     "output_type": "stream",
     "text": [
      "Simulating: 100%|█████████▉| 200/200 [03:04<00:00,  1.08tau/s ]\n"
     ]
    },
    {
     "name": "stdout",
     "output_type": "stream",
     "text": [
      "47/50 done\n"
     ]
    },
    {
     "name": "stderr",
     "output_type": "stream",
     "text": [
      "Simulating: 100%|█████████▉| 200/200 [03:08<00:00,  1.06tau/s ]\n"
     ]
    },
    {
     "name": "stdout",
     "output_type": "stream",
     "text": [
      "48/50 done\n"
     ]
    },
    {
     "name": "stderr",
     "output_type": "stream",
     "text": [
      "Simulating: 100%|█████████▉| 200/200 [03:10<00:00,  1.05tau/s ]\n"
     ]
    },
    {
     "name": "stdout",
     "output_type": "stream",
     "text": [
      "49/50 done\n"
     ]
    },
    {
     "name": "stderr",
     "output_type": "stream",
     "text": [
      "Simulating: 100%|█████████▉| 200/200 [03:10<00:00,  1.05tau/s ]\n"
     ]
    },
    {
     "name": "stdout",
     "output_type": "stream",
     "text": [
      "50/50 done\n",
      "--------------------------------------------------------------------------------\n"
     ]
    },
    {
     "name": "stderr",
     "output_type": "stream",
     "text": [
      "Simulating: 100%|█████████▉| 200/200 [10:14<00:00,  3.07s/tau ]      \n"
     ]
    },
    {
     "name": "stdout",
     "output_type": "stream",
     "text": [
      "1/50 done\n"
     ]
    },
    {
     "name": "stderr",
     "output_type": "stream",
     "text": [
      "Simulating: 100%|█████████▉| 200/200 [10:44<00:00,  3.23s/tau ]      \n"
     ]
    },
    {
     "name": "stdout",
     "output_type": "stream",
     "text": [
      "2/50 done\n"
     ]
    },
    {
     "name": "stderr",
     "output_type": "stream",
     "text": [
      "Simulating: 100%|█████████▉| 200/200 [10:53<00:00,  3.27s/tau ]      \n"
     ]
    },
    {
     "name": "stdout",
     "output_type": "stream",
     "text": [
      "3/50 done\n"
     ]
    },
    {
     "name": "stderr",
     "output_type": "stream",
     "text": [
      "Simulating: 100%|█████████▉| 200/200 [11:38<00:00,  3.49s/tau ]      \n"
     ]
    },
    {
     "name": "stdout",
     "output_type": "stream",
     "text": [
      "4/50 done\n"
     ]
    },
    {
     "name": "stderr",
     "output_type": "stream",
     "text": [
      "Simulating: 100%|█████████▉| 200/200 [11:03<00:00,  3.32s/tau ]      \n"
     ]
    },
    {
     "name": "stdout",
     "output_type": "stream",
     "text": [
      "5/50 done\n"
     ]
    },
    {
     "name": "stderr",
     "output_type": "stream",
     "text": [
      "Simulating: 100%|█████████▉| 200/200 [10:49<00:00,  3.25s/tau ]      \n"
     ]
    },
    {
     "name": "stdout",
     "output_type": "stream",
     "text": [
      "6/50 done\n"
     ]
    },
    {
     "name": "stderr",
     "output_type": "stream",
     "text": [
      "Simulating: 100%|█████████▉| 200/200 [12:13<00:00,  3.67s/tau ]      \n"
     ]
    },
    {
     "name": "stdout",
     "output_type": "stream",
     "text": [
      "7/50 done\n"
     ]
    },
    {
     "name": "stderr",
     "output_type": "stream",
     "text": [
      "Simulating: 100%|█████████▉| 200/200 [12:13<00:00,  3.67s/tau ]      \n"
     ]
    },
    {
     "name": "stdout",
     "output_type": "stream",
     "text": [
      "8/50 done\n"
     ]
    },
    {
     "name": "stderr",
     "output_type": "stream",
     "text": [
      "Simulating: 100%|█████████▉| 200/200 [13:32<00:00,  4.06s/tau ]      \n"
     ]
    },
    {
     "name": "stdout",
     "output_type": "stream",
     "text": [
      "9/50 done\n"
     ]
    },
    {
     "name": "stderr",
     "output_type": "stream",
     "text": [
      "Simulating: 100%|█████████▉| 200/200 [13:26<00:00,  4.04s/tau ]      \n"
     ]
    },
    {
     "name": "stdout",
     "output_type": "stream",
     "text": [
      "10/50 done\n"
     ]
    },
    {
     "name": "stderr",
     "output_type": "stream",
     "text": [
      "Simulating: 100%|█████████▉| 200/200 [12:49<00:00,  3.85s/tau ]      \n"
     ]
    },
    {
     "name": "stdout",
     "output_type": "stream",
     "text": [
      "11/50 done\n"
     ]
    },
    {
     "name": "stderr",
     "output_type": "stream",
     "text": [
      "Simulating: 100%|█████████▉| 200/200 [12:57<00:00,  3.89s/tau ]      \n"
     ]
    },
    {
     "name": "stdout",
     "output_type": "stream",
     "text": [
      "12/50 done\n"
     ]
    },
    {
     "name": "stderr",
     "output_type": "stream",
     "text": [
      "Simulating: 100%|█████████▉| 200/200 [13:31<00:00,  4.06s/tau ]      \n"
     ]
    },
    {
     "name": "stdout",
     "output_type": "stream",
     "text": [
      "13/50 done\n"
     ]
    },
    {
     "name": "stderr",
     "output_type": "stream",
     "text": [
      "Simulating: 100%|█████████▉| 200/200 [14:23<00:00,  4.32s/tau ]      \n"
     ]
    },
    {
     "name": "stdout",
     "output_type": "stream",
     "text": [
      "14/50 done\n"
     ]
    },
    {
     "name": "stderr",
     "output_type": "stream",
     "text": [
      "Simulating: 100%|█████████▉| 200/200 [15:05<00:00,  4.53s/tau ]      \n"
     ]
    },
    {
     "name": "stdout",
     "output_type": "stream",
     "text": [
      "15/50 done\n"
     ]
    },
    {
     "name": "stderr",
     "output_type": "stream",
     "text": [
      "Simulating: 100%|█████████▉| 200/200 [15:20<00:00,  4.60s/tau ]      \n"
     ]
    },
    {
     "name": "stdout",
     "output_type": "stream",
     "text": [
      "16/50 done\n"
     ]
    },
    {
     "name": "stderr",
     "output_type": "stream",
     "text": [
      "Simulating: 100%|█████████▉| 200/200 [15:31<00:00,  4.66s/tau ]      \n"
     ]
    },
    {
     "name": "stdout",
     "output_type": "stream",
     "text": [
      "17/50 done\n"
     ]
    },
    {
     "name": "stderr",
     "output_type": "stream",
     "text": [
      "Simulating: 100%|█████████▉| 200/200 [15:50<00:00,  4.75s/tau ]      \n"
     ]
    },
    {
     "name": "stdout",
     "output_type": "stream",
     "text": [
      "18/50 done\n"
     ]
    },
    {
     "name": "stderr",
     "output_type": "stream",
     "text": [
      "Simulating: 100%|█████████▉| 200/200 [16:17<00:00,  4.89s/tau ]      \n"
     ]
    },
    {
     "name": "stdout",
     "output_type": "stream",
     "text": [
      "19/50 done\n"
     ]
    },
    {
     "name": "stderr",
     "output_type": "stream",
     "text": [
      "Simulating: 100%|█████████▉| 200/200 [17:39<00:00,  5.30s/tau ]      \n"
     ]
    },
    {
     "name": "stdout",
     "output_type": "stream",
     "text": [
      "20/50 done\n"
     ]
    },
    {
     "name": "stderr",
     "output_type": "stream",
     "text": [
      "Simulating: 100%|█████████▉| 200/200 [17:20<00:00,  5.20s/tau ]      \n"
     ]
    },
    {
     "name": "stdout",
     "output_type": "stream",
     "text": [
      "21/50 done\n"
     ]
    },
    {
     "name": "stderr",
     "output_type": "stream",
     "text": [
      "Simulating: 100%|█████████▉| 200/200 [17:25<00:00,  5.23s/tau ]      \n"
     ]
    },
    {
     "name": "stdout",
     "output_type": "stream",
     "text": [
      "22/50 done\n"
     ]
    },
    {
     "name": "stderr",
     "output_type": "stream",
     "text": [
      "Simulating: 100%|█████████▉| 200/200 [17:55<00:00,  5.38s/tau ]      \n"
     ]
    },
    {
     "name": "stdout",
     "output_type": "stream",
     "text": [
      "23/50 done\n"
     ]
    },
    {
     "name": "stderr",
     "output_type": "stream",
     "text": [
      "Simulating: 100%|█████████▉| 200/200 [17:44<00:00,  5.32s/tau ]      \n"
     ]
    },
    {
     "name": "stdout",
     "output_type": "stream",
     "text": [
      "24/50 done\n"
     ]
    },
    {
     "name": "stderr",
     "output_type": "stream",
     "text": [
      "Simulating: 100%|█████████▉| 200/200 [18:23<00:00,  5.52s/tau ]      \n"
     ]
    },
    {
     "name": "stdout",
     "output_type": "stream",
     "text": [
      "25/50 done\n"
     ]
    },
    {
     "name": "stderr",
     "output_type": "stream",
     "text": [
      "Simulating: 100%|█████████▉| 200/200 [18:16<00:00,  5.48s/tau ]      \n"
     ]
    },
    {
     "name": "stdout",
     "output_type": "stream",
     "text": [
      "26/50 done\n"
     ]
    },
    {
     "name": "stderr",
     "output_type": "stream",
     "text": [
      "Simulating: 100%|█████████▉| 200/200 [19:35<00:00,  5.88s/tau ]      \n"
     ]
    },
    {
     "name": "stdout",
     "output_type": "stream",
     "text": [
      "27/50 done\n"
     ]
    },
    {
     "name": "stderr",
     "output_type": "stream",
     "text": [
      "Simulating: 100%|█████████▉| 200/200 [19:03<00:00,  5.72s/tau ]      \n"
     ]
    },
    {
     "name": "stdout",
     "output_type": "stream",
     "text": [
      "28/50 done\n"
     ]
    },
    {
     "name": "stderr",
     "output_type": "stream",
     "text": [
      "Simulating: 100%|█████████▉| 200/200 [19:10<00:00,  5.75s/tau ]      \n"
     ]
    },
    {
     "name": "stdout",
     "output_type": "stream",
     "text": [
      "29/50 done\n"
     ]
    },
    {
     "name": "stderr",
     "output_type": "stream",
     "text": [
      "Simulating: 100%|█████████▉| 200/200 [19:23<00:00,  5.82s/tau ]      \n"
     ]
    },
    {
     "name": "stdout",
     "output_type": "stream",
     "text": [
      "30/50 done\n"
     ]
    },
    {
     "name": "stderr",
     "output_type": "stream",
     "text": [
      "Simulating: 100%|█████████▉| 200/200 [19:30<00:00,  5.85s/tau ]      \n"
     ]
    },
    {
     "name": "stdout",
     "output_type": "stream",
     "text": [
      "31/50 done\n"
     ]
    },
    {
     "name": "stderr",
     "output_type": "stream",
     "text": [
      "Simulating: 100%|█████████▉| 200/200 [20:19<00:00,  6.10s/tau ]      \n"
     ]
    },
    {
     "name": "stdout",
     "output_type": "stream",
     "text": [
      "32/50 done\n"
     ]
    },
    {
     "name": "stderr",
     "output_type": "stream",
     "text": [
      "Simulating: 100%|█████████▉| 200/200 [21:00<00:00,  6.30s/tau ]      \n"
     ]
    },
    {
     "name": "stdout",
     "output_type": "stream",
     "text": [
      "33/50 done\n"
     ]
    },
    {
     "name": "stderr",
     "output_type": "stream",
     "text": [
      "Simulating: 100%|█████████▉| 200/200 [21:27<00:00,  6.44s/tau ]      \n"
     ]
    },
    {
     "name": "stdout",
     "output_type": "stream",
     "text": [
      "34/50 done\n"
     ]
    },
    {
     "name": "stderr",
     "output_type": "stream",
     "text": [
      "Simulating: 100%|█████████▉| 200/200 [21:50<00:00,  6.55s/tau ]      \n"
     ]
    },
    {
     "name": "stdout",
     "output_type": "stream",
     "text": [
      "35/50 done\n"
     ]
    },
    {
     "name": "stderr",
     "output_type": "stream",
     "text": [
      "Simulating: 100%|█████████▉| 200/200 [22:02<00:00,  6.61s/tau ]      \n"
     ]
    },
    {
     "name": "stdout",
     "output_type": "stream",
     "text": [
      "36/50 done\n"
     ]
    },
    {
     "name": "stderr",
     "output_type": "stream",
     "text": [
      "Simulating: 100%|█████████▉| 200/200 [21:43<00:00,  6.52s/tau ]      \n"
     ]
    },
    {
     "name": "stdout",
     "output_type": "stream",
     "text": [
      "37/50 done\n"
     ]
    },
    {
     "name": "stderr",
     "output_type": "stream",
     "text": [
      "Simulating: 100%|█████████▉| 200/200 [22:05<00:00,  6.63s/tau ]      \n"
     ]
    },
    {
     "name": "stdout",
     "output_type": "stream",
     "text": [
      "38/50 done\n"
     ]
    },
    {
     "name": "stderr",
     "output_type": "stream",
     "text": [
      "Simulating: 100%|█████████▉| 200/200 [22:11<00:00,  6.66s/tau ]      \n"
     ]
    },
    {
     "name": "stdout",
     "output_type": "stream",
     "text": [
      "39/50 done\n"
     ]
    },
    {
     "name": "stderr",
     "output_type": "stream",
     "text": [
      "Simulating: 100%|█████████▉| 200/200 [22:10<00:00,  6.65s/tau ]      \n"
     ]
    },
    {
     "name": "stdout",
     "output_type": "stream",
     "text": [
      "40/50 done\n"
     ]
    },
    {
     "name": "stderr",
     "output_type": "stream",
     "text": [
      "Simulating: 100%|█████████▉| 200/200 [22:42<00:00,  6.81s/tau ]      \n"
     ]
    },
    {
     "name": "stdout",
     "output_type": "stream",
     "text": [
      "41/50 done\n"
     ]
    },
    {
     "name": "stderr",
     "output_type": "stream",
     "text": [
      "Simulating: 100%|█████████▉| 200/200 [22:13<00:00,  6.67s/tau ]      \n"
     ]
    },
    {
     "name": "stdout",
     "output_type": "stream",
     "text": [
      "42/50 done\n"
     ]
    },
    {
     "name": "stderr",
     "output_type": "stream",
     "text": [
      "Simulating: 100%|█████████▉| 200/200 [22:27<00:00,  6.74s/tau ]      \n"
     ]
    },
    {
     "name": "stdout",
     "output_type": "stream",
     "text": [
      "43/50 done\n"
     ]
    },
    {
     "name": "stderr",
     "output_type": "stream",
     "text": [
      "Simulating: 100%|█████████▉| 200/200 [22:14<00:00,  6.68s/tau ]      \n"
     ]
    },
    {
     "name": "stdout",
     "output_type": "stream",
     "text": [
      "44/50 done\n"
     ]
    },
    {
     "name": "stderr",
     "output_type": "stream",
     "text": [
      "Simulating: 100%|█████████▉| 200/200 [21:24<00:00,  6.42s/tau ]      \n"
     ]
    },
    {
     "name": "stdout",
     "output_type": "stream",
     "text": [
      "45/50 done\n"
     ]
    },
    {
     "name": "stderr",
     "output_type": "stream",
     "text": [
      "Simulating: 100%|█████████▉| 200/200 [21:39<00:00,  6.50s/tau ]      \n"
     ]
    },
    {
     "name": "stdout",
     "output_type": "stream",
     "text": [
      "46/50 done\n"
     ]
    },
    {
     "name": "stderr",
     "output_type": "stream",
     "text": [
      "Simulating: 100%|█████████▉| 200/200 [21:34<00:00,  6.47s/tau ]      \n"
     ]
    },
    {
     "name": "stdout",
     "output_type": "stream",
     "text": [
      "47/50 done\n"
     ]
    },
    {
     "name": "stderr",
     "output_type": "stream",
     "text": [
      "Simulating: 100%|█████████▉| 200/200 [21:25<00:00,  6.43s/tau ]      \n"
     ]
    },
    {
     "name": "stdout",
     "output_type": "stream",
     "text": [
      "48/50 done\n"
     ]
    },
    {
     "name": "stderr",
     "output_type": "stream",
     "text": [
      "Simulating: 100%|█████████▉| 200/200 [21:14<00:00,  6.37s/tau ]      \n"
     ]
    },
    {
     "name": "stdout",
     "output_type": "stream",
     "text": [
      "49/50 done\n"
     ]
    },
    {
     "name": "stderr",
     "output_type": "stream",
     "text": [
      "Simulating: 100%|█████████▉| 200/200 [21:02<00:00,  6.31s/tau ]      \n"
     ]
    },
    {
     "name": "stdout",
     "output_type": "stream",
     "text": [
      "50/50 done\n",
      "--------------------------------------------------------------------------------\n"
     ]
    },
    {
     "name": "stderr",
     "output_type": "stream",
     "text": [
      "Simulating: 100%|█████████▉| 200/200 [32:07<00:00,  9.64s/tau ]      \n"
     ]
    },
    {
     "name": "stdout",
     "output_type": "stream",
     "text": [
      "1/50 done\n"
     ]
    },
    {
     "name": "stderr",
     "output_type": "stream",
     "text": [
      "Simulating: 100%|█████████▉| 200/200 [32:00<00:00,  9.60s/tau ]      \n"
     ]
    },
    {
     "name": "stdout",
     "output_type": "stream",
     "text": [
      "2/50 done\n"
     ]
    },
    {
     "name": "stderr",
     "output_type": "stream",
     "text": [
      "Simulating: 100%|█████████▉| 200/200 [32:43<00:00,  9.82s/tau ]      \n"
     ]
    },
    {
     "name": "stdout",
     "output_type": "stream",
     "text": [
      "3/50 done\n"
     ]
    },
    {
     "name": "stderr",
     "output_type": "stream",
     "text": [
      "Simulating: 100%|█████████▉| 200/200 [33:13<00:00,  9.97s/tau ]      \n"
     ]
    },
    {
     "name": "stdout",
     "output_type": "stream",
     "text": [
      "4/50 done\n"
     ]
    },
    {
     "name": "stderr",
     "output_type": "stream",
     "text": [
      "Simulating: 100%|█████████▉| 200/200 [34:05<00:00, 10.23s/tau ]       \n"
     ]
    },
    {
     "name": "stdout",
     "output_type": "stream",
     "text": [
      "5/50 done\n"
     ]
    },
    {
     "name": "stderr",
     "output_type": "stream",
     "text": [
      "Simulating: 100%|█████████▉| 200/200 [36:52<00:00, 11.06s/tau ]      \n"
     ]
    },
    {
     "name": "stdout",
     "output_type": "stream",
     "text": [
      "6/50 done\n"
     ]
    },
    {
     "name": "stderr",
     "output_type": "stream",
     "text": [
      "Simulating: 100%|█████████▉| 200/200 [34:08<00:00, 10.24s/tau ]      \n"
     ]
    },
    {
     "name": "stdout",
     "output_type": "stream",
     "text": [
      "7/50 done\n"
     ]
    },
    {
     "name": "stderr",
     "output_type": "stream",
     "text": [
      "Simulating: 100%|█████████▉| 200/200 [39:46<00:00, 11.93s/tau ]       \n"
     ]
    },
    {
     "name": "stdout",
     "output_type": "stream",
     "text": [
      "8/50 done\n"
     ]
    },
    {
     "name": "stderr",
     "output_type": "stream",
     "text": [
      "Simulating: 100%|█████████▉| 200/200 [38:42<00:00, 11.62s/tau ]      \n"
     ]
    },
    {
     "name": "stdout",
     "output_type": "stream",
     "text": [
      "9/50 done\n"
     ]
    },
    {
     "name": "stderr",
     "output_type": "stream",
     "text": [
      "Simulating: 100%|█████████▉| 200/200 [40:01<00:00, 12.01s/tau ]      \n"
     ]
    },
    {
     "name": "stdout",
     "output_type": "stream",
     "text": [
      "10/50 done\n"
     ]
    },
    {
     "name": "stderr",
     "output_type": "stream",
     "text": [
      "Simulating: 100%|█████████▉| 200/200 [37:12<00:00, 11.16s/tau ]      \n"
     ]
    },
    {
     "name": "stdout",
     "output_type": "stream",
     "text": [
      "11/50 done\n"
     ]
    },
    {
     "name": "stderr",
     "output_type": "stream",
     "text": [
      "Simulating: 100%|█████████▉| 200/200 [38:19<00:00, 11.50s/tau ]      \n"
     ]
    },
    {
     "name": "stdout",
     "output_type": "stream",
     "text": [
      "12/50 done\n"
     ]
    },
    {
     "name": "stderr",
     "output_type": "stream",
     "text": [
      "Simulating: 100%|█████████▉| 200/200 [41:20<00:00, 12.41s/tau ]      \n"
     ]
    },
    {
     "name": "stdout",
     "output_type": "stream",
     "text": [
      "13/50 done\n"
     ]
    },
    {
     "name": "stderr",
     "output_type": "stream",
     "text": [
      "Simulating: 100%|█████████▉| 200/200 [41:32<00:00, 12.46s/tau ]      \n"
     ]
    },
    {
     "name": "stdout",
     "output_type": "stream",
     "text": [
      "14/50 done\n"
     ]
    },
    {
     "name": "stderr",
     "output_type": "stream",
     "text": [
      "Simulating: 100%|█████████▉| 200/200 [38:18<00:00, 11.49s/tau ]      \n"
     ]
    },
    {
     "name": "stdout",
     "output_type": "stream",
     "text": [
      "15/50 done\n"
     ]
    },
    {
     "name": "stderr",
     "output_type": "stream",
     "text": [
      "Simulating:   0%|          | 0/200 [00:01<1:12:50, 21.86s/tau ]      "
     ]
    }
   ],
   "source": [
    "solutions_list=[]\n",
    "currents_list=[]\n",
    "\n",
    "for device in devices_list:\n",
    "\tprint(\"--------------------------------------------------------------------------------\")\n",
    "\tsolutions,currents=rs.current_series(device,0,20,50,10,solve_time=200)\n",
    "\n",
    "\tsolutions_list.append(solutions)\n",
    "\tcurrents_list.append(currents)"
   ]
  },
  {
   "cell_type": "code",
   "execution_count": 9,
   "metadata": {},
   "outputs": [
    {
     "ename": "NameError",
     "evalue": "name 'solutions_list' is not defined",
     "output_type": "error",
     "traceback": [
      "\u001b[1;31m---------------------------------------------------------------------------\u001b[0m",
      "\u001b[1;31mNameError\u001b[0m                                 Traceback (most recent call last)",
      "Cell \u001b[1;32mIn[9], line 3\u001b[0m\n\u001b[0;32m      1\u001b[0m jj\u001b[38;5;241m=\u001b[39m\u001b[38;5;241m0\u001b[39m\n\u001b[0;32m      2\u001b[0m voltages_for_squares\u001b[38;5;241m=\u001b[39m[]\n\u001b[1;32m----> 3\u001b[0m \u001b[38;5;28;01mfor\u001b[39;00m solutions \u001b[38;5;129;01min\u001b[39;00m \u001b[43msolutions_list\u001b[49m:\n\u001b[0;32m      4\u001b[0m \tii\u001b[38;5;241m=\u001b[39m\u001b[38;5;241m0\u001b[39m\n\u001b[0;32m      5\u001b[0m \tvoltages_list\u001b[38;5;241m=\u001b[39m[]\n",
      "\u001b[1;31mNameError\u001b[0m: name 'solutions_list' is not defined"
     ]
    }
   ],
   "source": [
    "jj=0\n",
    "voltages_for_squares=[]\n",
    "for solutions in solutions_list:\n",
    "\tii=0\n",
    "\tvoltages_list=[]\n",
    "\tvoltage_values=np.zeros(len(solutions))\n",
    "\tfor solution in solutions:\n",
    "\t\tvoltages_list.append(solution.dynamics.voltage())\n",
    "\t\tmax_idx=voltages_list[ii].shape[0]-1\n",
    "\t\tvoltage_values[ii]=np.mean(voltages_list[ii][max_idx-5000:max_idx])\n",
    "\t\tprint(voltage_values[ii])\n",
    "\n",
    "\t\tii+=1\n",
    "\tvoltages_for_squares.append(voltages_list)\n",
    "\n",
    "\n",
    "\tplt.plot(currents_list[jj],voltage_values, label=f'{sizes[jj]}$\\mu m$')\n",
    "\tjj+=1\n",
    "\n",
    "plt.legend()"
   ]
  },
  {
   "cell_type": "code",
   "execution_count": 23,
   "metadata": {},
   "outputs": [
    {
     "name": "stdout",
     "output_type": "stream",
     "text": [
      "-7.683120018046869e-07\n",
      "0.088042018339801\n",
      "0.17801488385544148\n",
      "0.2733429152212997\n",
      "0.39271293563981424\n",
      "0.958239695478875\n",
      "1.1515762853543365\n",
      "1.344124197435979\n",
      "1.536391670294425\n",
      "1.7284820671887298\n",
      "1.9205058114480715\n",
      "2.1126137488537644\n",
      "2.3046607885949326\n",
      "2.4967171756117006\n",
      "2.688768651570084\n",
      "2.8808266375721163\n",
      "3.0728675973096755\n",
      "3.264938976357563\n",
      "3.456994747129522\n",
      "3.649052779254091\n",
      "0.004088193943530724\n",
      "0.017365948494961276\n",
      "0.040449332626377454\n",
      "0.06225783595549897\n",
      "0.10180969723016779\n",
      "0.1672570698730959\n",
      "0.18073218808531888\n",
      "0.23354915626041176\n",
      "0.43076638723757676\n",
      "0.44631928334109905\n",
      "0.6574751542370115\n",
      "0.9922967603845878\n",
      "1.1671236774580769\n",
      "1.348230701081272\n",
      "1.5424418697035078\n",
      "1.746244421467241\n",
      "2.4800770497768183\n",
      "2.8948888056196185\n",
      "3.1873209405226257\n",
      "3.451437626041562\n"
     ]
    },
    {
     "data": {
      "text/plain": [
       "<matplotlib.legend.Legend at 0x1b15de25750>"
      ]
     },
     "execution_count": 23,
     "metadata": {},
     "output_type": "execute_result"
    },
    {
     "data": {
      "image/png": "[encoded data removed]",
      "text/plain": [
       "<Figure size 640x480 with 1 Axes>"
      ]
     },
     "metadata": {},
     "output_type": "display_data"
    }
   ],
   "source": [
    "jj=0\n",
    "j1=np.zeros(len(sizes))\n",
    "for solutions in solutions_list:\n",
    "\tii=0\n",
    "\tvoltages_list=[]\n",
    "\tvoltage_values=np.zeros(len(solutions))\n",
    "\tfor solution in solutions:\n",
    "\t\tvoltages_list.append(solution.dynamics.voltage())\n",
    "\t\tmax_idx=voltages_list[ii].shape[0]-1\n",
    "\t\tvoltage_values[ii]=np.mean(voltages_list[ii][max_idx-5000:max_idx])\n",
    "\t\tprint(voltage_values[ii])\n",
    "\n",
    "\t\tii+=1\n",
    "\tvoltages_for_squares.append(voltages_list)\n",
    "\n",
    "\n",
    "\tplt.plot(currents_list[jj],np.gradient(voltage_values), label=f'{sizes[jj]}$\\mu m$')\n",
    "\tj1[jj]=currents_list[jj][np.argmax(np.gradient(voltage_values))]\n",
    "\tjj+=1\n",
    "\n",
    "plt.legend()"
   ]
  },
  {
   "cell_type": "code",
   "execution_count": 24,
   "metadata": {},
   "outputs": [
    {
     "name": "stdout",
     "output_type": "stream",
     "text": [
      "[ 5.26315789 16.84210526]\n"
     ]
    }
   ],
   "source": [
    "print(j1)"
   ]
  }
 ],
 "metadata": {
  "kernelspec": {
   "display_name": "Python 3",
   "language": "python",
   "name": "python3"
  },
  "language_info": {
   "codemirror_mode": {
    "name": "ipython",
    "version": 3
   },
   "file_extension": ".py",
   "mimetype": "text/x-python",
   "name": "python",
   "nbconvert_exporter": "python",
   "pygments_lexer": "ipython3",
   "version": "3.10.0"
  }
 },
 "nbformat": 4,
 "nbformat_minor": 2
}
