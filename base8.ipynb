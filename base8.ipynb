{
 "cells": [
  {
   "cell_type": "code",
   "execution_count": 5,
   "metadata": {},
   "outputs": [],
   "source": [
    "import run_simulation as rs\n",
    "import numpy as np\t\n",
    "import matplotlib.pyplot as plt\n",
    "import tdgl"
   ]
  },
  {
   "cell_type": "code",
   "execution_count": 6,
   "metadata": {},
   "outputs": [
    {
     "name": "stdout",
     "output_type": "stream",
     "text": [
      "GPU is available\n",
      "GPU:  b'NVIDIA GeForce RTX 4070 SUPER'\n"
     ]
    }
   ],
   "source": [
    "rs.check_system()"
   ]
  },
  {
   "cell_type": "code",
   "execution_count": 7,
   "metadata": {},
   "outputs": [
    {
     "name": "stdout",
     "output_type": "stream",
     "text": [
      "[ 0.4         2.57777778  4.75555556  6.93333333  9.11111111 11.28888889\n",
      " 13.46666667 15.64444444 17.82222222 20.        ]\n"
     ]
    },
    {
     "data": {
      "image/png": "[encoded data removed]",
      "text/plain": [
       "<Figure size 640x480 with 1 Axes>"
      ]
     },
     "metadata": {},
     "output_type": "display_data"
    }
   ],
   "source": [
    "xi=0.1\n",
    "sizes=np.linspace(0.4,20,10)\n",
    "print(sizes)\n",
    "\n",
    "devices_list=[]\n",
    "for size in sizes:\n",
    "\tdevices_list.append(rs.define_4_terminal_mesh(size,size,xi=xi, probes=[((-size*(0.4),0),\n",
    "\t\t\t\t\t   \t\t\t\t(size*(0.4),0),)],\n",
    "\t\t\t\t\t\t\t\t\tterminal_width=size/30,\n",
    "\t\t\t\t\t\t\t\t\tterminal_height=size/10\n",
    "\t\t\t\t\t\t\t\t\t))\n",
    "\n",
    "fig,ax=devices_list[-1].draw()\n"
   ]
  },
  {
   "cell_type": "code",
   "execution_count": 8,
   "metadata": {},
   "outputs": [
    {
     "name": "stderr",
     "output_type": "stream",
     "text": [
      "Constructing Voronoi polygons: 100%|██████████| 1684/1684 [00:01<00:00, 1308.92it/s]\n"
     ]
    },
    {
     "name": "stdout",
     "output_type": "stream",
     "text": [
      "min_edge_length: 2.453e-03\n",
      "max_edge_length: 5.407e-02\n",
      "mean_edge_length: 8.522e-03\n",
      "min_area: 3.444e-06\n",
      "max_area: 1.825e-03\n",
      "mean_area: 9.501e-05\n",
      "coherence_length: 1.000e-01\n"
     ]
    },
    {
     "name": "stderr",
     "output_type": "stream",
     "text": [
      "Constructing Voronoi polygons: 100%|██████████| 8848/8848 [00:05<00:00, 1742.29it/s]\n"
     ]
    },
    {
     "name": "stdout",
     "output_type": "stream",
     "text": [
      "min_edge_length: 1.409e-02\n",
      "max_edge_length: 4.847e-02\n",
      "mean_edge_length: 2.987e-02\n",
      "min_area: 1.419e-04\n",
      "max_area: 1.456e-03\n",
      "mean_area: 7.510e-04\n",
      "coherence_length: 1.000e-01\n"
     ]
    },
    {
     "name": "stderr",
     "output_type": "stream",
     "text": [
      "Constructing Voronoi polygons:   0%|          | 0/32308 [00:00<?, ?it/s]Malformed Voronoi cell surrounding boundary site 12. Try changing the number of boundary mesh sites using Polygon.resample() or Polygon.buffer(eps) where eps is 0 or a small positive float.\n",
      "Malformed Voronoi cell surrounding boundary site 13. Try changing the number of boundary mesh sites using Polygon.resample() or Polygon.buffer(eps) where eps is 0 or a small positive float.\n",
      "Malformed Voronoi cell surrounding boundary site 27. Try changing the number of boundary mesh sites using Polygon.resample() or Polygon.buffer(eps) where eps is 0 or a small positive float.\n",
      "Constructing Voronoi polygons:   0%|          | 73/32308 [00:00<00:44, 724.71it/s]Malformed Voronoi cell surrounding boundary site 90. Try changing the number of boundary mesh sites using Polygon.resample() or Polygon.buffer(eps) where eps is 0 or a small positive float.\n",
      "Malformed Voronoi cell surrounding boundary site 126. Try changing the number of boundary mesh sites using Polygon.resample() or Polygon.buffer(eps) where eps is 0 or a small positive float.\n",
      "Malformed Voronoi cell surrounding boundary site 127. Try changing the number of boundary mesh sites using Polygon.resample() or Polygon.buffer(eps) where eps is 0 or a small positive float.\n",
      "Malformed Voronoi cell surrounding boundary site 128. Try changing the number of boundary mesh sites using Polygon.resample() or Polygon.buffer(eps) where eps is 0 or a small positive float.\n",
      "Malformed Voronoi cell surrounding boundary site 129. Try changing the number of boundary mesh sites using Polygon.resample() or Polygon.buffer(eps) where eps is 0 or a small positive float.\n",
      "Malformed Voronoi cell surrounding boundary site 134. Try changing the number of boundary mesh sites using Polygon.resample() or Polygon.buffer(eps) where eps is 0 or a small positive float.\n",
      "Malformed Voronoi cell surrounding boundary site 135. Try changing the number of boundary mesh sites using Polygon.resample() or Polygon.buffer(eps) where eps is 0 or a small positive float.\n",
      "Malformed Voronoi cell surrounding boundary site 143. Try changing the number of boundary mesh sites using Polygon.resample() or Polygon.buffer(eps) where eps is 0 or a small positive float.\n",
      "Malformed Voronoi cell surrounding boundary site 144. Try changing the number of boundary mesh sites using Polygon.resample() or Polygon.buffer(eps) where eps is 0 or a small positive float.\n",
      "Constructing Voronoi polygons:   0%|          | 146/32308 [00:00<00:44, 720.50it/s]Malformed Voronoi cell surrounding boundary site 177. Try changing the number of boundary mesh sites using Polygon.resample() or Polygon.buffer(eps) where eps is 0 or a small positive float.\n",
      "Malformed Voronoi cell surrounding boundary site 178. Try changing the number of boundary mesh sites using Polygon.resample() or Polygon.buffer(eps) where eps is 0 or a small positive float.\n",
      "Malformed Voronoi cell surrounding boundary site 179. Try changing the number of boundary mesh sites using Polygon.resample() or Polygon.buffer(eps) where eps is 0 or a small positive float.\n",
      "Malformed Voronoi cell surrounding boundary site 180. Try changing the number of boundary mesh sites using Polygon.resample() or Polygon.buffer(eps) where eps is 0 or a small positive float.\n",
      "Malformed Voronoi cell surrounding boundary site 195. Try changing the number of boundary mesh sites using Polygon.resample() or Polygon.buffer(eps) where eps is 0 or a small positive float.\n",
      "Malformed Voronoi cell surrounding boundary site 196. Try changing the number of boundary mesh sites using Polygon.resample() or Polygon.buffer(eps) where eps is 0 or a small positive float.\n",
      "Malformed Voronoi cell surrounding boundary site 205. Try changing the number of boundary mesh sites using Polygon.resample() or Polygon.buffer(eps) where eps is 0 or a small positive float.\n",
      "Constructing Voronoi polygons:   1%|          | 219/32308 [00:00<00:57, 556.80it/s]Malformed Voronoi cell surrounding boundary site 219. Try changing the number of boundary mesh sites using Polygon.resample() or Polygon.buffer(eps) where eps is 0 or a small positive float.\n",
      "Malformed Voronoi cell surrounding boundary site 235. Try changing the number of boundary mesh sites using Polygon.resample() or Polygon.buffer(eps) where eps is 0 or a small positive float.\n",
      "Malformed Voronoi cell surrounding boundary site 243. Try changing the number of boundary mesh sites using Polygon.resample() or Polygon.buffer(eps) where eps is 0 or a small positive float.\n",
      "Malformed Voronoi cell surrounding boundary site 249. Try changing the number of boundary mesh sites using Polygon.resample() or Polygon.buffer(eps) where eps is 0 or a small positive float.\n",
      "Malformed Voronoi cell surrounding boundary site 256. Try changing the number of boundary mesh sites using Polygon.resample() or Polygon.buffer(eps) where eps is 0 or a small positive float.\n",
      "Malformed Voronoi cell surrounding boundary site 279. Try changing the number of boundary mesh sites using Polygon.resample() or Polygon.buffer(eps) where eps is 0 or a small positive float.\n",
      "Malformed Voronoi cell surrounding boundary site 281. Try changing the number of boundary mesh sites using Polygon.resample() or Polygon.buffer(eps) where eps is 0 or a small positive float.\n",
      "Malformed Voronoi cell surrounding boundary site 282. Try changing the number of boundary mesh sites using Polygon.resample() or Polygon.buffer(eps) where eps is 0 or a small positive float.\n",
      "Constructing Voronoi polygons:   1%|          | 292/32308 [00:00<00:52, 612.86it/s]Malformed Voronoi cell surrounding boundary site 294. Try changing the number of boundary mesh sites using Polygon.resample() or Polygon.buffer(eps) where eps is 0 or a small positive float.\n",
      "Constructing Voronoi polygons: 100%|██████████| 32308/32308 [00:17<00:00, 1864.10it/s]\n"
     ]
    },
    {
     "name": "stdout",
     "output_type": "stream",
     "text": [
      "min_edge_length: 1.253e-02\n",
      "max_edge_length: 4.869e-02\n",
      "mean_edge_length: 2.868e-02\n",
      "min_area: 1.413e-04\n",
      "max_area: 1.423e-03\n",
      "mean_area: 7.001e-04\n",
      "coherence_length: 1.000e-01\n"
     ]
    },
    {
     "name": "stderr",
     "output_type": "stream",
     "text": [
      "Constructing Voronoi polygons:   0%|          | 0/67166 [00:00<?, ?it/s]Malformed Voronoi cell surrounding boundary site 19. Try changing the number of boundary mesh sites using Polygon.resample() or Polygon.buffer(eps) where eps is 0 or a small positive float.\n",
      "Malformed Voronoi cell surrounding boundary site 47. Try changing the number of boundary mesh sites using Polygon.resample() or Polygon.buffer(eps) where eps is 0 or a small positive float.\n",
      "Constructing Voronoi polygons:   0%|          | 65/67166 [00:00<01:43, 645.27it/s]Malformed Voronoi cell surrounding boundary site 79. Try changing the number of boundary mesh sites using Polygon.resample() or Polygon.buffer(eps) where eps is 0 or a small positive float.\n",
      "Malformed Voronoi cell surrounding boundary site 109. Try changing the number of boundary mesh sites using Polygon.resample() or Polygon.buffer(eps) where eps is 0 or a small positive float.\n",
      "Malformed Voronoi cell surrounding boundary site 136. Try changing the number of boundary mesh sites using Polygon.resample() or Polygon.buffer(eps) where eps is 0 or a small positive float.\n",
      "Constructing Voronoi polygons:   0%|          | 137/67166 [00:00<01:38, 682.19it/s]Malformed Voronoi cell surrounding boundary site 184. Try changing the number of boundary mesh sites using Polygon.resample() or Polygon.buffer(eps) where eps is 0 or a small positive float.\n",
      "Malformed Voronoi cell surrounding boundary site 186. Try changing the number of boundary mesh sites using Polygon.resample() or Polygon.buffer(eps) where eps is 0 or a small positive float.\n",
      "Constructing Voronoi polygons:   0%|          | 207/67166 [00:00<01:37, 687.98it/s]Malformed Voronoi cell surrounding boundary site 252. Try changing the number of boundary mesh sites using Polygon.resample() or Polygon.buffer(eps) where eps is 0 or a small positive float.\n",
      "Constructing Voronoi polygons:  81%|████████▏ | 54738/67166 [00:28<00:06, 1951.55it/s]Malformed Voronoi cell surrounding boundary site 54769. Try changing the number of boundary mesh sites using Polygon.resample() or Polygon.buffer(eps) where eps is 0 or a small positive float.\n",
      "Constructing Voronoi polygons:  85%|████████▌ | 57291/67166 [00:30<00:05, 1962.28it/s]Malformed Voronoi cell surrounding boundary site 57441. Try changing the number of boundary mesh sites using Polygon.resample() or Polygon.buffer(eps) where eps is 0 or a small positive float.\n",
      "Constructing Voronoi polygons:  86%|████████▌ | 57874/67166 [00:30<00:04, 1913.80it/s]Malformed Voronoi cell surrounding boundary site 57881. Try changing the number of boundary mesh sites using Polygon.resample() or Polygon.buffer(eps) where eps is 0 or a small positive float.\n",
      "Malformed Voronoi cell surrounding boundary site 57885. Try changing the number of boundary mesh sites using Polygon.resample() or Polygon.buffer(eps) where eps is 0 or a small positive float.\n",
      "Constructing Voronoi polygons:  86%|████████▋ | 58066/67166 [00:30<00:04, 1894.77it/s]Malformed Voronoi cell surrounding boundary site 58230. Try changing the number of boundary mesh sites using Polygon.resample() or Polygon.buffer(eps) where eps is 0 or a small positive float.\n",
      "Constructing Voronoi polygons:  93%|█████████▎| 62775/67166 [00:33<00:02, 1904.33it/s]Malformed Voronoi cell surrounding boundary site 62847. Try changing the number of boundary mesh sites using Polygon.resample() or Polygon.buffer(eps) where eps is 0 or a small positive float.\n",
      "Constructing Voronoi polygons:  94%|█████████▍| 63148/67166 [00:33<00:02, 1751.06it/s]Malformed Voronoi cell surrounding boundary site 63242. Try changing the number of boundary mesh sites using Polygon.resample() or Polygon.buffer(eps) where eps is 0 or a small positive float.\n",
      "Constructing Voronoi polygons:  98%|█████████▊| 65854/67166 [00:34<00:00, 1919.54it/s]Malformed Voronoi cell surrounding boundary site 65926. Try changing the number of boundary mesh sites using Polygon.resample() or Polygon.buffer(eps) where eps is 0 or a small positive float.\n",
      "Constructing Voronoi polygons:  99%|█████████▉| 66436/67166 [00:34<00:00, 1924.22it/s]Malformed Voronoi cell surrounding boundary site 66482. Try changing the number of boundary mesh sites using Polygon.resample() or Polygon.buffer(eps) where eps is 0 or a small positive float.\n",
      "Constructing Voronoi polygons: 100%|█████████▉| 67015/67166 [00:35<00:00, 1918.82it/s]Malformed Voronoi cell surrounding boundary site 67062. Try changing the number of boundary mesh sites using Polygon.resample() or Polygon.buffer(eps) where eps is 0 or a small positive float.\n",
      "Constructing Voronoi polygons: 100%|██████████| 67166/67166 [00:35<00:00, 1899.73it/s]\n"
     ]
    },
    {
     "name": "stdout",
     "output_type": "stream",
     "text": [
      "min_edge_length: 1.226e-02\n",
      "max_edge_length: 5.052e-02\n",
      "mean_edge_length: 2.895e-02\n",
      "min_area: 1.339e-04\n",
      "max_area: 1.457e-03\n",
      "mean_area: 7.157e-04\n",
      "coherence_length: 1.000e-01\n"
     ]
    },
    {
     "name": "stderr",
     "output_type": "stream",
     "text": [
      "Constructing Voronoi polygons:   0%|          | 0/119118 [00:00<?, ?it/s]Malformed Voronoi cell surrounding boundary site 5. Try changing the number of boundary mesh sites using Polygon.resample() or Polygon.buffer(eps) where eps is 0 or a small positive float.\n",
      "Malformed Voronoi cell surrounding boundary site 7. Try changing the number of boundary mesh sites using Polygon.resample() or Polygon.buffer(eps) where eps is 0 or a small positive float.\n",
      "Malformed Voronoi cell surrounding boundary site 14. Try changing the number of boundary mesh sites using Polygon.resample() or Polygon.buffer(eps) where eps is 0 or a small positive float.\n",
      "Malformed Voronoi cell surrounding boundary site 27. Try changing the number of boundary mesh sites using Polygon.resample() or Polygon.buffer(eps) where eps is 0 or a small positive float.\n",
      "Malformed Voronoi cell surrounding boundary site 33. Try changing the number of boundary mesh sites using Polygon.resample() or Polygon.buffer(eps) where eps is 0 or a small positive float.\n",
      "Malformed Voronoi cell surrounding boundary site 43. Try changing the number of boundary mesh sites using Polygon.resample() or Polygon.buffer(eps) where eps is 0 or a small positive float.\n",
      "Malformed Voronoi cell surrounding boundary site 48. Try changing the number of boundary mesh sites using Polygon.resample() or Polygon.buffer(eps) where eps is 0 or a small positive float.\n",
      "Malformed Voronoi cell surrounding boundary site 53. Try changing the number of boundary mesh sites using Polygon.resample() or Polygon.buffer(eps) where eps is 0 or a small positive float.\n",
      "Malformed Voronoi cell surrounding boundary site 61. Try changing the number of boundary mesh sites using Polygon.resample() or Polygon.buffer(eps) where eps is 0 or a small positive float.\n",
      "Constructing Voronoi polygons:   0%|          | 62/119118 [00:00<04:22, 453.76it/s]Malformed Voronoi cell surrounding boundary site 62. Try changing the number of boundary mesh sites using Polygon.resample() or Polygon.buffer(eps) where eps is 0 or a small positive float.\n",
      "Malformed Voronoi cell surrounding boundary site 70. Try changing the number of boundary mesh sites using Polygon.resample() or Polygon.buffer(eps) where eps is 0 or a small positive float.\n",
      "Malformed Voronoi cell surrounding boundary site 76. Try changing the number of boundary mesh sites using Polygon.resample() or Polygon.buffer(eps) where eps is 0 or a small positive float.\n",
      "Malformed Voronoi cell surrounding boundary site 78. Try changing the number of boundary mesh sites using Polygon.resample() or Polygon.buffer(eps) where eps is 0 or a small positive float.\n",
      "Malformed Voronoi cell surrounding boundary site 86. Try changing the number of boundary mesh sites using Polygon.resample() or Polygon.buffer(eps) where eps is 0 or a small positive float.\n",
      "Malformed Voronoi cell surrounding boundary site 96. Try changing the number of boundary mesh sites using Polygon.resample() or Polygon.buffer(eps) where eps is 0 or a small positive float.\n",
      "Constructing Voronoi polygons:   0%|          | 108/119118 [00:00<05:27, 363.06it/s]Malformed Voronoi cell surrounding boundary site 111. Try changing the number of boundary mesh sites using Polygon.resample() or Polygon.buffer(eps) where eps is 0 or a small positive float.\n",
      "Malformed Voronoi cell surrounding boundary site 114. Try changing the number of boundary mesh sites using Polygon.resample() or Polygon.buffer(eps) where eps is 0 or a small positive float.\n",
      "Malformed Voronoi cell surrounding boundary site 128. Try changing the number of boundary mesh sites using Polygon.resample() or Polygon.buffer(eps) where eps is 0 or a small positive float.\n",
      "Malformed Voronoi cell surrounding boundary site 133. Try changing the number of boundary mesh sites using Polygon.resample() or Polygon.buffer(eps) where eps is 0 or a small positive float.\n",
      "Malformed Voronoi cell surrounding boundary site 136. Try changing the number of boundary mesh sites using Polygon.resample() or Polygon.buffer(eps) where eps is 0 or a small positive float.\n",
      "Malformed Voronoi cell surrounding boundary site 137. Try changing the number of boundary mesh sites using Polygon.resample() or Polygon.buffer(eps) where eps is 0 or a small positive float.\n",
      "Malformed Voronoi cell surrounding boundary site 140. Try changing the number of boundary mesh sites using Polygon.resample() or Polygon.buffer(eps) where eps is 0 or a small positive float.\n",
      "Malformed Voronoi cell surrounding boundary site 145. Try changing the number of boundary mesh sites using Polygon.resample() or Polygon.buffer(eps) where eps is 0 or a small positive float.\n",
      "Malformed Voronoi cell surrounding boundary site 146. Try changing the number of boundary mesh sites using Polygon.resample() or Polygon.buffer(eps) where eps is 0 or a small positive float.\n",
      "Malformed Voronoi cell surrounding boundary site 148. Try changing the number of boundary mesh sites using Polygon.resample() or Polygon.buffer(eps) where eps is 0 or a small positive float.\n",
      "Constructing Voronoi polygons:   0%|          | 162/119118 [00:00<04:38, 426.88it/s]Malformed Voronoi cell surrounding boundary site 168. Try changing the number of boundary mesh sites using Polygon.resample() or Polygon.buffer(eps) where eps is 0 or a small positive float.\n",
      "Malformed Voronoi cell surrounding boundary site 172. Try changing the number of boundary mesh sites using Polygon.resample() or Polygon.buffer(eps) where eps is 0 or a small positive float.\n",
      "Malformed Voronoi cell surrounding boundary site 175. Try changing the number of boundary mesh sites using Polygon.resample() or Polygon.buffer(eps) where eps is 0 or a small positive float.\n",
      "Malformed Voronoi cell surrounding boundary site 178. Try changing the number of boundary mesh sites using Polygon.resample() or Polygon.buffer(eps) where eps is 0 or a small positive float.\n",
      "Malformed Voronoi cell surrounding boundary site 181. Try changing the number of boundary mesh sites using Polygon.resample() or Polygon.buffer(eps) where eps is 0 or a small positive float.\n",
      "Malformed Voronoi cell surrounding boundary site 199. Try changing the number of boundary mesh sites using Polygon.resample() or Polygon.buffer(eps) where eps is 0 or a small positive float.\n",
      "Malformed Voronoi cell surrounding boundary site 207. Try changing the number of boundary mesh sites using Polygon.resample() or Polygon.buffer(eps) where eps is 0 or a small positive float.\n",
      "Constructing Voronoi polygons:   0%|          | 224/119118 [00:00<04:01, 491.97it/s]Malformed Voronoi cell surrounding boundary site 226. Try changing the number of boundary mesh sites using Polygon.resample() or Polygon.buffer(eps) where eps is 0 or a small positive float.\n",
      "Malformed Voronoi cell surrounding boundary site 235. Try changing the number of boundary mesh sites using Polygon.resample() or Polygon.buffer(eps) where eps is 0 or a small positive float.\n",
      "Malformed Voronoi cell surrounding boundary site 248. Try changing the number of boundary mesh sites using Polygon.resample() or Polygon.buffer(eps) where eps is 0 or a small positive float.\n",
      "Malformed Voronoi cell surrounding boundary site 261. Try changing the number of boundary mesh sites using Polygon.resample() or Polygon.buffer(eps) where eps is 0 or a small positive float.\n",
      "Malformed Voronoi cell surrounding boundary site 266. Try changing the number of boundary mesh sites using Polygon.resample() or Polygon.buffer(eps) where eps is 0 or a small positive float.\n",
      "Malformed Voronoi cell surrounding boundary site 279. Try changing the number of boundary mesh sites using Polygon.resample() or Polygon.buffer(eps) where eps is 0 or a small positive float.\n",
      "Malformed Voronoi cell surrounding boundary site 287. Try changing the number of boundary mesh sites using Polygon.resample() or Polygon.buffer(eps) where eps is 0 or a small positive float.\n",
      "Constructing Voronoi polygons:   0%|          | 293/119118 [00:00<03:33, 555.70it/s]Malformed Voronoi cell surrounding boundary site 353. Try changing the number of boundary mesh sites using Polygon.resample() or Polygon.buffer(eps) where eps is 0 or a small positive float.\n",
      "Malformed Voronoi cell surrounding boundary site 358. Try changing the number of boundary mesh sites using Polygon.resample() or Polygon.buffer(eps) where eps is 0 or a small positive float.\n",
      "Constructing Voronoi polygons:   0%|          | 365/119118 [00:00<03:16, 604.77it/s]Malformed Voronoi cell surrounding boundary site 381. Try changing the number of boundary mesh sites using Polygon.resample() or Polygon.buffer(eps) where eps is 0 or a small positive float.\n",
      "Malformed Voronoi cell surrounding boundary site 395. Try changing the number of boundary mesh sites using Polygon.resample() or Polygon.buffer(eps) where eps is 0 or a small positive float.\n",
      "Constructing Voronoi polygons:   0%|          | 481/119118 [00:00<02:32, 776.14it/s]Malformed Voronoi cell surrounding boundary site 580. Try changing the number of boundary mesh sites using Polygon.resample() or Polygon.buffer(eps) where eps is 0 or a small positive float.\n",
      "Constructing Voronoi polygons:   3%|▎         | 3999/119118 [00:02<01:04, 1788.54it/s]Malformed Voronoi cell surrounding boundary site 4087. Try changing the number of boundary mesh sites using Polygon.resample() or Polygon.buffer(eps) where eps is 0 or a small positive float.\n",
      "Constructing Voronoi polygons:   5%|▍         | 5552/119118 [00:03<00:58, 1938.60it/s]Malformed Voronoi cell surrounding boundary site 5618. Try changing the number of boundary mesh sites using Polygon.resample() or Polygon.buffer(eps) where eps is 0 or a small positive float.\n",
      "Constructing Voronoi polygons:   9%|▉         | 10637/119118 [00:06<00:57, 1878.23it/s]Malformed Voronoi cell surrounding boundary site 10687. Try changing the number of boundary mesh sites using Polygon.resample() or Polygon.buffer(eps) where eps is 0 or a small positive float.\n",
      "Constructing Voronoi polygons:  15%|█▌        | 17897/119118 [00:10<00:52, 1915.07it/s]Malformed Voronoi cell surrounding boundary site 18040. Try changing the number of boundary mesh sites using Polygon.resample() or Polygon.buffer(eps) where eps is 0 or a small positive float.\n",
      "Constructing Voronoi polygons:  19%|█▊        | 22048/119118 [00:12<00:50, 1912.73it/s]Malformed Voronoi cell surrounding boundary site 22225. Try changing the number of boundary mesh sites using Polygon.resample() or Polygon.buffer(eps) where eps is 0 or a small positive float.\n",
      "Constructing Voronoi polygons:  55%|█████▌    | 65989/119118 [00:35<00:28, 1841.75it/s]Malformed Voronoi cell surrounding boundary site 66101. Try changing the number of boundary mesh sites using Polygon.resample() or Polygon.buffer(eps) where eps is 0 or a small positive float.\n",
      "Constructing Voronoi polygons:  56%|█████▌    | 66915/119118 [00:35<00:29, 1764.91it/s]Malformed Voronoi cell surrounding boundary site 67075. Try changing the number of boundary mesh sites using Polygon.resample() or Polygon.buffer(eps) where eps is 0 or a small positive float.\n",
      "Constructing Voronoi polygons:  76%|███████▌  | 90751/119118 [00:48<00:14, 1950.68it/s]Malformed Voronoi cell surrounding boundary site 90801. Try changing the number of boundary mesh sites using Polygon.resample() or Polygon.buffer(eps) where eps is 0 or a small positive float.\n",
      "Constructing Voronoi polygons:  77%|███████▋  | 91521/119118 [00:48<00:14, 1865.83it/s]Malformed Voronoi cell surrounding boundary site 91607. Try changing the number of boundary mesh sites using Polygon.resample() or Polygon.buffer(eps) where eps is 0 or a small positive float.\n",
      "Constructing Voronoi polygons:  80%|████████  | 95480/119118 [00:50<00:12, 1933.18it/s]Malformed Voronoi cell surrounding boundary site 95575. Try changing the number of boundary mesh sites using Polygon.resample() or Polygon.buffer(eps) where eps is 0 or a small positive float.\n",
      "Constructing Voronoi polygons:  81%|████████  | 96473/119118 [00:51<00:11, 1958.19it/s]Malformed Voronoi cell surrounding boundary site 96615. Try changing the number of boundary mesh sites using Polygon.resample() or Polygon.buffer(eps) where eps is 0 or a small positive float.\n",
      "Constructing Voronoi polygons:  81%|████████▏ | 97055/119118 [00:51<00:11, 1912.43it/s]Malformed Voronoi cell surrounding boundary site 97196. Try changing the number of boundary mesh sites using Polygon.resample() or Polygon.buffer(eps) where eps is 0 or a small positive float.\n",
      "Constructing Voronoi polygons:  82%|████████▏ | 97818/119118 [00:51<00:11, 1815.41it/s]Malformed Voronoi cell surrounding boundary site 97899. Try changing the number of boundary mesh sites using Polygon.resample() or Polygon.buffer(eps) where eps is 0 or a small positive float.\n",
      "Constructing Voronoi polygons:  83%|████████▎ | 98583/119118 [00:52<00:11, 1858.87it/s]Malformed Voronoi cell surrounding boundary site 98740. Try changing the number of boundary mesh sites using Polygon.resample() or Polygon.buffer(eps) where eps is 0 or a small positive float.\n",
      "Constructing Voronoi polygons:  84%|████████▎ | 99521/119118 [00:52<00:11, 1689.84it/s]Malformed Voronoi cell surrounding boundary site 99528. Try changing the number of boundary mesh sites using Polygon.resample() or Polygon.buffer(eps) where eps is 0 or a small positive float.\n",
      "Malformed Voronoi cell surrounding boundary site 99587. Try changing the number of boundary mesh sites using Polygon.resample() or Polygon.buffer(eps) where eps is 0 or a small positive float.\n",
      "Constructing Voronoi polygons:  84%|████████▎ | 99694/119118 [00:53<00:11, 1688.21it/s]Malformed Voronoi cell surrounding boundary site 99842. Try changing the number of boundary mesh sites using Polygon.resample() or Polygon.buffer(eps) where eps is 0 or a small positive float.\n",
      "Constructing Voronoi polygons:  85%|████████▌ | 101406/119118 [00:53<00:09, 1807.88it/s]Malformed Voronoi cell surrounding boundary site 101594. Try changing the number of boundary mesh sites using Polygon.resample() or Polygon.buffer(eps) where eps is 0 or a small positive float.\n",
      "Constructing Voronoi polygons:  85%|████████▌ | 101802/119118 [00:54<00:09, 1889.21it/s]Malformed Voronoi cell surrounding boundary site 101902. Try changing the number of boundary mesh sites using Polygon.resample() or Polygon.buffer(eps) where eps is 0 or a small positive float.\n",
      "Malformed Voronoi cell surrounding boundary site 101908. Try changing the number of boundary mesh sites using Polygon.resample() or Polygon.buffer(eps) where eps is 0 or a small positive float.\n",
      "Constructing Voronoi polygons:  86%|████████▋ | 102757/119118 [00:54<00:08, 1878.72it/s]Malformed Voronoi cell surrounding boundary site 102834. Try changing the number of boundary mesh sites using Polygon.resample() or Polygon.buffer(eps) where eps is 0 or a small positive float.\n",
      "Constructing Voronoi polygons:  87%|████████▋ | 103135/119118 [00:54<00:08, 1869.80it/s]Malformed Voronoi cell surrounding boundary site 103165. Try changing the number of boundary mesh sites using Polygon.resample() or Polygon.buffer(eps) where eps is 0 or a small positive float.\n",
      "Constructing Voronoi polygons:  87%|████████▋ | 103509/119118 [00:55<00:08, 1824.43it/s]Malformed Voronoi cell surrounding boundary site 103576. Try changing the number of boundary mesh sites using Polygon.resample() or Polygon.buffer(eps) where eps is 0 or a small positive float.\n",
      "Malformed Voronoi cell surrounding boundary site 103584. Try changing the number of boundary mesh sites using Polygon.resample() or Polygon.buffer(eps) where eps is 0 or a small positive float.\n",
      "Constructing Voronoi polygons:  87%|████████▋ | 103878/119118 [00:55<00:08, 1785.45it/s]Malformed Voronoi cell surrounding boundary site 103907. Try changing the number of boundary mesh sites using Polygon.resample() or Polygon.buffer(eps) where eps is 0 or a small positive float.\n",
      "Constructing Voronoi polygons:  88%|████████▊ | 105015/119118 [00:55<00:07, 1887.98it/s]Malformed Voronoi cell surrounding boundary site 105186. Try changing the number of boundary mesh sites using Polygon.resample() or Polygon.buffer(eps) where eps is 0 or a small positive float.\n",
      "Constructing Voronoi polygons:  88%|████████▊ | 105209/119118 [00:56<00:07, 1893.71it/s]Malformed Voronoi cell surrounding boundary site 105369. Try changing the number of boundary mesh sites using Polygon.resample() or Polygon.buffer(eps) where eps is 0 or a small positive float.\n",
      "Constructing Voronoi polygons:  91%|█████████ | 107897/119118 [00:57<00:06, 1865.28it/s]Malformed Voronoi cell surrounding boundary site 107907. Try changing the number of boundary mesh sites using Polygon.resample() or Polygon.buffer(eps) where eps is 0 or a small positive float.\n",
      "Malformed Voronoi cell surrounding boundary site 107925. Try changing the number of boundary mesh sites using Polygon.resample() or Polygon.buffer(eps) where eps is 0 or a small positive float.\n",
      "Constructing Voronoi polygons:  91%|█████████ | 108278/119118 [00:57<00:05, 1865.21it/s]Malformed Voronoi cell surrounding boundary site 108360. Try changing the number of boundary mesh sites using Polygon.resample() or Polygon.buffer(eps) where eps is 0 or a small positive float.\n",
      "Constructing Voronoi polygons:  94%|█████████▎| 111608/119118 [00:59<00:03, 1906.21it/s]Malformed Voronoi cell surrounding boundary site 111668. Try changing the number of boundary mesh sites using Polygon.resample() or Polygon.buffer(eps) where eps is 0 or a small positive float.\n",
      "Malformed Voronoi cell surrounding boundary site 111679. Try changing the number of boundary mesh sites using Polygon.resample() or Polygon.buffer(eps) where eps is 0 or a small positive float.\n",
      "Malformed Voronoi cell surrounding boundary site 111791. Try changing the number of boundary mesh sites using Polygon.resample() or Polygon.buffer(eps) where eps is 0 or a small positive float.\n",
      "Constructing Voronoi polygons:  94%|█████████▍| 112377/119118 [00:59<00:03, 1878.21it/s]Malformed Voronoi cell surrounding boundary site 112447. Try changing the number of boundary mesh sites using Polygon.resample() or Polygon.buffer(eps) where eps is 0 or a small positive float.\n",
      "Constructing Voronoi polygons:  95%|█████████▍| 112759/119118 [01:00<00:03, 1889.00it/s]Malformed Voronoi cell surrounding boundary site 112928. Try changing the number of boundary mesh sites using Polygon.resample() or Polygon.buffer(eps) where eps is 0 or a small positive float.\n",
      "Constructing Voronoi polygons: 100%|██████████| 119118/119118 [01:03<00:00, 1875.55it/s]\n"
     ]
    },
    {
     "name": "stdout",
     "output_type": "stream",
     "text": [
      "min_edge_length: 1.194e-02\n",
      "max_edge_length: 5.225e-02\n",
      "mean_edge_length: 2.854e-02\n",
      "min_area: 1.401e-04\n",
      "max_area: 1.594e-03\n",
      "mean_area: 6.970e-04\n",
      "coherence_length: 1.000e-01\n"
     ]
    },
    {
     "name": "stderr",
     "output_type": "stream",
     "text": [
      "Constructing Voronoi polygons:   0%|          | 74/214644 [00:00<04:52, 734.64it/s]Malformed Voronoi cell surrounding boundary site 112. Try changing the number of boundary mesh sites using Polygon.resample() or Polygon.buffer(eps) where eps is 0 or a small positive float.\n",
      "Malformed Voronoi cell surrounding boundary site 125. Try changing the number of boundary mesh sites using Polygon.resample() or Polygon.buffer(eps) where eps is 0 or a small positive float.\n",
      "Constructing Voronoi polygons:   0%|          | 148/214644 [00:00<04:53, 730.38it/s]Malformed Voronoi cell surrounding boundary site 149. Try changing the number of boundary mesh sites using Polygon.resample() or Polygon.buffer(eps) where eps is 0 or a small positive float.\n",
      "Malformed Voronoi cell surrounding boundary site 155. Try changing the number of boundary mesh sites using Polygon.resample() or Polygon.buffer(eps) where eps is 0 or a small positive float.\n",
      "Malformed Voronoi cell surrounding boundary site 160. Try changing the number of boundary mesh sites using Polygon.resample() or Polygon.buffer(eps) where eps is 0 or a small positive float.\n",
      "Constructing Voronoi polygons:  60%|█████▉    | 128318/214644 [01:07<00:44, 1942.50it/s]Malformed Voronoi cell surrounding boundary site 128367. Try changing the number of boundary mesh sites using Polygon.resample() or Polygon.buffer(eps) where eps is 0 or a small positive float.\n",
      "Malformed Voronoi cell surrounding boundary site 128391. Try changing the number of boundary mesh sites using Polygon.resample() or Polygon.buffer(eps) where eps is 0 or a small positive float.\n",
      "Constructing Voronoi polygons:  82%|████████▏ | 174968/214644 [01:32<00:20, 1916.25it/s]Malformed Voronoi cell surrounding boundary site 175130. Try changing the number of boundary mesh sites using Polygon.resample() or Polygon.buffer(eps) where eps is 0 or a small positive float.\n",
      "Constructing Voronoi polygons:  84%|████████▍ | 180440/214644 [01:35<00:19, 1713.80it/s]Malformed Voronoi cell surrounding boundary site 180619. Try changing the number of boundary mesh sites using Polygon.resample() or Polygon.buffer(eps) where eps is 0 or a small positive float.\n",
      "Constructing Voronoi polygons:  86%|████████▌ | 183965/214644 [01:37<00:15, 1930.03it/s]Malformed Voronoi cell surrounding boundary site 184136. Try changing the number of boundary mesh sites using Polygon.resample() or Polygon.buffer(eps) where eps is 0 or a small positive float.\n",
      "Constructing Voronoi polygons:  88%|████████▊ | 188680/214644 [01:39<00:13, 1945.38it/s]Malformed Voronoi cell surrounding boundary site 188847. Try changing the number of boundary mesh sites using Polygon.resample() or Polygon.buffer(eps) where eps is 0 or a small positive float.\n",
      "Constructing Voronoi polygons:  88%|████████▊ | 189659/214644 [01:40<00:13, 1911.89it/s]Malformed Voronoi cell surrounding boundary site 189685. Try changing the number of boundary mesh sites using Polygon.resample() or Polygon.buffer(eps) where eps is 0 or a small positive float.\n",
      "Constructing Voronoi polygons:  89%|████████▊ | 190229/214644 [01:40<00:13, 1873.63it/s]Malformed Voronoi cell surrounding boundary site 190238. Try changing the number of boundary mesh sites using Polygon.resample() or Polygon.buffer(eps) where eps is 0 or a small positive float.\n",
      "Constructing Voronoi polygons:  92%|█████████▏| 196615/214644 [01:43<00:10, 1786.09it/s]Malformed Voronoi cell surrounding boundary site 196670. Try changing the number of boundary mesh sites using Polygon.resample() or Polygon.buffer(eps) where eps is 0 or a small positive float.\n",
      "Constructing Voronoi polygons:  93%|█████████▎| 198743/214644 [01:44<00:08, 1905.45it/s]Malformed Voronoi cell surrounding boundary site 198799. Try changing the number of boundary mesh sites using Polygon.resample() or Polygon.buffer(eps) where eps is 0 or a small positive float.\n",
      "Malformed Voronoi cell surrounding boundary site 198824. Try changing the number of boundary mesh sites using Polygon.resample() or Polygon.buffer(eps) where eps is 0 or a small positive float.\n",
      "Constructing Voronoi polygons:  94%|█████████▍| 202090/214644 [01:46<00:06, 1934.72it/s]Malformed Voronoi cell surrounding boundary site 202225. Try changing the number of boundary mesh sites using Polygon.resample() or Polygon.buffer(eps) where eps is 0 or a small positive float.\n",
      "Constructing Voronoi polygons:  97%|█████████▋| 209270/214644 [01:50<00:03, 1626.97it/s]Malformed Voronoi cell surrounding boundary site 209321. Try changing the number of boundary mesh sites using Polygon.resample() or Polygon.buffer(eps) where eps is 0 or a small positive float.\n",
      "Constructing Voronoi polygons: 100%|██████████| 214644/214644 [01:53<00:00, 1888.50it/s]\n"
     ]
    },
    {
     "name": "stdout",
     "output_type": "stream",
     "text": [
      "min_edge_length: 1.053e-02\n",
      "max_edge_length: 4.670e-02\n",
      "mean_edge_length: 2.632e-02\n",
      "min_area: 1.501e-04\n",
      "max_area: 1.378e-03\n",
      "mean_area: 5.937e-04\n",
      "coherence_length: 1.000e-01\n"
     ]
    },
    {
     "name": "stderr",
     "output_type": "stream",
     "text": [
      "Constructing Voronoi polygons:   0%|          | 0/254273 [00:00<?, ?it/s]Malformed Voronoi cell surrounding boundary site 55. Try changing the number of boundary mesh sites using Polygon.resample() or Polygon.buffer(eps) where eps is 0 or a small positive float.\n",
      "Constructing Voronoi polygons:   0%|          | 72/254273 [00:00<05:55, 714.77it/s]Malformed Voronoi cell surrounding boundary site 77. Try changing the number of boundary mesh sites using Polygon.resample() or Polygon.buffer(eps) where eps is 0 or a small positive float.\n",
      "Constructing Voronoi polygons:   0%|          | 221/254273 [00:00<06:03, 698.62it/s]Malformed Voronoi cell surrounding boundary site 238. Try changing the number of boundary mesh sites using Polygon.resample() or Polygon.buffer(eps) where eps is 0 or a small positive float.\n",
      "Constructing Voronoi polygons:  17%|█▋        | 42297/254273 [00:22<02:00, 1752.34it/s]Malformed Voronoi cell surrounding boundary site 42400. Try changing the number of boundary mesh sites using Polygon.resample() or Polygon.buffer(eps) where eps is 0 or a small positive float.\n",
      "Constructing Voronoi polygons:  35%|███▍      | 88070/254273 [00:47<01:24, 1974.38it/s]Malformed Voronoi cell surrounding boundary site 88264. Try changing the number of boundary mesh sites using Polygon.resample() or Polygon.buffer(eps) where eps is 0 or a small positive float.\n",
      "Constructing Voronoi polygons:  73%|███████▎  | 186092/254273 [01:38<00:36, 1889.17it/s]Malformed Voronoi cell surrounding boundary site 186206. Try changing the number of boundary mesh sites using Polygon.resample() or Polygon.buffer(eps) where eps is 0 or a small positive float.\n",
      "Constructing Voronoi polygons:  74%|███████▍  | 188441/254273 [01:39<00:35, 1845.00it/s]Malformed Voronoi cell surrounding boundary site 188545. Try changing the number of boundary mesh sites using Polygon.resample() or Polygon.buffer(eps) where eps is 0 or a small positive float.\n",
      "Constructing Voronoi polygons:  74%|███████▍  | 188812/254273 [01:40<00:35, 1828.62it/s]Malformed Voronoi cell surrounding boundary site 188985. Try changing the number of boundary mesh sites using Polygon.resample() or Polygon.buffer(eps) where eps is 0 or a small positive float.\n",
      "Constructing Voronoi polygons:  81%|████████  | 204993/254273 [01:48<00:25, 1946.47it/s]Malformed Voronoi cell surrounding boundary site 205050. Try changing the number of boundary mesh sites using Polygon.resample() or Polygon.buffer(eps) where eps is 0 or a small positive float.\n",
      "Constructing Voronoi polygons:  86%|████████▌ | 218691/254273 [01:55<00:18, 1948.18it/s]Malformed Voronoi cell surrounding boundary site 218754. Try changing the number of boundary mesh sites using Polygon.resample() or Polygon.buffer(eps) where eps is 0 or a small positive float.\n",
      "Constructing Voronoi polygons:  87%|████████▋ | 220635/254273 [01:56<00:17, 1935.39it/s]Malformed Voronoi cell surrounding boundary site 220785. Try changing the number of boundary mesh sites using Polygon.resample() or Polygon.buffer(eps) where eps is 0 or a small positive float.\n",
      "Constructing Voronoi polygons:  89%|████████▉ | 225851/254273 [01:59<00:14, 1895.91it/s]Malformed Voronoi cell surrounding boundary site 225888. Try changing the number of boundary mesh sites using Polygon.resample() or Polygon.buffer(eps) where eps is 0 or a small positive float.\n",
      "Constructing Voronoi polygons:  91%|█████████ | 231420/254273 [02:02<00:13, 1752.52it/s]Malformed Voronoi cell surrounding boundary site 231440. Try changing the number of boundary mesh sites using Polygon.resample() or Polygon.buffer(eps) where eps is 0 or a small positive float.\n",
      "Constructing Voronoi polygons:  92%|█████████▏| 234174/254273 [02:04<00:10, 1959.55it/s]Malformed Voronoi cell surrounding boundary site 234187. Try changing the number of boundary mesh sites using Polygon.resample() or Polygon.buffer(eps) where eps is 0 or a small positive float.\n",
      "Constructing Voronoi polygons:  92%|█████████▏| 234371/254273 [02:04<00:10, 1946.91it/s]Malformed Voronoi cell surrounding boundary site 234429. Try changing the number of boundary mesh sites using Polygon.resample() or Polygon.buffer(eps) where eps is 0 or a small positive float.\n",
      "Constructing Voronoi polygons:  98%|█████████▊| 249682/254273 [02:12<00:02, 1875.22it/s]Malformed Voronoi cell surrounding boundary site 249723. Try changing the number of boundary mesh sites using Polygon.resample() or Polygon.buffer(eps) where eps is 0 or a small positive float.\n",
      "Constructing Voronoi polygons:  99%|█████████▉| 251186/254273 [02:13<00:01, 1872.82it/s]Malformed Voronoi cell surrounding boundary site 251343. Try changing the number of boundary mesh sites using Polygon.resample() or Polygon.buffer(eps) where eps is 0 or a small positive float.\n",
      "Constructing Voronoi polygons:  99%|█████████▉| 252701/254273 [02:14<00:00, 1781.38it/s]Malformed Voronoi cell surrounding boundary site 252764. Try changing the number of boundary mesh sites using Polygon.resample() or Polygon.buffer(eps) where eps is 0 or a small positive float.\n",
      "Constructing Voronoi polygons: 100%|█████████▉| 254015/254273 [02:14<00:00, 1893.06it/s]Malformed Voronoi cell surrounding boundary site 254061. Try changing the number of boundary mesh sites using Polygon.resample() or Polygon.buffer(eps) where eps is 0 or a small positive float.\n",
      "Constructing Voronoi polygons: 100%|██████████| 254273/254273 [02:15<00:00, 1883.04it/s]\n"
     ]
    },
    {
     "name": "stdout",
     "output_type": "stream",
     "text": [
      "min_edge_length: 1.172e-02\n",
      "max_edge_length: 5.253e-02\n",
      "mean_edge_length: 2.884e-02\n",
      "min_area: 1.471e-04\n",
      "max_area: 1.578e-03\n",
      "mean_area: 7.132e-04\n",
      "coherence_length: 1.000e-01\n"
     ]
    },
    {
     "name": "stderr",
     "output_type": "stream",
     "text": [
      "Constructing Voronoi polygons:   0%|          | 0/355842 [00:00<?, ?it/s]Malformed Voronoi cell surrounding boundary site 7. Try changing the number of boundary mesh sites using Polygon.resample() or Polygon.buffer(eps) where eps is 0 or a small positive float.\n",
      "Malformed Voronoi cell surrounding boundary site 14. Try changing the number of boundary mesh sites using Polygon.resample() or Polygon.buffer(eps) where eps is 0 or a small positive float.\n",
      "Malformed Voronoi cell surrounding boundary site 21. Try changing the number of boundary mesh sites using Polygon.resample() or Polygon.buffer(eps) where eps is 0 or a small positive float.\n",
      "Malformed Voronoi cell surrounding boundary site 42. Try changing the number of boundary mesh sites using Polygon.resample() or Polygon.buffer(eps) where eps is 0 or a small positive float.\n",
      "Malformed Voronoi cell surrounding boundary site 47. Try changing the number of boundary mesh sites using Polygon.resample() or Polygon.buffer(eps) where eps is 0 or a small positive float.\n",
      "Malformed Voronoi cell surrounding boundary site 53. Try changing the number of boundary mesh sites using Polygon.resample() or Polygon.buffer(eps) where eps is 0 or a small positive float.\n",
      "Malformed Voronoi cell surrounding boundary site 56. Try changing the number of boundary mesh sites using Polygon.resample() or Polygon.buffer(eps) where eps is 0 or a small positive float.\n",
      "Malformed Voronoi cell surrounding boundary site 60. Try changing the number of boundary mesh sites using Polygon.resample() or Polygon.buffer(eps) where eps is 0 or a small positive float.\n",
      "Constructing Voronoi polygons:   0%|          | 61/355842 [00:00<11:20, 522.76it/s]Malformed Voronoi cell surrounding boundary site 70. Try changing the number of boundary mesh sites using Polygon.resample() or Polygon.buffer(eps) where eps is 0 or a small positive float.\n",
      "Malformed Voronoi cell surrounding boundary site 81. Try changing the number of boundary mesh sites using Polygon.resample() or Polygon.buffer(eps) where eps is 0 or a small positive float.\n",
      "Malformed Voronoi cell surrounding boundary site 83. Try changing the number of boundary mesh sites using Polygon.resample() or Polygon.buffer(eps) where eps is 0 or a small positive float.\n",
      "Malformed Voronoi cell surrounding boundary site 90. Try changing the number of boundary mesh sites using Polygon.resample() or Polygon.buffer(eps) where eps is 0 or a small positive float.\n",
      "Malformed Voronoi cell surrounding boundary site 96. Try changing the number of boundary mesh sites using Polygon.resample() or Polygon.buffer(eps) where eps is 0 or a small positive float.\n",
      "Malformed Voronoi cell surrounding boundary site 98. Try changing the number of boundary mesh sites using Polygon.resample() or Polygon.buffer(eps) where eps is 0 or a small positive float.\n",
      "Malformed Voronoi cell surrounding boundary site 109. Try changing the number of boundary mesh sites using Polygon.resample() or Polygon.buffer(eps) where eps is 0 or a small positive float.\n",
      "Constructing Voronoi polygons:   0%|          | 114/355842 [00:00<11:55, 497.44it/s]Malformed Voronoi cell surrounding boundary site 130. Try changing the number of boundary mesh sites using Polygon.resample() or Polygon.buffer(eps) where eps is 0 or a small positive float.\n",
      "Malformed Voronoi cell surrounding boundary site 135. Try changing the number of boundary mesh sites using Polygon.resample() or Polygon.buffer(eps) where eps is 0 or a small positive float.\n",
      "Malformed Voronoi cell surrounding boundary site 139. Try changing the number of boundary mesh sites using Polygon.resample() or Polygon.buffer(eps) where eps is 0 or a small positive float.\n",
      "Malformed Voronoi cell surrounding boundary site 173. Try changing the number of boundary mesh sites using Polygon.resample() or Polygon.buffer(eps) where eps is 0 or a small positive float.\n",
      "Malformed Voronoi cell surrounding boundary site 176. Try changing the number of boundary mesh sites using Polygon.resample() or Polygon.buffer(eps) where eps is 0 or a small positive float.\n",
      "Constructing Voronoi polygons:   0%|          | 178/355842 [00:00<10:39, 556.46it/s]Malformed Voronoi cell surrounding boundary site 180. Try changing the number of boundary mesh sites using Polygon.resample() or Polygon.buffer(eps) where eps is 0 or a small positive float.\n",
      "Malformed Voronoi cell surrounding boundary site 187. Try changing the number of boundary mesh sites using Polygon.resample() or Polygon.buffer(eps) where eps is 0 or a small positive float.\n",
      "Malformed Voronoi cell surrounding boundary site 197. Try changing the number of boundary mesh sites using Polygon.resample() or Polygon.buffer(eps) where eps is 0 or a small positive float.\n",
      "Malformed Voronoi cell surrounding boundary site 198. Try changing the number of boundary mesh sites using Polygon.resample() or Polygon.buffer(eps) where eps is 0 or a small positive float.\n",
      "Malformed Voronoi cell surrounding boundary site 242. Try changing the number of boundary mesh sites using Polygon.resample() or Polygon.buffer(eps) where eps is 0 or a small positive float.\n",
      "Constructing Voronoi polygons:   0%|          | 247/355842 [00:00<09:47, 605.22it/s]Malformed Voronoi cell surrounding boundary site 255. Try changing the number of boundary mesh sites using Polygon.resample() or Polygon.buffer(eps) where eps is 0 or a small positive float.\n",
      "Malformed Voronoi cell surrounding boundary site 265. Try changing the number of boundary mesh sites using Polygon.resample() or Polygon.buffer(eps) where eps is 0 or a small positive float.\n",
      "Malformed Voronoi cell surrounding boundary site 296. Try changing the number of boundary mesh sites using Polygon.resample() or Polygon.buffer(eps) where eps is 0 or a small positive float.\n",
      "Constructing Voronoi polygons:   0%|          | 319/355842 [00:00<09:14, 641.49it/s]Malformed Voronoi cell surrounding boundary site 367. Try changing the number of boundary mesh sites using Polygon.resample() or Polygon.buffer(eps) where eps is 0 or a small positive float.\n",
      "Malformed Voronoi cell surrounding boundary site 369. Try changing the number of boundary mesh sites using Polygon.resample() or Polygon.buffer(eps) where eps is 0 or a small positive float.\n",
      "Constructing Voronoi polygons:   0%|          | 388/355842 [00:00<09:01, 656.00it/s]Malformed Voronoi cell surrounding boundary site 445. Try changing the number of boundary mesh sites using Polygon.resample() or Polygon.buffer(eps) where eps is 0 or a small positive float.\n",
      "Malformed Voronoi cell surrounding boundary site 466. Try changing the number of boundary mesh sites using Polygon.resample() or Polygon.buffer(eps) where eps is 0 or a small positive float.\n",
      "Constructing Voronoi polygons:   0%|          | 1280/355842 [00:01<03:30, 1686.76it/s]Malformed Voronoi cell surrounding boundary site 1325. Try changing the number of boundary mesh sites using Polygon.resample() or Polygon.buffer(eps) where eps is 0 or a small positive float.\n",
      "Constructing Voronoi polygons:   0%|          | 1467/355842 [00:01<03:23, 1738.27it/s]Malformed Voronoi cell surrounding boundary site 1553. Try changing the number of boundary mesh sites using Polygon.resample() or Polygon.buffer(eps) where eps is 0 or a small positive float.\n",
      "Constructing Voronoi polygons:   1%|▏         | 4520/355842 [00:02<03:12, 1829.67it/s]Malformed Voronoi cell surrounding boundary site 4544. Try changing the number of boundary mesh sites using Polygon.resample() or Polygon.buffer(eps) where eps is 0 or a small positive float.\n",
      "Constructing Voronoi polygons:   2%|▏         | 6234/355842 [00:03<03:08, 1859.25it/s]Malformed Voronoi cell surrounding boundary site 6344. Try changing the number of boundary mesh sites using Polygon.resample() or Polygon.buffer(eps) where eps is 0 or a small positive float.\n",
      "Constructing Voronoi polygons:   3%|▎         | 11563/355842 [00:06<03:05, 1856.52it/s]Malformed Voronoi cell surrounding boundary site 11567. Try changing the number of boundary mesh sites using Polygon.resample() or Polygon.buffer(eps) where eps is 0 or a small positive float.\n",
      "Constructing Voronoi polygons:  10%|▉         | 34806/355842 [00:18<02:43, 1967.52it/s]Malformed Voronoi cell surrounding boundary site 34811. Try changing the number of boundary mesh sites using Polygon.resample() or Polygon.buffer(eps) where eps is 0 or a small positive float.\n",
      "Constructing Voronoi polygons:  13%|█▎        | 46141/355842 [00:24<02:38, 1957.31it/s]Malformed Voronoi cell surrounding boundary site 46330. Try changing the number of boundary mesh sites using Polygon.resample() or Polygon.buffer(eps) where eps is 0 or a small positive float.\n",
      "Constructing Voronoi polygons:  14%|█▍        | 50450/355842 [00:26<02:36, 1950.98it/s]Malformed Voronoi cell surrounding boundary site 50591. Try changing the number of boundary mesh sites using Polygon.resample() or Polygon.buffer(eps) where eps is 0 or a small positive float.\n",
      "Constructing Voronoi polygons:  21%|██        | 75382/355842 [00:40<02:27, 1906.56it/s]Malformed Voronoi cell surrounding boundary site 75509. Try changing the number of boundary mesh sites using Polygon.resample() or Polygon.buffer(eps) where eps is 0 or a small positive float.\n",
      "Constructing Voronoi polygons:  21%|██        | 75574/355842 [00:40<02:27, 1906.42it/s]Malformed Voronoi cell surrounding boundary site 75710. Try changing the number of boundary mesh sites using Polygon.resample() or Polygon.buffer(eps) where eps is 0 or a small positive float.\n",
      "Constructing Voronoi polygons:  24%|██▍       | 86010/355842 [00:45<02:16, 1974.66it/s]Malformed Voronoi cell surrounding boundary site 86126. Try changing the number of boundary mesh sites using Polygon.resample() or Polygon.buffer(eps) where eps is 0 or a small positive float.\n",
      "Constructing Voronoi polygons:  26%|██▌       | 91363/355842 [00:48<02:13, 1975.09it/s]Malformed Voronoi cell surrounding boundary site 91534. Try changing the number of boundary mesh sites using Polygon.resample() or Polygon.buffer(eps) where eps is 0 or a small positive float.\n",
      "Constructing Voronoi polygons:  31%|███       | 108602/355842 [00:57<02:04, 1993.30it/s]Malformed Voronoi cell surrounding boundary site 108772. Try changing the number of boundary mesh sites using Polygon.resample() or Polygon.buffer(eps) where eps is 0 or a small positive float.\n",
      "Constructing Voronoi polygons:  32%|███▏      | 113611/355842 [01:00<02:07, 1893.31it/s]Malformed Voronoi cell surrounding boundary site 113780. Try changing the number of boundary mesh sites using Polygon.resample() or Polygon.buffer(eps) where eps is 0 or a small positive float.\n",
      "Constructing Voronoi polygons:  36%|███▌      | 128769/355842 [01:08<01:57, 1930.67it/s]Malformed Voronoi cell surrounding boundary site 128794. Try changing the number of boundary mesh sites using Polygon.resample() or Polygon.buffer(eps) where eps is 0 or a small positive float.\n",
      "Constructing Voronoi polygons:  37%|███▋      | 133340/355842 [01:11<01:52, 1986.08it/s]Malformed Voronoi cell surrounding boundary site 133362. Try changing the number of boundary mesh sites using Polygon.resample() or Polygon.buffer(eps) where eps is 0 or a small positive float.\n",
      "Constructing Voronoi polygons:  38%|███▊      | 134886/355842 [01:11<01:59, 1846.09it/s]Malformed Voronoi cell surrounding boundary site 134981. Try changing the number of boundary mesh sites using Polygon.resample() or Polygon.buffer(eps) where eps is 0 or a small positive float.\n",
      "Constructing Voronoi polygons:  62%|██████▏   | 219835/355842 [01:55<01:11, 1893.65it/s]Malformed Voronoi cell surrounding boundary site 220001. Try changing the number of boundary mesh sites using Polygon.resample() or Polygon.buffer(eps) where eps is 0 or a small positive float.\n",
      "Constructing Voronoi polygons:  65%|██████▌   | 232251/355842 [02:02<01:03, 1961.19it/s]Malformed Voronoi cell surrounding boundary site 232396. Try changing the number of boundary mesh sites using Polygon.resample() or Polygon.buffer(eps) where eps is 0 or a small positive float.\n",
      "Constructing Voronoi polygons:  68%|██████▊   | 241961/355842 [02:07<00:57, 1982.92it/s]Malformed Voronoi cell surrounding boundary site 242026. Try changing the number of boundary mesh sites using Polygon.resample() or Polygon.buffer(eps) where eps is 0 or a small positive float.\n",
      "Constructing Voronoi polygons:  73%|███████▎  | 259104/355842 [02:16<00:49, 1941.57it/s]Malformed Voronoi cell surrounding boundary site 259159. Try changing the number of boundary mesh sites using Polygon.resample() or Polygon.buffer(eps) where eps is 0 or a small positive float.\n",
      "Constructing Voronoi polygons:  73%|███████▎  | 260462/355842 [02:17<00:49, 1936.51it/s]Malformed Voronoi cell surrounding boundary site 260572. Try changing the number of boundary mesh sites using Polygon.resample() or Polygon.buffer(eps) where eps is 0 or a small positive float.\n",
      "Malformed Voronoi cell surrounding boundary site 260627. Try changing the number of boundary mesh sites using Polygon.resample() or Polygon.buffer(eps) where eps is 0 or a small positive float.\n",
      "Malformed Voronoi cell surrounding boundary site 260644. Try changing the number of boundary mesh sites using Polygon.resample() or Polygon.buffer(eps) where eps is 0 or a small positive float.\n",
      "Constructing Voronoi polygons:  74%|███████▎  | 262423/355842 [02:18<00:47, 1947.99it/s]Malformed Voronoi cell surrounding boundary site 262458. Try changing the number of boundary mesh sites using Polygon.resample() or Polygon.buffer(eps) where eps is 0 or a small positive float.\n",
      "Malformed Voronoi cell surrounding boundary site 262461. Try changing the number of boundary mesh sites using Polygon.resample() or Polygon.buffer(eps) where eps is 0 or a small positive float.\n",
      "Malformed Voronoi cell surrounding boundary site 262466. Try changing the number of boundary mesh sites using Polygon.resample() or Polygon.buffer(eps) where eps is 0 or a small positive float.\n",
      "Malformed Voronoi cell surrounding boundary site 262493. Try changing the number of boundary mesh sites using Polygon.resample() or Polygon.buffer(eps) where eps is 0 or a small positive float.\n",
      "Malformed Voronoi cell surrounding boundary site 262557. Try changing the number of boundary mesh sites using Polygon.resample() or Polygon.buffer(eps) where eps is 0 or a small positive float.\n",
      "Constructing Voronoi polygons:  74%|███████▍  | 264144/355842 [02:19<00:50, 1805.24it/s]Malformed Voronoi cell surrounding boundary site 264303. Try changing the number of boundary mesh sites using Polygon.resample() or Polygon.buffer(eps) where eps is 0 or a small positive float.\n",
      "Constructing Voronoi polygons:  74%|███████▍  | 264531/355842 [02:19<00:49, 1859.12it/s]Malformed Voronoi cell surrounding boundary site 264710. Try changing the number of boundary mesh sites using Polygon.resample() or Polygon.buffer(eps) where eps is 0 or a small positive float.\n",
      "Constructing Voronoi polygons:  75%|███████▍  | 265512/355842 [02:19<00:48, 1862.15it/s]Malformed Voronoi cell surrounding boundary site 265692. Try changing the number of boundary mesh sites using Polygon.resample() or Polygon.buffer(eps) where eps is 0 or a small positive float.\n",
      "Constructing Voronoi polygons:  75%|███████▍  | 266088/355842 [02:20<00:47, 1880.18it/s]Malformed Voronoi cell surrounding boundary site 266286. Try changing the number of boundary mesh sites using Polygon.resample() or Polygon.buffer(eps) where eps is 0 or a small positive float.\n",
      "Constructing Voronoi polygons:  75%|███████▍  | 266287/355842 [02:20<00:47, 1902.81it/s]Malformed Voronoi cell surrounding boundary site 266298. Try changing the number of boundary mesh sites using Polygon.resample() or Polygon.buffer(eps) where eps is 0 or a small positive float.\n",
      "Malformed Voronoi cell surrounding boundary site 266318. Try changing the number of boundary mesh sites using Polygon.resample() or Polygon.buffer(eps) where eps is 0 or a small positive float.\n",
      "Constructing Voronoi polygons:  75%|███████▌  | 267474/355842 [02:20<00:45, 1962.31it/s]Malformed Voronoi cell surrounding boundary site 267524. Try changing the number of boundary mesh sites using Polygon.resample() or Polygon.buffer(eps) where eps is 0 or a small positive float.\n",
      "Constructing Voronoi polygons:  75%|███████▌  | 267671/355842 [02:20<00:46, 1898.54it/s]Malformed Voronoi cell surrounding boundary site 267846. Try changing the number of boundary mesh sites using Polygon.resample() or Polygon.buffer(eps) where eps is 0 or a small positive float.\n",
      "Constructing Voronoi polygons:  76%|███████▌  | 269634/355842 [02:21<00:44, 1938.23it/s]Malformed Voronoi cell surrounding boundary site 269768. Try changing the number of boundary mesh sites using Polygon.resample() or Polygon.buffer(eps) where eps is 0 or a small positive float.\n",
      "Malformed Voronoi cell surrounding boundary site 269777. Try changing the number of boundary mesh sites using Polygon.resample() or Polygon.buffer(eps) where eps is 0 or a small positive float.\n",
      "Constructing Voronoi polygons:  76%|███████▌  | 270015/355842 [02:22<00:47, 1806.44it/s]Malformed Voronoi cell surrounding boundary site 270196. Try changing the number of boundary mesh sites using Polygon.resample() or Polygon.buffer(eps) where eps is 0 or a small positive float.\n",
      "Constructing Voronoi polygons:  76%|███████▋  | 271381/355842 [02:22<00:43, 1922.20it/s]Malformed Voronoi cell surrounding boundary site 271418. Try changing the number of boundary mesh sites using Polygon.resample() or Polygon.buffer(eps) where eps is 0 or a small positive float.\n",
      "Constructing Voronoi polygons:  76%|███████▋  | 271956/355842 [02:23<00:57, 1469.68it/s]Malformed Voronoi cell surrounding boundary site 271982. Try changing the number of boundary mesh sites using Polygon.resample() or Polygon.buffer(eps) where eps is 0 or a small positive float.\n",
      "Constructing Voronoi polygons:  78%|███████▊  | 277430/355842 [02:26<00:40, 1947.34it/s]Malformed Voronoi cell surrounding boundary site 277587. Try changing the number of boundary mesh sites using Polygon.resample() or Polygon.buffer(eps) where eps is 0 or a small positive float.\n",
      "Constructing Voronoi polygons:  78%|███████▊  | 277625/355842 [02:26<00:40, 1915.53it/s]Malformed Voronoi cell surrounding boundary site 277626. Try changing the number of boundary mesh sites using Polygon.resample() or Polygon.buffer(eps) where eps is 0 or a small positive float.\n",
      "Malformed Voronoi cell surrounding boundary site 277714. Try changing the number of boundary mesh sites using Polygon.resample() or Polygon.buffer(eps) where eps is 0 or a small positive float.\n",
      "Constructing Voronoi polygons:  78%|███████▊  | 278772/355842 [02:26<00:41, 1857.41it/s]Malformed Voronoi cell surrounding boundary site 278903. Try changing the number of boundary mesh sites using Polygon.resample() or Polygon.buffer(eps) where eps is 0 or a small positive float.\n",
      "Constructing Voronoi polygons:  78%|███████▊  | 279145/355842 [02:27<00:41, 1843.17it/s]Malformed Voronoi cell surrounding boundary site 279243. Try changing the number of boundary mesh sites using Polygon.resample() or Polygon.buffer(eps) where eps is 0 or a small positive float.\n",
      "Malformed Voronoi cell surrounding boundary site 279253. Try changing the number of boundary mesh sites using Polygon.resample() or Polygon.buffer(eps) where eps is 0 or a small positive float.\n",
      "Constructing Voronoi polygons:  79%|███████▉  | 280519/355842 [02:27<00:39, 1898.14it/s]Malformed Voronoi cell surrounding boundary site 280539. Try changing the number of boundary mesh sites using Polygon.resample() or Polygon.buffer(eps) where eps is 0 or a small positive float.\n",
      "Constructing Voronoi polygons:  79%|███████▉  | 281663/355842 [02:28<00:42, 1740.45it/s]Malformed Voronoi cell surrounding boundary site 281698. Try changing the number of boundary mesh sites using Polygon.resample() or Polygon.buffer(eps) where eps is 0 or a small positive float.\n",
      "Constructing Voronoi polygons:  80%|████████  | 285935/355842 [02:30<00:36, 1902.73it/s]Malformed Voronoi cell surrounding boundary site 285966. Try changing the number of boundary mesh sites using Polygon.resample() or Polygon.buffer(eps) where eps is 0 or a small positive float.\n",
      "Constructing Voronoi polygons:  82%|████████▏ | 292024/355842 [02:33<00:33, 1929.26it/s]Malformed Voronoi cell surrounding boundary site 292190. Try changing the number of boundary mesh sites using Polygon.resample() or Polygon.buffer(eps) where eps is 0 or a small positive float.\n",
      "Constructing Voronoi polygons:  82%|████████▏ | 293207/355842 [02:34<00:31, 1957.65it/s]Malformed Voronoi cell surrounding boundary site 293345. Try changing the number of boundary mesh sites using Polygon.resample() or Polygon.buffer(eps) where eps is 0 or a small positive float.\n",
      "Constructing Voronoi polygons:  83%|████████▎ | 296089/355842 [02:36<00:33, 1790.31it/s]Malformed Voronoi cell surrounding boundary site 296175. Try changing the number of boundary mesh sites using Polygon.resample() or Polygon.buffer(eps) where eps is 0 or a small positive float.\n",
      "Constructing Voronoi polygons:  84%|████████▍ | 300289/355842 [02:38<00:30, 1847.97it/s]Malformed Voronoi cell surrounding boundary site 300455. Try changing the number of boundary mesh sites using Polygon.resample() or Polygon.buffer(eps) where eps is 0 or a small positive float.\n",
      "Constructing Voronoi polygons:  87%|████████▋ | 309948/355842 [02:43<00:25, 1780.46it/s]Malformed Voronoi cell surrounding boundary site 309960. Try changing the number of boundary mesh sites using Polygon.resample() or Polygon.buffer(eps) where eps is 0 or a small positive float.\n",
      "Constructing Voronoi polygons:  88%|████████▊ | 311452/355842 [02:44<00:25, 1761.71it/s]Malformed Voronoi cell surrounding boundary site 311455. Try changing the number of boundary mesh sites using Polygon.resample() or Polygon.buffer(eps) where eps is 0 or a small positive float.\n",
      "Malformed Voronoi cell surrounding boundary site 311549. Try changing the number of boundary mesh sites using Polygon.resample() or Polygon.buffer(eps) where eps is 0 or a small positive float.\n",
      "Malformed Voronoi cell surrounding boundary site 311593. Try changing the number of boundary mesh sites using Polygon.resample() or Polygon.buffer(eps) where eps is 0 or a small positive float.\n",
      "Constructing Voronoi polygons:  88%|████████▊ | 312018/355842 [02:44<00:23, 1839.45it/s]Malformed Voronoi cell surrounding boundary site 312174. Try changing the number of boundary mesh sites using Polygon.resample() or Polygon.buffer(eps) where eps is 0 or a small positive float.\n",
      "Constructing Voronoi polygons:  88%|████████▊ | 312204/355842 [02:44<00:25, 1702.37it/s]Malformed Voronoi cell surrounding boundary site 312231. Try changing the number of boundary mesh sites using Polygon.resample() or Polygon.buffer(eps) where eps is 0 or a small positive float.\n",
      "Constructing Voronoi polygons:  88%|████████▊ | 312970/355842 [02:45<00:22, 1871.59it/s]Malformed Voronoi cell surrounding boundary site 313078. Try changing the number of boundary mesh sites using Polygon.resample() or Polygon.buffer(eps) where eps is 0 or a small positive float.\n",
      "Malformed Voronoi cell surrounding boundary site 313080. Try changing the number of boundary mesh sites using Polygon.resample() or Polygon.buffer(eps) where eps is 0 or a small positive float.\n",
      "Constructing Voronoi polygons:  88%|████████▊ | 313159/355842 [02:45<00:23, 1789.35it/s]Malformed Voronoi cell surrounding boundary site 313183. Try changing the number of boundary mesh sites using Polygon.resample() or Polygon.buffer(eps) where eps is 0 or a small positive float.\n",
      "Constructing Voronoi polygons:  88%|████████▊ | 313873/355842 [02:45<00:23, 1760.48it/s]Malformed Voronoi cell surrounding boundary site 313981. Try changing the number of boundary mesh sites using Polygon.resample() or Polygon.buffer(eps) where eps is 0 or a small positive float.\n",
      "Malformed Voronoi cell surrounding boundary site 314015. Try changing the number of boundary mesh sites using Polygon.resample() or Polygon.buffer(eps) where eps is 0 or a small positive float.\n",
      "Constructing Voronoi polygons:  89%|████████▊ | 315217/355842 [02:46<00:21, 1911.75it/s]Malformed Voronoi cell surrounding boundary site 315228. Try changing the number of boundary mesh sites using Polygon.resample() or Polygon.buffer(eps) where eps is 0 or a small positive float.\n",
      "Constructing Voronoi polygons:  89%|████████▊ | 315787/355842 [02:46<00:21, 1863.17it/s]Malformed Voronoi cell surrounding boundary site 315862. Try changing the number of boundary mesh sites using Polygon.resample() or Polygon.buffer(eps) where eps is 0 or a small positive float.\n",
      "Constructing Voronoi polygons:  89%|████████▉ | 316729/355842 [02:47<00:20, 1866.16it/s]Malformed Voronoi cell surrounding boundary site 316774. Try changing the number of boundary mesh sites using Polygon.resample() or Polygon.buffer(eps) where eps is 0 or a small positive float.\n",
      "Constructing Voronoi polygons:  91%|█████████ | 323609/355842 [02:50<00:17, 1867.09it/s]Malformed Voronoi cell surrounding boundary site 323691. Try changing the number of boundary mesh sites using Polygon.resample() or Polygon.buffer(eps) where eps is 0 or a small positive float.\n",
      "Constructing Voronoi polygons:  91%|█████████ | 324354/355842 [02:51<00:19, 1617.19it/s]Malformed Voronoi cell surrounding boundary site 324494. Try changing the number of boundary mesh sites using Polygon.resample() or Polygon.buffer(eps) where eps is 0 or a small positive float.\n",
      "Constructing Voronoi polygons:  92%|█████████▏| 326294/355842 [02:52<00:15, 1960.63it/s]Malformed Voronoi cell surrounding boundary site 326467. Try changing the number of boundary mesh sites using Polygon.resample() or Polygon.buffer(eps) where eps is 0 or a small positive float.\n",
      "Malformed Voronoi cell surrounding boundary site 326473. Try changing the number of boundary mesh sites using Polygon.resample() or Polygon.buffer(eps) where eps is 0 or a small positive float.\n",
      "Constructing Voronoi polygons:  92%|█████████▏| 326491/355842 [02:52<00:15, 1925.01it/s]Malformed Voronoi cell surrounding boundary site 326550. Try changing the number of boundary mesh sites using Polygon.resample() or Polygon.buffer(eps) where eps is 0 or a small positive float.\n",
      "Constructing Voronoi polygons:  92%|█████████▏| 326875/355842 [02:52<00:16, 1809.32it/s]Malformed Voronoi cell surrounding boundary site 326990. Try changing the number of boundary mesh sites using Polygon.resample() or Polygon.buffer(eps) where eps is 0 or a small positive float.\n",
      "Constructing Voronoi polygons:  92%|█████████▏| 328009/355842 [02:53<00:14, 1879.93it/s]Malformed Voronoi cell surrounding boundary site 328132. Try changing the number of boundary mesh sites using Polygon.resample() or Polygon.buffer(eps) where eps is 0 or a small positive float.\n",
      "Malformed Voronoi cell surrounding boundary site 328143. Try changing the number of boundary mesh sites using Polygon.resample() or Polygon.buffer(eps) where eps is 0 or a small positive float.\n",
      "Malformed Voronoi cell surrounding boundary site 328146. Try changing the number of boundary mesh sites using Polygon.resample() or Polygon.buffer(eps) where eps is 0 or a small positive float.\n",
      "Constructing Voronoi polygons:  92%|█████████▏| 328198/355842 [02:53<00:14, 1856.98it/s]Malformed Voronoi cell surrounding boundary site 328291. Try changing the number of boundary mesh sites using Polygon.resample() or Polygon.buffer(eps) where eps is 0 or a small positive float.\n",
      "Constructing Voronoi polygons:  92%|█████████▏| 328569/355842 [02:53<00:15, 1722.72it/s]Malformed Voronoi cell surrounding boundary site 328627. Try changing the number of boundary mesh sites using Polygon.resample() or Polygon.buffer(eps) where eps is 0 or a small positive float.\n",
      "Constructing Voronoi polygons:  93%|█████████▎| 330680/355842 [02:54<00:13, 1915.35it/s]Malformed Voronoi cell surrounding boundary site 330819. Try changing the number of boundary mesh sites using Polygon.resample() or Polygon.buffer(eps) where eps is 0 or a small positive float.\n",
      "Constructing Voronoi polygons:  94%|█████████▍| 334571/355842 [02:56<00:11, 1841.18it/s]Malformed Voronoi cell surrounding boundary site 334760. Try changing the number of boundary mesh sites using Polygon.resample() or Polygon.buffer(eps) where eps is 0 or a small positive float.\n",
      "Constructing Voronoi polygons:  94%|█████████▍| 334953/355842 [02:56<00:11, 1867.83it/s]Malformed Voronoi cell surrounding boundary site 335099. Try changing the number of boundary mesh sites using Polygon.resample() or Polygon.buffer(eps) where eps is 0 or a small positive float.\n",
      "Constructing Voronoi polygons:  94%|█████████▍| 335911/355842 [02:57<00:10, 1902.33it/s]Malformed Voronoi cell surrounding boundary site 336045. Try changing the number of boundary mesh sites using Polygon.resample() or Polygon.buffer(eps) where eps is 0 or a small positive float.\n",
      "Constructing Voronoi polygons:  95%|█████████▍| 336289/355842 [02:57<00:10, 1860.31it/s]Malformed Voronoi cell surrounding boundary site 336386. Try changing the number of boundary mesh sites using Polygon.resample() or Polygon.buffer(eps) where eps is 0 or a small positive float.\n",
      "Constructing Voronoi polygons:  95%|█████████▍| 336863/355842 [02:58<00:10, 1872.86it/s]Malformed Voronoi cell surrounding boundary site 336965. Try changing the number of boundary mesh sites using Polygon.resample() or Polygon.buffer(eps) where eps is 0 or a small positive float.\n",
      "Constructing Voronoi polygons:  95%|█████████▍| 337438/355842 [02:58<00:09, 1890.28it/s]Malformed Voronoi cell surrounding boundary site 337508. Try changing the number of boundary mesh sites using Polygon.resample() or Polygon.buffer(eps) where eps is 0 or a small positive float.\n",
      "Malformed Voronoi cell surrounding boundary site 337513. Try changing the number of boundary mesh sites using Polygon.resample() or Polygon.buffer(eps) where eps is 0 or a small positive float.\n",
      "Constructing Voronoi polygons:  95%|█████████▌| 339379/355842 [02:59<00:08, 1925.18it/s]Malformed Voronoi cell surrounding boundary site 339394. Try changing the number of boundary mesh sites using Polygon.resample() or Polygon.buffer(eps) where eps is 0 or a small positive float.\n",
      "Constructing Voronoi polygons:  96%|█████████▌| 340152/355842 [02:59<00:08, 1888.75it/s]Malformed Voronoi cell surrounding boundary site 340204. Try changing the number of boundary mesh sites using Polygon.resample() or Polygon.buffer(eps) where eps is 0 or a small positive float.\n",
      "Constructing Voronoi polygons:  96%|█████████▌| 340912/355842 [03:00<00:07, 1874.23it/s]Malformed Voronoi cell surrounding boundary site 341063. Try changing the number of boundary mesh sites using Polygon.resample() or Polygon.buffer(eps) where eps is 0 or a small positive float.\n",
      "Constructing Voronoi polygons:  96%|█████████▌| 341100/355842 [03:00<00:07, 1850.14it/s]Malformed Voronoi cell surrounding boundary site 341183. Try changing the number of boundary mesh sites using Polygon.resample() or Polygon.buffer(eps) where eps is 0 or a small positive float.\n",
      "Malformed Voronoi cell surrounding boundary site 341276. Try changing the number of boundary mesh sites using Polygon.resample() or Polygon.buffer(eps) where eps is 0 or a small positive float.\n",
      "Constructing Voronoi polygons:  96%|█████████▌| 341850/355842 [03:00<00:07, 1823.79it/s]Malformed Voronoi cell surrounding boundary site 341980. Try changing the number of boundary mesh sites using Polygon.resample() or Polygon.buffer(eps) where eps is 0 or a small positive float.\n",
      "Malformed Voronoi cell surrounding boundary site 341983. Try changing the number of boundary mesh sites using Polygon.resample() or Polygon.buffer(eps) where eps is 0 or a small positive float.\n",
      "Constructing Voronoi polygons:  96%|█████████▋| 342961/355842 [03:01<00:07, 1711.86it/s]Malformed Voronoi cell surrounding boundary site 343127. Try changing the number of boundary mesh sites using Polygon.resample() or Polygon.buffer(eps) where eps is 0 or a small positive float.\n",
      "Constructing Voronoi polygons:  96%|█████████▋| 343137/355842 [03:01<00:07, 1721.85it/s]Malformed Voronoi cell surrounding boundary site 343168. Try changing the number of boundary mesh sites using Polygon.resample() or Polygon.buffer(eps) where eps is 0 or a small positive float.\n",
      "Malformed Voronoi cell surrounding boundary site 343199. Try changing the number of boundary mesh sites using Polygon.resample() or Polygon.buffer(eps) where eps is 0 or a small positive float.\n",
      "Malformed Voronoi cell surrounding boundary site 343204. Try changing the number of boundary mesh sites using Polygon.resample() or Polygon.buffer(eps) where eps is 0 or a small positive float.\n",
      "Malformed Voronoi cell surrounding boundary site 343221. Try changing the number of boundary mesh sites using Polygon.resample() or Polygon.buffer(eps) where eps is 0 or a small positive float.\n",
      "Malformed Voronoi cell surrounding boundary site 343248. Try changing the number of boundary mesh sites using Polygon.resample() or Polygon.buffer(eps) where eps is 0 or a small positive float.\n",
      "Constructing Voronoi polygons:  96%|█████████▋| 343312/355842 [03:01<00:07, 1655.64it/s]Malformed Voronoi cell surrounding boundary site 343478. Try changing the number of boundary mesh sites using Polygon.resample() or Polygon.buffer(eps) where eps is 0 or a small positive float.\n",
      "Constructing Voronoi polygons:  99%|█████████▉| 352630/355842 [03:06<00:01, 1949.91it/s]Malformed Voronoi cell surrounding boundary site 352736. Try changing the number of boundary mesh sites using Polygon.resample() or Polygon.buffer(eps) where eps is 0 or a small positive float.\n",
      "Constructing Voronoi polygons: 100%|█████████▉| 355341/355842 [03:07<00:00, 1885.69it/s]Malformed Voronoi cell surrounding boundary site 355367. Try changing the number of boundary mesh sites using Polygon.resample() or Polygon.buffer(eps) where eps is 0 or a small positive float.\n",
      "Malformed Voronoi cell surrounding boundary site 355409. Try changing the number of boundary mesh sites using Polygon.resample() or Polygon.buffer(eps) where eps is 0 or a small positive float.\n",
      "Malformed Voronoi cell surrounding boundary site 355410. Try changing the number of boundary mesh sites using Polygon.resample() or Polygon.buffer(eps) where eps is 0 or a small positive float.\n",
      "Constructing Voronoi polygons: 100%|██████████| 355842/355842 [03:08<00:00, 1890.03it/s]\n"
     ]
    },
    {
     "name": "stdout",
     "output_type": "stream",
     "text": [
      "min_edge_length: 8.744e-03\n",
      "max_edge_length: 4.998e-02\n",
      "mean_edge_length: 2.831e-02\n",
      "min_area: 1.052e-04\n",
      "max_area: 1.526e-03\n",
      "mean_area: 6.878e-04\n",
      "coherence_length: 1.000e-01\n"
     ]
    },
    {
     "name": "stderr",
     "output_type": "stream",
     "text": [
      "Constructing Voronoi polygons:   0%|          | 0/447803 [00:00<?, ?it/s]Malformed Voronoi cell surrounding boundary site 6. Try changing the number of boundary mesh sites using Polygon.resample() or Polygon.buffer(eps) where eps is 0 or a small positive float.\n",
      "Malformed Voronoi cell surrounding boundary site 11. Try changing the number of boundary mesh sites using Polygon.resample() or Polygon.buffer(eps) where eps is 0 or a small positive float.\n",
      "Malformed Voronoi cell surrounding boundary site 15. Try changing the number of boundary mesh sites using Polygon.resample() or Polygon.buffer(eps) where eps is 0 or a small positive float.\n",
      "Malformed Voronoi cell surrounding boundary site 19. Try changing the number of boundary mesh sites using Polygon.resample() or Polygon.buffer(eps) where eps is 0 or a small positive float.\n",
      "Malformed Voronoi cell surrounding boundary site 20. Try changing the number of boundary mesh sites using Polygon.resample() or Polygon.buffer(eps) where eps is 0 or a small positive float.\n",
      "Malformed Voronoi cell surrounding boundary site 21. Try changing the number of boundary mesh sites using Polygon.resample() or Polygon.buffer(eps) where eps is 0 or a small positive float.\n",
      "Malformed Voronoi cell surrounding boundary site 25. Try changing the number of boundary mesh sites using Polygon.resample() or Polygon.buffer(eps) where eps is 0 or a small positive float.\n",
      "Malformed Voronoi cell surrounding boundary site 31. Try changing the number of boundary mesh sites using Polygon.resample() or Polygon.buffer(eps) where eps is 0 or a small positive float.\n",
      "Malformed Voronoi cell surrounding boundary site 44. Try changing the number of boundary mesh sites using Polygon.resample() or Polygon.buffer(eps) where eps is 0 or a small positive float.\n",
      "Malformed Voronoi cell surrounding boundary site 54. Try changing the number of boundary mesh sites using Polygon.resample() or Polygon.buffer(eps) where eps is 0 or a small positive float.\n",
      "Malformed Voronoi cell surrounding boundary site 55. Try changing the number of boundary mesh sites using Polygon.resample() or Polygon.buffer(eps) where eps is 0 or a small positive float.\n",
      "Malformed Voronoi cell surrounding boundary site 61. Try changing the number of boundary mesh sites using Polygon.resample() or Polygon.buffer(eps) where eps is 0 or a small positive float.\n",
      "Constructing Voronoi polygons:   0%|          | 63/447803 [00:00<12:02, 619.30it/s]Malformed Voronoi cell surrounding boundary site 64. Try changing the number of boundary mesh sites using Polygon.resample() or Polygon.buffer(eps) where eps is 0 or a small positive float.\n",
      "Malformed Voronoi cell surrounding boundary site 73. Try changing the number of boundary mesh sites using Polygon.resample() or Polygon.buffer(eps) where eps is 0 or a small positive float.\n",
      "Malformed Voronoi cell surrounding boundary site 77. Try changing the number of boundary mesh sites using Polygon.resample() or Polygon.buffer(eps) where eps is 0 or a small positive float.\n",
      "Malformed Voronoi cell surrounding boundary site 79. Try changing the number of boundary mesh sites using Polygon.resample() or Polygon.buffer(eps) where eps is 0 or a small positive float.\n",
      "Malformed Voronoi cell surrounding boundary site 88. Try changing the number of boundary mesh sites using Polygon.resample() or Polygon.buffer(eps) where eps is 0 or a small positive float.\n",
      "Malformed Voronoi cell surrounding boundary site 92. Try changing the number of boundary mesh sites using Polygon.resample() or Polygon.buffer(eps) where eps is 0 or a small positive float.\n",
      "Malformed Voronoi cell surrounding boundary site 93. Try changing the number of boundary mesh sites using Polygon.resample() or Polygon.buffer(eps) where eps is 0 or a small positive float.\n",
      "Malformed Voronoi cell surrounding boundary site 96. Try changing the number of boundary mesh sites using Polygon.resample() or Polygon.buffer(eps) where eps is 0 or a small positive float.\n",
      "Malformed Voronoi cell surrounding boundary site 97. Try changing the number of boundary mesh sites using Polygon.resample() or Polygon.buffer(eps) where eps is 0 or a small positive float.\n",
      "Malformed Voronoi cell surrounding boundary site 105. Try changing the number of boundary mesh sites using Polygon.resample() or Polygon.buffer(eps) where eps is 0 or a small positive float.\n",
      "Malformed Voronoi cell surrounding boundary site 108. Try changing the number of boundary mesh sites using Polygon.resample() or Polygon.buffer(eps) where eps is 0 or a small positive float.\n",
      "Malformed Voronoi cell surrounding boundary site 114. Try changing the number of boundary mesh sites using Polygon.resample() or Polygon.buffer(eps) where eps is 0 or a small positive float.\n",
      "Malformed Voronoi cell surrounding boundary site 117. Try changing the number of boundary mesh sites using Polygon.resample() or Polygon.buffer(eps) where eps is 0 or a small positive float.\n",
      "Malformed Voronoi cell surrounding boundary site 118. Try changing the number of boundary mesh sites using Polygon.resample() or Polygon.buffer(eps) where eps is 0 or a small positive float.\n",
      "Malformed Voronoi cell surrounding boundary site 123. Try changing the number of boundary mesh sites using Polygon.resample() or Polygon.buffer(eps) where eps is 0 or a small positive float.\n",
      "Constructing Voronoi polygons:   0%|          | 125/447803 [00:00<12:34, 593.00it/s]Malformed Voronoi cell surrounding boundary site 128. Try changing the number of boundary mesh sites using Polygon.resample() or Polygon.buffer(eps) where eps is 0 or a small positive float.\n",
      "Malformed Voronoi cell surrounding boundary site 131. Try changing the number of boundary mesh sites using Polygon.resample() or Polygon.buffer(eps) where eps is 0 or a small positive float.\n",
      "Malformed Voronoi cell surrounding boundary site 136. Try changing the number of boundary mesh sites using Polygon.resample() or Polygon.buffer(eps) where eps is 0 or a small positive float.\n",
      "Malformed Voronoi cell surrounding boundary site 139. Try changing the number of boundary mesh sites using Polygon.resample() or Polygon.buffer(eps) where eps is 0 or a small positive float.\n",
      "Malformed Voronoi cell surrounding boundary site 142. Try changing the number of boundary mesh sites using Polygon.resample() or Polygon.buffer(eps) where eps is 0 or a small positive float.\n",
      "Malformed Voronoi cell surrounding boundary site 156. Try changing the number of boundary mesh sites using Polygon.resample() or Polygon.buffer(eps) where eps is 0 or a small positive float.\n",
      "Malformed Voronoi cell surrounding boundary site 164. Try changing the number of boundary mesh sites using Polygon.resample() or Polygon.buffer(eps) where eps is 0 or a small positive float.\n",
      "Malformed Voronoi cell surrounding boundary site 168. Try changing the number of boundary mesh sites using Polygon.resample() or Polygon.buffer(eps) where eps is 0 or a small positive float.\n",
      "Malformed Voronoi cell surrounding boundary site 171. Try changing the number of boundary mesh sites using Polygon.resample() or Polygon.buffer(eps) where eps is 0 or a small positive float.\n",
      "Malformed Voronoi cell surrounding boundary site 172. Try changing the number of boundary mesh sites using Polygon.resample() or Polygon.buffer(eps) where eps is 0 or a small positive float.\n",
      "Malformed Voronoi cell surrounding boundary site 174. Try changing the number of boundary mesh sites using Polygon.resample() or Polygon.buffer(eps) where eps is 0 or a small positive float.\n",
      "Malformed Voronoi cell surrounding boundary site 176. Try changing the number of boundary mesh sites using Polygon.resample() or Polygon.buffer(eps) where eps is 0 or a small positive float.\n",
      "Malformed Voronoi cell surrounding boundary site 179. Try changing the number of boundary mesh sites using Polygon.resample() or Polygon.buffer(eps) where eps is 0 or a small positive float.\n",
      "Malformed Voronoi cell surrounding boundary site 180. Try changing the number of boundary mesh sites using Polygon.resample() or Polygon.buffer(eps) where eps is 0 or a small positive float.\n",
      "Malformed Voronoi cell surrounding boundary site 182. Try changing the number of boundary mesh sites using Polygon.resample() or Polygon.buffer(eps) where eps is 0 or a small positive float.\n",
      "Malformed Voronoi cell surrounding boundary site 184. Try changing the number of boundary mesh sites using Polygon.resample() or Polygon.buffer(eps) where eps is 0 or a small positive float.\n",
      "Constructing Voronoi polygons:   0%|          | 185/447803 [00:00<13:06, 569.06it/s]Malformed Voronoi cell surrounding boundary site 189. Try changing the number of boundary mesh sites using Polygon.resample() or Polygon.buffer(eps) where eps is 0 or a small positive float.\n",
      "Malformed Voronoi cell surrounding boundary site 197. Try changing the number of boundary mesh sites using Polygon.resample() or Polygon.buffer(eps) where eps is 0 or a small positive float.\n",
      "Malformed Voronoi cell surrounding boundary site 207. Try changing the number of boundary mesh sites using Polygon.resample() or Polygon.buffer(eps) where eps is 0 or a small positive float.\n",
      "Malformed Voronoi cell surrounding boundary site 211. Try changing the number of boundary mesh sites using Polygon.resample() or Polygon.buffer(eps) where eps is 0 or a small positive float.\n",
      "Malformed Voronoi cell surrounding boundary site 229. Try changing the number of boundary mesh sites using Polygon.resample() or Polygon.buffer(eps) where eps is 0 or a small positive float.\n",
      "Malformed Voronoi cell surrounding boundary site 237. Try changing the number of boundary mesh sites using Polygon.resample() or Polygon.buffer(eps) where eps is 0 or a small positive float.\n",
      "Malformed Voronoi cell surrounding boundary site 242. Try changing the number of boundary mesh sites using Polygon.resample() or Polygon.buffer(eps) where eps is 0 or a small positive float.\n",
      "Malformed Voronoi cell surrounding boundary site 247. Try changing the number of boundary mesh sites using Polygon.resample() or Polygon.buffer(eps) where eps is 0 or a small positive float.\n",
      "Malformed Voronoi cell surrounding boundary site 250. Try changing the number of boundary mesh sites using Polygon.resample() or Polygon.buffer(eps) where eps is 0 or a small positive float.\n",
      "Constructing Voronoi polygons:   0%|          | 251/447803 [00:00<12:29, 597.22it/s]Malformed Voronoi cell surrounding boundary site 261. Try changing the number of boundary mesh sites using Polygon.resample() or Polygon.buffer(eps) where eps is 0 or a small positive float.\n",
      "Malformed Voronoi cell surrounding boundary site 269. Try changing the number of boundary mesh sites using Polygon.resample() or Polygon.buffer(eps) where eps is 0 or a small positive float.\n",
      "Malformed Voronoi cell surrounding boundary site 274. Try changing the number of boundary mesh sites using Polygon.resample() or Polygon.buffer(eps) where eps is 0 or a small positive float.\n",
      "Malformed Voronoi cell surrounding boundary site 275. Try changing the number of boundary mesh sites using Polygon.resample() or Polygon.buffer(eps) where eps is 0 or a small positive float.\n",
      "Malformed Voronoi cell surrounding boundary site 289. Try changing the number of boundary mesh sites using Polygon.resample() or Polygon.buffer(eps) where eps is 0 or a small positive float.\n",
      "Constructing Voronoi polygons:   0%|          | 322/447803 [00:00<11:47, 632.64it/s]Malformed Voronoi cell surrounding boundary site 337. Try changing the number of boundary mesh sites using Polygon.resample() or Polygon.buffer(eps) where eps is 0 or a small positive float.\n",
      "Malformed Voronoi cell surrounding boundary site 348. Try changing the number of boundary mesh sites using Polygon.resample() or Polygon.buffer(eps) where eps is 0 or a small positive float.\n",
      "Malformed Voronoi cell surrounding boundary site 368. Try changing the number of boundary mesh sites using Polygon.resample() or Polygon.buffer(eps) where eps is 0 or a small positive float.\n",
      "Constructing Voronoi polygons:   0%|          | 1111/447803 [00:01<05:14, 1420.63it/s]Malformed Voronoi cell surrounding boundary site 1172. Try changing the number of boundary mesh sites using Polygon.resample() or Polygon.buffer(eps) where eps is 0 or a small positive float.\n",
      "Constructing Voronoi polygons:   1%|          | 2333/447803 [00:01<04:19, 1716.59it/s]Malformed Voronoi cell surrounding boundary site 2420. Try changing the number of boundary mesh sites using Polygon.resample() or Polygon.buffer(eps) where eps is 0 or a small positive float.\n",
      "Constructing Voronoi polygons:   1%|          | 3046/447803 [00:02<04:13, 1757.72it/s]Malformed Voronoi cell surrounding boundary site 3155. Try changing the number of boundary mesh sites using Polygon.resample() or Polygon.buffer(eps) where eps is 0 or a small positive float.\n",
      "Constructing Voronoi polygons:   2%|▏         | 9650/447803 [00:05<03:53, 1878.99it/s]Malformed Voronoi cell surrounding boundary site 9797. Try changing the number of boundary mesh sites using Polygon.resample() or Polygon.buffer(eps) where eps is 0 or a small positive float.\n",
      "Constructing Voronoi polygons:   3%|▎         | 12708/447803 [00:07<04:20, 1668.92it/s]Malformed Voronoi cell surrounding boundary site 12738. Try changing the number of boundary mesh sites using Polygon.resample() or Polygon.buffer(eps) where eps is 0 or a small positive float.\n",
      "Constructing Voronoi polygons:   4%|▍         | 17814/447803 [00:10<03:46, 1901.45it/s]Malformed Voronoi cell surrounding boundary site 17898. Try changing the number of boundary mesh sites using Polygon.resample() or Polygon.buffer(eps) where eps is 0 or a small positive float.\n",
      "Constructing Voronoi polygons:   4%|▍         | 18573/447803 [00:10<04:19, 1655.05it/s]Malformed Voronoi cell surrounding boundary site 18652. Try changing the number of boundary mesh sites using Polygon.resample() or Polygon.buffer(eps) where eps is 0 or a small positive float.\n",
      "Constructing Voronoi polygons:   5%|▍         | 20851/447803 [00:11<03:43, 1909.70it/s]Malformed Voronoi cell surrounding boundary site 20885. Try changing the number of boundary mesh sites using Polygon.resample() or Polygon.buffer(eps) where eps is 0 or a small positive float.\n",
      "Constructing Voronoi polygons:   8%|▊         | 37442/447803 [00:21<03:34, 1911.61it/s]Malformed Voronoi cell surrounding boundary site 37539. Try changing the number of boundary mesh sites using Polygon.resample() or Polygon.buffer(eps) where eps is 0 or a small positive float.\n",
      "Constructing Voronoi polygons:  10%|█         | 45119/447803 [00:25<03:37, 1854.33it/s]Malformed Voronoi cell surrounding boundary site 45166. Try changing the number of boundary mesh sites using Polygon.resample() or Polygon.buffer(eps) where eps is 0 or a small positive float.\n",
      "Constructing Voronoi polygons:  10%|█         | 46254/447803 [00:25<03:35, 1860.11it/s]Malformed Voronoi cell surrounding boundary site 46437. Try changing the number of boundary mesh sites using Polygon.resample() or Polygon.buffer(eps) where eps is 0 or a small positive float.\n",
      "Constructing Voronoi polygons:  14%|█▍        | 61886/447803 [00:34<03:38, 1766.51it/s]Malformed Voronoi cell surrounding boundary site 62049. Try changing the number of boundary mesh sites using Polygon.resample() or Polygon.buffer(eps) where eps is 0 or a small positive float.\n",
      "Constructing Voronoi polygons:  14%|█▍        | 64164/447803 [00:35<03:25, 1862.56it/s]Malformed Voronoi cell surrounding boundary site 64344. Try changing the number of boundary mesh sites using Polygon.resample() or Polygon.buffer(eps) where eps is 0 or a small positive float.\n",
      "Constructing Voronoi polygons:  16%|█▌        | 69755/447803 [00:38<03:17, 1909.84it/s]Malformed Voronoi cell surrounding boundary site 69841. Try changing the number of boundary mesh sites using Polygon.resample() or Polygon.buffer(eps) where eps is 0 or a small positive float.\n",
      "Constructing Voronoi polygons:  19%|█▉        | 87083/447803 [00:48<03:18, 1814.78it/s]Malformed Voronoi cell surrounding boundary site 87099. Try changing the number of boundary mesh sites using Polygon.resample() or Polygon.buffer(eps) where eps is 0 or a small positive float.\n",
      "Constructing Voronoi polygons:  27%|██▋       | 122418/447803 [01:07<02:47, 1942.59it/s]Malformed Voronoi cell surrounding boundary site 122474. Try changing the number of boundary mesh sites using Polygon.resample() or Polygon.buffer(eps) where eps is 0 or a small positive float.\n",
      "Constructing Voronoi polygons:  28%|██▊       | 123977/447803 [01:07<02:54, 1858.48it/s]Malformed Voronoi cell surrounding boundary site 124010. Try changing the number of boundary mesh sites using Polygon.resample() or Polygon.buffer(eps) where eps is 0 or a small positive float.\n",
      "Constructing Voronoi polygons:  28%|██▊       | 126856/447803 [01:09<02:44, 1946.29it/s]Malformed Voronoi cell surrounding boundary site 126863. Try changing the number of boundary mesh sites using Polygon.resample() or Polygon.buffer(eps) where eps is 0 or a small positive float.\n",
      "Malformed Voronoi cell surrounding boundary site 126868. Try changing the number of boundary mesh sites using Polygon.resample() or Polygon.buffer(eps) where eps is 0 or a small positive float.\n",
      "Constructing Voronoi polygons:  33%|███▎      | 145863/447803 [01:19<02:36, 1925.73it/s]Malformed Voronoi cell surrounding boundary site 145973. Try changing the number of boundary mesh sites using Polygon.resample() or Polygon.buffer(eps) where eps is 0 or a small positive float.\n",
      "Constructing Voronoi polygons:  40%|████      | 179668/447803 [01:37<02:18, 1938.73it/s]Malformed Voronoi cell surrounding boundary site 179718. Try changing the number of boundary mesh sites using Polygon.resample() or Polygon.buffer(eps) where eps is 0 or a small positive float.\n",
      "Malformed Voronoi cell surrounding boundary site 179777. Try changing the number of boundary mesh sites using Polygon.resample() or Polygon.buffer(eps) where eps is 0 or a small positive float.\n",
      "Malformed Voronoi cell surrounding boundary site 179780. Try changing the number of boundary mesh sites using Polygon.resample() or Polygon.buffer(eps) where eps is 0 or a small positive float.\n",
      "Constructing Voronoi polygons:  49%|████▊     | 217884/447803 [01:58<02:08, 1792.29it/s]Malformed Voronoi cell surrounding boundary site 217929. Try changing the number of boundary mesh sites using Polygon.resample() or Polygon.buffer(eps) where eps is 0 or a small positive float.\n",
      "Constructing Voronoi polygons:  67%|██████▋   | 298074/447803 [02:40<01:18, 1908.72it/s]Malformed Voronoi cell surrounding boundary site 298233. Try changing the number of boundary mesh sites using Polygon.resample() or Polygon.buffer(eps) where eps is 0 or a small positive float.\n",
      "Constructing Voronoi polygons:  68%|██████▊   | 303897/447803 [02:44<01:44, 1383.61it/s]Malformed Voronoi cell surrounding boundary site 303988. Try changing the number of boundary mesh sites using Polygon.resample() or Polygon.buffer(eps) where eps is 0 or a small positive float.\n",
      "Constructing Voronoi polygons:  69%|██████▉   | 307880/447803 [02:47<01:20, 1747.67it/s]Malformed Voronoi cell surrounding boundary site 308058. Try changing the number of boundary mesh sites using Polygon.resample() or Polygon.buffer(eps) where eps is 0 or a small positive float.\n",
      "Constructing Voronoi polygons:  69%|██████▉   | 308061/447803 [02:47<01:23, 1676.21it/s]Malformed Voronoi cell surrounding boundary site 308171. Try changing the number of boundary mesh sites using Polygon.resample() or Polygon.buffer(eps) where eps is 0 or a small positive float.\n",
      "Malformed Voronoi cell surrounding boundary site 308211. Try changing the number of boundary mesh sites using Polygon.resample() or Polygon.buffer(eps) where eps is 0 or a small positive float.\n",
      "Constructing Voronoi polygons:  69%|██████▉   | 309713/447803 [02:48<01:14, 1842.56it/s]Malformed Voronoi cell surrounding boundary site 309813. Try changing the number of boundary mesh sites using Polygon.resample() or Polygon.buffer(eps) where eps is 0 or a small positive float.\n",
      "Constructing Voronoi polygons:  69%|██████▉   | 311021/447803 [02:48<01:14, 1848.02it/s]Malformed Voronoi cell surrounding boundary site 311158. Try changing the number of boundary mesh sites using Polygon.resample() or Polygon.buffer(eps) where eps is 0 or a small positive float.\n",
      "Constructing Voronoi polygons:  70%|██████▉   | 312498/447803 [02:49<01:16, 1776.79it/s]Malformed Voronoi cell surrounding boundary site 312527. Try changing the number of boundary mesh sites using Polygon.resample() or Polygon.buffer(eps) where eps is 0 or a small positive float.\n",
      "Constructing Voronoi polygons:  70%|██████▉   | 313045/447803 [02:50<01:20, 1670.39it/s]Malformed Voronoi cell surrounding boundary site 313198. Try changing the number of boundary mesh sites using Polygon.resample() or Polygon.buffer(eps) where eps is 0 or a small positive float.\n",
      "Constructing Voronoi polygons:  70%|███████   | 313793/447803 [02:50<01:13, 1821.28it/s]Malformed Voronoi cell surrounding boundary site 313844. Try changing the number of boundary mesh sites using Polygon.resample() or Polygon.buffer(eps) where eps is 0 or a small positive float.\n",
      "Constructing Voronoi polygons:  71%|███████   | 318301/447803 [02:53<01:20, 1613.46it/s]Malformed Voronoi cell surrounding boundary site 318440. Try changing the number of boundary mesh sites using Polygon.resample() or Polygon.buffer(eps) where eps is 0 or a small positive float.\n",
      "Malformed Voronoi cell surrounding boundary site 318441. Try changing the number of boundary mesh sites using Polygon.resample() or Polygon.buffer(eps) where eps is 0 or a small positive float.\n",
      "Constructing Voronoi polygons:  73%|███████▎  | 324779/447803 [02:56<01:09, 1772.28it/s]Malformed Voronoi cell surrounding boundary site 324859. Try changing the number of boundary mesh sites using Polygon.resample() or Polygon.buffer(eps) where eps is 0 or a small positive float.\n",
      "Constructing Voronoi polygons:  73%|███████▎  | 325641/447803 [02:57<01:14, 1639.40it/s]Malformed Voronoi cell surrounding boundary site 325656. Try changing the number of boundary mesh sites using Polygon.resample() or Polygon.buffer(eps) where eps is 0 or a small positive float.\n",
      "Constructing Voronoi polygons:  73%|███████▎  | 326151/447803 [02:57<01:13, 1653.41it/s]Malformed Voronoi cell surrounding boundary site 326250. Try changing the number of boundary mesh sites using Polygon.resample() or Polygon.buffer(eps) where eps is 0 or a small positive float.\n",
      "Constructing Voronoi polygons:  73%|███████▎  | 327428/447803 [02:58<01:10, 1712.92it/s]Malformed Voronoi cell surrounding boundary site 327567. Try changing the number of boundary mesh sites using Polygon.resample() or Polygon.buffer(eps) where eps is 0 or a small positive float.\n",
      "Constructing Voronoi polygons:  73%|███████▎  | 328959/447803 [02:59<01:18, 1512.08it/s]Malformed Voronoi cell surrounding boundary site 329010. Try changing the number of boundary mesh sites using Polygon.resample() or Polygon.buffer(eps) where eps is 0 or a small positive float.\n",
      "Constructing Voronoi polygons:  74%|███████▎  | 329669/447803 [02:59<01:08, 1724.23it/s]Malformed Voronoi cell surrounding boundary site 329722. Try changing the number of boundary mesh sites using Polygon.resample() or Polygon.buffer(eps) where eps is 0 or a small positive float.\n",
      "Malformed Voronoi cell surrounding boundary site 329744. Try changing the number of boundary mesh sites using Polygon.resample() or Polygon.buffer(eps) where eps is 0 or a small positive float.\n",
      "Constructing Voronoi polygons:  74%|███████▍  | 330504/447803 [03:00<01:22, 1421.18it/s]Malformed Voronoi cell surrounding boundary site 330552. Try changing the number of boundary mesh sites using Polygon.resample() or Polygon.buffer(eps) where eps is 0 or a small positive float.\n",
      "Constructing Voronoi polygons:  74%|███████▍  | 330986/447803 [03:00<01:16, 1528.05it/s]Malformed Voronoi cell surrounding boundary site 330997. Try changing the number of boundary mesh sites using Polygon.resample() or Polygon.buffer(eps) where eps is 0 or a small positive float.\n",
      "Constructing Voronoi polygons:  74%|███████▍  | 331150/447803 [03:00<01:14, 1556.95it/s]Malformed Voronoi cell surrounding boundary site 331271. Try changing the number of boundary mesh sites using Polygon.resample() or Polygon.buffer(eps) where eps is 0 or a small positive float.\n",
      "Constructing Voronoi polygons:  74%|███████▍  | 331996/447803 [03:01<01:09, 1667.23it/s]Malformed Voronoi cell surrounding boundary site 332161. Try changing the number of boundary mesh sites using Polygon.resample() or Polygon.buffer(eps) where eps is 0 or a small positive float.\n",
      "Constructing Voronoi polygons:  74%|███████▍  | 332165/447803 [03:01<01:09, 1670.36it/s]Malformed Voronoi cell surrounding boundary site 332210. Try changing the number of boundary mesh sites using Polygon.resample() or Polygon.buffer(eps) where eps is 0 or a small positive float.\n",
      "Constructing Voronoi polygons:  75%|███████▍  | 335235/447803 [03:03<01:00, 1855.72it/s]Malformed Voronoi cell surrounding boundary site 335405. Try changing the number of boundary mesh sites using Polygon.resample() or Polygon.buffer(eps) where eps is 0 or a small positive float.\n",
      "Constructing Voronoi polygons:  75%|███████▍  | 335609/447803 [03:03<01:00, 1841.68it/s]Malformed Voronoi cell surrounding boundary site 335690. Try changing the number of boundary mesh sites using Polygon.resample() or Polygon.buffer(eps) where eps is 0 or a small positive float.\n",
      "Malformed Voronoi cell surrounding boundary site 335692. Try changing the number of boundary mesh sites using Polygon.resample() or Polygon.buffer(eps) where eps is 0 or a small positive float.\n",
      "Constructing Voronoi polygons:  75%|███████▌  | 336152/447803 [03:03<01:09, 1605.33it/s]Malformed Voronoi cell surrounding boundary site 336197. Try changing the number of boundary mesh sites using Polygon.resample() or Polygon.buffer(eps) where eps is 0 or a small positive float.\n",
      "Malformed Voronoi cell surrounding boundary site 336201. Try changing the number of boundary mesh sites using Polygon.resample() or Polygon.buffer(eps) where eps is 0 or a small positive float.\n",
      "Constructing Voronoi polygons:  75%|███████▌  | 336867/447803 [03:04<01:03, 1751.99it/s]Malformed Voronoi cell surrounding boundary site 336968. Try changing the number of boundary mesh sites using Polygon.resample() or Polygon.buffer(eps) where eps is 0 or a small positive float.\n",
      "Malformed Voronoi cell surrounding boundary site 336972. Try changing the number of boundary mesh sites using Polygon.resample() or Polygon.buffer(eps) where eps is 0 or a small positive float.\n",
      "Malformed Voronoi cell surrounding boundary site 336992. Try changing the number of boundary mesh sites using Polygon.resample() or Polygon.buffer(eps) where eps is 0 or a small positive float.\n",
      "Constructing Voronoi polygons:  75%|███████▌  | 337785/447803 [03:04<01:04, 1707.69it/s]Malformed Voronoi cell surrounding boundary site 337840. Try changing the number of boundary mesh sites using Polygon.resample() or Polygon.buffer(eps) where eps is 0 or a small positive float.\n",
      "Constructing Voronoi polygons:  76%|███████▌  | 338978/447803 [03:05<01:06, 1640.01it/s]Malformed Voronoi cell surrounding boundary site 339104. Try changing the number of boundary mesh sites using Polygon.resample() or Polygon.buffer(eps) where eps is 0 or a small positive float.\n",
      "Malformed Voronoi cell surrounding boundary site 339107. Try changing the number of boundary mesh sites using Polygon.resample() or Polygon.buffer(eps) where eps is 0 or a small positive float.\n",
      "Malformed Voronoi cell surrounding boundary site 339110. Try changing the number of boundary mesh sites using Polygon.resample() or Polygon.buffer(eps) where eps is 0 or a small positive float.\n",
      "Constructing Voronoi polygons:  76%|███████▌  | 339143/447803 [03:05<01:07, 1611.68it/s]Malformed Voronoi cell surrounding boundary site 339205. Try changing the number of boundary mesh sites using Polygon.resample() or Polygon.buffer(eps) where eps is 0 or a small positive float.\n",
      "Malformed Voronoi cell surrounding boundary site 339216. Try changing the number of boundary mesh sites using Polygon.resample() or Polygon.buffer(eps) where eps is 0 or a small positive float.\n",
      "Constructing Voronoi polygons:  76%|███████▌  | 340007/447803 [03:06<01:04, 1671.46it/s]Malformed Voronoi cell surrounding boundary site 340065. Try changing the number of boundary mesh sites using Polygon.resample() or Polygon.buffer(eps) where eps is 0 or a small positive float.\n",
      "Constructing Voronoi polygons:  76%|███████▌  | 340175/447803 [03:06<01:07, 1591.67it/s]Malformed Voronoi cell surrounding boundary site 340267. Try changing the number of boundary mesh sites using Polygon.resample() or Polygon.buffer(eps) where eps is 0 or a small positive float.\n",
      "Constructing Voronoi polygons:  76%|███████▌  | 340645/447803 [03:06<01:15, 1423.09it/s]Malformed Voronoi cell surrounding boundary site 340806. Try changing the number of boundary mesh sites using Polygon.resample() or Polygon.buffer(eps) where eps is 0 or a small positive float.\n",
      "Constructing Voronoi polygons:  76%|███████▋  | 342442/447803 [03:07<00:58, 1815.97it/s]Malformed Voronoi cell surrounding boundary site 342502. Try changing the number of boundary mesh sites using Polygon.resample() or Polygon.buffer(eps) where eps is 0 or a small positive float.\n",
      "Constructing Voronoi polygons:  77%|███████▋  | 343736/447803 [03:08<00:58, 1786.92it/s]Malformed Voronoi cell surrounding boundary site 343781. Try changing the number of boundary mesh sites using Polygon.resample() or Polygon.buffer(eps) where eps is 0 or a small positive float.\n",
      "Malformed Voronoi cell surrounding boundary site 343906. Try changing the number of boundary mesh sites using Polygon.resample() or Polygon.buffer(eps) where eps is 0 or a small positive float.\n",
      "Constructing Voronoi polygons:  77%|███████▋  | 343915/447803 [03:08<00:59, 1743.15it/s]Malformed Voronoi cell surrounding boundary site 343930. Try changing the number of boundary mesh sites using Polygon.resample() or Polygon.buffer(eps) where eps is 0 or a small positive float.\n",
      "Constructing Voronoi polygons:  77%|███████▋  | 344816/447803 [03:08<01:06, 1546.40it/s]Malformed Voronoi cell surrounding boundary site 345001. Try changing the number of boundary mesh sites using Polygon.resample() or Polygon.buffer(eps) where eps is 0 or a small positive float.\n",
      "Constructing Voronoi polygons:  77%|███████▋  | 346782/447803 [03:10<01:05, 1547.71it/s]Malformed Voronoi cell surrounding boundary site 346916. Try changing the number of boundary mesh sites using Polygon.resample() or Polygon.buffer(eps) where eps is 0 or a small positive float.\n",
      "Malformed Voronoi cell surrounding boundary site 346928. Try changing the number of boundary mesh sites using Polygon.resample() or Polygon.buffer(eps) where eps is 0 or a small positive float.\n",
      "Constructing Voronoi polygons:  78%|███████▊  | 347678/447803 [03:10<00:57, 1740.25it/s]Malformed Voronoi cell surrounding boundary site 347841. Try changing the number of boundary mesh sites using Polygon.resample() or Polygon.buffer(eps) where eps is 0 or a small positive float.\n",
      "Constructing Voronoi polygons:  78%|███████▊  | 349156/447803 [03:11<00:54, 1795.95it/s]Malformed Voronoi cell surrounding boundary site 349276. Try changing the number of boundary mesh sites using Polygon.resample() or Polygon.buffer(eps) where eps is 0 or a small positive float.\n",
      "Constructing Voronoi polygons:  78%|███████▊  | 350197/447803 [03:12<00:57, 1690.88it/s]Malformed Voronoi cell surrounding boundary site 350316. Try changing the number of boundary mesh sites using Polygon.resample() or Polygon.buffer(eps) where eps is 0 or a small positive float.\n",
      "Constructing Voronoi polygons:  78%|███████▊  | 350541/447803 [03:12<01:01, 1571.55it/s]Malformed Voronoi cell surrounding boundary site 350544. Try changing the number of boundary mesh sites using Polygon.resample() or Polygon.buffer(eps) where eps is 0 or a small positive float.\n",
      "Constructing Voronoi polygons:  79%|███████▊  | 352571/447803 [03:13<00:51, 1853.08it/s]Malformed Voronoi cell surrounding boundary site 352668. Try changing the number of boundary mesh sites using Polygon.resample() or Polygon.buffer(eps) where eps is 0 or a small positive float.\n",
      "Constructing Voronoi polygons:  79%|███████▉  | 353679/447803 [03:14<00:52, 1788.78it/s]Malformed Voronoi cell surrounding boundary site 353681. Try changing the number of boundary mesh sites using Polygon.resample() or Polygon.buffer(eps) where eps is 0 or a small positive float.\n",
      "Malformed Voronoi cell surrounding boundary site 353751. Try changing the number of boundary mesh sites using Polygon.resample() or Polygon.buffer(eps) where eps is 0 or a small positive float.\n",
      "Malformed Voronoi cell surrounding boundary site 353789. Try changing the number of boundary mesh sites using Polygon.resample() or Polygon.buffer(eps) where eps is 0 or a small positive float.\n",
      "Malformed Voronoi cell surrounding boundary site 353791. Try changing the number of boundary mesh sites using Polygon.resample() or Polygon.buffer(eps) where eps is 0 or a small positive float.\n",
      "Constructing Voronoi polygons:  79%|███████▉  | 354398/447803 [03:14<00:53, 1760.40it/s]Malformed Voronoi cell surrounding boundary site 354515. Try changing the number of boundary mesh sites using Polygon.resample() or Polygon.buffer(eps) where eps is 0 or a small positive float.\n",
      "Malformed Voronoi cell surrounding boundary site 354520. Try changing the number of boundary mesh sites using Polygon.resample() or Polygon.buffer(eps) where eps is 0 or a small positive float.\n",
      "Constructing Voronoi polygons:  80%|███████▉  | 356198/447803 [03:15<00:52, 1736.65it/s]Malformed Voronoi cell surrounding boundary site 356264. Try changing the number of boundary mesh sites using Polygon.resample() or Polygon.buffer(eps) where eps is 0 or a small positive float.\n",
      "Malformed Voronoi cell surrounding boundary site 356296. Try changing the number of boundary mesh sites using Polygon.resample() or Polygon.buffer(eps) where eps is 0 or a small positive float.\n",
      "Constructing Voronoi polygons:  80%|████████  | 358856/447803 [03:17<00:52, 1694.63it/s]Malformed Voronoi cell surrounding boundary site 358995. Try changing the number of boundary mesh sites using Polygon.resample() or Polygon.buffer(eps) where eps is 0 or a small positive float.\n",
      "Constructing Voronoi polygons:  81%|████████  | 360742/447803 [03:18<00:52, 1652.06it/s]Malformed Voronoi cell surrounding boundary site 360870. Try changing the number of boundary mesh sites using Polygon.resample() or Polygon.buffer(eps) where eps is 0 or a small positive float.\n",
      "Constructing Voronoi polygons:  81%|████████  | 361815/447803 [03:18<00:49, 1754.85it/s]Malformed Voronoi cell surrounding boundary site 361956. Try changing the number of boundary mesh sites using Polygon.resample() or Polygon.buffer(eps) where eps is 0 or a small positive float.\n",
      "Constructing Voronoi polygons:  81%|████████  | 363102/447803 [03:19<00:47, 1788.84it/s]Malformed Voronoi cell surrounding boundary site 363196. Try changing the number of boundary mesh sites using Polygon.resample() or Polygon.buffer(eps) where eps is 0 or a small positive float.\n",
      "Constructing Voronoi polygons:  81%|████████  | 363450/447803 [03:19<00:51, 1651.00it/s]Malformed Voronoi cell surrounding boundary site 363525. Try changing the number of boundary mesh sites using Polygon.resample() or Polygon.buffer(eps) where eps is 0 or a small positive float.\n",
      "Constructing Voronoi polygons:  81%|████████▏ | 364146/447803 [03:20<00:51, 1634.34it/s]Malformed Voronoi cell surrounding boundary site 364170. Try changing the number of boundary mesh sites using Polygon.resample() or Polygon.buffer(eps) where eps is 0 or a small positive float.\n",
      "Constructing Voronoi polygons:  82%|████████▏ | 365160/447803 [03:20<00:50, 1636.43it/s]Malformed Voronoi cell surrounding boundary site 365295. Try changing the number of boundary mesh sites using Polygon.resample() or Polygon.buffer(eps) where eps is 0 or a small positive float.\n",
      "Constructing Voronoi polygons:  82%|████████▏ | 367470/447803 [03:22<00:43, 1862.71it/s]Malformed Voronoi cell surrounding boundary site 367557. Try changing the number of boundary mesh sites using Polygon.resample() or Polygon.buffer(eps) where eps is 0 or a small positive float.\n",
      "Constructing Voronoi polygons:  82%|████████▏ | 368230/447803 [03:22<00:42, 1879.75it/s]Malformed Voronoi cell surrounding boundary site 368343. Try changing the number of boundary mesh sites using Polygon.resample() or Polygon.buffer(eps) where eps is 0 or a small positive float.\n",
      "Constructing Voronoi polygons:  82%|████████▏ | 368999/447803 [03:23<00:41, 1904.90it/s]Malformed Voronoi cell surrounding boundary site 369149. Try changing the number of boundary mesh sites using Polygon.resample() or Polygon.buffer(eps) where eps is 0 or a small positive float.\n",
      "Constructing Voronoi polygons:  82%|████████▏ | 369387/447803 [03:23<00:41, 1902.48it/s]Malformed Voronoi cell surrounding boundary site 369496. Try changing the number of boundary mesh sites using Polygon.resample() or Polygon.buffer(eps) where eps is 0 or a small positive float.\n",
      "Constructing Voronoi polygons:  83%|████████▎ | 369578/447803 [03:23<00:41, 1895.00it/s]Malformed Voronoi cell surrounding boundary site 369760. Try changing the number of boundary mesh sites using Polygon.resample() or Polygon.buffer(eps) where eps is 0 or a small positive float.\n",
      "Constructing Voronoi polygons:  83%|████████▎ | 370708/447803 [03:24<00:41, 1862.49it/s]Malformed Voronoi cell surrounding boundary site 370874. Try changing the number of boundary mesh sites using Polygon.resample() or Polygon.buffer(eps) where eps is 0 or a small positive float.\n",
      "Constructing Voronoi polygons:  83%|████████▎ | 372242/447803 [03:24<00:41, 1834.15it/s]Malformed Voronoi cell surrounding boundary site 372320. Try changing the number of boundary mesh sites using Polygon.resample() or Polygon.buffer(eps) where eps is 0 or a small positive float.\n",
      "Constructing Voronoi polygons:  83%|████████▎ | 373573/447803 [03:25<00:40, 1816.93it/s]Malformed Voronoi cell surrounding boundary site 373672. Try changing the number of boundary mesh sites using Polygon.resample() or Polygon.buffer(eps) where eps is 0 or a small positive float.\n",
      "Constructing Voronoi polygons:  84%|████████▎ | 374519/447803 [03:26<00:39, 1869.24it/s]Malformed Voronoi cell surrounding boundary site 374544. Try changing the number of boundary mesh sites using Polygon.resample() or Polygon.buffer(eps) where eps is 0 or a small positive float.\n",
      "Constructing Voronoi polygons:  85%|████████▌ | 382103/447803 [03:30<00:36, 1815.86it/s]Malformed Voronoi cell surrounding boundary site 382125. Try changing the number of boundary mesh sites using Polygon.resample() or Polygon.buffer(eps) where eps is 0 or a small positive float.\n",
      "Constructing Voronoi polygons:  86%|████████▌ | 383814/447803 [03:31<00:33, 1899.18it/s]Malformed Voronoi cell surrounding boundary site 384007. Try changing the number of boundary mesh sites using Polygon.resample() or Polygon.buffer(eps) where eps is 0 or a small positive float.\n",
      "Constructing Voronoi polygons:  87%|████████▋ | 390504/447803 [03:34<00:32, 1776.81it/s]Malformed Voronoi cell surrounding boundary site 390607. Try changing the number of boundary mesh sites using Polygon.resample() or Polygon.buffer(eps) where eps is 0 or a small positive float.\n",
      "Constructing Voronoi polygons:  88%|████████▊ | 392538/447803 [03:36<00:30, 1783.98it/s]Malformed Voronoi cell surrounding boundary site 392672. Try changing the number of boundary mesh sites using Polygon.resample() or Polygon.buffer(eps) where eps is 0 or a small positive float.\n",
      "Malformed Voronoi cell surrounding boundary site 392675. Try changing the number of boundary mesh sites using Polygon.resample() or Polygon.buffer(eps) where eps is 0 or a small positive float.\n",
      "Constructing Voronoi polygons:  89%|████████▉ | 397659/447803 [03:38<00:26, 1871.87it/s]Malformed Voronoi cell surrounding boundary site 397778. Try changing the number of boundary mesh sites using Polygon.resample() or Polygon.buffer(eps) where eps is 0 or a small positive float.\n",
      "Constructing Voronoi polygons:  89%|████████▉ | 398230/447803 [03:39<00:26, 1886.42it/s]Malformed Voronoi cell surrounding boundary site 398287. Try changing the number of boundary mesh sites using Polygon.resample() or Polygon.buffer(eps) where eps is 0 or a small positive float.\n",
      "Constructing Voronoi polygons:  89%|████████▉ | 398804/447803 [03:39<00:26, 1872.40it/s]Malformed Voronoi cell surrounding boundary site 398943. Try changing the number of boundary mesh sites using Polygon.resample() or Polygon.buffer(eps) where eps is 0 or a small positive float.\n",
      "Malformed Voronoi cell surrounding boundary site 398963. Try changing the number of boundary mesh sites using Polygon.resample() or Polygon.buffer(eps) where eps is 0 or a small positive float.\n",
      "Constructing Voronoi polygons:  89%|████████▉ | 399370/447803 [03:39<00:26, 1858.23it/s]Malformed Voronoi cell surrounding boundary site 399391. Try changing the number of boundary mesh sites using Polygon.resample() or Polygon.buffer(eps) where eps is 0 or a small positive float.\n",
      "Constructing Voronoi polygons:  90%|████████▉ | 401263/447803 [03:40<00:25, 1837.24it/s]Malformed Voronoi cell surrounding boundary site 401374. Try changing the number of boundary mesh sites using Polygon.resample() or Polygon.buffer(eps) where eps is 0 or a small positive float.\n",
      "Constructing Voronoi polygons:  90%|████████▉ | 402021/447803 [03:41<00:24, 1872.47it/s]Malformed Voronoi cell surrounding boundary site 402076. Try changing the number of boundary mesh sites using Polygon.resample() or Polygon.buffer(eps) where eps is 0 or a small positive float.\n",
      "Malformed Voronoi cell surrounding boundary site 402102. Try changing the number of boundary mesh sites using Polygon.resample() or Polygon.buffer(eps) where eps is 0 or a small positive float.\n",
      "Constructing Voronoi polygons:  90%|████████▉ | 402593/447803 [03:41<00:24, 1861.64it/s]Malformed Voronoi cell surrounding boundary site 402687. Try changing the number of boundary mesh sites using Polygon.resample() or Polygon.buffer(eps) where eps is 0 or a small positive float.\n",
      "Constructing Voronoi polygons:  90%|█████████ | 404113/447803 [03:42<00:23, 1872.66it/s]Malformed Voronoi cell surrounding boundary site 404279. Try changing the number of boundary mesh sites using Polygon.resample() or Polygon.buffer(eps) where eps is 0 or a small positive float.\n",
      "Constructing Voronoi polygons:  91%|█████████ | 406368/447803 [03:43<00:22, 1881.62it/s]Malformed Voronoi cell surrounding boundary site 406506. Try changing the number of boundary mesh sites using Polygon.resample() or Polygon.buffer(eps) where eps is 0 or a small positive float.\n",
      "Constructing Voronoi polygons:  91%|█████████ | 406933/447803 [03:44<00:23, 1737.40it/s]Malformed Voronoi cell surrounding boundary site 406938. Try changing the number of boundary mesh sites using Polygon.resample() or Polygon.buffer(eps) where eps is 0 or a small positive float.\n",
      "Constructing Voronoi polygons:  91%|█████████ | 408424/447803 [03:44<00:22, 1719.43it/s]Malformed Voronoi cell surrounding boundary site 408577. Try changing the number of boundary mesh sites using Polygon.resample() or Polygon.buffer(eps) where eps is 0 or a small positive float.\n",
      "Malformed Voronoi cell surrounding boundary site 408578. Try changing the number of boundary mesh sites using Polygon.resample() or Polygon.buffer(eps) where eps is 0 or a small positive float.\n",
      "Malformed Voronoi cell surrounding boundary site 408582. Try changing the number of boundary mesh sites using Polygon.resample() or Polygon.buffer(eps) where eps is 0 or a small positive float.\n",
      "Constructing Voronoi polygons:  91%|█████████▏| 409416/447803 [03:45<00:25, 1502.30it/s]Malformed Voronoi cell surrounding boundary site 409525. Try changing the number of boundary mesh sites using Polygon.resample() or Polygon.buffer(eps) where eps is 0 or a small positive float.\n",
      "Constructing Voronoi polygons:  92%|█████████▏| 409767/447803 [03:45<00:23, 1632.11it/s]Malformed Voronoi cell surrounding boundary site 409796. Try changing the number of boundary mesh sites using Polygon.resample() or Polygon.buffer(eps) where eps is 0 or a small positive float.\n",
      "Constructing Voronoi polygons:  92%|█████████▏| 410123/447803 [03:45<00:22, 1693.42it/s]Malformed Voronoi cell surrounding boundary site 410181. Try changing the number of boundary mesh sites using Polygon.resample() or Polygon.buffer(eps) where eps is 0 or a small positive float.\n",
      "Malformed Voronoi cell surrounding boundary site 410193. Try changing the number of boundary mesh sites using Polygon.resample() or Polygon.buffer(eps) where eps is 0 or a small positive float.\n",
      "Constructing Voronoi polygons:  92%|█████████▏| 410501/447803 [03:46<00:20, 1787.37it/s]Malformed Voronoi cell surrounding boundary site 410669. Try changing the number of boundary mesh sites using Polygon.resample() or Polygon.buffer(eps) where eps is 0 or a small positive float.\n",
      "Malformed Voronoi cell surrounding boundary site 410683. Try changing the number of boundary mesh sites using Polygon.resample() or Polygon.buffer(eps) where eps is 0 or a small positive float.\n",
      "Constructing Voronoi polygons:  92%|█████████▏| 411835/447803 [03:46<00:19, 1880.56it/s]Malformed Voronoi cell surrounding boundary site 411854. Try changing the number of boundary mesh sites using Polygon.resample() or Polygon.buffer(eps) where eps is 0 or a small positive float.\n",
      "Constructing Voronoi polygons:  92%|█████████▏| 413186/447803 [03:47<00:19, 1812.52it/s]Malformed Voronoi cell surrounding boundary site 413329. Try changing the number of boundary mesh sites using Polygon.resample() or Polygon.buffer(eps) where eps is 0 or a small positive float.\n",
      "Constructing Voronoi polygons:  93%|█████████▎| 415886/447803 [03:49<00:16, 1892.64it/s]Malformed Voronoi cell surrounding boundary site 415891. Try changing the number of boundary mesh sites using Polygon.resample() or Polygon.buffer(eps) where eps is 0 or a small positive float.\n",
      "Constructing Voronoi polygons:  93%|█████████▎| 416080/447803 [03:49<00:16, 1902.54it/s]Malformed Voronoi cell surrounding boundary site 416190. Try changing the number of boundary mesh sites using Polygon.resample() or Polygon.buffer(eps) where eps is 0 or a small positive float.\n",
      "Malformed Voronoi cell surrounding boundary site 416239. Try changing the number of boundary mesh sites using Polygon.resample() or Polygon.buffer(eps) where eps is 0 or a small positive float.\n",
      "Malformed Voronoi cell surrounding boundary site 416245. Try changing the number of boundary mesh sites using Polygon.resample() or Polygon.buffer(eps) where eps is 0 or a small positive float.\n",
      "Constructing Voronoi polygons:  93%|█████████▎| 416468/447803 [03:49<00:16, 1874.39it/s]Malformed Voronoi cell surrounding boundary site 416533. Try changing the number of boundary mesh sites using Polygon.resample() or Polygon.buffer(eps) where eps is 0 or a small positive float.\n",
      "Constructing Voronoi polygons:  93%|█████████▎| 416656/447803 [03:49<00:16, 1866.59it/s]Malformed Voronoi cell surrounding boundary site 416808. Try changing the number of boundary mesh sites using Polygon.resample() or Polygon.buffer(eps) where eps is 0 or a small positive float.\n",
      "Constructing Voronoi polygons:  93%|█████████▎| 416843/447803 [03:49<00:16, 1842.03it/s]Malformed Voronoi cell surrounding boundary site 416949. Try changing the number of boundary mesh sites using Polygon.resample() or Polygon.buffer(eps) where eps is 0 or a small positive float.\n",
      "Constructing Voronoi polygons:  93%|█████████▎| 417218/447803 [03:49<00:18, 1694.09it/s]Malformed Voronoi cell surrounding boundary site 417279. Try changing the number of boundary mesh sites using Polygon.resample() or Polygon.buffer(eps) where eps is 0 or a small positive float.\n",
      "Constructing Voronoi polygons:  94%|█████████▎| 418939/447803 [03:50<00:15, 1912.19it/s]Malformed Voronoi cell surrounding boundary site 418942. Try changing the number of boundary mesh sites using Polygon.resample() or Polygon.buffer(eps) where eps is 0 or a small positive float.\n",
      "Malformed Voronoi cell surrounding boundary site 419001. Try changing the number of boundary mesh sites using Polygon.resample() or Polygon.buffer(eps) where eps is 0 or a small positive float.\n",
      "Constructing Voronoi polygons:  94%|█████████▎| 419318/447803 [03:50<00:15, 1855.74it/s]Malformed Voronoi cell surrounding boundary site 419328. Try changing the number of boundary mesh sites using Polygon.resample() or Polygon.buffer(eps) where eps is 0 or a small positive float.\n",
      "Malformed Voronoi cell surrounding boundary site 419329. Try changing the number of boundary mesh sites using Polygon.resample() or Polygon.buffer(eps) where eps is 0 or a small positive float.\n",
      "Constructing Voronoi polygons:  94%|█████████▍| 422505/447803 [03:52<00:13, 1878.61it/s]Malformed Voronoi cell surrounding boundary site 422518. Try changing the number of boundary mesh sites using Polygon.resample() or Polygon.buffer(eps) where eps is 0 or a small positive float.\n",
      "Constructing Voronoi polygons:  94%|█████████▍| 423072/447803 [03:53<00:13, 1797.43it/s]Malformed Voronoi cell surrounding boundary site 423207. Try changing the number of boundary mesh sites using Polygon.resample() or Polygon.buffer(eps) where eps is 0 or a small positive float.\n",
      "Constructing Voronoi polygons:  95%|█████████▍| 423440/447803 [03:53<00:13, 1812.83it/s]Malformed Voronoi cell surrounding boundary site 423593. Try changing the number of boundary mesh sites using Polygon.resample() or Polygon.buffer(eps) where eps is 0 or a small positive float.\n",
      "Malformed Voronoi cell surrounding boundary site 423598. Try changing the number of boundary mesh sites using Polygon.resample() or Polygon.buffer(eps) where eps is 0 or a small positive float.\n",
      "Malformed Voronoi cell surrounding boundary site 423601. Try changing the number of boundary mesh sites using Polygon.resample() or Polygon.buffer(eps) where eps is 0 or a small positive float.\n",
      "Constructing Voronoi polygons:  95%|█████████▍| 423622/447803 [03:53<00:13, 1800.48it/s]Malformed Voronoi cell surrounding boundary site 423681. Try changing the number of boundary mesh sites using Polygon.resample() or Polygon.buffer(eps) where eps is 0 or a small positive float.\n",
      "Malformed Voronoi cell surrounding boundary site 423776. Try changing the number of boundary mesh sites using Polygon.resample() or Polygon.buffer(eps) where eps is 0 or a small positive float.\n",
      "Constructing Voronoi polygons:  95%|█████████▍| 423803/447803 [03:53<00:13, 1758.39it/s]Malformed Voronoi cell surrounding boundary site 423822. Try changing the number of boundary mesh sites using Polygon.resample() or Polygon.buffer(eps) where eps is 0 or a small positive float.\n",
      "Malformed Voronoi cell surrounding boundary site 423827. Try changing the number of boundary mesh sites using Polygon.resample() or Polygon.buffer(eps) where eps is 0 or a small positive float.\n",
      "Malformed Voronoi cell surrounding boundary site 423891. Try changing the number of boundary mesh sites using Polygon.resample() or Polygon.buffer(eps) where eps is 0 or a small positive float.\n",
      "Constructing Voronoi polygons:  95%|█████████▍| 423980/447803 [03:53<00:13, 1708.66it/s]Malformed Voronoi cell surrounding boundary site 424014. Try changing the number of boundary mesh sites using Polygon.resample() or Polygon.buffer(eps) where eps is 0 or a small positive float.\n",
      "Malformed Voronoi cell surrounding boundary site 424023. Try changing the number of boundary mesh sites using Polygon.resample() or Polygon.buffer(eps) where eps is 0 or a small positive float.\n",
      "Constructing Voronoi polygons:  95%|█████████▌| 427188/447803 [03:55<00:12, 1627.54it/s]Malformed Voronoi cell surrounding boundary site 427270. Try changing the number of boundary mesh sites using Polygon.resample() or Polygon.buffer(eps) where eps is 0 or a small positive float.\n",
      "Constructing Voronoi polygons:  96%|█████████▌| 430018/447803 [03:56<00:09, 1879.57it/s]Malformed Voronoi cell surrounding boundary site 430186. Try changing the number of boundary mesh sites using Polygon.resample() or Polygon.buffer(eps) where eps is 0 or a small positive float.\n",
      "Constructing Voronoi polygons:  96%|█████████▋| 431172/447803 [03:57<00:08, 1909.64it/s]Malformed Voronoi cell surrounding boundary site 431284. Try changing the number of boundary mesh sites using Polygon.resample() or Polygon.buffer(eps) where eps is 0 or a small positive float.\n",
      "Constructing Voronoi polygons:  98%|█████████▊| 440053/447803 [04:02<00:04, 1907.67it/s]Malformed Voronoi cell surrounding boundary site 440090. Try changing the number of boundary mesh sites using Polygon.resample() or Polygon.buffer(eps) where eps is 0 or a small positive float.\n",
      "Constructing Voronoi polygons:  99%|█████████▊| 441943/447803 [04:03<00:03, 1679.20it/s]Malformed Voronoi cell surrounding boundary site 442023. Try changing the number of boundary mesh sites using Polygon.resample() or Polygon.buffer(eps) where eps is 0 or a small positive float.\n",
      "Constructing Voronoi polygons:  99%|█████████▉| 444960/447803 [04:05<00:01, 1877.25it/s]Malformed Voronoi cell surrounding boundary site 445044. Try changing the number of boundary mesh sites using Polygon.resample() or Polygon.buffer(eps) where eps is 0 or a small positive float.\n",
      "Malformed Voronoi cell surrounding boundary site 445048. Try changing the number of boundary mesh sites using Polygon.resample() or Polygon.buffer(eps) where eps is 0 or a small positive float.\n",
      "Malformed Voronoi cell surrounding boundary site 445080. Try changing the number of boundary mesh sites using Polygon.resample() or Polygon.buffer(eps) where eps is 0 or a small positive float.\n",
      "Constructing Voronoi polygons: 100%|█████████▉| 446641/447803 [04:05<00:00, 1839.67it/s]Malformed Voronoi cell surrounding boundary site 446786. Try changing the number of boundary mesh sites using Polygon.resample() or Polygon.buffer(eps) where eps is 0 or a small positive float.\n",
      "Constructing Voronoi polygons: 100%|██████████| 447803/447803 [04:06<00:00, 1815.73it/s]\n"
     ]
    },
    {
     "name": "stdout",
     "output_type": "stream",
     "text": [
      "min_edge_length: 1.218e-02\n",
      "max_edge_length: 5.131e-02\n",
      "mean_edge_length: 2.875e-02\n",
      "min_area: 1.241e-04\n",
      "max_area: 1.561e-03\n",
      "mean_area: 7.094e-04\n",
      "coherence_length: 1.000e-01\n"
     ]
    },
    {
     "name": "stderr",
     "output_type": "stream",
     "text": [
      "Constructing Voronoi polygons:   0%|          | 0/840981 [00:00<?, ?it/s]Malformed Voronoi cell surrounding boundary site 19. Try changing the number of boundary mesh sites using Polygon.resample() or Polygon.buffer(eps) where eps is 0 or a small positive float.\n",
      "Constructing Voronoi polygons:   0%|          | 68/840981 [00:00<20:45, 675.10it/s]Malformed Voronoi cell surrounding boundary site 135. Try changing the number of boundary mesh sites using Polygon.resample() or Polygon.buffer(eps) where eps is 0 or a small positive float.\n",
      "Constructing Voronoi polygons:   0%|          | 962/840981 [00:00<09:51, 1421.13it/s]Malformed Voronoi cell surrounding boundary site 1099. Try changing the number of boundary mesh sites using Polygon.resample() or Polygon.buffer(eps) where eps is 0 or a small positive float.\n",
      "Constructing Voronoi polygons:  78%|███████▊  | 657762/840981 [06:03<01:48, 1687.65it/s]Malformed Voronoi cell surrounding boundary site 657762. Try changing the number of boundary mesh sites using Polygon.resample() or Polygon.buffer(eps) where eps is 0 or a small positive float.\n",
      "Constructing Voronoi polygons:  83%|████████▎ | 698364/840981 [06:26<01:15, 1893.26it/s]Malformed Voronoi cell surrounding boundary site 698445. Try changing the number of boundary mesh sites using Polygon.resample() or Polygon.buffer(eps) where eps is 0 or a small positive float.\n",
      "Constructing Voronoi polygons: 100%|█████████▉| 839294/840981 [07:46<00:00, 1808.39it/s]Malformed Voronoi cell surrounding boundary site 839389. Try changing the number of boundary mesh sites using Polygon.resample() or Polygon.buffer(eps) where eps is 0 or a small positive float.\n",
      "Constructing Voronoi polygons: 100%|██████████| 840981/840981 [07:47<00:00, 1798.25it/s]\n"
     ]
    },
    {
     "name": "stdout",
     "output_type": "stream",
     "text": [
      "min_edge_length: 9.296e-03\n",
      "max_edge_length: 4.235e-02\n",
      "mean_edge_length: 2.353e-02\n",
      "min_area: 8.810e-05\n",
      "max_area: 1.040e-03\n",
      "mean_area: 4.756e-04\n",
      "coherence_length: 1.000e-01\n"
     ]
    }
   ],
   "source": [
    "for device in devices_list:\n",
    "\trs.build_mesh(device,max_edge_L=xi/2,plot=False)"
   ]
  },
  {
   "cell_type": "code",
   "execution_count": null,
   "metadata": {},
   "outputs": [
    {
     "name": "stdout",
     "output_type": "stream",
     "text": [
      "--------------------------------------------------------------------------------\n"
     ]
    },
    {
     "name": "stderr",
     "output_type": "stream",
     "text": [
      "Simulating: 100%|█████████▉| 200/200 [01:28<00:00,  2.27tau/s ]\n"
     ]
    },
    {
     "name": "stdout",
     "output_type": "stream",
     "text": [
      "1/50 done\n"
     ]
    },
    {
     "name": "stderr",
     "output_type": "stream",
     "text": [
      "Simulating: 100%|█████████▉| 200/200 [01:30<00:00,  2.21tau/s ]\n"
     ]
    },
    {
     "name": "stdout",
     "output_type": "stream",
     "text": [
      "2/50 done\n"
     ]
    },
    {
     "name": "stderr",
     "output_type": "stream",
     "text": [
      "Simulating: 100%|█████████▉| 200/200 [01:28<00:00,  2.25tau/s ]\n"
     ]
    },
    {
     "name": "stdout",
     "output_type": "stream",
     "text": [
      "3/50 done\n"
     ]
    },
    {
     "name": "stderr",
     "output_type": "stream",
     "text": [
      "Simulating: 100%|█████████▉| 200/200 [01:29<00:00,  2.24tau/s ]\n"
     ]
    },
    {
     "name": "stdout",
     "output_type": "stream",
     "text": [
      "4/50 done\n"
     ]
    },
    {
     "name": "stderr",
     "output_type": "stream",
     "text": [
      "Simulating: 100%|█████████▉| 200/200 [01:28<00:00,  2.26tau/s ]\n"
     ]
    },
    {
     "name": "stdout",
     "output_type": "stream",
     "text": [
      "5/50 done\n"
     ]
    },
    {
     "name": "stderr",
     "output_type": "stream",
     "text": [
      "Simulating: 100%|█████████▉| 200/200 [01:26<00:00,  2.32tau/s ]\n"
     ]
    },
    {
     "name": "stdout",
     "output_type": "stream",
     "text": [
      "6/50 done\n"
     ]
    },
    {
     "name": "stderr",
     "output_type": "stream",
     "text": [
      "Simulating: 100%|█████████▉| 200/200 [01:28<00:00,  2.26tau/s ]\n"
     ]
    },
    {
     "name": "stdout",
     "output_type": "stream",
     "text": [
      "7/50 done\n"
     ]
    },
    {
     "name": "stderr",
     "output_type": "stream",
     "text": [
      "Simulating: 100%|█████████▉| 200/200 [01:28<00:00,  2.26tau/s ]\n"
     ]
    },
    {
     "name": "stdout",
     "output_type": "stream",
     "text": [
      "8/50 done\n"
     ]
    },
    {
     "name": "stderr",
     "output_type": "stream",
     "text": [
      "Simulating: 100%|█████████▉| 200/200 [01:28<00:00,  2.27tau/s ]\n"
     ]
    },
    {
     "name": "stdout",
     "output_type": "stream",
     "text": [
      "9/50 done\n"
     ]
    },
    {
     "name": "stderr",
     "output_type": "stream",
     "text": [
      "Simulating: 100%|█████████▉| 200/200 [01:26<00:00,  2.31tau/s ]\n"
     ]
    },
    {
     "name": "stdout",
     "output_type": "stream",
     "text": [
      "10/50 done\n"
     ]
    },
    {
     "name": "stderr",
     "output_type": "stream",
     "text": [
      "Simulating: 100%|█████████▉| 200/200 [01:26<00:00,  2.30tau/s ]\n"
     ]
    },
    {
     "name": "stdout",
     "output_type": "stream",
     "text": [
      "11/50 done\n"
     ]
    },
    {
     "name": "stderr",
     "output_type": "stream",
     "text": [
      "Simulating: 100%|█████████▉| 200/200 [01:17<00:00,  2.58tau/s ]\n"
     ]
    },
    {
     "name": "stdout",
     "output_type": "stream",
     "text": [
      "12/50 done\n"
     ]
    },
    {
     "name": "stderr",
     "output_type": "stream",
     "text": [
      "Simulating: 100%|█████████▉| 200/200 [01:12<00:00,  2.75tau/s ]\n"
     ]
    },
    {
     "name": "stdout",
     "output_type": "stream",
     "text": [
      "13/50 done\n"
     ]
    },
    {
     "name": "stderr",
     "output_type": "stream",
     "text": [
      "Simulating: 100%|█████████▉| 200/200 [01:12<00:00,  2.77tau/s ]\n"
     ]
    },
    {
     "name": "stdout",
     "output_type": "stream",
     "text": [
      "14/50 done\n"
     ]
    },
    {
     "name": "stderr",
     "output_type": "stream",
     "text": [
      "Simulating: 100%|█████████▉| 200/200 [01:10<00:00,  2.82tau/s ]\n"
     ]
    },
    {
     "name": "stdout",
     "output_type": "stream",
     "text": [
      "15/50 done\n"
     ]
    },
    {
     "name": "stderr",
     "output_type": "stream",
     "text": [
      "Simulating: 100%|█████████▉| 200/200 [01:09<00:00,  2.87tau/s ]\n"
     ]
    },
    {
     "name": "stdout",
     "output_type": "stream",
     "text": [
      "16/50 done\n"
     ]
    },
    {
     "name": "stderr",
     "output_type": "stream",
     "text": [
      "Simulating: 100%|█████████▉| 200/200 [01:08<00:00,  2.90tau/s ]\n"
     ]
    },
    {
     "name": "stdout",
     "output_type": "stream",
     "text": [
      "17/50 done\n"
     ]
    },
    {
     "name": "stderr",
     "output_type": "stream",
     "text": [
      "Simulating: 100%|█████████▉| 200/200 [01:11<00:00,  2.80tau/s ]\n"
     ]
    },
    {
     "name": "stdout",
     "output_type": "stream",
     "text": [
      "18/50 done\n"
     ]
    },
    {
     "name": "stderr",
     "output_type": "stream",
     "text": [
      "Simulating: 100%|█████████▉| 200/200 [01:05<00:00,  3.06tau/s ]\n"
     ]
    },
    {
     "name": "stdout",
     "output_type": "stream",
     "text": [
      "19/50 done\n"
     ]
    },
    {
     "name": "stderr",
     "output_type": "stream",
     "text": [
      "Simulating: 100%|█████████▉| 200/200 [01:08<00:00,  2.92tau/s ]\n"
     ]
    },
    {
     "name": "stdout",
     "output_type": "stream",
     "text": [
      "20/50 done\n"
     ]
    },
    {
     "name": "stderr",
     "output_type": "stream",
     "text": [
      "Simulating: 100%|█████████▉| 200/200 [01:08<00:00,  2.92tau/s ]\n"
     ]
    },
    {
     "name": "stdout",
     "output_type": "stream",
     "text": [
      "21/50 done\n"
     ]
    },
    {
     "name": "stderr",
     "output_type": "stream",
     "text": [
      "Simulating: 100%|█████████▉| 200/200 [01:08<00:00,  2.93tau/s ]\n"
     ]
    },
    {
     "name": "stdout",
     "output_type": "stream",
     "text": [
      "22/50 done\n"
     ]
    },
    {
     "name": "stderr",
     "output_type": "stream",
     "text": [
      "Simulating: 100%|█████████▉| 200/200 [01:09<00:00,  2.86tau/s ]\n"
     ]
    },
    {
     "name": "stdout",
     "output_type": "stream",
     "text": [
      "23/50 done\n"
     ]
    },
    {
     "name": "stderr",
     "output_type": "stream",
     "text": [
      "Simulating: 100%|█████████▉| 200/200 [01:07<00:00,  2.94tau/s ]\n"
     ]
    },
    {
     "name": "stdout",
     "output_type": "stream",
     "text": [
      "24/50 done\n"
     ]
    },
    {
     "name": "stderr",
     "output_type": "stream",
     "text": [
      "Simulating: 100%|█████████▉| 200/200 [01:10<00:00,  2.85tau/s ]\n"
     ]
    },
    {
     "name": "stdout",
     "output_type": "stream",
     "text": [
      "25/50 done\n"
     ]
    },
    {
     "name": "stderr",
     "output_type": "stream",
     "text": [
      "Simulating: 100%|█████████▉| 200/200 [01:10<00:00,  2.82tau/s ]\n"
     ]
    },
    {
     "name": "stdout",
     "output_type": "stream",
     "text": [
      "26/50 done\n"
     ]
    },
    {
     "name": "stderr",
     "output_type": "stream",
     "text": [
      "Simulating: 100%|█████████▉| 200/200 [01:13<00:00,  2.72tau/s ]\n"
     ]
    },
    {
     "name": "stdout",
     "output_type": "stream",
     "text": [
      "27/50 done\n"
     ]
    },
    {
     "name": "stderr",
     "output_type": "stream",
     "text": [
      "Simulating: 100%|█████████▉| 200/200 [01:14<00:00,  2.68tau/s ]\n"
     ]
    },
    {
     "name": "stdout",
     "output_type": "stream",
     "text": [
      "28/50 done\n"
     ]
    },
    {
     "name": "stderr",
     "output_type": "stream",
     "text": [
      "Simulating: 100%|█████████▉| 200/200 [01:13<00:00,  2.73tau/s ]\n"
     ]
    },
    {
     "name": "stdout",
     "output_type": "stream",
     "text": [
      "29/50 done\n"
     ]
    },
    {
     "name": "stderr",
     "output_type": "stream",
     "text": [
      "Simulating: 100%|█████████▉| 200/200 [01:17<00:00,  2.57tau/s ]\n"
     ]
    },
    {
     "name": "stdout",
     "output_type": "stream",
     "text": [
      "30/50 done\n"
     ]
    },
    {
     "name": "stderr",
     "output_type": "stream",
     "text": [
      "Simulating: 100%|█████████▉| 200/200 [01:14<00:00,  2.68tau/s ]\n"
     ]
    },
    {
     "name": "stdout",
     "output_type": "stream",
     "text": [
      "31/50 done\n"
     ]
    },
    {
     "name": "stderr",
     "output_type": "stream",
     "text": [
      "Simulating: 100%|█████████▉| 200/200 [01:23<00:00,  2.39tau/s ]\n"
     ]
    },
    {
     "name": "stdout",
     "output_type": "stream",
     "text": [
      "32/50 done\n"
     ]
    },
    {
     "name": "stderr",
     "output_type": "stream",
     "text": [
      "Simulating: 100%|█████████▉| 200/200 [01:20<00:00,  2.49tau/s ]\n"
     ]
    },
    {
     "name": "stdout",
     "output_type": "stream",
     "text": [
      "33/50 done\n"
     ]
    },
    {
     "name": "stderr",
     "output_type": "stream",
     "text": [
      "Simulating: 100%|█████████▉| 200/200 [01:19<00:00,  2.52tau/s ]\n"
     ]
    },
    {
     "name": "stdout",
     "output_type": "stream",
     "text": [
      "34/50 done\n"
     ]
    },
    {
     "name": "stderr",
     "output_type": "stream",
     "text": [
      "Simulating: 100%|█████████▉| 200/200 [01:21<00:00,  2.45tau/s ]\n"
     ]
    },
    {
     "name": "stdout",
     "output_type": "stream",
     "text": [
      "35/50 done\n"
     ]
    },
    {
     "name": "stderr",
     "output_type": "stream",
     "text": [
      "Simulating: 100%|█████████▉| 200/200 [01:19<00:00,  2.53tau/s ]\n"
     ]
    },
    {
     "name": "stdout",
     "output_type": "stream",
     "text": [
      "36/50 done\n"
     ]
    },
    {
     "name": "stderr",
     "output_type": "stream",
     "text": [
      "Simulating: 100%|█████████▉| 200/200 [01:21<00:00,  2.46tau/s ]\n"
     ]
    },
    {
     "name": "stdout",
     "output_type": "stream",
     "text": [
      "37/50 done\n"
     ]
    },
    {
     "name": "stderr",
     "output_type": "stream",
     "text": [
      "Simulating: 100%|█████████▉| 200/200 [01:19<00:00,  2.50tau/s ]\n"
     ]
    },
    {
     "name": "stdout",
     "output_type": "stream",
     "text": [
      "38/50 done\n"
     ]
    },
    {
     "name": "stderr",
     "output_type": "stream",
     "text": [
      "Simulating: 100%|█████████▉| 200/200 [01:18<00:00,  2.55tau/s ]\n"
     ]
    },
    {
     "name": "stdout",
     "output_type": "stream",
     "text": [
      "39/50 done\n"
     ]
    },
    {
     "name": "stderr",
     "output_type": "stream",
     "text": [
      "Simulating: 100%|█████████▉| 200/200 [01:20<00:00,  2.48tau/s ]\n"
     ]
    },
    {
     "name": "stdout",
     "output_type": "stream",
     "text": [
      "40/50 done\n"
     ]
    },
    {
     "name": "stderr",
     "output_type": "stream",
     "text": [
      "Simulating: 100%|█████████▉| 200/200 [01:20<00:00,  2.49tau/s ]\n"
     ]
    },
    {
     "name": "stdout",
     "output_type": "stream",
     "text": [
      "41/50 done\n"
     ]
    },
    {
     "name": "stderr",
     "output_type": "stream",
     "text": [
      "Simulating: 100%|█████████▉| 200/200 [01:24<00:00,  2.37tau/s ]\n"
     ]
    },
    {
     "name": "stdout",
     "output_type": "stream",
     "text": [
      "42/50 done\n"
     ]
    },
    {
     "name": "stderr",
     "output_type": "stream",
     "text": [
      "Simulating: 100%|█████████▉| 200/200 [01:22<00:00,  2.43tau/s ]\n"
     ]
    },
    {
     "name": "stdout",
     "output_type": "stream",
     "text": [
      "43/50 done\n"
     ]
    },
    {
     "name": "stderr",
     "output_type": "stream",
     "text": [
      "Simulating: 100%|█████████▉| 200/200 [01:23<00:00,  2.41tau/s ]\n"
     ]
    },
    {
     "name": "stdout",
     "output_type": "stream",
     "text": [
      "44/50 done\n"
     ]
    },
    {
     "name": "stderr",
     "output_type": "stream",
     "text": [
      "Simulating: 100%|█████████▉| 200/200 [01:22<00:00,  2.43tau/s ]\n"
     ]
    },
    {
     "name": "stdout",
     "output_type": "stream",
     "text": [
      "45/50 done\n"
     ]
    },
    {
     "name": "stderr",
     "output_type": "stream",
     "text": [
      "Simulating: 100%|█████████▉| 200/200 [01:24<00:00,  2.35tau/s ]\n"
     ]
    },
    {
     "name": "stdout",
     "output_type": "stream",
     "text": [
      "46/50 done\n"
     ]
    },
    {
     "name": "stderr",
     "output_type": "stream",
     "text": [
      "Simulating: 100%|█████████▉| 200/200 [01:21<00:00,  2.45tau/s ]\n"
     ]
    },
    {
     "name": "stdout",
     "output_type": "stream",
     "text": [
      "47/50 done\n"
     ]
    },
    {
     "name": "stderr",
     "output_type": "stream",
     "text": [
      "Simulating: 100%|█████████▉| 200/200 [01:23<00:00,  2.40tau/s ]\n"
     ]
    },
    {
     "name": "stdout",
     "output_type": "stream",
     "text": [
      "48/50 done\n"
     ]
    },
    {
     "name": "stderr",
     "output_type": "stream",
     "text": [
      "Simulating: 100%|█████████▉| 200/200 [01:22<00:00,  2.41tau/s ]\n"
     ]
    },
    {
     "name": "stdout",
     "output_type": "stream",
     "text": [
      "49/50 done\n"
     ]
    },
    {
     "name": "stderr",
     "output_type": "stream",
     "text": [
      "Simulating: 100%|█████████▉| 200/200 [01:23<00:00,  2.39tau/s ]\n"
     ]
    },
    {
     "name": "stdout",
     "output_type": "stream",
     "text": [
      "50/50 done\n",
      "--------------------------------------------------------------------------------\n"
     ]
    },
    {
     "name": "stderr",
     "output_type": "stream",
     "text": [
      "Simulating: 100%|█████████▉| 200/200 [01:44<00:00,  1.91tau/s ]\n"
     ]
    },
    {
     "name": "stdout",
     "output_type": "stream",
     "text": [
      "1/50 done\n"
     ]
    },
    {
     "name": "stderr",
     "output_type": "stream",
     "text": [
      "Simulating: 100%|█████████▉| 200/200 [01:43<00:00,  1.94tau/s ]\n"
     ]
    },
    {
     "name": "stdout",
     "output_type": "stream",
     "text": [
      "2/50 done\n"
     ]
    },
    {
     "name": "stderr",
     "output_type": "stream",
     "text": [
      "Simulating: 100%|█████████▉| 200/200 [01:44<00:00,  1.91tau/s ]\n"
     ]
    },
    {
     "name": "stdout",
     "output_type": "stream",
     "text": [
      "3/50 done\n"
     ]
    },
    {
     "name": "stderr",
     "output_type": "stream",
     "text": [
      "Simulating: 100%|█████████▉| 200/200 [01:45<00:00,  1.89tau/s ]\n"
     ]
    },
    {
     "name": "stdout",
     "output_type": "stream",
     "text": [
      "4/50 done\n"
     ]
    },
    {
     "name": "stderr",
     "output_type": "stream",
     "text": [
      "Simulating: 100%|█████████▉| 200/200 [01:59<00:00,  1.68tau/s ]\n"
     ]
    },
    {
     "name": "stdout",
     "output_type": "stream",
     "text": [
      "5/50 done\n"
     ]
    },
    {
     "name": "stderr",
     "output_type": "stream",
     "text": [
      "Simulating: 100%|█████████▉| 200/200 [01:51<00:00,  1.79tau/s ]\n"
     ]
    },
    {
     "name": "stdout",
     "output_type": "stream",
     "text": [
      "6/50 done\n"
     ]
    },
    {
     "name": "stderr",
     "output_type": "stream",
     "text": [
      "Simulating: 100%|█████████▉| 200/200 [01:58<00:00,  1.68tau/s ]\n"
     ]
    },
    {
     "name": "stdout",
     "output_type": "stream",
     "text": [
      "7/50 done\n"
     ]
    },
    {
     "name": "stderr",
     "output_type": "stream",
     "text": [
      "Simulating: 100%|█████████▉| 200/200 [02:18<00:00,  1.44tau/s ]\n"
     ]
    },
    {
     "name": "stdout",
     "output_type": "stream",
     "text": [
      "8/50 done\n"
     ]
    },
    {
     "name": "stderr",
     "output_type": "stream",
     "text": [
      "Simulating: 100%|█████████▉| 200/200 [02:22<00:00,  1.41tau/s ]\n"
     ]
    },
    {
     "name": "stdout",
     "output_type": "stream",
     "text": [
      "9/50 done\n"
     ]
    },
    {
     "name": "stderr",
     "output_type": "stream",
     "text": [
      "Simulating: 100%|█████████▉| 200/200 [02:13<00:00,  1.50tau/s ]\n"
     ]
    },
    {
     "name": "stdout",
     "output_type": "stream",
     "text": [
      "10/50 done\n"
     ]
    },
    {
     "name": "stderr",
     "output_type": "stream",
     "text": [
      "Simulating: 100%|█████████▉| 200/200 [02:30<00:00,  1.33tau/s ]\n"
     ]
    },
    {
     "name": "stdout",
     "output_type": "stream",
     "text": [
      "11/50 done\n"
     ]
    },
    {
     "name": "stderr",
     "output_type": "stream",
     "text": [
      "Simulating:  84%|████████▍ | 169/200 [02:12<00:15,  2.02tau/s ]"
     ]
    }
   ],
   "source": [
    "solutions_list=[]\n",
    "currents_list=[]\n",
    "\n",
    "for device in devices_list:\n",
    "\tprint(\"--------------------------------------------------------------------------------\")\n",
    "\tsolutions,currents=rs.current_series(device,0,20,50,10,solve_time=200)\n",
    "\n",
    "\tsolutions_list.append(solutions)\n",
    "\tcurrents_list.append(currents)"
   ]
  },
  {
   "cell_type": "code",
   "execution_count": 9,
   "metadata": {},
   "outputs": [
    {
     "ename": "NameError",
     "evalue": "name 'solutions_list' is not defined",
     "output_type": "error",
     "traceback": [
      "\u001b[1;31m---------------------------------------------------------------------------\u001b[0m",
      "\u001b[1;31mNameError\u001b[0m                                 Traceback (most recent call last)",
      "Cell \u001b[1;32mIn[9], line 3\u001b[0m\n\u001b[0;32m      1\u001b[0m jj\u001b[38;5;241m=\u001b[39m\u001b[38;5;241m0\u001b[39m\n\u001b[0;32m      2\u001b[0m voltages_for_squares\u001b[38;5;241m=\u001b[39m[]\n\u001b[1;32m----> 3\u001b[0m \u001b[38;5;28;01mfor\u001b[39;00m solutions \u001b[38;5;129;01min\u001b[39;00m \u001b[43msolutions_list\u001b[49m:\n\u001b[0;32m      4\u001b[0m \tii\u001b[38;5;241m=\u001b[39m\u001b[38;5;241m0\u001b[39m\n\u001b[0;32m      5\u001b[0m \tvoltages_list\u001b[38;5;241m=\u001b[39m[]\n",
      "\u001b[1;31mNameError\u001b[0m: name 'solutions_list' is not defined"
     ]
    }
   ],
   "source": [
    "jj=0\n",
    "voltages_for_squares=[]\n",
    "for solutions in solutions_list:\n",
    "\tii=0\n",
    "\tvoltages_list=[]\n",
    "\tvoltage_values=np.zeros(len(solutions))\n",
    "\tfor solution in solutions:\n",
    "\t\tvoltages_list.append(solution.dynamics.voltage())\n",
    "\t\tmax_idx=voltages_list[ii].shape[0]-1\n",
    "\t\tvoltage_values[ii]=np.mean(voltages_list[ii][max_idx-5000:max_idx])\n",
    "\t\tprint(voltage_values[ii])\n",
    "\n",
    "\t\tii+=1\n",
    "\tvoltages_for_squares.append(voltages_list)\n",
    "\n",
    "\n",
    "\tplt.plot(currents_list[jj],voltage_values, label=f'{sizes[jj]}$\\mu m$')\n",
    "\tjj+=1\n",
    "\n",
    "plt.legend()"
   ]
  },
  {
   "cell_type": "code",
   "execution_count": 23,
   "metadata": {},
   "outputs": [
    {
     "name": "stdout",
     "output_type": "stream",
     "text": [
      "-7.683120018046869e-07\n",
      "0.088042018339801\n",
      "0.17801488385544148\n",
      "0.2733429152212997\n",
      "0.39271293563981424\n",
      "0.958239695478875\n",
      "1.1515762853543365\n",
      "1.344124197435979\n",
      "1.536391670294425\n",
      "1.7284820671887298\n",
      "1.9205058114480715\n",
      "2.1126137488537644\n",
      "2.3046607885949326\n",
      "2.4967171756117006\n",
      "2.688768651570084\n",
      "2.8808266375721163\n",
      "3.0728675973096755\n",
      "3.264938976357563\n",
      "3.456994747129522\n",
      "3.649052779254091\n",
      "0.004088193943530724\n",
      "0.017365948494961276\n",
      "0.040449332626377454\n",
      "0.06225783595549897\n",
      "0.10180969723016779\n",
      "0.1672570698730959\n",
      "0.18073218808531888\n",
      "0.23354915626041176\n",
      "0.43076638723757676\n",
      "0.44631928334109905\n",
      "0.6574751542370115\n",
      "0.9922967603845878\n",
      "1.1671236774580769\n",
      "1.348230701081272\n",
      "1.5424418697035078\n",
      "1.746244421467241\n",
      "2.4800770497768183\n",
      "2.8948888056196185\n",
      "3.1873209405226257\n",
      "3.451437626041562\n"
     ]
    },
    {
     "data": {
      "text/plain": [
       "<matplotlib.legend.Legend at 0x1b15de25750>"
      ]
     },
     "execution_count": 23,
     "metadata": {},
     "output_type": "execute_result"
    },
    {
     "data": {
      "image/png": "[encoded data removed]",
      "text/plain": [
       "<Figure size 640x480 with 1 Axes>"
      ]
     },
     "metadata": {},
     "output_type": "display_data"
    }
   ],
   "source": [
    "jj=0\n",
    "j1=np.zeros(len(sizes))\n",
    "for solutions in solutions_list:\n",
    "\tii=0\n",
    "\tvoltages_list=[]\n",
    "\tvoltage_values=np.zeros(len(solutions))\n",
    "\tfor solution in solutions:\n",
    "\t\tvoltages_list.append(solution.dynamics.voltage())\n",
    "\t\tmax_idx=voltages_list[ii].shape[0]-1\n",
    "\t\tvoltage_values[ii]=np.mean(voltages_list[ii][max_idx-5000:max_idx])\n",
    "\t\tprint(voltage_values[ii])\n",
    "\n",
    "\t\tii+=1\n",
    "\tvoltages_for_squares.append(voltages_list)\n",
    "\n",
    "\n",
    "\tplt.plot(currents_list[jj],np.gradient(voltage_values), label=f'{sizes[jj]}$\\mu m$')\n",
    "\tj1[jj]=currents_list[jj][np.argmax(np.gradient(voltage_values))]\n",
    "\tjj+=1\n",
    "\n",
    "plt.legend()"
   ]
  },
  {
   "cell_type": "code",
   "execution_count": 24,
   "metadata": {},
   "outputs": [
    {
     "name": "stdout",
     "output_type": "stream",
     "text": [
      "[ 5.26315789 16.84210526]\n"
     ]
    }
   ],
   "source": [
    "print(j1)"
   ]
  }
 ],
 "metadata": {
  "kernelspec": {
   "display_name": "Python 3",
   "language": "python",
   "name": "python3"
  },
  "language_info": {
   "codemirror_mode": {
    "name": "ipython",
    "version": 3
   },
   "file_extension": ".py",
   "mimetype": "text/x-python",
   "name": "python",
   "nbconvert_exporter": "python",
   "pygments_lexer": "ipython3",
   "version": "3.10.0"
  }
 },
 "nbformat": 4,
 "nbformat_minor": 2
}
