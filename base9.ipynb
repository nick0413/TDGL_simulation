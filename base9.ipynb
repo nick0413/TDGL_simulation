{
 "cells": [
  {
   "cell_type": "code",
   "execution_count": 1,
   "metadata": {},
   "outputs": [
    {
     "name": "stderr",
     "output_type": "stream",
     "text": [
      "c:\\Program Files\\Python310\\lib\\site-packages\\cupyx\\jit\\_interface.py:173: FutureWarning: cupyx.jit.rawkernel is experimental. The interface can change in the future.\n",
      "  cupy._util.experimental('cupyx.jit.rawkernel')\n"
     ]
    }
   ],
   "source": [
    "import run_simulation as rs\n",
    "import numpy as np\t\n",
    "import matplotlib.pyplot as plt\n",
    "import matplotlib.cm as cm\n",
    "import tdgl\n",
    "import os \n"
   ]
  },
  {
   "cell_type": "code",
   "execution_count": 2,
   "metadata": {},
   "outputs": [
    {
     "name": "stdout",
     "output_type": "stream",
     "text": [
      "GPU is available\n",
      "GPU:  b'NVIDIA GeForce RTX 4060 Laptop GPU'\n"
     ]
    }
   ],
   "source": [
    "rs.check_system()"
   ]
  },
  {
   "cell_type": "code",
   "execution_count": 4,
   "metadata": {},
   "outputs": [],
   "source": [
    "xi=0.1\n",
    "size=1.0\n",
    "min_c=0.0\n",
    "max_c=20\n",
    "num_c=3\n",
    "H_field_range=np.linspace(0,25,3)\n",
    "current_range=np.linspace(min_c,max_c,num_c)\n",
    "device=rs.define_4_terminal_mesh(size,size,xi=xi, probes=[((-size*(0.4),0),\n",
    "\t\t\t\t\t   \t\t\t\t(size*(0.4),0),)],\n",
    "\t\t\t\t\t\t\t\t\tterminal_width=size/30,\n",
    "\t\t\t\t\t\t\t\t\tterminal_height=size/10\n",
    "\t\t\t\t\t\t\t\t\t)\n",
    "z=np.zeros((10,10))"
   ]
  },
  {
   "cell_type": "code",
   "execution_count": 5,
   "metadata": {},
   "outputs": [],
   "source": [
    "folder_path = 'H_fields'\n",
    "files = rs.get_all_files(folder_path)\n",
    "\n",
    "data_list=[]\n",
    "\n",
    "for file in files:\n",
    "\tH_field, current = rs.extract_numbers(file)\n",
    "\tarray=np.load(file)\n",
    "\tdata=[H_field,current,array]\n",
    "\tdata_list.append(data)\n",
    "\t"
   ]
  },
  {
   "cell_type": "code",
   "execution_count": 7,
   "metadata": {},
   "outputs": [
    {
     "name": "stdout",
     "output_type": "stream",
     "text": [
      "found data for H= [0.0, 12.5, 25.0]\n",
      "missing data for H= []\n",
      "0.0: []\n",
      "12.5: []\n",
      "25.0: []\n"
     ]
    }
   ],
   "source": [
    "H_fields_list=[]\n",
    "currents_for_H=[]\n",
    "currents=[]\n",
    "\n",
    "\n",
    "for data in data_list:\n",
    "\tif data[0] not in H_fields_list:\n",
    "\t\tH_fields_list.append(data[0])\n",
    "\t\tcurrents_for_H.append(currents)\n",
    "\t\tcurrents=[data[1]]\n",
    "\telse:\n",
    "\t\tindex=H_fields_list.index(data[0])\n",
    "\t\tcurrents.append(data[1])\n",
    "\t\t\n",
    "currents_for_H.append(currents)\n",
    "currents_for_H=currents_for_H[1:]\n",
    "\t\n",
    "\n",
    "found_Hs,missing_Hs=rs.check_elements_in_list(H_field_range,H_fields_list)\n",
    "\n",
    "print(f\"found data for H= {found_Hs}\")\n",
    "print(f\"missing data for H= {missing_Hs}\")\n",
    "\n",
    "simulations_to_be_computed={}\n",
    "\n",
    "for ii in range(len(found_Hs)):\n",
    "\tfound_C,missing_C=rs.check_elements_in_list(current_range,currents_for_H[ii])\n",
    "\n",
    "\tsimulations_to_be_computed[found_Hs[ii]]=np.array(missing_C)\n",
    "\n",
    "for ii in range(len(missing_Hs)):\n",
    "\n",
    "\tsimulations_to_be_computed[missing_Hs[ii]]=current_range\n",
    "\n",
    "for key, value in simulations_to_be_computed.items():\n",
    "    print(f\"{key}: {value}\")"
   ]
  },
  {
   "cell_type": "code",
   "execution_count": 38,
   "metadata": {},
   "outputs": [
    {
     "name": "stderr",
     "output_type": "stream",
     "text": [
      "Constructing Voronoi polygons: 100%|██████████| 5730/5730 [00:04<00:00, 1280.82it/s]"
     ]
    },
    {
     "name": "stdout",
     "output_type": "stream",
     "text": [
      "num_sites: 5730\n",
      "num_elements: 11058\n",
      "min_edge_length: 0.006176786351417163\n",
      "max_edge_length: 0.02562758848145121\n",
      "mean_edge_length: 0.014395335339315689\n",
      "min_area: 2.309249471036603e-05\n",
      "max_area: 0.0003865282402036166\n",
      "mean_area: 0.00017452006980802793\n",
      "coherence_length: 0.1\n",
      "length_units: um\n"
     ]
    },
    {
     "name": "stderr",
     "output_type": "stream",
     "text": [
      "\n"
     ]
    }
   ],
   "source": [
    "rs.build_mesh(device,max_edge_L=xi/4,plot=False)"
   ]
  },
  {
   "cell_type": "code",
   "execution_count": 39,
   "metadata": {},
   "outputs": [
    {
     "name": "stdout",
     "output_type": "stream",
     "text": [
      "simulating H=12.5, c=[ 0. 10. 20.]------------------------------------\n"
     ]
    },
    {
     "name": "stderr",
     "output_type": "stream",
     "text": [
      "Simulating: 100%|█████████▉| 50/50 [00:19<00:00,  2.53tau/s ]\n"
     ]
    },
    {
     "name": "stdout",
     "output_type": "stream",
     "text": [
      "1/None done\n"
     ]
    },
    {
     "name": "stderr",
     "output_type": "stream",
     "text": [
      "Simulating: 100%|█████████▉| 50/50 [00:34<00:00,  1.46tau/s ]\n"
     ]
    },
    {
     "name": "stdout",
     "output_type": "stream",
     "text": [
      "2/None done\n"
     ]
    },
    {
     "name": "stderr",
     "output_type": "stream",
     "text": [
      "Simulating: 100%|█████████▉| 50/50 [00:28<00:00,  1.75tau/s ]\n"
     ]
    },
    {
     "name": "stdout",
     "output_type": "stream",
     "text": [
      "3/None done\n"
     ]
    }
   ],
   "source": [
    "for H in simulations_to_be_computed:\n",
    "\tcurrents=simulations_to_be_computed[H]\n",
    "\tif currents.size == 0:\n",
    "\t\tcontinue\n",
    "\telse:\n",
    "\t\tprint(f\"simulating H={H}, c={currents}------------------------------------\")\n",
    "\t\tsolutions,currents=rs.current_series(device,\n",
    "\t\t\t\t\t\tcurrent_range=currents,\n",
    "\t\t\t\t\t\tH_field=H,\n",
    "\t\t\t\t\t\tsolve_time=50\n",
    "\t\t\t\t\t\t)\n",
    "\t\tjj=0\n",
    "\t\tfor solution in solutions:\n",
    "\t\t\tvoltage=solution.dynamics.voltage()\n",
    "\t\t\ttime=solution.dynamics.time\n",
    "\t\t\tsolution.to_hdf5(f'H_solutions/solution_{H}_{currents[jj]}_.hdf5')\n",
    "\t\t\tnp.save(f'{folder_path}/voltages_{H}_{currents[jj]}_.npy',voltage)\n",
    "\t\t\tjj+=1\n"
   ]
  },
  {
   "cell_type": "code",
   "execution_count": 29,
   "metadata": {},
   "outputs": [
    {
     "name": "stdout",
     "output_type": "stream",
     "text": [
      "--------------------------------------------------------------------------------\n"
     ]
    },
    {
     "name": "stderr",
     "output_type": "stream",
     "text": [
      "Simulating: 100%|█████████▉| 100/100 [00:21<00:00,  4.66tau/s ]\n"
     ]
    },
    {
     "name": "stdout",
     "output_type": "stream",
     "text": [
      "1/3 done\n"
     ]
    },
    {
     "name": "stderr",
     "output_type": "stream",
     "text": [
      "Simulating: 100%|█████████▉| 100/100 [00:42<00:00,  2.34tau/s ]\n"
     ]
    },
    {
     "name": "stdout",
     "output_type": "stream",
     "text": [
      "2/3 done\n"
     ]
    },
    {
     "name": "stderr",
     "output_type": "stream",
     "text": [
      "Simulating: 100%|█████████▉| 100/100 [00:47<00:00,  2.10tau/s ]\n"
     ]
    },
    {
     "name": "stdout",
     "output_type": "stream",
     "text": [
      "3/3 done\n",
      "--------------------------------------------------------------------------------\n"
     ]
    },
    {
     "name": "stderr",
     "output_type": "stream",
     "text": [
      "Simulating: 100%|█████████▉| 100/100 [00:43<00:00,  2.28tau/s ]\n"
     ]
    },
    {
     "name": "stdout",
     "output_type": "stream",
     "text": [
      "1/3 done\n"
     ]
    },
    {
     "name": "stderr",
     "output_type": "stream",
     "text": [
      "Simulating: 100%|█████████▉| 100/100 [01:23<00:00,  1.20tau/s ]\n"
     ]
    },
    {
     "name": "stdout",
     "output_type": "stream",
     "text": [
      "2/3 done\n"
     ]
    },
    {
     "name": "stderr",
     "output_type": "stream",
     "text": [
      "Simulating: 100%|█████████▉| 100/100 [00:51<00:00,  1.94tau/s ]\n"
     ]
    },
    {
     "name": "stdout",
     "output_type": "stream",
     "text": [
      "3/3 done\n",
      "--------------------------------------------------------------------------------\n"
     ]
    },
    {
     "name": "stderr",
     "output_type": "stream",
     "text": [
      "Simulating: 100%|█████████▉| 100/100 [00:38<00:00,  2.60tau/s ]\n"
     ]
    },
    {
     "name": "stdout",
     "output_type": "stream",
     "text": [
      "1/3 done\n"
     ]
    },
    {
     "name": "stderr",
     "output_type": "stream",
     "text": [
      "Simulating: 100%|█████████▉| 100/100 [00:50<00:00,  1.97tau/s ]\n"
     ]
    },
    {
     "name": "stdout",
     "output_type": "stream",
     "text": [
      "2/3 done\n"
     ]
    },
    {
     "name": "stderr",
     "output_type": "stream",
     "text": [
      "Simulating: 100%|█████████▉| 100/100 [00:49<00:00,  2.00tau/s ]\n"
     ]
    },
    {
     "name": "stdout",
     "output_type": "stream",
     "text": [
      "3/3 done\n"
     ]
    }
   ],
   "source": [
    "\n",
    "\n",
    "\n",
    "\n"
   ]
  }
 ],
 "metadata": {
  "kernelspec": {
   "display_name": "Python 3",
   "language": "python",
   "name": "python3"
  },
  "language_info": {
   "codemirror_mode": {
    "name": "ipython",
    "version": 3
   },
   "file_extension": ".py",
   "mimetype": "text/x-python",
   "name": "python",
   "nbconvert_exporter": "python",
   "pygments_lexer": "ipython3",
   "version": "3.10.0"
  }
 },
 "nbformat": 4,
 "nbformat_minor": 2
}
