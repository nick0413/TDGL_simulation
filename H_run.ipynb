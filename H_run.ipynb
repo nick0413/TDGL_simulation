{
 "cells": [
  {
   "cell_type": "code",
   "execution_count": 19,
   "metadata": {},
   "outputs": [],
   "source": [
    "import run_simulation as rs\n",
    "import numpy as np\t\n",
    "import matplotlib.pyplot as plt\n",
    "import matplotlib.cm as cm\n",
    "import tdgl\n",
    "import os \n"
   ]
  },
  {
   "cell_type": "code",
   "execution_count": 20,
   "metadata": {},
   "outputs": [
    {
     "name": "stdout",
     "output_type": "stream",
     "text": [
      "GPU is available\n",
      "GPU:  b'NVIDIA GeForce RTX 4060 Laptop GPU'\n"
     ]
    }
   ],
   "source": [
    "rs.check_system()"
   ]
  },
  {
   "cell_type": "code",
   "execution_count": 22,
   "metadata": {},
   "outputs": [],
   "source": [
    "xi=0.1\n",
    "size=1.0\n",
    "\n",
    "min_c=0\n",
    "max_c=50\n",
    "num_c=3\n",
    "H_field_range=np.round(np.linspace(0,25,20),3)\n",
    "current_range=np.round(np.linspace(min_c,max_c,num_c), 3)\n",
    "device=rs.define_4_terminal_mesh(size,size,xi=xi, probes=[((-size*(0.4),0),\n",
    "\t\t\t\t\t   \t\t\t\t(size*(0.4),0),)],\n",
    "\t\t\t\t\t\t\t\t\tterminal_width=size/30,\n",
    "\t\t\t\t\t\t\t\t\tterminal_height=size/10\n",
    "\t\t\t\t\t\t\t\t\t)\n",
    "z=np.zeros((10,10))"
   ]
  },
  {
   "cell_type": "code",
   "execution_count": 24,
   "metadata": {},
   "outputs": [],
   "source": [
    "folder_path = 'H_fields_4'\n",
    "files = rs.get_all_files(folder_path)\n",
    "\n",
    "data_list=[]\n",
    "\n",
    "for file in files:\n",
    "\tH_field, current = rs.extract_numbers(file)\n",
    "\tarray=np.load(file)\n",
    "\tdata=[H_field,current,array]\n",
    "\tdata_list.append(data)\n",
    "\t"
   ]
  },
  {
   "cell_type": "code",
   "execution_count": 25,
   "metadata": {},
   "outputs": [
    {
     "name": "stdout",
     "output_type": "stream",
     "text": [
      "found data for H= [0.0, 1.316, 2.632]\n",
      "missing data for H= [3.947, 5.263, 6.579, 7.895, 9.211, 10.526, 11.842, 13.158, 14.474, 15.789, 17.105, 18.421, 19.737, 21.053, 22.368, 23.684, 25.0]\n",
      "0.0: []\n",
      "1.316: []\n",
      "2.632: []\n",
      "3.947: [ 0. 25. 50.]\n",
      "5.263: [ 0. 25. 50.]\n",
      "6.579: [ 0. 25. 50.]\n",
      "7.895: [ 0. 25. 50.]\n",
      "9.211: [ 0. 25. 50.]\n",
      "10.526: [ 0. 25. 50.]\n",
      "11.842: [ 0. 25. 50.]\n",
      "13.158: [ 0. 25. 50.]\n",
      "14.474: [ 0. 25. 50.]\n",
      "15.789: [ 0. 25. 50.]\n",
      "17.105: [ 0. 25. 50.]\n",
      "18.421: [ 0. 25. 50.]\n",
      "19.737: [ 0. 25. 50.]\n",
      "21.053: [ 0. 25. 50.]\n",
      "22.368: [ 0. 25. 50.]\n",
      "23.684: [ 0. 25. 50.]\n",
      "25.0: [ 0. 25. 50.]\n"
     ]
    }
   ],
   "source": [
    "H_fields_list=[]\n",
    "currents_for_H=[]\n",
    "currents=[]\n",
    "\n",
    "\n",
    "for data in data_list:\n",
    "\tif data[0] not in H_fields_list:\n",
    "\t\tH_fields_list.append(data[0])\n",
    "\t\tcurrents_for_H.append(currents)\n",
    "\t\tcurrents=[data[1]]\n",
    "\telse:\n",
    "\t\tindex=H_fields_list.index(data[0])\n",
    "\t\tcurrents.append(data[1])\n",
    "\t\t\n",
    "currents_for_H.append(currents)\n",
    "currents_for_H=currents_for_H[1:]\n",
    "\t\n",
    "\n",
    "found_Hs,missing_Hs=rs.check_elements_in_list(H_field_range,H_fields_list)\n",
    "\n",
    "print(f\"found data for H= {found_Hs}\")\n",
    "print(f\"missing data for H= {missing_Hs}\")\n",
    "\n",
    "simulations_to_be_computed={}\n",
    "\n",
    "for ii in range(len(found_Hs)):\n",
    "\tfound_C,missing_C=rs.check_elements_in_list(current_range,currents_for_H[ii])\n",
    "\n",
    "\tsimulations_to_be_computed[found_Hs[ii]]=np.array(missing_C)\n",
    "\n",
    "for ii in range(len(missing_Hs)):\n",
    "\n",
    "\tsimulations_to_be_computed[missing_Hs[ii]]=current_range\n",
    "\n",
    "for key, value in simulations_to_be_computed.items():\n",
    "    print(f\"{key}: {value}\")"
   ]
  },
  {
   "cell_type": "code",
   "execution_count": 26,
   "metadata": {},
   "outputs": [
    {
     "name": "stderr",
     "output_type": "stream",
     "text": [
      "Constructing Voronoi polygons: 100%|██████████| 5730/5730 [00:04<00:00, 1177.42it/s]"
     ]
    },
    {
     "name": "stdout",
     "output_type": "stream",
     "text": [
      "num_sites: 5730\n",
      "num_elements: 11058\n",
      "min_edge_length: 0.006176786351417163\n",
      "max_edge_length: 0.02562758848145121\n",
      "mean_edge_length: 0.014395335339315689\n",
      "min_area: 2.309249471036603e-05\n",
      "max_area: 0.0003865282402036166\n",
      "mean_area: 0.00017452006980802793\n",
      "coherence_length: 0.1\n",
      "length_units: um\n"
     ]
    },
    {
     "name": "stderr",
     "output_type": "stream",
     "text": [
      "\n"
     ]
    }
   ],
   "source": [
    "rs.build_mesh(device,max_edge_L=xi/4,plot=False)"
   ]
  },
  {
   "cell_type": "code",
   "execution_count": null,
   "metadata": {},
   "outputs": [
    {
     "name": "stdout",
     "output_type": "stream",
     "text": [
      "simulating H=3.947, \n",
      "c=[ 0. 25. 50.]------------------------------------\n"
     ]
    },
    {
     "name": "stderr",
     "output_type": "stream",
     "text": [
      "Simulating:  33%|███▎      | 16/50 [00:07<00:08,  3.91tau/s ]"
     ]
    }
   ],
   "source": [
    "for H in simulations_to_be_computed:\n",
    "\tcurrents=simulations_to_be_computed[H]\n",
    "\tif currents.size == 0:\n",
    "\t\tcontinue\n",
    "\telse:\n",
    "\t\tprint(f\"simulating H={H}, \\nc={currents}------------------------------------\")\n",
    "\t\tsolutions,currents=rs.current_series(device,\n",
    "\t\t\t\t\t\tcurrent_range=currents,\n",
    "\t\t\t\t\t\tH_field=H,\n",
    "\t\t\t\t\t\tsolve_time=50\n",
    "\t\t\t\t\t\t)\n",
    "\t\tjj=0\n",
    "\t\tfor solution in solutions:\n",
    "\t\t\tvoltage=solution.dynamics.voltage()\n",
    "\t\t\ttime=solution.dynamics.time\n",
    "\t\t\tsolution.to_hdf5(f'H_solutions/solution_{H}_{currents[jj]}_.hdf5')\n",
    "\n",
    "\t\t\tnp.save(f'{folder_path}/voltages_{H}_{currents[jj]}_.npy',np.array((time,voltage)))\n",
    "\t\t\tjj+=1\n"
   ]
  },
  {
   "cell_type": "code",
   "execution_count": 6,
   "metadata": {},
   "outputs": [],
   "source": [
    "\n",
    "\n",
    "\n",
    "folder_path = 'H_fields_4'\n",
    "files = rs.get_all_files(folder_path)\n",
    "\n",
    "data_list=[]\n",
    "\n",
    "for file in files:\n",
    "\tH_field, current = rs.extract_numbers(file)\n",
    "\tarray=np.load(file)\n",
    "\tdata=[H_field,current,array]\n",
    "\tdata_list.append(data)\n",
    "\n"
   ]
  },
  {
   "cell_type": "code",
   "execution_count": 18,
   "metadata": {},
   "outputs": [
    {
     "data": {
      "text/plain": [
       "<matplotlib.legend.Legend at 0x20f37ccb460>"
      ]
     },
     "execution_count": 18,
     "metadata": {},
     "output_type": "execute_result"
    },
    {
     "data": {
      "image/png": "[encoded data removed]",
      "text/plain": [
       "<Figure size 640x480 with 1 Axes>"
      ]
     },
     "metadata": {},
     "output_type": "display_data"
    }
   ],
   "source": [
    "for H in H_field_range:\n",
    "\tfor data in data_list:\n",
    "\t\tif data[0]==H:\n",
    "\t\t\tplt.plot(data[2][0],data[2][1],label=f'H={data[0]}, c={data[1]}',c=cm.viridis(data[0]/3))\n",
    "\t\t# plt.plot(data[2][0],data[2][1],label=f'H={data[0]}, c={data[1]}')\n",
    "\n",
    "plt.legend()\n",
    "# plt.plot(data[2][0],data[2][1])"
   ]
  }
 ],
 "metadata": {
  "kernelspec": {
   "display_name": "Python 3",
   "language": "python",
   "name": "python3"
  },
  "language_info": {
   "codemirror_mode": {
    "name": "ipython",
    "version": 3
   },
   "file_extension": ".py",
   "mimetype": "text/x-python",
   "name": "python",
   "nbconvert_exporter": "python",
   "pygments_lexer": "ipython3",
   "version": "3.10.0"
  }
 },
 "nbformat": 4,
 "nbformat_minor": 2
}
